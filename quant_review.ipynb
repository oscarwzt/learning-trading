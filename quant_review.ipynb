{
 "cells": [
  {
   "cell_type": "code",
   "execution_count": 2,
   "metadata": {},
   "outputs": [],
   "source": [
    "import pandas as pd\n",
    "import numpy as np"
   ]
  },
  {
   "cell_type": "code",
   "execution_count": 3,
   "metadata": {},
   "outputs": [
    {
     "data": {
      "application/vnd.microsoft.datawrangler.viewer.v0+json": {
       "columns": [
        {
         "name": "index",
         "rawType": "int64",
         "type": "integer"
        },
        {
         "name": "Date",
         "rawType": "object",
         "type": "string"
        },
        {
         "name": "Close",
         "rawType": "float64",
         "type": "float"
        },
        {
         "name": "High",
         "rawType": "float64",
         "type": "float"
        },
        {
         "name": "Low",
         "rawType": "float64",
         "type": "float"
        },
        {
         "name": "Open",
         "rawType": "float64",
         "type": "float"
        },
        {
         "name": "Volume",
         "rawType": "int64",
         "type": "integer"
        }
       ],
       "conversionMethod": "pd.DataFrame",
       "ref": "e0358894-e500-4548-aeab-c704d1f44cae",
       "rows": [
        [
         "0",
         "2024-01-02",
         "185.0",
         "187.0",
         "183.0",
         "186.0",
         "82488700"
        ],
        [
         "1",
         "2024-01-03",
         "183.0",
         "185.0",
         "182.0",
         "183.0",
         "58414500"
        ],
        [
         "2",
         "2024-01-04",
         "181.0",
         "182.0",
         "180.0",
         "181.0",
         "71983600"
        ],
        [
         "3",
         "2024-01-05",
         "180.0",
         "182.0",
         "179.0",
         "181.0",
         "62303300"
        ],
        [
         "4",
         "2024-01-08",
         "184.0",
         "184.0",
         "180.0",
         "181.0",
         "59144500"
        ],
        [
         "5",
         "2024-01-09",
         "184.0",
         "184.0",
         "182.0",
         "183.0",
         "42841800"
        ],
        [
         "6",
         "2024-01-10",
         "185.0",
         "185.0",
         "183.0",
         "183.0",
         "46792900"
        ],
        [
         "7",
         "2024-01-11",
         "184.0",
         "186.0",
         "183.0",
         "185.0",
         "49128400"
        ],
        [
         "8",
         "2024-01-12",
         "185.0",
         "186.0",
         "184.0",
         "185.0",
         "40444700"
        ],
        [
         "9",
         "2024-01-16",
         "183.0",
         "183.0",
         "180.0",
         "181.0",
         "65603000"
        ],
        [
         "10",
         "2024-01-17",
         "182.0",
         "182.0",
         "179.0",
         "180.0",
         "47317400"
        ],
        [
         "11",
         "2024-01-18",
         "188.0",
         "188.0",
         "185.0",
         "185.0",
         "78005800"
        ],
        [
         "12",
         "2024-01-19",
         "190.0",
         "191.0",
         "188.0",
         "188.0",
         "68741000"
        ],
        [
         "13",
         "2024-01-22",
         "193.0",
         "194.0",
         "191.0",
         "191.0",
         "60133900"
        ],
        [
         "14",
         "2024-01-23",
         "194.0",
         "195.0",
         "193.0",
         "194.0",
         "42355600"
        ],
        [
         "15",
         "2024-01-24",
         "193.0",
         "195.0",
         "193.0",
         "194.0",
         "53631300"
        ],
        [
         "16",
         "2024-01-25",
         "193.0",
         "195.0",
         "192.0",
         "194.0",
         "54822100"
        ],
        [
         "17",
         "2024-01-26",
         "191.0",
         "194.0",
         "191.0",
         "193.0",
         "44594000"
        ],
        [
         "18",
         "2024-01-29",
         "191.0",
         "191.0",
         "188.0",
         "191.0",
         "47145600"
        ],
        [
         "19",
         "2024-01-30",
         "187.0",
         "191.0",
         "186.0",
         "190.0",
         "55859400"
        ],
        [
         "20",
         "2024-01-31",
         "183.0",
         "186.0",
         "183.0",
         "186.0",
         "55467800"
        ],
        [
         "21",
         "2024-02-01",
         "186.0",
         "186.0",
         "183.0",
         "183.0",
         "64885400"
        ],
        [
         "22",
         "2024-02-02",
         "185.0",
         "186.0",
         "178.0",
         "179.0",
         "102518000"
        ],
        [
         "23",
         "2024-02-05",
         "187.0",
         "188.0",
         "185.0",
         "187.0",
         "69668800"
        ],
        [
         "24",
         "2024-02-06",
         "188.0",
         "188.0",
         "186.0",
         "186.0",
         "43490800"
        ],
        [
         "25",
         "2024-02-07",
         "188.0",
         "190.0",
         "187.0",
         "190.0",
         "53439000"
        ],
        [
         "26",
         "2024-02-08",
         "187.0",
         "188.0",
         "186.0",
         "188.0",
         "40962000"
        ],
        [
         "27",
         "2024-02-09",
         "188.0",
         "189.0",
         "187.0",
         "188.0",
         "45155200"
        ],
        [
         "28",
         "2024-02-12",
         "186.0",
         "188.0",
         "186.0",
         "188.0",
         "41781900"
        ],
        [
         "29",
         "2024-02-13",
         "184.0",
         "185.0",
         "183.0",
         "185.0",
         "56529500"
        ],
        [
         "30",
         "2024-02-14",
         "183.0",
         "185.0",
         "182.0",
         "184.0",
         "54630500"
        ],
        [
         "31",
         "2024-02-15",
         "183.0",
         "184.0",
         "180.0",
         "183.0",
         "65434500"
        ],
        [
         "32",
         "2024-02-16",
         "181.0",
         "184.0",
         "181.0",
         "183.0",
         "49701400"
        ],
        [
         "33",
         "2024-02-20",
         "181.0",
         "182.0",
         "179.0",
         "181.0",
         "53665600"
        ],
        [
         "34",
         "2024-02-21",
         "181.0",
         "182.0",
         "180.0",
         "181.0",
         "41529700"
        ],
        [
         "35",
         "2024-02-22",
         "184.0",
         "184.0",
         "182.0",
         "183.0",
         "52292200"
        ],
        [
         "36",
         "2024-02-23",
         "182.0",
         "184.0",
         "181.0",
         "184.0",
         "45119700"
        ],
        [
         "37",
         "2024-02-26",
         "180.0",
         "182.0",
         "180.0",
         "181.0",
         "40867400"
        ],
        [
         "38",
         "2024-02-27",
         "182.0",
         "183.0",
         "179.0",
         "180.0",
         "54318900"
        ],
        [
         "39",
         "2024-02-28",
         "181.0",
         "182.0",
         "179.0",
         "182.0",
         "48953900"
        ],
        [
         "40",
         "2024-02-29",
         "180.0",
         "182.0",
         "179.0",
         "180.0",
         "136682600"
        ],
        [
         "41",
         "2024-03-01",
         "179.0",
         "180.0",
         "177.0",
         "179.0",
         "73488000"
        ],
        [
         "42",
         "2024-03-04",
         "174.0",
         "176.0",
         "173.0",
         "175.0",
         "81510100"
        ],
        [
         "43",
         "2024-03-05",
         "169.0",
         "171.0",
         "169.0",
         "170.0",
         "95132400"
        ],
        [
         "44",
         "2024-03-06",
         "168.0",
         "170.0",
         "168.0",
         "170.0",
         "68587700"
        ],
        [
         "45",
         "2024-03-07",
         "168.0",
         "170.0",
         "168.0",
         "168.0",
         "71765100"
        ],
        [
         "46",
         "2024-03-08",
         "170.0",
         "173.0",
         "168.0",
         "168.0",
         "76114600"
        ],
        [
         "47",
         "2024-03-11",
         "172.0",
         "174.0",
         "171.0",
         "172.0",
         "60139500"
        ],
        [
         "48",
         "2024-03-12",
         "172.0",
         "173.0",
         "170.0",
         "172.0",
         "59825400"
        ],
        [
         "49",
         "2024-03-13",
         "170.0",
         "172.0",
         "170.0",
         "172.0",
         "52488700"
        ]
       ],
       "shape": {
        "columns": 6,
        "rows": 251
       }
      },
      "text/html": [
       "<div>\n",
       "<style scoped>\n",
       "    .dataframe tbody tr th:only-of-type {\n",
       "        vertical-align: middle;\n",
       "    }\n",
       "\n",
       "    .dataframe tbody tr th {\n",
       "        vertical-align: top;\n",
       "    }\n",
       "\n",
       "    .dataframe thead th {\n",
       "        text-align: right;\n",
       "    }\n",
       "</style>\n",
       "<table border=\"1\" class=\"dataframe\">\n",
       "  <thead>\n",
       "    <tr style=\"text-align: right;\">\n",
       "      <th></th>\n",
       "      <th>Date</th>\n",
       "      <th>Close</th>\n",
       "      <th>High</th>\n",
       "      <th>Low</th>\n",
       "      <th>Open</th>\n",
       "      <th>Volume</th>\n",
       "    </tr>\n",
       "  </thead>\n",
       "  <tbody>\n",
       "    <tr>\n",
       "      <th>0</th>\n",
       "      <td>2024-01-02</td>\n",
       "      <td>185.0</td>\n",
       "      <td>187.0</td>\n",
       "      <td>183.0</td>\n",
       "      <td>186.0</td>\n",
       "      <td>82488700</td>\n",
       "    </tr>\n",
       "    <tr>\n",
       "      <th>1</th>\n",
       "      <td>2024-01-03</td>\n",
       "      <td>183.0</td>\n",
       "      <td>185.0</td>\n",
       "      <td>182.0</td>\n",
       "      <td>183.0</td>\n",
       "      <td>58414500</td>\n",
       "    </tr>\n",
       "    <tr>\n",
       "      <th>2</th>\n",
       "      <td>2024-01-04</td>\n",
       "      <td>181.0</td>\n",
       "      <td>182.0</td>\n",
       "      <td>180.0</td>\n",
       "      <td>181.0</td>\n",
       "      <td>71983600</td>\n",
       "    </tr>\n",
       "    <tr>\n",
       "      <th>3</th>\n",
       "      <td>2024-01-05</td>\n",
       "      <td>180.0</td>\n",
       "      <td>182.0</td>\n",
       "      <td>179.0</td>\n",
       "      <td>181.0</td>\n",
       "      <td>62303300</td>\n",
       "    </tr>\n",
       "    <tr>\n",
       "      <th>4</th>\n",
       "      <td>2024-01-08</td>\n",
       "      <td>184.0</td>\n",
       "      <td>184.0</td>\n",
       "      <td>180.0</td>\n",
       "      <td>181.0</td>\n",
       "      <td>59144500</td>\n",
       "    </tr>\n",
       "    <tr>\n",
       "      <th>...</th>\n",
       "      <td>...</td>\n",
       "      <td>...</td>\n",
       "      <td>...</td>\n",
       "      <td>...</td>\n",
       "      <td>...</td>\n",
       "      <td>...</td>\n",
       "    </tr>\n",
       "    <tr>\n",
       "      <th>246</th>\n",
       "      <td>2024-12-23</td>\n",
       "      <td>255.0</td>\n",
       "      <td>255.0</td>\n",
       "      <td>253.0</td>\n",
       "      <td>254.0</td>\n",
       "      <td>40858800</td>\n",
       "    </tr>\n",
       "    <tr>\n",
       "      <th>247</th>\n",
       "      <td>2024-12-24</td>\n",
       "      <td>258.0</td>\n",
       "      <td>258.0</td>\n",
       "      <td>255.0</td>\n",
       "      <td>255.0</td>\n",
       "      <td>23234700</td>\n",
       "    </tr>\n",
       "    <tr>\n",
       "      <th>248</th>\n",
       "      <td>2024-12-26</td>\n",
       "      <td>259.0</td>\n",
       "      <td>260.0</td>\n",
       "      <td>257.0</td>\n",
       "      <td>258.0</td>\n",
       "      <td>27237100</td>\n",
       "    </tr>\n",
       "    <tr>\n",
       "      <th>249</th>\n",
       "      <td>2024-12-27</td>\n",
       "      <td>255.0</td>\n",
       "      <td>258.0</td>\n",
       "      <td>253.0</td>\n",
       "      <td>258.0</td>\n",
       "      <td>42355300</td>\n",
       "    </tr>\n",
       "    <tr>\n",
       "      <th>250</th>\n",
       "      <td>2024-12-30</td>\n",
       "      <td>252.0</td>\n",
       "      <td>253.0</td>\n",
       "      <td>250.0</td>\n",
       "      <td>252.0</td>\n",
       "      <td>35557500</td>\n",
       "    </tr>\n",
       "  </tbody>\n",
       "</table>\n",
       "<p>251 rows × 6 columns</p>\n",
       "</div>"
      ],
      "text/plain": [
       "           Date  Close   High    Low   Open    Volume\n",
       "0    2024-01-02  185.0  187.0  183.0  186.0  82488700\n",
       "1    2024-01-03  183.0  185.0  182.0  183.0  58414500\n",
       "2    2024-01-04  181.0  182.0  180.0  181.0  71983600\n",
       "3    2024-01-05  180.0  182.0  179.0  181.0  62303300\n",
       "4    2024-01-08  184.0  184.0  180.0  181.0  59144500\n",
       "..          ...    ...    ...    ...    ...       ...\n",
       "246  2024-12-23  255.0  255.0  253.0  254.0  40858800\n",
       "247  2024-12-24  258.0  258.0  255.0  255.0  23234700\n",
       "248  2024-12-26  259.0  260.0  257.0  258.0  27237100\n",
       "249  2024-12-27  255.0  258.0  253.0  258.0  42355300\n",
       "250  2024-12-30  252.0  253.0  250.0  252.0  35557500\n",
       "\n",
       "[251 rows x 6 columns]"
      ]
     },
     "execution_count": 3,
     "metadata": {},
     "output_type": "execute_result"
    }
   ],
   "source": [
    "df = pd.read_csv('data/appleStockPrices.csv')\n",
    "df = df.round(0)\n",
    "df"
   ]
  },
  {
   "cell_type": "code",
   "execution_count": 4,
   "metadata": {},
   "outputs": [
    {
     "data": {
      "application/vnd.microsoft.datawrangler.viewer.v0+json": {
       "columns": [
        {
         "name": "index",
         "rawType": "int64",
         "type": "integer"
        },
        {
         "name": "ticker",
         "rawType": "object",
         "type": "string"
        },
        {
         "name": "date",
         "rawType": "datetime64[ns]",
         "type": "datetime"
        },
        {
         "name": "volume",
         "rawType": "int64",
         "type": "integer"
        },
        {
         "name": "return",
         "rawType": "float64",
         "type": "float"
        }
       ],
       "conversionMethod": "pd.DataFrame",
       "ref": "f6f0a0f5-1070-4d29-92a5-50f24713c256",
       "rows": [
        [
         "0",
         "MSFT",
         "2023-01-01 00:00:00",
         "476",
         "-0.0068"
        ],
        [
         "1",
         "AAPL",
         "2023-01-02 00:00:00",
         "385",
         "0.0144"
        ],
        [
         "2",
         "AAPL",
         "2023-01-03 00:00:00",
         "934",
         "-0.036"
        ],
        [
         "3",
         "AAPL",
         "2023-01-04 00:00:00",
         "401",
         "0.0344"
        ],
        [
         "4",
         "MSFT",
         "2023-01-05 00:00:00",
         "591",
         "-0.0159"
        ],
        [
         "5",
         "AAPL",
         "2023-01-06 00:00:00",
         "741",
         "0.0068"
        ],
        [
         "6",
         "MSFT",
         "2023-01-07 00:00:00",
         "770",
         "-0.0187"
        ],
        [
         "7",
         "GOOG",
         "2023-01-08 00:00:00",
         "554",
         "-0.0195"
        ],
        [
         "8",
         "MSFT",
         "2023-01-09 00:00:00",
         "691",
         "0.0288"
        ],
        [
         "9",
         "AAPL",
         "2023-01-10 00:00:00",
         "869",
         "0.0233"
        ],
        [
         "10",
         "MSFT",
         "2023-01-11 00:00:00",
         "921",
         "-0.0227"
        ],
        [
         "11",
         "AAPL",
         "2023-01-12 00:00:00",
         "570",
         "0.0056"
        ]
       ],
       "shape": {
        "columns": 4,
        "rows": 12
       }
      },
      "text/html": [
       "<div>\n",
       "<style scoped>\n",
       "    .dataframe tbody tr th:only-of-type {\n",
       "        vertical-align: middle;\n",
       "    }\n",
       "\n",
       "    .dataframe tbody tr th {\n",
       "        vertical-align: top;\n",
       "    }\n",
       "\n",
       "    .dataframe thead th {\n",
       "        text-align: right;\n",
       "    }\n",
       "</style>\n",
       "<table border=\"1\" class=\"dataframe\">\n",
       "  <thead>\n",
       "    <tr style=\"text-align: right;\">\n",
       "      <th></th>\n",
       "      <th>ticker</th>\n",
       "      <th>date</th>\n",
       "      <th>volume</th>\n",
       "      <th>return</th>\n",
       "    </tr>\n",
       "  </thead>\n",
       "  <tbody>\n",
       "    <tr>\n",
       "      <th>0</th>\n",
       "      <td>MSFT</td>\n",
       "      <td>2023-01-01</td>\n",
       "      <td>476</td>\n",
       "      <td>-0.0068</td>\n",
       "    </tr>\n",
       "    <tr>\n",
       "      <th>1</th>\n",
       "      <td>AAPL</td>\n",
       "      <td>2023-01-02</td>\n",
       "      <td>385</td>\n",
       "      <td>0.0144</td>\n",
       "    </tr>\n",
       "    <tr>\n",
       "      <th>2</th>\n",
       "      <td>AAPL</td>\n",
       "      <td>2023-01-03</td>\n",
       "      <td>934</td>\n",
       "      <td>-0.0360</td>\n",
       "    </tr>\n",
       "    <tr>\n",
       "      <th>3</th>\n",
       "      <td>AAPL</td>\n",
       "      <td>2023-01-04</td>\n",
       "      <td>401</td>\n",
       "      <td>0.0344</td>\n",
       "    </tr>\n",
       "    <tr>\n",
       "      <th>4</th>\n",
       "      <td>MSFT</td>\n",
       "      <td>2023-01-05</td>\n",
       "      <td>591</td>\n",
       "      <td>-0.0159</td>\n",
       "    </tr>\n",
       "    <tr>\n",
       "      <th>5</th>\n",
       "      <td>AAPL</td>\n",
       "      <td>2023-01-06</td>\n",
       "      <td>741</td>\n",
       "      <td>0.0068</td>\n",
       "    </tr>\n",
       "    <tr>\n",
       "      <th>6</th>\n",
       "      <td>MSFT</td>\n",
       "      <td>2023-01-07</td>\n",
       "      <td>770</td>\n",
       "      <td>-0.0187</td>\n",
       "    </tr>\n",
       "    <tr>\n",
       "      <th>7</th>\n",
       "      <td>GOOG</td>\n",
       "      <td>2023-01-08</td>\n",
       "      <td>554</td>\n",
       "      <td>-0.0195</td>\n",
       "    </tr>\n",
       "    <tr>\n",
       "      <th>8</th>\n",
       "      <td>MSFT</td>\n",
       "      <td>2023-01-09</td>\n",
       "      <td>691</td>\n",
       "      <td>0.0288</td>\n",
       "    </tr>\n",
       "    <tr>\n",
       "      <th>9</th>\n",
       "      <td>AAPL</td>\n",
       "      <td>2023-01-10</td>\n",
       "      <td>869</td>\n",
       "      <td>0.0233</td>\n",
       "    </tr>\n",
       "    <tr>\n",
       "      <th>10</th>\n",
       "      <td>MSFT</td>\n",
       "      <td>2023-01-11</td>\n",
       "      <td>921</td>\n",
       "      <td>-0.0227</td>\n",
       "    </tr>\n",
       "    <tr>\n",
       "      <th>11</th>\n",
       "      <td>AAPL</td>\n",
       "      <td>2023-01-12</td>\n",
       "      <td>570</td>\n",
       "      <td>0.0056</td>\n",
       "    </tr>\n",
       "  </tbody>\n",
       "</table>\n",
       "</div>"
      ],
      "text/plain": [
       "   ticker       date  volume  return\n",
       "0    MSFT 2023-01-01     476 -0.0068\n",
       "1    AAPL 2023-01-02     385  0.0144\n",
       "2    AAPL 2023-01-03     934 -0.0360\n",
       "3    AAPL 2023-01-04     401  0.0344\n",
       "4    MSFT 2023-01-05     591 -0.0159\n",
       "5    AAPL 2023-01-06     741  0.0068\n",
       "6    MSFT 2023-01-07     770 -0.0187\n",
       "7    GOOG 2023-01-08     554 -0.0195\n",
       "8    MSFT 2023-01-09     691  0.0288\n",
       "9    AAPL 2023-01-10     869  0.0233\n",
       "10   MSFT 2023-01-11     921 -0.0227\n",
       "11   AAPL 2023-01-12     570  0.0056"
      ]
     },
     "execution_count": 4,
     "metadata": {},
     "output_type": "execute_result"
    }
   ],
   "source": [
    "data = {\n",
    "    'ticker': np.random.choice(['AAPL', 'GOOG', 'MSFT'], size=12),\n",
    "    'date': pd.date_range(start='2023-01-01', periods=12, freq='D'),\n",
    "    'volume': np.random.randint(100, 1000, size=12),\n",
    "    'return': np.round(np.random.normal(loc=0.001, scale=0.02, size=12), 4)\n",
    "}\n",
    "df = pd.DataFrame(data)\n",
    "df"
   ]
  },
  {
   "cell_type": "code",
   "execution_count": 5,
   "metadata": {},
   "outputs": [
    {
     "data": {
      "application/vnd.microsoft.datawrangler.viewer.v0+json": {
       "columns": [
        {
         "name": "ticker",
         "rawType": "object",
         "type": "string"
        },
        {
         "name": "('date', 'mean')",
         "rawType": "datetime64[ns]",
         "type": "datetime"
        },
        {
         "name": "('date', 'std')",
         "rawType": "timedelta64[ns]",
         "type": "unknown"
        },
        {
         "name": "('volume', 'mean')",
         "rawType": "float64",
         "type": "float"
        },
        {
         "name": "('volume', 'std')",
         "rawType": "float64",
         "type": "float"
        },
        {
         "name": "('return', 'mean')",
         "rawType": "float64",
         "type": "float"
        },
        {
         "name": "('return', 'std')",
         "rawType": "float64",
         "type": "float"
        }
       ],
       "conversionMethod": "pd.DataFrame",
       "ref": "5718986d-6d7f-443c-9ece-a237cdbc2603",
       "rows": [
        [
         "AAPL",
         "2023-01-06 04:00:00",
         "4 days 00:29:55.336756266",
         "650.0",
         "234.74411600719623",
         "0.008083333333333333",
         "0.024146090090668235"
        ],
        [
         "GOOG",
         "2023-01-08 00:00:00",
         null,
         "554.0",
         null,
         "-0.0195",
         null
        ],
        [
         "MSFT",
         "2023-01-06 14:24:00",
         "3 days 20:19:47.436585680",
         "689.8",
         "169.82255445022608",
         "-0.007060000000000001",
         "0.020882121539728668"
        ]
       ],
       "shape": {
        "columns": 6,
        "rows": 3
       }
      },
      "text/html": [
       "<div>\n",
       "<style scoped>\n",
       "    .dataframe tbody tr th:only-of-type {\n",
       "        vertical-align: middle;\n",
       "    }\n",
       "\n",
       "    .dataframe tbody tr th {\n",
       "        vertical-align: top;\n",
       "    }\n",
       "\n",
       "    .dataframe thead tr th {\n",
       "        text-align: left;\n",
       "    }\n",
       "\n",
       "    .dataframe thead tr:last-of-type th {\n",
       "        text-align: right;\n",
       "    }\n",
       "</style>\n",
       "<table border=\"1\" class=\"dataframe\">\n",
       "  <thead>\n",
       "    <tr>\n",
       "      <th></th>\n",
       "      <th colspan=\"2\" halign=\"left\">date</th>\n",
       "      <th colspan=\"2\" halign=\"left\">volume</th>\n",
       "      <th colspan=\"2\" halign=\"left\">return</th>\n",
       "    </tr>\n",
       "    <tr>\n",
       "      <th></th>\n",
       "      <th>mean</th>\n",
       "      <th>std</th>\n",
       "      <th>mean</th>\n",
       "      <th>std</th>\n",
       "      <th>mean</th>\n",
       "      <th>std</th>\n",
       "    </tr>\n",
       "    <tr>\n",
       "      <th>ticker</th>\n",
       "      <th></th>\n",
       "      <th></th>\n",
       "      <th></th>\n",
       "      <th></th>\n",
       "      <th></th>\n",
       "      <th></th>\n",
       "    </tr>\n",
       "  </thead>\n",
       "  <tbody>\n",
       "    <tr>\n",
       "      <th>AAPL</th>\n",
       "      <td>2023-01-06 04:00:00</td>\n",
       "      <td>4 days 00:29:55.336756266</td>\n",
       "      <td>650.0</td>\n",
       "      <td>234.744116</td>\n",
       "      <td>0.008083</td>\n",
       "      <td>0.024146</td>\n",
       "    </tr>\n",
       "    <tr>\n",
       "      <th>GOOG</th>\n",
       "      <td>2023-01-08 00:00:00</td>\n",
       "      <td>NaT</td>\n",
       "      <td>554.0</td>\n",
       "      <td>NaN</td>\n",
       "      <td>-0.019500</td>\n",
       "      <td>NaN</td>\n",
       "    </tr>\n",
       "    <tr>\n",
       "      <th>MSFT</th>\n",
       "      <td>2023-01-06 14:24:00</td>\n",
       "      <td>3 days 20:19:47.436585680</td>\n",
       "      <td>689.8</td>\n",
       "      <td>169.822554</td>\n",
       "      <td>-0.007060</td>\n",
       "      <td>0.020882</td>\n",
       "    </tr>\n",
       "  </tbody>\n",
       "</table>\n",
       "</div>"
      ],
      "text/plain": [
       "                      date                           volume              \\\n",
       "                      mean                       std   mean         std   \n",
       "ticker                                                                    \n",
       "AAPL   2023-01-06 04:00:00 4 days 00:29:55.336756266  650.0  234.744116   \n",
       "GOOG   2023-01-08 00:00:00                       NaT  554.0         NaN   \n",
       "MSFT   2023-01-06 14:24:00 3 days 20:19:47.436585680  689.8  169.822554   \n",
       "\n",
       "          return            \n",
       "            mean       std  \n",
       "ticker                      \n",
       "AAPL    0.008083  0.024146  \n",
       "GOOG   -0.019500       NaN  \n",
       "MSFT   -0.007060  0.020882  "
      ]
     },
     "execution_count": 5,
     "metadata": {},
     "output_type": "execute_result"
    }
   ],
   "source": [
    "df.groupby('ticker').agg(['mean', 'std'])"
   ]
  },
  {
   "cell_type": "code",
   "execution_count": 7,
   "metadata": {},
   "outputs": [
    {
     "name": "stdout",
     "output_type": "stream",
     "text": [
      "29\n"
     ]
    }
   ],
   "source": [
    "profitSellToday = 0\n",
    "maxProfit = 0\n",
    "minPrice = 0\n",
    "\n",
    "prices = [7, 9, 1, 8, 2, 30]\n",
    "minPrice = prices[0]\n",
    "\n",
    "for p in prices[1:]:\n",
    "    profitSellToday = p - minPrice\n",
    "    maxProfit = max(maxProfit, profitSellToday)\n",
    "    minPrice = min(minPrice, p)\n",
    "\n",
    "print(maxProfit)\n",
    "\n"
   ]
  },
  {
   "cell_type": "code",
   "execution_count": 9,
   "metadata": {},
   "outputs": [
    {
     "data": {
      "text/plain": [
       "37"
      ]
     },
     "execution_count": 9,
     "metadata": {},
     "output_type": "execute_result"
    }
   ],
   "source": [
    "prevPrice = prices[0]\n",
    "profit = 0\n",
    "for p in prices[1:]:\n",
    "    if p >= prevPrice:\n",
    "        profit += p - prevPrice\n",
    "    prevPrice = p\n",
    "profit"
   ]
  },
  {
   "cell_type": "code",
   "execution_count": 2,
   "metadata": {},
   "outputs": [],
   "source": [
    "from sklearn.linear_model import LinearRegression\n",
    "import numpy as np"
   ]
  },
  {
   "cell_type": "code",
   "execution_count": null,
   "metadata": {},
   "outputs": [
    {
     "name": "stdout",
     "output_type": "stream",
     "text": [
      "[2.5]\n",
      "[2.5]\n"
     ]
    }
   ],
   "source": [
    "x = np.random.randint(200, 400, 100)\n",
    "y = 2.5 * x\n",
    "x = x.reshape(-1, 1)\n",
    "lr = LinearRegression()\n",
    "lr.fit(x, y)\n",
    "print(lr.coef_)\n",
    "\n",
    "x_cum_sum = np.cumsum(x)\n",
    "y_cum_sum = np.cumsum(y)\n",
    "\n",
    "lr = LinearRegression()\n",
    "lr.fit(x_cum_sum.reshape(-1, 1), y_cum_sum)\n",
    "print(lr.coef_)"
   ]
  },
  {
   "cell_type": "code",
   "execution_count": null,
   "metadata": {},
   "outputs": [],
   "source": []
  }
 ],
 "metadata": {
  "kernelspec": {
   "display_name": "trading",
   "language": "python",
   "name": "python3"
  },
  "language_info": {
   "codemirror_mode": {
    "name": "ipython",
    "version": 3
   },
   "file_extension": ".py",
   "mimetype": "text/x-python",
   "name": "python",
   "nbconvert_exporter": "python",
   "pygments_lexer": "ipython3",
   "version": "3.10.16"
  }
 },
 "nbformat": 4,
 "nbformat_minor": 2
}
