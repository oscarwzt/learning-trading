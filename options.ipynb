{
 "cells": [
  {
   "cell_type": "code",
   "execution_count": 1,
   "metadata": {},
   "outputs": [],
   "source": [
    "from sqlalchemy import create_engine, text\n",
    "import pandas as pd\n",
    "import yfinance as yf\n",
    "import mysql.connector\n",
    "import matplotlib.pyplot as plt\n",
    "import seaborn as sns\n",
    "import numpy as np\n",
    "import plotly.express as px\n",
    "# # Create SQLAlchemy engine\n",
    "engine = create_engine(\"mysql+pymysql://root:@localhost/options\")"
   ]
  },
  {
   "cell_type": "code",
   "execution_count": 45,
   "metadata": {},
   "outputs": [
    {
     "name": "stderr",
     "output_type": "stream",
     "text": [
      "[*********************100%***********************]  1 of 1 completed"
     ]
    },
    {
     "name": "stderr",
     "output_type": "stream",
     "text": [
      "\n"
     ]
    }
   ],
   "source": [
    "# Define stock ticker symbol and date range\n",
    "ticker = \"AAPL\"  # Example: Apple Inc.\n",
    "start_date = \"2024-01-01\"\n",
    "end_date = \"2024-12-31\"\n",
    "\n",
    "# Fetch historical stock data\n",
    "appleStockPrices = yf.download(ticker, start=start_date, end=end_date)\n",
    "appleStockPrices.columns = [col[0] for col in appleStockPrices.columns.values]\n",
    "\n",
    "# The index is date, change to column\n",
    "appleStockPrices.reset_index(inplace=True)\n",
    "appleStockPrices.to_csv(\"appleStockPrices.csv\", index=False)"
   ]
  },
  {
   "cell_type": "markdown",
   "metadata": {},
   "source": [
    "Strategy:\n",
    "\n",
    "Sell put at 5% below current price expiring in 1 - 2 weeks.\n",
    "\n",
    "If assigned, sell call at 5% above current price in 1-2 weeks.\n",
    "\n",
    "If assigned, sell put, and so on.\n"
   ]
  },
  {
   "cell_type": "code",
   "execution_count": 9,
   "metadata": {},
   "outputs": [],
   "source": [
    "def getFilterdOptionsData(date=None, act_symbol=None, expiration=None, strike=None,\n",
    "                           call_put=None, bid_range=None, ask_range=None, vol_range=None,\n",
    "                           delta_range=None, gamma_range=None, theta_range=None, vega_range=None, rho_range=None,\n",
    "                           con=engine):\n",
    "    query = \"SELECT * FROM option_chain WHERE 1=1\"\n",
    "    params = []\n",
    "\n",
    "    if date:\n",
    "        if isinstance(date, tuple):\n",
    "            query += \" AND date BETWEEN %s AND %s\"\n",
    "            params.extend(date)\n",
    "        else:\n",
    "            query += \" AND date = %s\"\n",
    "            params.append(date)\n",
    "    if act_symbol:\n",
    "        query += \" AND act_symbol = %s\"\n",
    "        params.append(act_symbol)\n",
    "    if expiration:\n",
    "        if isinstance(expiration, tuple):\n",
    "            query += \" AND expiration BETWEEN %s AND %s\"\n",
    "            params.extend(expiration)\n",
    "        else:\n",
    "            query += \" AND expiration = %s\"\n",
    "            params.append(expiration)\n",
    "    if strike:\n",
    "        if isinstance(strike, tuple):\n",
    "            query += \" AND strike BETWEEN %s AND %s\"\n",
    "            params.extend(strike)\n",
    "        else:\n",
    "            query += \" AND strike = %s\"\n",
    "            params.append(strike)\n",
    "    if call_put:\n",
    "        query += \" AND call_put = %s\"\n",
    "        params.append(call_put)\n",
    "    if bid_range:\n",
    "        query += \" AND bid BETWEEN %s AND %s\"\n",
    "        params.extend(bid_range)\n",
    "    if ask_range:\n",
    "        query += \" AND ask BETWEEN %s AND %s\"\n",
    "        params.extend(ask_range)\n",
    "    if vol_range:\n",
    "        query += \" AND vol BETWEEN %s AND %s\"\n",
    "        params.extend(vol_range)\n",
    "    if delta_range:\n",
    "        query += \" AND delta BETWEEN %s AND %s\"\n",
    "        params.extend(delta_range)\n",
    "    if gamma_range:\n",
    "        query += \" AND gamma BETWEEN %s AND %s\"\n",
    "        params.extend(gamma_range)\n",
    "    if theta_range:\n",
    "        query += \" AND theta BETWEEN %s AND %s\"\n",
    "        params.extend(theta_range)\n",
    "    if vega_range:\n",
    "        query += \" AND vega BETWEEN %s AND %s\"\n",
    "        params.extend(vega_range)\n",
    "    if rho_range:\n",
    "        query += \" AND rho BETWEEN %s AND %s\"\n",
    "        params.extend(rho_range)\n",
    "\n",
    "    df = pd.read_sql(query, con, params=tuple(params))\n",
    "    return df"
   ]
  },
  {
   "cell_type": "code",
   "execution_count": null,
   "metadata": {},
   "outputs": [],
   "source": [
    "allSymbols = pd.read_sql(\"SELECT DISTINCT act_symbol FROM option_chain\", engine)\n",
    "allSymbols = allSymbols[\"act_symbol\"].tolist()\n",
    "allSymbols"
   ]
  },
  {
   "cell_type": "markdown",
   "metadata": {},
   "source": [
    "# Get apple options data for dates in 2024."
   ]
  },
  {
   "cell_type": "markdown",
   "metadata": {},
   "source": [
    "commented out to prevent re-run"
   ]
  },
  {
   "cell_type": "code",
   "execution_count": 2,
   "metadata": {},
   "outputs": [],
   "source": [
    "beginDate = \"2024-01-01\"\n",
    "endDate = \"2024-12-31\"\n",
    "\n",
    "# Example usage\n",
    "# Fetch options data for a specific date and symbol\n",
    "# appleCalls = getFilterdOptionsData(date=(beginDate, endDate), act_symbol=\"AAPL\", call_put=\"call\")\n",
    "# applePuts = getFilterdOptionsData(date=(beginDate, endDate), act_symbol=\"AAPL\", call_put=\"put\")"
   ]
  },
  {
   "cell_type": "code",
   "execution_count": 3,
   "metadata": {},
   "outputs": [],
   "source": [
    "applePuts = pd.read_csv(\"applePuts.csv\")\n",
    "applePuts['days_to_expiration'] = (pd.to_datetime(applePuts['expiration']) - pd.to_datetime(applePuts['date'])).dt.days.astype(int)\n",
    "appleCalls = pd.read_csv(\"appleCalls.csv\")\n",
    "appleCalls['days_to_expiration'] = (pd.to_datetime(appleCalls['expiration']) - pd.to_datetime(appleCalls['date'])).dt.days.astype(int)\n",
    "appleStockPrices = pd.read_csv(\"appleStockPrices.csv\")\n"
   ]
  },
  {
   "cell_type": "code",
   "execution_count": 49,
   "metadata": {},
   "outputs": [],
   "source": [
    "# round the values to 3 decimals for stock prices\n",
    "appleStockPrices = appleStockPrices.round(2)"
   ]
  },
  {
   "cell_type": "code",
   "execution_count": 88,
   "metadata": {},
   "outputs": [],
   "source": [
    "exampleCall = appleCalls[appleCalls.date == \"2024-01-03\"]\n",
    "exampleCall = exampleCall[exampleCall.expiration == \"2024-01-19\"]\n",
    "stockPrice = appleStockPrices[appleStockPrices.Date == \"2024-01-03\"]"
   ]
  },
  {
   "cell_type": "code",
   "execution_count": 89,
   "metadata": {},
   "outputs": [
    {
     "data": {
      "text/html": [
       "<div>\n",
       "<style scoped>\n",
       "    .dataframe tbody tr th:only-of-type {\n",
       "        vertical-align: middle;\n",
       "    }\n",
       "\n",
       "    .dataframe tbody tr th {\n",
       "        vertical-align: top;\n",
       "    }\n",
       "\n",
       "    .dataframe thead th {\n",
       "        text-align: right;\n",
       "    }\n",
       "</style>\n",
       "<table border=\"1\" class=\"dataframe\">\n",
       "  <thead>\n",
       "    <tr style=\"text-align: right;\">\n",
       "      <th></th>\n",
       "      <th>date</th>\n",
       "      <th>act_symbol</th>\n",
       "      <th>expiration</th>\n",
       "      <th>strike</th>\n",
       "      <th>call_put</th>\n",
       "      <th>bid</th>\n",
       "      <th>ask</th>\n",
       "      <th>vol</th>\n",
       "      <th>delta</th>\n",
       "      <th>gamma</th>\n",
       "      <th>theta</th>\n",
       "      <th>vega</th>\n",
       "      <th>rho</th>\n",
       "      <th>days_to_expiration</th>\n",
       "    </tr>\n",
       "  </thead>\n",
       "  <tbody>\n",
       "    <tr>\n",
       "      <th>75</th>\n",
       "      <td>2024-01-03</td>\n",
       "      <td>AAPL</td>\n",
       "      <td>2024-01-19</td>\n",
       "      <td>130.0</td>\n",
       "      <td>Call</td>\n",
       "      <td>54.50</td>\n",
       "      <td>54.75</td>\n",
       "      <td>0.7068</td>\n",
       "      <td>0.9928</td>\n",
       "      <td>0.0007</td>\n",
       "      <td>-0.0360</td>\n",
       "      <td>0.0077</td>\n",
       "      <td>0.0562</td>\n",
       "      <td>16 days</td>\n",
       "    </tr>\n",
       "    <tr>\n",
       "      <th>76</th>\n",
       "      <td>2024-01-03</td>\n",
       "      <td>AAPL</td>\n",
       "      <td>2024-01-19</td>\n",
       "      <td>135.0</td>\n",
       "      <td>Call</td>\n",
       "      <td>49.50</td>\n",
       "      <td>49.95</td>\n",
       "      <td>0.7155</td>\n",
       "      <td>0.9849</td>\n",
       "      <td>0.0013</td>\n",
       "      <td>-0.0523</td>\n",
       "      <td>0.0146</td>\n",
       "      <td>0.0577</td>\n",
       "      <td>16 days</td>\n",
       "    </tr>\n",
       "    <tr>\n",
       "      <th>77</th>\n",
       "      <td>2024-01-03</td>\n",
       "      <td>AAPL</td>\n",
       "      <td>2024-01-19</td>\n",
       "      <td>140.0</td>\n",
       "      <td>Call</td>\n",
       "      <td>44.45</td>\n",
       "      <td>44.80</td>\n",
       "      <td>0.5420</td>\n",
       "      <td>0.9937</td>\n",
       "      <td>0.0008</td>\n",
       "      <td>-0.0320</td>\n",
       "      <td>0.0067</td>\n",
       "      <td>0.0606</td>\n",
       "      <td>16 days</td>\n",
       "    </tr>\n",
       "    <tr>\n",
       "      <th>78</th>\n",
       "      <td>2024-01-03</td>\n",
       "      <td>AAPL</td>\n",
       "      <td>2024-01-19</td>\n",
       "      <td>145.0</td>\n",
       "      <td>Call</td>\n",
       "      <td>39.50</td>\n",
       "      <td>39.95</td>\n",
       "      <td>0.5570</td>\n",
       "      <td>0.9835</td>\n",
       "      <td>0.0019</td>\n",
       "      <td>-0.0485</td>\n",
       "      <td>0.0158</td>\n",
       "      <td>0.0619</td>\n",
       "      <td>16 days</td>\n",
       "    </tr>\n",
       "    <tr>\n",
       "      <th>79</th>\n",
       "      <td>2024-01-03</td>\n",
       "      <td>AAPL</td>\n",
       "      <td>2024-01-19</td>\n",
       "      <td>150.0</td>\n",
       "      <td>Call</td>\n",
       "      <td>34.55</td>\n",
       "      <td>35.00</td>\n",
       "      <td>0.5088</td>\n",
       "      <td>0.9775</td>\n",
       "      <td>0.0027</td>\n",
       "      <td>-0.0542</td>\n",
       "      <td>0.0205</td>\n",
       "      <td>0.0636</td>\n",
       "      <td>16 days</td>\n",
       "    </tr>\n",
       "    <tr>\n",
       "      <th>80</th>\n",
       "      <td>2024-01-03</td>\n",
       "      <td>AAPL</td>\n",
       "      <td>2024-01-19</td>\n",
       "      <td>155.0</td>\n",
       "      <td>Call</td>\n",
       "      <td>29.55</td>\n",
       "      <td>30.00</td>\n",
       "      <td>0.4345</td>\n",
       "      <td>0.9757</td>\n",
       "      <td>0.0034</td>\n",
       "      <td>-0.0521</td>\n",
       "      <td>0.0219</td>\n",
       "      <td>0.0657</td>\n",
       "      <td>16 days</td>\n",
       "    </tr>\n",
       "    <tr>\n",
       "      <th>81</th>\n",
       "      <td>2024-01-03</td>\n",
       "      <td>AAPL</td>\n",
       "      <td>2024-01-19</td>\n",
       "      <td>160.0</td>\n",
       "      <td>Call</td>\n",
       "      <td>24.60</td>\n",
       "      <td>25.05</td>\n",
       "      <td>0.3812</td>\n",
       "      <td>0.9669</td>\n",
       "      <td>0.0050</td>\n",
       "      <td>-0.0565</td>\n",
       "      <td>0.0284</td>\n",
       "      <td>0.0671</td>\n",
       "      <td>16 days</td>\n",
       "    </tr>\n",
       "    <tr>\n",
       "      <th>82</th>\n",
       "      <td>2024-01-03</td>\n",
       "      <td>AAPL</td>\n",
       "      <td>2024-01-19</td>\n",
       "      <td>165.0</td>\n",
       "      <td>Call</td>\n",
       "      <td>19.70</td>\n",
       "      <td>20.10</td>\n",
       "      <td>0.3301</td>\n",
       "      <td>0.9521</td>\n",
       "      <td>0.0078</td>\n",
       "      <td>-0.0626</td>\n",
       "      <td>0.0384</td>\n",
       "      <td>0.0681</td>\n",
       "      <td>16 days</td>\n",
       "    </tr>\n",
       "    <tr>\n",
       "      <th>83</th>\n",
       "      <td>2024-01-03</td>\n",
       "      <td>AAPL</td>\n",
       "      <td>2024-01-19</td>\n",
       "      <td>170.0</td>\n",
       "      <td>Call</td>\n",
       "      <td>14.85</td>\n",
       "      <td>15.15</td>\n",
       "      <td>0.2761</td>\n",
       "      <td>0.9282</td>\n",
       "      <td>0.0128</td>\n",
       "      <td>-0.0686</td>\n",
       "      <td>0.0527</td>\n",
       "      <td>0.0683</td>\n",
       "      <td>16 days</td>\n",
       "    </tr>\n",
       "    <tr>\n",
       "      <th>84</th>\n",
       "      <td>2024-01-03</td>\n",
       "      <td>AAPL</td>\n",
       "      <td>2024-01-19</td>\n",
       "      <td>172.5</td>\n",
       "      <td>Call</td>\n",
       "      <td>12.45</td>\n",
       "      <td>12.65</td>\n",
       "      <td>0.2454</td>\n",
       "      <td>0.9121</td>\n",
       "      <td>0.0168</td>\n",
       "      <td>-0.0702</td>\n",
       "      <td>0.0614</td>\n",
       "      <td>0.0681</td>\n",
       "      <td>16 days</td>\n",
       "    </tr>\n",
       "    <tr>\n",
       "      <th>85</th>\n",
       "      <td>2024-01-03</td>\n",
       "      <td>AAPL</td>\n",
       "      <td>2024-01-19</td>\n",
       "      <td>177.5</td>\n",
       "      <td>Call</td>\n",
       "      <td>7.90</td>\n",
       "      <td>8.10</td>\n",
       "      <td>0.2136</td>\n",
       "      <td>0.8185</td>\n",
       "      <td>0.0320</td>\n",
       "      <td>-0.0890</td>\n",
       "      <td>0.1017</td>\n",
       "      <td>0.0625</td>\n",
       "      <td>16 days</td>\n",
       "    </tr>\n",
       "    <tr>\n",
       "      <th>86</th>\n",
       "      <td>2024-01-03</td>\n",
       "      <td>AAPL</td>\n",
       "      <td>2024-01-19</td>\n",
       "      <td>180.0</td>\n",
       "      <td>Call</td>\n",
       "      <td>5.95</td>\n",
       "      <td>6.15</td>\n",
       "      <td>0.2094</td>\n",
       "      <td>0.7285</td>\n",
       "      <td>0.0410</td>\n",
       "      <td>-0.1026</td>\n",
       "      <td>0.1278</td>\n",
       "      <td>0.0561</td>\n",
       "      <td>16 days</td>\n",
       "    </tr>\n",
       "    <tr>\n",
       "      <th>87</th>\n",
       "      <td>2024-01-03</td>\n",
       "      <td>AAPL</td>\n",
       "      <td>2024-01-19</td>\n",
       "      <td>185.0</td>\n",
       "      <td>Call</td>\n",
       "      <td>2.50</td>\n",
       "      <td>2.82</td>\n",
       "      <td>0.1827</td>\n",
       "      <td>0.4899</td>\n",
       "      <td>0.0566</td>\n",
       "      <td>-0.1008</td>\n",
       "      <td>0.1538</td>\n",
       "      <td>0.0383</td>\n",
       "      <td>16 days</td>\n",
       "    </tr>\n",
       "    <tr>\n",
       "      <th>88</th>\n",
       "      <td>2024-01-03</td>\n",
       "      <td>AAPL</td>\n",
       "      <td>2024-01-19</td>\n",
       "      <td>187.5</td>\n",
       "      <td>Call</td>\n",
       "      <td>1.51</td>\n",
       "      <td>1.64</td>\n",
       "      <td>0.1776</td>\n",
       "      <td>0.3490</td>\n",
       "      <td>0.0540</td>\n",
       "      <td>-0.0885</td>\n",
       "      <td>0.1427</td>\n",
       "      <td>0.0274</td>\n",
       "      <td>16 days</td>\n",
       "    </tr>\n",
       "    <tr>\n",
       "      <th>89</th>\n",
       "      <td>2024-01-03</td>\n",
       "      <td>AAPL</td>\n",
       "      <td>2024-01-19</td>\n",
       "      <td>192.5</td>\n",
       "      <td>Call</td>\n",
       "      <td>0.44</td>\n",
       "      <td>0.46</td>\n",
       "      <td>0.1757</td>\n",
       "      <td>0.1338</td>\n",
       "      <td>0.0318</td>\n",
       "      <td>-0.0493</td>\n",
       "      <td>0.0832</td>\n",
       "      <td>0.0106</td>\n",
       "      <td>16 days</td>\n",
       "    </tr>\n",
       "    <tr>\n",
       "      <th>90</th>\n",
       "      <td>2024-01-03</td>\n",
       "      <td>AAPL</td>\n",
       "      <td>2024-01-19</td>\n",
       "      <td>195.0</td>\n",
       "      <td>Call</td>\n",
       "      <td>0.23</td>\n",
       "      <td>0.26</td>\n",
       "      <td>0.1812</td>\n",
       "      <td>0.0787</td>\n",
       "      <td>0.0210</td>\n",
       "      <td>-0.0342</td>\n",
       "      <td>0.0566</td>\n",
       "      <td>0.0062</td>\n",
       "      <td>16 days</td>\n",
       "    </tr>\n",
       "    <tr>\n",
       "      <th>91</th>\n",
       "      <td>2024-01-03</td>\n",
       "      <td>AAPL</td>\n",
       "      <td>2024-01-19</td>\n",
       "      <td>200.0</td>\n",
       "      <td>Call</td>\n",
       "      <td>0.08</td>\n",
       "      <td>0.09</td>\n",
       "      <td>0.1988</td>\n",
       "      <td>0.0291</td>\n",
       "      <td>0.0086</td>\n",
       "      <td>-0.0167</td>\n",
       "      <td>0.0256</td>\n",
       "      <td>0.0023</td>\n",
       "      <td>16 days</td>\n",
       "    </tr>\n",
       "    <tr>\n",
       "      <th>92</th>\n",
       "      <td>2024-01-03</td>\n",
       "      <td>AAPL</td>\n",
       "      <td>2024-01-19</td>\n",
       "      <td>202.5</td>\n",
       "      <td>Call</td>\n",
       "      <td>0.05</td>\n",
       "      <td>0.06</td>\n",
       "      <td>0.2096</td>\n",
       "      <td>0.0189</td>\n",
       "      <td>0.0057</td>\n",
       "      <td>-0.0121</td>\n",
       "      <td>0.0178</td>\n",
       "      <td>0.0015</td>\n",
       "      <td>16 days</td>\n",
       "    </tr>\n",
       "    <tr>\n",
       "      <th>93</th>\n",
       "      <td>2024-01-03</td>\n",
       "      <td>AAPL</td>\n",
       "      <td>2024-01-19</td>\n",
       "      <td>207.5</td>\n",
       "      <td>Call</td>\n",
       "      <td>0.02</td>\n",
       "      <td>0.03</td>\n",
       "      <td>0.2310</td>\n",
       "      <td>0.0085</td>\n",
       "      <td>0.0026</td>\n",
       "      <td>-0.0066</td>\n",
       "      <td>0.0089</td>\n",
       "      <td>0.0006</td>\n",
       "      <td>16 days</td>\n",
       "    </tr>\n",
       "    <tr>\n",
       "      <th>94</th>\n",
       "      <td>2024-01-03</td>\n",
       "      <td>AAPL</td>\n",
       "      <td>2024-01-19</td>\n",
       "      <td>212.5</td>\n",
       "      <td>Call</td>\n",
       "      <td>0.01</td>\n",
       "      <td>0.02</td>\n",
       "      <td>0.2649</td>\n",
       "      <td>0.0061</td>\n",
       "      <td>0.0017</td>\n",
       "      <td>-0.0057</td>\n",
       "      <td>0.0067</td>\n",
       "      <td>0.0004</td>\n",
       "      <td>16 days</td>\n",
       "    </tr>\n",
       "    <tr>\n",
       "      <th>95</th>\n",
       "      <td>2024-01-03</td>\n",
       "      <td>AAPL</td>\n",
       "      <td>2024-01-19</td>\n",
       "      <td>217.5</td>\n",
       "      <td>Call</td>\n",
       "      <td>0.01</td>\n",
       "      <td>0.01</td>\n",
       "      <td>0.2842</td>\n",
       "      <td>0.0032</td>\n",
       "      <td>0.0009</td>\n",
       "      <td>-0.0034</td>\n",
       "      <td>0.0038</td>\n",
       "      <td>0.0002</td>\n",
       "      <td>16 days</td>\n",
       "    </tr>\n",
       "    <tr>\n",
       "      <th>96</th>\n",
       "      <td>2024-01-03</td>\n",
       "      <td>AAPL</td>\n",
       "      <td>2024-01-19</td>\n",
       "      <td>220.0</td>\n",
       "      <td>Call</td>\n",
       "      <td>0.00</td>\n",
       "      <td>0.01</td>\n",
       "      <td>0.2842</td>\n",
       "      <td>0.0018</td>\n",
       "      <td>0.0005</td>\n",
       "      <td>-0.0020</td>\n",
       "      <td>0.0022</td>\n",
       "      <td>0.0001</td>\n",
       "      <td>16 days</td>\n",
       "    </tr>\n",
       "    <tr>\n",
       "      <th>97</th>\n",
       "      <td>2024-01-03</td>\n",
       "      <td>AAPL</td>\n",
       "      <td>2024-01-19</td>\n",
       "      <td>225.0</td>\n",
       "      <td>Call</td>\n",
       "      <td>0.00</td>\n",
       "      <td>0.01</td>\n",
       "      <td>0.2842</td>\n",
       "      <td>0.0005</td>\n",
       "      <td>0.0001</td>\n",
       "      <td>-0.0006</td>\n",
       "      <td>0.0006</td>\n",
       "      <td>0.0000</td>\n",
       "      <td>16 days</td>\n",
       "    </tr>\n",
       "    <tr>\n",
       "      <th>98</th>\n",
       "      <td>2024-01-03</td>\n",
       "      <td>AAPL</td>\n",
       "      <td>2024-01-19</td>\n",
       "      <td>230.0</td>\n",
       "      <td>Call</td>\n",
       "      <td>0.00</td>\n",
       "      <td>0.01</td>\n",
       "      <td>0.2842</td>\n",
       "      <td>0.0001</td>\n",
       "      <td>0.0000</td>\n",
       "      <td>-0.0001</td>\n",
       "      <td>0.0001</td>\n",
       "      <td>0.0000</td>\n",
       "      <td>16 days</td>\n",
       "    </tr>\n",
       "    <tr>\n",
       "      <th>99</th>\n",
       "      <td>2024-01-03</td>\n",
       "      <td>AAPL</td>\n",
       "      <td>2024-01-19</td>\n",
       "      <td>235.0</td>\n",
       "      <td>Call</td>\n",
       "      <td>0.00</td>\n",
       "      <td>0.01</td>\n",
       "      <td>0.2842</td>\n",
       "      <td>0.0000</td>\n",
       "      <td>0.0000</td>\n",
       "      <td>0.0000</td>\n",
       "      <td>0.0000</td>\n",
       "      <td>0.0000</td>\n",
       "      <td>16 days</td>\n",
       "    </tr>\n",
       "    <tr>\n",
       "      <th>100</th>\n",
       "      <td>2024-01-03</td>\n",
       "      <td>AAPL</td>\n",
       "      <td>2024-01-19</td>\n",
       "      <td>240.0</td>\n",
       "      <td>Call</td>\n",
       "      <td>0.00</td>\n",
       "      <td>0.01</td>\n",
       "      <td>0.2842</td>\n",
       "      <td>0.0000</td>\n",
       "      <td>0.0000</td>\n",
       "      <td>0.0000</td>\n",
       "      <td>0.0000</td>\n",
       "      <td>0.0000</td>\n",
       "      <td>16 days</td>\n",
       "    </tr>\n",
       "  </tbody>\n",
       "</table>\n",
       "</div>"
      ],
      "text/plain": [
       "           date act_symbol  expiration  strike call_put    bid    ask     vol  \\\n",
       "75   2024-01-03       AAPL  2024-01-19   130.0     Call  54.50  54.75  0.7068   \n",
       "76   2024-01-03       AAPL  2024-01-19   135.0     Call  49.50  49.95  0.7155   \n",
       "77   2024-01-03       AAPL  2024-01-19   140.0     Call  44.45  44.80  0.5420   \n",
       "78   2024-01-03       AAPL  2024-01-19   145.0     Call  39.50  39.95  0.5570   \n",
       "79   2024-01-03       AAPL  2024-01-19   150.0     Call  34.55  35.00  0.5088   \n",
       "80   2024-01-03       AAPL  2024-01-19   155.0     Call  29.55  30.00  0.4345   \n",
       "81   2024-01-03       AAPL  2024-01-19   160.0     Call  24.60  25.05  0.3812   \n",
       "82   2024-01-03       AAPL  2024-01-19   165.0     Call  19.70  20.10  0.3301   \n",
       "83   2024-01-03       AAPL  2024-01-19   170.0     Call  14.85  15.15  0.2761   \n",
       "84   2024-01-03       AAPL  2024-01-19   172.5     Call  12.45  12.65  0.2454   \n",
       "85   2024-01-03       AAPL  2024-01-19   177.5     Call   7.90   8.10  0.2136   \n",
       "86   2024-01-03       AAPL  2024-01-19   180.0     Call   5.95   6.15  0.2094   \n",
       "87   2024-01-03       AAPL  2024-01-19   185.0     Call   2.50   2.82  0.1827   \n",
       "88   2024-01-03       AAPL  2024-01-19   187.5     Call   1.51   1.64  0.1776   \n",
       "89   2024-01-03       AAPL  2024-01-19   192.5     Call   0.44   0.46  0.1757   \n",
       "90   2024-01-03       AAPL  2024-01-19   195.0     Call   0.23   0.26  0.1812   \n",
       "91   2024-01-03       AAPL  2024-01-19   200.0     Call   0.08   0.09  0.1988   \n",
       "92   2024-01-03       AAPL  2024-01-19   202.5     Call   0.05   0.06  0.2096   \n",
       "93   2024-01-03       AAPL  2024-01-19   207.5     Call   0.02   0.03  0.2310   \n",
       "94   2024-01-03       AAPL  2024-01-19   212.5     Call   0.01   0.02  0.2649   \n",
       "95   2024-01-03       AAPL  2024-01-19   217.5     Call   0.01   0.01  0.2842   \n",
       "96   2024-01-03       AAPL  2024-01-19   220.0     Call   0.00   0.01  0.2842   \n",
       "97   2024-01-03       AAPL  2024-01-19   225.0     Call   0.00   0.01  0.2842   \n",
       "98   2024-01-03       AAPL  2024-01-19   230.0     Call   0.00   0.01  0.2842   \n",
       "99   2024-01-03       AAPL  2024-01-19   235.0     Call   0.00   0.01  0.2842   \n",
       "100  2024-01-03       AAPL  2024-01-19   240.0     Call   0.00   0.01  0.2842   \n",
       "\n",
       "      delta   gamma   theta    vega     rho days_to_expiration  \n",
       "75   0.9928  0.0007 -0.0360  0.0077  0.0562            16 days  \n",
       "76   0.9849  0.0013 -0.0523  0.0146  0.0577            16 days  \n",
       "77   0.9937  0.0008 -0.0320  0.0067  0.0606            16 days  \n",
       "78   0.9835  0.0019 -0.0485  0.0158  0.0619            16 days  \n",
       "79   0.9775  0.0027 -0.0542  0.0205  0.0636            16 days  \n",
       "80   0.9757  0.0034 -0.0521  0.0219  0.0657            16 days  \n",
       "81   0.9669  0.0050 -0.0565  0.0284  0.0671            16 days  \n",
       "82   0.9521  0.0078 -0.0626  0.0384  0.0681            16 days  \n",
       "83   0.9282  0.0128 -0.0686  0.0527  0.0683            16 days  \n",
       "84   0.9121  0.0168 -0.0702  0.0614  0.0681            16 days  \n",
       "85   0.8185  0.0320 -0.0890  0.1017  0.0625            16 days  \n",
       "86   0.7285  0.0410 -0.1026  0.1278  0.0561            16 days  \n",
       "87   0.4899  0.0566 -0.1008  0.1538  0.0383            16 days  \n",
       "88   0.3490  0.0540 -0.0885  0.1427  0.0274            16 days  \n",
       "89   0.1338  0.0318 -0.0493  0.0832  0.0106            16 days  \n",
       "90   0.0787  0.0210 -0.0342  0.0566  0.0062            16 days  \n",
       "91   0.0291  0.0086 -0.0167  0.0256  0.0023            16 days  \n",
       "92   0.0189  0.0057 -0.0121  0.0178  0.0015            16 days  \n",
       "93   0.0085  0.0026 -0.0066  0.0089  0.0006            16 days  \n",
       "94   0.0061  0.0017 -0.0057  0.0067  0.0004            16 days  \n",
       "95   0.0032  0.0009 -0.0034  0.0038  0.0002            16 days  \n",
       "96   0.0018  0.0005 -0.0020  0.0022  0.0001            16 days  \n",
       "97   0.0005  0.0001 -0.0006  0.0006  0.0000            16 days  \n",
       "98   0.0001  0.0000 -0.0001  0.0001  0.0000            16 days  \n",
       "99   0.0000  0.0000  0.0000  0.0000  0.0000            16 days  \n",
       "100  0.0000  0.0000  0.0000  0.0000  0.0000            16 days  "
      ]
     },
     "execution_count": 89,
     "metadata": {},
     "output_type": "execute_result"
    }
   ],
   "source": [
    "exampleCall"
   ]
  },
  {
   "cell_type": "code",
   "execution_count": 116,
   "metadata": {},
   "outputs": [],
   "source": [
    "def linePlotRelationship(df, x, y, title=None, currentPrice=None, scatter=False):\n",
    "    plt.figure(figsize=(10, 6))\n",
    "    if scatter:\n",
    "        sns.scatterplot(data=df, x=x, y=y)\n",
    "    else:\n",
    "        sns.lineplot(data=df, x=x, y=y)\n",
    "    if currentPrice:\n",
    "        plt.axvline(x=currentPrice, color='r', linestyle='--', label='Current Price')\n",
    "        plt.legend()\n",
    "    plt.title(title)\n",
    "    plt.xlabel(x)\n",
    "    plt.ylabel(y)\n",
    "    plt.grid()\n",
    "    plt.show()"
   ]
  },
  {
   "cell_type": "code",
   "execution_count": null,
   "metadata": {},
   "outputs": [],
   "source": [
    "pairs = [\n",
    "    ('strike', 'delta'),\n",
    "    ('strike', 'gamma'),\n",
    "    ('strike', 'theta'),\n",
    "    ('strike', 'vega'),\n",
    "    ('strike', 'rho'),\n",
    "    ('strike', 'bid'),\n",
    "    ('strike', 'ask')\n",
    "]\n",
    "for pair in pairs:\n",
    "    linePlotRelationship(exampleCall, pair[0], pair[1], f\"Relationship between {pair[0]} and {pair[1]} for Call Options\",\n",
    "                         currentPrice=stockPrice['Open'].values[0])\n"
   ]
  },
  {
   "cell_type": "code",
   "execution_count": null,
   "metadata": {},
   "outputs": [],
   "source": [
    "pairs = [\n",
    "    ('vol', 'delta'),\n",
    "    ('vol', 'gamma'),\n",
    "    ('vol', 'theta'),\n",
    "    ('vol', 'vega'),\n",
    "    ('vol', 'rho'),\n",
    "    ('vol', 'bid')\n",
    "]\n",
    "\n",
    "for pair in pairs:\n",
    "    linePlotRelationship(exampleCall, pair[0], pair[1], f\"Relationship between {pair[0]} and {pair[1]} for Call Options\", scatter=True,)"
   ]
  },
  {
   "cell_type": "code",
   "execution_count": 108,
   "metadata": {},
   "outputs": [],
   "source": [
    "# log the following values for each day:\n",
    "# \"date\",\n",
    "# \"action\",\n",
    "# \"putPosition\",\n",
    "# \"callPosition\",\n",
    "# \"stockPosition\",\n",
    "# \"cashChange\",\n",
    "# \"cash\",\n",
    "# \"stockPrice\",\n",
    "# \"portfolioValue\"\n",
    "def selectOption(options,\n",
    "                 stock_price,\n",
    "                 minDaysToExpiration=15,\n",
    "                 maxDaysToExpiration=30,\n",
    "                 deltaRange=None,\n",
    "                 pctBelowCurrentPrice=None,\n",
    "                 pctAboveCurrentPrice=None):\n",
    "    options = options[\n",
    "        (options['days_to_expiration'] >= minDaysToExpiration) &\n",
    "        (options['days_to_expiration'] <= maxDaysToExpiration)\n",
    "    ]\n",
    "    if options.empty:\n",
    "        return None\n",
    "\n",
    "    if deltaRange:\n",
    "        options = options[\n",
    "            (options['delta'] >= deltaRange[0]) &\n",
    "            (options['delta'] <= deltaRange[1])\n",
    "        ]\n",
    "\n",
    "    if pctBelowCurrentPrice:\n",
    "        options = options[\n",
    "            (options['strike'] <= stock_price * (1 - pctBelowCurrentPrice))\n",
    "        ]\n",
    "    if pctAboveCurrentPrice:\n",
    "        options = options[\n",
    "            (options['strike'] >= stock_price * (1 + pctAboveCurrentPrice))\n",
    "        ]\n",
    "    if options.empty:\n",
    "        return None\n",
    "\n",
    "    return options\n",
    "def testOptionWheel(stockPrices,\n",
    "                    callOptions,\n",
    "                    putOptions,\n",
    "                    minDaysToExpiration=15,\n",
    "                    maxDaysToExpiration=30,\n",
    "                    putDeltaRange=(-0.4, -0.2),\n",
    "                    callDeltaRange=(0.2, 0.4)):\n",
    "    tradeLog = []\n",
    "    putPosition = 0\n",
    "    cash = 20_000\n",
    "    callPosition = 0\n",
    "    stockPosition = 0\n",
    "    expiration = None\n",
    "\n",
    "    for dailyStock in stockPrices.iterrows():\n",
    "        date = dailyStock[1]['Date']\n",
    "        openPrice = dailyStock[1]['Open']\n",
    "        closePrice = dailyStock[1]['Close']\n",
    "        highPrice = dailyStock[1]['High']\n",
    "        lowPrice = dailyStock[1]['Low']\n",
    "        callOptionsForDate = callOptions[callOptions.date == date]\n",
    "        putOptionsForDate = putOptions[putOptions.date == date]\n",
    "\n",
    "        if callOptionsForDate.empty or putOptionsForDate.empty:\n",
    "            continue\n",
    "\n",
    "        action = \"hold\"\n",
    "        cashChange = 0\n",
    "\n",
    "        if expiration and date >= expiration:\n",
    "            if callPosition == 1:\n",
    "                if closePrice >= strikePrice:\n",
    "                    action = \"assigned call\"\n",
    "                    cashChange = strikePrice * 100\n",
    "                    cash += cashChange\n",
    "                    stockPosition -= 100\n",
    "                else:\n",
    "                    action = \"call expired\"\n",
    "                callPosition = 0\n",
    "\n",
    "            elif putPosition == 1:\n",
    "                if closePrice <= strikePrice:\n",
    "                    action = \"assigned put\"\n",
    "                    cash -= strikePrice * 100\n",
    "                    stockPosition += 100\n",
    "                else:\n",
    "                    action = \"put expired\"\n",
    "                putPosition = 0\n",
    "\n",
    "            tradeLog.append({\n",
    "                \"date\": date,\n",
    "                \"action\": action,\n",
    "                \"putPosition\": putPosition,\n",
    "                \"callPosition\": callPosition,\n",
    "                \"stockPosition\": stockPosition,\n",
    "                \"cashChange\": cashChange,\n",
    "                \"cash\": cash,\n",
    "                \"stockPrice\": closePrice,\n",
    "                \"portfolioValue\": portfolioValue\n",
    "            })\n",
    "\n",
    "            expiration = None\n",
    "            continue\n",
    "\n",
    "        if (putPosition == 0 and callPosition == 0 and stockPosition == 0):\n",
    "            putOptionsForDate = selectOption(\n",
    "                putOptionsForDate,\n",
    "                openPrice,\n",
    "                minDaysToExpiration=minDaysToExpiration,\n",
    "                maxDaysToExpiration=maxDaysToExpiration,\n",
    "                deltaRange=putDeltaRange,\n",
    "            )\n",
    "\n",
    "            if putOptionsForDate is not None:\n",
    "                idxMaxBid = putOptionsForDate['bid'].idxmax()\n",
    "                maxBidPut = putOptionsForDate.loc[idxMaxBid]\n",
    "                putPosition = 1\n",
    "                strikePrice = maxBidPut['strike']\n",
    "                expiration = maxBidPut['expiration']\n",
    "                putPremium = maxBidPut['bid'] * 100\n",
    "                cash += putPremium\n",
    "                cashChange = putPremium\n",
    "                action = f\"sell {strikePrice} {expiration} put\"\n",
    "\n",
    "        if stockPosition > 0 and putPosition == 0 and callPosition == 0:\n",
    "            callOptionsForDate = selectOption(\n",
    "                callOptionsForDate,\n",
    "                openPrice,\n",
    "                minDaysToExpiration=minDaysToExpiration,\n",
    "                maxDaysToExpiration=maxDaysToExpiration,\n",
    "                deltaRange=callDeltaRange,\n",
    "            )\n",
    "\n",
    "            if callOptionsForDate is not None:\n",
    "                idxMaxBid = callOptionsForDate['bid'].idxmax()\n",
    "                maxBidCall = callOptionsForDate.loc[idxMaxBid]\n",
    "                callPosition = 1\n",
    "                strikePrice = maxBidCall['strike']\n",
    "                expiration = maxBidCall['expiration']\n",
    "                callPremium = maxBidCall['bid'] * 100\n",
    "                cashChange = callPremium\n",
    "                cash += callPremium\n",
    "                action = f\"sell {strikePrice} {expiration} call\"\n",
    "\n",
    "        portfolioValue = cash + stockPosition * closePrice\n",
    "        tradeLog.append({\n",
    "            \"date\": date,\n",
    "            \"action\": action,\n",
    "            \"putPosition\": putPosition,\n",
    "            \"callPosition\": callPosition,\n",
    "            \"stockPosition\": stockPosition,\n",
    "            \"cashChange\": cashChange,\n",
    "            \"cash\": cash,\n",
    "            \"stockPrice\": closePrice,\n",
    "            \"portfolioValue\": portfolioValue\n",
    "        })\n",
    "\n",
    "    tradeLog = pd.DataFrame(tradeLog)\n",
    "    return tradeLog\n",
    "\n",
    "\n"
   ]
  },
  {
   "cell_type": "code",
   "execution_count": 110,
   "metadata": {},
   "outputs": [
    {
     "data": {
      "text/html": [
       "<div>\n",
       "<style scoped>\n",
       "    .dataframe tbody tr th:only-of-type {\n",
       "        vertical-align: middle;\n",
       "    }\n",
       "\n",
       "    .dataframe tbody tr th {\n",
       "        vertical-align: top;\n",
       "    }\n",
       "\n",
       "    .dataframe thead th {\n",
       "        text-align: right;\n",
       "    }\n",
       "</style>\n",
       "<table border=\"1\" class=\"dataframe\">\n",
       "  <thead>\n",
       "    <tr style=\"text-align: right;\">\n",
       "      <th></th>\n",
       "      <th>date</th>\n",
       "      <th>action</th>\n",
       "      <th>putPosition</th>\n",
       "      <th>callPosition</th>\n",
       "      <th>stockPosition</th>\n",
       "      <th>cashChange</th>\n",
       "      <th>cash</th>\n",
       "      <th>stockPrice</th>\n",
       "      <th>portfolioValue</th>\n",
       "    </tr>\n",
       "  </thead>\n",
       "  <tbody>\n",
       "    <tr>\n",
       "      <th>0</th>\n",
       "      <td>2024-01-03</td>\n",
       "      <td>sell 180.0 2024-02-02 put</td>\n",
       "      <td>1</td>\n",
       "      <td>0</td>\n",
       "      <td>0</td>\n",
       "      <td>284.0</td>\n",
       "      <td>20284.0</td>\n",
       "      <td>183.150391</td>\n",
       "      <td>20284.0</td>\n",
       "    </tr>\n",
       "    <tr>\n",
       "      <th>1</th>\n",
       "      <td>2024-01-05</td>\n",
       "      <td>hold</td>\n",
       "      <td>1</td>\n",
       "      <td>0</td>\n",
       "      <td>0</td>\n",
       "      <td>0.0</td>\n",
       "      <td>20284.0</td>\n",
       "      <td>180.098694</td>\n",
       "      <td>20284.0</td>\n",
       "    </tr>\n",
       "    <tr>\n",
       "      <th>2</th>\n",
       "      <td>2024-01-08</td>\n",
       "      <td>hold</td>\n",
       "      <td>1</td>\n",
       "      <td>0</td>\n",
       "      <td>0</td>\n",
       "      <td>0.0</td>\n",
       "      <td>20284.0</td>\n",
       "      <td>184.452560</td>\n",
       "      <td>20284.0</td>\n",
       "    </tr>\n",
       "    <tr>\n",
       "      <th>3</th>\n",
       "      <td>2024-01-10</td>\n",
       "      <td>hold</td>\n",
       "      <td>1</td>\n",
       "      <td>0</td>\n",
       "      <td>0</td>\n",
       "      <td>0.0</td>\n",
       "      <td>20284.0</td>\n",
       "      <td>185.078796</td>\n",
       "      <td>20284.0</td>\n",
       "    </tr>\n",
       "    <tr>\n",
       "      <th>4</th>\n",
       "      <td>2024-01-12</td>\n",
       "      <td>hold</td>\n",
       "      <td>1</td>\n",
       "      <td>0</td>\n",
       "      <td>0</td>\n",
       "      <td>0.0</td>\n",
       "      <td>20284.0</td>\n",
       "      <td>184.810410</td>\n",
       "      <td>20284.0</td>\n",
       "    </tr>\n",
       "    <tr>\n",
       "      <th>...</th>\n",
       "      <td>...</td>\n",
       "      <td>...</td>\n",
       "      <td>...</td>\n",
       "      <td>...</td>\n",
       "      <td>...</td>\n",
       "      <td>...</td>\n",
       "      <td>...</td>\n",
       "      <td>...</td>\n",
       "      <td>...</td>\n",
       "    </tr>\n",
       "    <tr>\n",
       "      <th>167</th>\n",
       "      <td>2024-12-20</td>\n",
       "      <td>hold</td>\n",
       "      <td>1</td>\n",
       "      <td>0</td>\n",
       "      <td>0</td>\n",
       "      <td>0.0</td>\n",
       "      <td>22812.0</td>\n",
       "      <td>254.210510</td>\n",
       "      <td>22812.0</td>\n",
       "    </tr>\n",
       "    <tr>\n",
       "      <th>168</th>\n",
       "      <td>2024-12-23</td>\n",
       "      <td>hold</td>\n",
       "      <td>1</td>\n",
       "      <td>0</td>\n",
       "      <td>0</td>\n",
       "      <td>0.0</td>\n",
       "      <td>22812.0</td>\n",
       "      <td>254.989655</td>\n",
       "      <td>22812.0</td>\n",
       "    </tr>\n",
       "    <tr>\n",
       "      <th>169</th>\n",
       "      <td>2024-12-24</td>\n",
       "      <td>hold</td>\n",
       "      <td>1</td>\n",
       "      <td>0</td>\n",
       "      <td>0</td>\n",
       "      <td>0.0</td>\n",
       "      <td>22812.0</td>\n",
       "      <td>257.916443</td>\n",
       "      <td>22812.0</td>\n",
       "    </tr>\n",
       "    <tr>\n",
       "      <th>170</th>\n",
       "      <td>2024-12-27</td>\n",
       "      <td>hold</td>\n",
       "      <td>1</td>\n",
       "      <td>0</td>\n",
       "      <td>0</td>\n",
       "      <td>0.0</td>\n",
       "      <td>22812.0</td>\n",
       "      <td>255.309296</td>\n",
       "      <td>22812.0</td>\n",
       "    </tr>\n",
       "    <tr>\n",
       "      <th>171</th>\n",
       "      <td>2024-12-30</td>\n",
       "      <td>hold</td>\n",
       "      <td>1</td>\n",
       "      <td>0</td>\n",
       "      <td>0</td>\n",
       "      <td>0.0</td>\n",
       "      <td>22812.0</td>\n",
       "      <td>251.923019</td>\n",
       "      <td>22812.0</td>\n",
       "    </tr>\n",
       "  </tbody>\n",
       "</table>\n",
       "<p>172 rows × 9 columns</p>\n",
       "</div>"
      ],
      "text/plain": [
       "           date                     action  putPosition  callPosition  \\\n",
       "0    2024-01-03  sell 180.0 2024-02-02 put            1             0   \n",
       "1    2024-01-05                       hold            1             0   \n",
       "2    2024-01-08                       hold            1             0   \n",
       "3    2024-01-10                       hold            1             0   \n",
       "4    2024-01-12                       hold            1             0   \n",
       "..          ...                        ...          ...           ...   \n",
       "167  2024-12-20                       hold            1             0   \n",
       "168  2024-12-23                       hold            1             0   \n",
       "169  2024-12-24                       hold            1             0   \n",
       "170  2024-12-27                       hold            1             0   \n",
       "171  2024-12-30                       hold            1             0   \n",
       "\n",
       "     stockPosition  cashChange     cash  stockPrice  portfolioValue  \n",
       "0                0       284.0  20284.0  183.150391         20284.0  \n",
       "1                0         0.0  20284.0  180.098694         20284.0  \n",
       "2                0         0.0  20284.0  184.452560         20284.0  \n",
       "3                0         0.0  20284.0  185.078796         20284.0  \n",
       "4                0         0.0  20284.0  184.810410         20284.0  \n",
       "..             ...         ...      ...         ...             ...  \n",
       "167              0         0.0  22812.0  254.210510         22812.0  \n",
       "168              0         0.0  22812.0  254.989655         22812.0  \n",
       "169              0         0.0  22812.0  257.916443         22812.0  \n",
       "170              0         0.0  22812.0  255.309296         22812.0  \n",
       "171              0         0.0  22812.0  251.923019         22812.0  \n",
       "\n",
       "[172 rows x 9 columns]"
      ]
     },
     "execution_count": 110,
     "metadata": {},
     "output_type": "execute_result"
    }
   ],
   "source": [
    "tradeLog = testOptionWheel(\n",
    "    appleStockPrices,\n",
    "    appleCalls,\n",
    "    applePuts,\n",
    "    minDaysToExpiration=15,\n",
    "    maxDaysToExpiration=30,\n",
    "    putDeltaRange=(-0.4, -0.2),\n",
    "    callDeltaRange=(0.2, 0.4),\n",
    ")\n",
    "tradeLog"
   ]
  },
  {
   "cell_type": "code",
   "execution_count": 100,
   "metadata": {},
   "outputs": [
    {
     "data": {
      "text/html": [
       "<div>\n",
       "<style scoped>\n",
       "    .dataframe tbody tr th:only-of-type {\n",
       "        vertical-align: middle;\n",
       "    }\n",
       "\n",
       "    .dataframe tbody tr th {\n",
       "        vertical-align: top;\n",
       "    }\n",
       "\n",
       "    .dataframe thead th {\n",
       "        text-align: right;\n",
       "    }\n",
       "</style>\n",
       "<table border=\"1\" class=\"dataframe\">\n",
       "  <thead>\n",
       "    <tr style=\"text-align: right;\">\n",
       "      <th></th>\n",
       "      <th>date</th>\n",
       "      <th>stockPrice</th>\n",
       "      <th>portfolioValue</th>\n",
       "    </tr>\n",
       "  </thead>\n",
       "  <tbody>\n",
       "    <tr>\n",
       "      <th>0</th>\n",
       "      <td>2024-01-03</td>\n",
       "      <td>183.150391</td>\n",
       "      <td>20000.000000</td>\n",
       "    </tr>\n",
       "    <tr>\n",
       "      <th>1</th>\n",
       "      <td>2024-01-05</td>\n",
       "      <td>180.098694</td>\n",
       "      <td>19694.830322</td>\n",
       "    </tr>\n",
       "    <tr>\n",
       "      <th>2</th>\n",
       "      <td>2024-01-08</td>\n",
       "      <td>184.452560</td>\n",
       "      <td>20130.216980</td>\n",
       "    </tr>\n",
       "    <tr>\n",
       "      <th>3</th>\n",
       "      <td>2024-01-10</td>\n",
       "      <td>185.078796</td>\n",
       "      <td>20192.840576</td>\n",
       "    </tr>\n",
       "    <tr>\n",
       "      <th>4</th>\n",
       "      <td>2024-01-12</td>\n",
       "      <td>184.810410</td>\n",
       "      <td>20166.001892</td>\n",
       "    </tr>\n",
       "    <tr>\n",
       "      <th>...</th>\n",
       "      <td>...</td>\n",
       "      <td>...</td>\n",
       "      <td>...</td>\n",
       "    </tr>\n",
       "    <tr>\n",
       "      <th>167</th>\n",
       "      <td>2024-12-20</td>\n",
       "      <td>254.210510</td>\n",
       "      <td>27106.011963</td>\n",
       "    </tr>\n",
       "    <tr>\n",
       "      <th>168</th>\n",
       "      <td>2024-12-23</td>\n",
       "      <td>254.989655</td>\n",
       "      <td>27183.926392</td>\n",
       "    </tr>\n",
       "    <tr>\n",
       "      <th>169</th>\n",
       "      <td>2024-12-24</td>\n",
       "      <td>257.916443</td>\n",
       "      <td>27476.605225</td>\n",
       "    </tr>\n",
       "    <tr>\n",
       "      <th>170</th>\n",
       "      <td>2024-12-27</td>\n",
       "      <td>255.309296</td>\n",
       "      <td>27215.890503</td>\n",
       "    </tr>\n",
       "    <tr>\n",
       "      <th>171</th>\n",
       "      <td>2024-12-30</td>\n",
       "      <td>251.923019</td>\n",
       "      <td>26877.262878</td>\n",
       "    </tr>\n",
       "  </tbody>\n",
       "</table>\n",
       "<p>172 rows × 3 columns</p>\n",
       "</div>"
      ],
      "text/plain": [
       "           date  stockPrice  portfolioValue\n",
       "0    2024-01-03  183.150391    20000.000000\n",
       "1    2024-01-05  180.098694    19694.830322\n",
       "2    2024-01-08  184.452560    20130.216980\n",
       "3    2024-01-10  185.078796    20192.840576\n",
       "4    2024-01-12  184.810410    20166.001892\n",
       "..          ...         ...             ...\n",
       "167  2024-12-20  254.210510    27106.011963\n",
       "168  2024-12-23  254.989655    27183.926392\n",
       "169  2024-12-24  257.916443    27476.605225\n",
       "170  2024-12-27  255.309296    27215.890503\n",
       "171  2024-12-30  251.923019    26877.262878\n",
       "\n",
       "[172 rows x 3 columns]"
      ]
     },
     "execution_count": 100,
     "metadata": {},
     "output_type": "execute_result"
    }
   ],
   "source": [
    "justHold100Stocks = tradeLog[[\"date\", \"stockPrice\"]].copy()\n",
    "day1Cash = 20_000 - 100 * justHold100Stocks[\"stockPrice\"].iloc[0]\n",
    "justHold100Stocks[\"portfolioValue\"] = justHold100Stocks[\"stockPrice\"] * 100 + day1Cash\n",
    "justHold100Stocks"
   ]
  },
  {
   "cell_type": "code",
   "execution_count": null,
   "metadata": {},
   "outputs": [
    {
     "data": {
      "image/png": "[encoded data removed]",
      "text/plain": [
       "<Figure size 1200x600 with 1 Axes>"
      ]
     },
     "metadata": {},
     "output_type": "display_data"
    }
   ],
   "source": [
    "# plot portfolio values of both strategies\n",
    "plt.figure(figsize=(12, 6))\n",
    "plt.plot(tradeLog['date'], tradeLog['portfolioValue'], label='Portfolio Value with Options')\n",
    "plt.plot(justHold100Stocks['date'], justHold100Stocks['portfolioValue'], label='Portfolio Value with 100 Stocks')\n",
    "plt.xlabel('Date')\n",
    "plt.ylabel('Portfolio Value')\n",
    "plt.title('Portfolio Value Comparison')\n",
    "plt.legend()\n",
    "plt.xticks(rotation=45)\n",
    "plt.grid()"
   ]
  },
  {
   "cell_type": "code",
   "execution_count": 120,
   "metadata": {},
   "outputs": [
    {
     "data": {
      "application/vnd.plotly.v1+json": {
       "config": {
        "plotlyServerURL": "https://plot.ly"
       },
       "data": [
        {
         "customdata": [
          [
           "(-0.7, -0.6)",
           "(0.2, 0.3)"
          ],
          [
           "(-0.7, -0.6)",
           "(0.2, 0.3)"
          ],
          [
           "(-0.7, -0.6)",
           "(0.2, 0.3)"
          ],
          [
           "(-0.7, -0.6)",
           "(0.2, 0.3)"
          ],
          [
           "(-0.7, -0.6)",
           "(0.2, 0.3)"
          ],
          [
           "(-0.7, -0.6)",
           "(0.2, 0.3)"
          ],
          [
           "(-0.7, -0.6)",
           "(0.2, 0.3)"
          ],
          [
           "(-0.7, -0.6)",
           "(0.2, 0.3)"
          ],
          [
           "(-0.7, -0.6)",
           "(0.2, 0.3)"
          ],
          [
           "(-0.7, -0.6)",
           "(0.2, 0.3)"
          ],
          [
           "(-0.7, -0.6)",
           "(0.2, 0.3)"
          ],
          [
           "(-0.7, -0.6)",
           "(0.2, 0.3)"
          ],
          [
           "(-0.7, -0.6)",
           "(0.2, 0.3)"
          ],
          [
           "(-0.7, -0.6)",
           "(0.2, 0.3)"
          ],
          [
           "(-0.7, -0.6)",
           "(0.2, 0.3)"
          ],
          [
           "(-0.7, -0.6)",
           "(0.2, 0.3)"
          ],
          [
           "(-0.7, -0.6)",
           "(0.2, 0.3)"
          ],
          [
           "(-0.7, -0.6)",
           "(0.2, 0.3)"
          ],
          [
           "(-0.7, -0.6)",
           "(0.2, 0.3)"
          ],
          [
           "(-0.7, -0.6)",
           "(0.2, 0.3)"
          ],
          [
           "(-0.7, -0.6)",
           "(0.2, 0.3)"
          ],
          [
           "(-0.7, -0.6)",
           "(0.2, 0.3)"
          ],
          [
           "(-0.7, -0.6)",
           "(0.2, 0.3)"
          ],
          [
           "(-0.7, -0.6)",
           "(0.2, 0.3)"
          ],
          [
           "(-0.7, -0.6)",
           "(0.2, 0.3)"
          ],
          [
           "(-0.7, -0.6)",
           "(0.2, 0.3)"
          ],
          [
           "(-0.7, -0.6)",
           "(0.2, 0.3)"
          ],
          [
           "(-0.7, -0.6)",
           "(0.2, 0.3)"
          ],
          [
           "(-0.7, -0.6)",
           "(0.2, 0.3)"
          ],
          [
           "(-0.7, -0.6)",
           "(0.2, 0.3)"
          ],
          [
           "(-0.7, -0.6)",
           "(0.2, 0.3)"
          ],
          [
           "(-0.7, -0.6)",
           "(0.2, 0.3)"
          ],
          [
           "(-0.7, -0.6)",
           "(0.2, 0.3)"
          ],
          [
           "(-0.7, -0.6)",
           "(0.2, 0.3)"
          ],
          [
           "(-0.7, -0.6)",
           "(0.2, 0.3)"
          ],
          [
           "(-0.7, -0.6)",
           "(0.2, 0.3)"
          ],
          [
           "(-0.7, -0.6)",
           "(0.2, 0.3)"
          ],
          [
           "(-0.7, -0.6)",
           "(0.2, 0.3)"
          ],
          [
           "(-0.7, -0.6)",
           "(0.2, 0.3)"
          ],
          [
           "(-0.7, -0.6)",
           "(0.2, 0.3)"
          ],
          [
           "(-0.7, -0.6)",
           "(0.2, 0.3)"
          ],
          [
           "(-0.7, -0.6)",
           "(0.2, 0.3)"
          ],
          [
           "(-0.7, -0.6)",
           "(0.2, 0.3)"
          ],
          [
           "(-0.7, -0.6)",
           "(0.2, 0.3)"
          ],
          [
           "(-0.7, -0.6)",
           "(0.2, 0.3)"
          ],
          [
           "(-0.7, -0.6)",
           "(0.2, 0.3)"
          ],
          [
           "(-0.7, -0.6)",
           "(0.2, 0.3)"
          ],
          [
           "(-0.7, -0.6)",
           "(0.2, 0.3)"
          ],
          [
           "(-0.7, -0.6)",
           "(0.2, 0.3)"
          ],
          [
           "(-0.7, -0.6)",
           "(0.2, 0.3)"
          ],
          [
           "(-0.7, -0.6)",
           "(0.2, 0.3)"
          ],
          [
           "(-0.7, -0.6)",
           "(0.2, 0.3)"
          ],
          [
           "(-0.7, -0.6)",
           "(0.2, 0.3)"
          ],
          [
           "(-0.7, -0.6)",
           "(0.2, 0.3)"
          ],
          [
           "(-0.7, -0.6)",
           "(0.2, 0.3)"
          ],
          [
           "(-0.7, -0.6)",
           "(0.2, 0.3)"
          ],
          [
           "(-0.7, -0.6)",
           "(0.2, 0.3)"
          ],
          [
           "(-0.7, -0.6)",
           "(0.2, 0.3)"
          ],
          [
           "(-0.7, -0.6)",
           "(0.2, 0.3)"
          ],
          [
           "(-0.7, -0.6)",
           "(0.2, 0.3)"
          ],
          [
           "(-0.7, -0.6)",
           "(0.2, 0.3)"
          ],
          [
           "(-0.7, -0.6)",
           "(0.2, 0.3)"
          ],
          [
           "(-0.7, -0.6)",
           "(0.2, 0.3)"
          ],
          [
           "(-0.7, -0.6)",
           "(0.2, 0.3)"
          ],
          [
           "(-0.7, -0.6)",
           "(0.2, 0.3)"
          ],
          [
           "(-0.7, -0.6)",
           "(0.2, 0.3)"
          ],
          [
           "(-0.7, -0.6)",
           "(0.2, 0.3)"
          ],
          [
           "(-0.7, -0.6)",
           "(0.2, 0.3)"
          ],
          [
           "(-0.7, -0.6)",
           "(0.2, 0.3)"
          ],
          [
           "(-0.7, -0.6)",
           "(0.2, 0.3)"
          ],
          [
           "(-0.7, -0.6)",
           "(0.2, 0.3)"
          ],
          [
           "(-0.7, -0.6)",
           "(0.2, 0.3)"
          ],
          [
           "(-0.7, -0.6)",
           "(0.2, 0.3)"
          ],
          [
           "(-0.7, -0.6)",
           "(0.2, 0.3)"
          ],
          [
           "(-0.7, -0.6)",
           "(0.2, 0.3)"
          ],
          [
           "(-0.7, -0.6)",
           "(0.2, 0.3)"
          ],
          [
           "(-0.7, -0.6)",
           "(0.2, 0.3)"
          ],
          [
           "(-0.7, -0.6)",
           "(0.2, 0.3)"
          ],
          [
           "(-0.7, -0.6)",
           "(0.2, 0.3)"
          ],
          [
           "(-0.7, -0.6)",
           "(0.2, 0.3)"
          ],
          [
           "(-0.7, -0.6)",
           "(0.2, 0.3)"
          ],
          [
           "(-0.7, -0.6)",
           "(0.2, 0.3)"
          ],
          [
           "(-0.7, -0.6)",
           "(0.2, 0.3)"
          ],
          [
           "(-0.7, -0.6)",
           "(0.2, 0.3)"
          ],
          [
           "(-0.7, -0.6)",
           "(0.2, 0.3)"
          ],
          [
           "(-0.7, -0.6)",
           "(0.2, 0.3)"
          ],
          [
           "(-0.7, -0.6)",
           "(0.2, 0.3)"
          ],
          [
           "(-0.7, -0.6)",
           "(0.2, 0.3)"
          ],
          [
           "(-0.7, -0.6)",
           "(0.2, 0.3)"
          ],
          [
           "(-0.7, -0.6)",
           "(0.2, 0.3)"
          ],
          [
           "(-0.7, -0.6)",
           "(0.2, 0.3)"
          ],
          [
           "(-0.7, -0.6)",
           "(0.2, 0.3)"
          ],
          [
           "(-0.7, -0.6)",
           "(0.2, 0.3)"
          ],
          [
           "(-0.7, -0.6)",
           "(0.2, 0.3)"
          ],
          [
           "(-0.7, -0.6)",
           "(0.2, 0.3)"
          ],
          [
           "(-0.7, -0.6)",
           "(0.2, 0.3)"
          ],
          [
           "(-0.7, -0.6)",
           "(0.2, 0.3)"
          ],
          [
           "(-0.7, -0.6)",
           "(0.2, 0.3)"
          ],
          [
           "(-0.7, -0.6)",
           "(0.2, 0.3)"
          ],
          [
           "(-0.7, -0.6)",
           "(0.2, 0.3)"
          ],
          [
           "(-0.7, -0.6)",
           "(0.2, 0.3)"
          ],
          [
           "(-0.7, -0.6)",
           "(0.2, 0.3)"
          ],
          [
           "(-0.7, -0.6)",
           "(0.2, 0.3)"
          ],
          [
           "(-0.7, -0.6)",
           "(0.2, 0.3)"
          ],
          [
           "(-0.7, -0.6)",
           "(0.2, 0.3)"
          ],
          [
           "(-0.7, -0.6)",
           "(0.2, 0.3)"
          ],
          [
           "(-0.7, -0.6)",
           "(0.2, 0.3)"
          ],
          [
           "(-0.7, -0.6)",
           "(0.2, 0.3)"
          ],
          [
           "(-0.7, -0.6)",
           "(0.2, 0.3)"
          ],
          [
           "(-0.7, -0.6)",
           "(0.2, 0.3)"
          ],
          [
           "(-0.7, -0.6)",
           "(0.2, 0.3)"
          ],
          [
           "(-0.7, -0.6)",
           "(0.2, 0.3)"
          ],
          [
           "(-0.7, -0.6)",
           "(0.2, 0.3)"
          ],
          [
           "(-0.7, -0.6)",
           "(0.2, 0.3)"
          ],
          [
           "(-0.7, -0.6)",
           "(0.2, 0.3)"
          ],
          [
           "(-0.7, -0.6)",
           "(0.2, 0.3)"
          ],
          [
           "(-0.7, -0.6)",
           "(0.2, 0.3)"
          ],
          [
           "(-0.7, -0.6)",
           "(0.2, 0.3)"
          ],
          [
           "(-0.7, -0.6)",
           "(0.2, 0.3)"
          ],
          [
           "(-0.7, -0.6)",
           "(0.2, 0.3)"
          ],
          [
           "(-0.7, -0.6)",
           "(0.2, 0.3)"
          ],
          [
           "(-0.7, -0.6)",
           "(0.2, 0.3)"
          ],
          [
           "(-0.7, -0.6)",
           "(0.2, 0.3)"
          ],
          [
           "(-0.7, -0.6)",
           "(0.2, 0.3)"
          ],
          [
           "(-0.7, -0.6)",
           "(0.2, 0.3)"
          ],
          [
           "(-0.7, -0.6)",
           "(0.2, 0.3)"
          ],
          [
           "(-0.7, -0.6)",
           "(0.2, 0.3)"
          ],
          [
           "(-0.7, -0.6)",
           "(0.2, 0.3)"
          ],
          [
           "(-0.7, -0.6)",
           "(0.2, 0.3)"
          ],
          [
           "(-0.7, -0.6)",
           "(0.2, 0.3)"
          ],
          [
           "(-0.7, -0.6)",
           "(0.2, 0.3)"
          ],
          [
           "(-0.7, -0.6)",
           "(0.2, 0.3)"
          ],
          [
           "(-0.7, -0.6)",
           "(0.2, 0.3)"
          ],
          [
           "(-0.7, -0.6)",
           "(0.2, 0.3)"
          ],
          [
           "(-0.7, -0.6)",
           "(0.2, 0.3)"
          ],
          [
           "(-0.7, -0.6)",
           "(0.2, 0.3)"
          ],
          [
           "(-0.7, -0.6)",
           "(0.2, 0.3)"
          ],
          [
           "(-0.7, -0.6)",
           "(0.2, 0.3)"
          ],
          [
           "(-0.7, -0.6)",
           "(0.2, 0.3)"
          ],
          [
           "(-0.7, -0.6)",
           "(0.2, 0.3)"
          ],
          [
           "(-0.7, -0.6)",
           "(0.2, 0.3)"
          ],
          [
           "(-0.7, -0.6)",
           "(0.2, 0.3)"
          ],
          [
           "(-0.7, -0.6)",
           "(0.2, 0.3)"
          ],
          [
           "(-0.7, -0.6)",
           "(0.2, 0.3)"
          ],
          [
           "(-0.7, -0.6)",
           "(0.2, 0.3)"
          ],
          [
           "(-0.7, -0.6)",
           "(0.2, 0.3)"
          ],
          [
           "(-0.7, -0.6)",
           "(0.2, 0.3)"
          ],
          [
           "(-0.7, -0.6)",
           "(0.2, 0.3)"
          ],
          [
           "(-0.7, -0.6)",
           "(0.2, 0.3)"
          ],
          [
           "(-0.7, -0.6)",
           "(0.2, 0.3)"
          ],
          [
           "(-0.7, -0.6)",
           "(0.2, 0.3)"
          ],
          [
           "(-0.7, -0.6)",
           "(0.2, 0.3)"
          ],
          [
           "(-0.7, -0.6)",
           "(0.2, 0.3)"
          ],
          [
           "(-0.7, -0.6)",
           "(0.2, 0.3)"
          ],
          [
           "(-0.7, -0.6)",
           "(0.2, 0.3)"
          ],
          [
           "(-0.7, -0.6)",
           "(0.2, 0.3)"
          ],
          [
           "(-0.7, -0.6)",
           "(0.2, 0.3)"
          ],
          [
           "(-0.7, -0.6)",
           "(0.2, 0.3)"
          ],
          [
           "(-0.7, -0.6)",
           "(0.2, 0.3)"
          ],
          [
           "(-0.7, -0.6)",
           "(0.2, 0.3)"
          ],
          [
           "(-0.7, -0.6)",
           "(0.2, 0.3)"
          ],
          [
           "(-0.7, -0.6)",
           "(0.2, 0.3)"
          ],
          [
           "(-0.7, -0.6)",
           "(0.2, 0.3)"
          ],
          [
           "(-0.7, -0.6)",
           "(0.2, 0.3)"
          ],
          [
           "(-0.7, -0.6)",
           "(0.2, 0.3)"
          ],
          [
           "(-0.7, -0.6)",
           "(0.2, 0.3)"
          ],
          [
           "(-0.7, -0.6)",
           "(0.2, 0.3)"
          ],
          [
           "(-0.7, -0.6)",
           "(0.2, 0.3)"
          ],
          [
           "(-0.7, -0.6)",
           "(0.2, 0.3)"
          ],
          [
           "(-0.7, -0.6)",
           "(0.2, 0.3)"
          ],
          [
           "(-0.7, -0.6)",
           "(0.2, 0.3)"
          ],
          [
           "(-0.7, -0.6)",
           "(0.2, 0.3)"
          ]
         ],
         "hovertemplate": "<b>Date:</b> %{x}<br><b>Portfolio Value:</b> %{y}<br><b>Put Delta Range:</b> %{customdata[0]}<br><b>Call Delta Range:</b> %{customdata[1]}",
         "legendgroup": "Put: (-0.7, -0.6), Call: (0.2, 0.3)",
         "line": {
          "color": "#636efa",
          "dash": "solid"
         },
         "marker": {
          "symbol": "circle"
         },
         "mode": "lines",
         "name": "Put: (-0.7, -0.6), Call: (0.2, 0.3)",
         "showlegend": true,
         "type": "scattergl",
         "x": [
          "2024-01-03",
          "2024-01-05",
          "2024-01-08",
          "2024-01-10",
          "2024-01-12",
          "2024-01-17",
          "2024-01-19",
          "2024-01-22",
          "2024-01-24",
          "2024-01-26",
          "2024-01-29",
          "2024-01-31",
          "2024-02-02",
          "2024-02-05",
          "2024-02-07",
          "2024-02-09",
          "2024-02-12",
          "2024-02-14",
          "2024-02-16",
          "2024-02-21",
          "2024-02-23",
          "2024-02-26",
          "2024-02-28",
          "2024-03-01",
          "2024-03-04",
          "2024-03-06",
          "2024-03-08",
          "2024-03-11",
          "2024-03-13",
          "2024-03-15",
          "2024-03-18",
          "2024-03-20",
          "2024-03-22",
          "2024-03-25",
          "2024-03-27",
          "2024-04-01",
          "2024-04-03",
          "2024-04-05",
          "2024-04-08",
          "2024-04-10",
          "2024-04-12",
          "2024-04-15",
          "2024-04-17",
          "2024-04-19",
          "2024-04-22",
          "2024-04-24",
          "2024-04-26",
          "2024-04-29",
          "2024-05-01",
          "2024-05-03",
          "2024-05-06",
          "2024-05-08",
          "2024-05-10",
          "2024-05-13",
          "2024-05-15",
          "2024-05-17",
          "2024-05-20",
          "2024-05-22",
          "2024-05-24",
          "2024-05-29",
          "2024-05-31",
          "2024-06-03",
          "2024-06-05",
          "2024-06-07",
          "2024-06-10",
          "2024-06-12",
          "2024-06-14",
          "2024-06-17",
          "2024-06-21",
          "2024-06-24",
          "2024-06-26",
          "2024-06-28",
          "2024-07-01",
          "2024-07-03",
          "2024-07-05",
          "2024-07-08",
          "2024-07-10",
          "2024-07-12",
          "2024-07-15",
          "2024-07-17",
          "2024-07-19",
          "2024-07-22",
          "2024-07-24",
          "2024-07-26",
          "2024-07-29",
          "2024-08-12",
          "2024-08-14",
          "2024-08-16",
          "2024-08-19",
          "2024-08-21",
          "2024-08-23",
          "2024-08-26",
          "2024-08-28",
          "2024-08-30",
          "2024-09-04",
          "2024-09-06",
          "2024-09-09",
          "2024-09-11",
          "2024-09-12",
          "2024-09-13",
          "2024-09-16",
          "2024-09-17",
          "2024-09-18",
          "2024-09-19",
          "2024-09-20",
          "2024-09-23",
          "2024-09-24",
          "2024-09-25",
          "2024-09-26",
          "2024-09-27",
          "2024-09-30",
          "2024-10-01",
          "2024-10-02",
          "2024-10-03",
          "2024-10-04",
          "2024-10-07",
          "2024-10-08",
          "2024-10-09",
          "2024-10-10",
          "2024-10-11",
          "2024-10-14",
          "2024-10-15",
          "2024-10-16",
          "2024-10-17",
          "2024-10-18",
          "2024-10-21",
          "2024-10-22",
          "2024-10-23",
          "2024-10-24",
          "2024-10-25",
          "2024-10-28",
          "2024-10-29",
          "2024-10-30",
          "2024-10-31",
          "2024-11-01",
          "2024-11-04",
          "2024-11-05",
          "2024-11-06",
          "2024-11-07",
          "2024-11-08",
          "2024-11-11",
          "2024-11-13",
          "2024-11-14",
          "2024-11-15",
          "2024-11-18",
          "2024-11-19",
          "2024-11-20",
          "2024-11-21",
          "2024-11-22",
          "2024-11-25",
          "2024-11-26",
          "2024-11-27",
          "2024-11-29",
          "2024-12-02",
          "2024-12-03",
          "2024-12-04",
          "2024-12-05",
          "2024-12-06",
          "2024-12-09",
          "2024-12-10",
          "2024-12-11",
          "2024-12-12",
          "2024-12-13",
          "2024-12-16",
          "2024-12-17",
          "2024-12-18",
          "2024-12-19",
          "2024-12-20",
          "2024-12-23",
          "2024-12-24",
          "2024-12-27",
          "2024-12-30"
         ],
         "xaxis": "x",
         "y": {
          "bdata": "AAAAAEBC1EAAAAAAQELUQAAAAABAQtRAAAAAAEBC1EAAAAAAQELUQAAAAABAQtRAAAAAAEBC1EAAAAAAQELUQAAAAABAQtRAAAAAAEBC1EAAAAAAQELUQAAAAABAQtRAAAAAAEBC1ED///9lfw7UQAAAAHR9OdRAAAAA3Y8x1ED////bQgfUQAAAABidvNNAAQAAltSO00AAAABbFI/TQAAAAC8OlNNA////GDdy00AAAABAr3jTQAAAAECveNNAAAAAcG3b0kAAAABAIWjSQAAAANEwkNJAAAAAAXTC0kAAAADdJJrSQAAAAPo3v9JAAAAA6Zba0kAAAAD3wVXTQAAAAPfBVdNAAAAAXm230kAAAAAxo/TSQAAAANUFo9JAAAAAU5GZ0kAAAABt05fSQAAAAHq1e9JAAAAAgglr0kAAAADEQUXTQAAAAOA15dJAAAAA+YJw0kAAAAD5gnDSQAAAAMuDY9JAAAAAPaSy0kAAAADum7nSQAAAAHIdItNAAAAA7pu50kAAAABo9BfUQAEAALZm7tNAAAAAvwcI1EAAAAC06xXUQAEAAIlmZtRA/v//0Ry81ED+///RHLzUQAAAAACA5dNAAAAAAIDl00AAAAAAgOXTQAAAAACA5dNAAAAAAIDl00AAAAAAgOXTQAAAAACA5dNAAAAAAIDl00AAAAAAgOXTQAAAAACA5dNAAAAAAIDl00AAAAAAgOXTQAAAAACA5dNAAAAAAMB81EAAAAAAwHzUQAAAAADAfNRAAAAAAMB81EAAAAAAwHzUQAAAAADAfNRAAAAAAMB81EAAAAAAwHzUQAAAAADAfNRAAAAAAMB81EAAAAAAwHzUQAAAAADAfNRAAAAAAIBm1UAAAAAAgGbVQAAAAACAZtVAAAAAAIBm1UAAAAAAgGbVQAAAAACAZtVAAAAAAIBm1UAAAAAx2RzVQAAAAO6RKdVAAAAAy4s01UD////7Bj3VQP///7vQK9VA/v//cW1q1UABAAAJIJ/UQAAAAIhgntRAAAAAJJ+g1EAAAACIRszUQP////gEz9RA////+ATP1EABAAC3n2XUQP////tYcdRAAAAAQqLS1EAAAABFr57VQAAAAKj4jdVAAAAAANFi1UAAAABdRHnVQAAAAG1SYNVA////RQJ91UAAAABlvoPVQAAAAEu1BdZAAAAAv1Rc1UAAAACwjGrVQAEAADbcTtVAAAAAbAxr1UD+//8xlOvUQAAAAOJaUdVAAAAA4mWv1UD////p7KLVQP///+nsotVAAAAAAMA71kAAAAAAwDvWQAAAAADAO9ZAAAAAAMA71kAAAAAAwDvWQAAAAADAO9ZAAAAAAMA71kAAAAAAwDvWQAAAAADAO9ZAAAAAAMA71kAAAAAAwDvWQAAAAADAO9ZAAAAAAMA71kAAAAAAwDvWQAAAAADAO9ZAAAAAAMA71kAAAAAAwDvWQAAAAADAO9ZAAAAAAMA71kAAAAAAwDvWQP///+VXq9RAAAAApZHq1EAAAADo+zfVQAAAAHWS59RAAAAAS/0y1UD///9meznVQAAAAFV2S9VA////xnk/1UAAAAA/MGHVQP///yYbrNVAAAAAvcvi1UAAAACvjN/VQP///9h7G9ZAAAAA5etT1kAAAABlVqDWQP///9tTqdZAAAAAqBOq1kAAAAALFaXWQAAAAKC5BtdAAAAAbTIg10AAAABrOwDXQAAAACzxJNdAAAAALPEk10AAAAAAgIHWQAAAAACAgdZAAAAAAICB1kAAAAAAgIHWQAAAAACAgdZAAAAAAICB1kAAAAAAgIHWQAAAAACAgdZAAAAAAICB1kA=",
          "dtype": "f8"
         },
         "yaxis": "y"
        },
        {
         "customdata": [
          [
           "(-0.7, -0.6)",
           "(0.3, 0.4)"
          ],
          [
           "(-0.7, -0.6)",
           "(0.3, 0.4)"
          ],
          [
           "(-0.7, -0.6)",
           "(0.3, 0.4)"
          ],
          [
           "(-0.7, -0.6)",
           "(0.3, 0.4)"
          ],
          [
           "(-0.7, -0.6)",
           "(0.3, 0.4)"
          ],
          [
           "(-0.7, -0.6)",
           "(0.3, 0.4)"
          ],
          [
           "(-0.7, -0.6)",
           "(0.3, 0.4)"
          ],
          [
           "(-0.7, -0.6)",
           "(0.3, 0.4)"
          ],
          [
           "(-0.7, -0.6)",
           "(0.3, 0.4)"
          ],
          [
           "(-0.7, -0.6)",
           "(0.3, 0.4)"
          ],
          [
           "(-0.7, -0.6)",
           "(0.3, 0.4)"
          ],
          [
           "(-0.7, -0.6)",
           "(0.3, 0.4)"
          ],
          [
           "(-0.7, -0.6)",
           "(0.3, 0.4)"
          ],
          [
           "(-0.7, -0.6)",
           "(0.3, 0.4)"
          ],
          [
           "(-0.7, -0.6)",
           "(0.3, 0.4)"
          ],
          [
           "(-0.7, -0.6)",
           "(0.3, 0.4)"
          ],
          [
           "(-0.7, -0.6)",
           "(0.3, 0.4)"
          ],
          [
           "(-0.7, -0.6)",
           "(0.3, 0.4)"
          ],
          [
           "(-0.7, -0.6)",
           "(0.3, 0.4)"
          ],
          [
           "(-0.7, -0.6)",
           "(0.3, 0.4)"
          ],
          [
           "(-0.7, -0.6)",
           "(0.3, 0.4)"
          ],
          [
           "(-0.7, -0.6)",
           "(0.3, 0.4)"
          ],
          [
           "(-0.7, -0.6)",
           "(0.3, 0.4)"
          ],
          [
           "(-0.7, -0.6)",
           "(0.3, 0.4)"
          ],
          [
           "(-0.7, -0.6)",
           "(0.3, 0.4)"
          ],
          [
           "(-0.7, -0.6)",
           "(0.3, 0.4)"
          ],
          [
           "(-0.7, -0.6)",
           "(0.3, 0.4)"
          ],
          [
           "(-0.7, -0.6)",
           "(0.3, 0.4)"
          ],
          [
           "(-0.7, -0.6)",
           "(0.3, 0.4)"
          ],
          [
           "(-0.7, -0.6)",
           "(0.3, 0.4)"
          ],
          [
           "(-0.7, -0.6)",
           "(0.3, 0.4)"
          ],
          [
           "(-0.7, -0.6)",
           "(0.3, 0.4)"
          ],
          [
           "(-0.7, -0.6)",
           "(0.3, 0.4)"
          ],
          [
           "(-0.7, -0.6)",
           "(0.3, 0.4)"
          ],
          [
           "(-0.7, -0.6)",
           "(0.3, 0.4)"
          ],
          [
           "(-0.7, -0.6)",
           "(0.3, 0.4)"
          ],
          [
           "(-0.7, -0.6)",
           "(0.3, 0.4)"
          ],
          [
           "(-0.7, -0.6)",
           "(0.3, 0.4)"
          ],
          [
           "(-0.7, -0.6)",
           "(0.3, 0.4)"
          ],
          [
           "(-0.7, -0.6)",
           "(0.3, 0.4)"
          ],
          [
           "(-0.7, -0.6)",
           "(0.3, 0.4)"
          ],
          [
           "(-0.7, -0.6)",
           "(0.3, 0.4)"
          ],
          [
           "(-0.7, -0.6)",
           "(0.3, 0.4)"
          ],
          [
           "(-0.7, -0.6)",
           "(0.3, 0.4)"
          ],
          [
           "(-0.7, -0.6)",
           "(0.3, 0.4)"
          ],
          [
           "(-0.7, -0.6)",
           "(0.3, 0.4)"
          ],
          [
           "(-0.7, -0.6)",
           "(0.3, 0.4)"
          ],
          [
           "(-0.7, -0.6)",
           "(0.3, 0.4)"
          ],
          [
           "(-0.7, -0.6)",
           "(0.3, 0.4)"
          ],
          [
           "(-0.7, -0.6)",
           "(0.3, 0.4)"
          ],
          [
           "(-0.7, -0.6)",
           "(0.3, 0.4)"
          ],
          [
           "(-0.7, -0.6)",
           "(0.3, 0.4)"
          ],
          [
           "(-0.7, -0.6)",
           "(0.3, 0.4)"
          ],
          [
           "(-0.7, -0.6)",
           "(0.3, 0.4)"
          ],
          [
           "(-0.7, -0.6)",
           "(0.3, 0.4)"
          ],
          [
           "(-0.7, -0.6)",
           "(0.3, 0.4)"
          ],
          [
           "(-0.7, -0.6)",
           "(0.3, 0.4)"
          ],
          [
           "(-0.7, -0.6)",
           "(0.3, 0.4)"
          ],
          [
           "(-0.7, -0.6)",
           "(0.3, 0.4)"
          ],
          [
           "(-0.7, -0.6)",
           "(0.3, 0.4)"
          ],
          [
           "(-0.7, -0.6)",
           "(0.3, 0.4)"
          ],
          [
           "(-0.7, -0.6)",
           "(0.3, 0.4)"
          ],
          [
           "(-0.7, -0.6)",
           "(0.3, 0.4)"
          ],
          [
           "(-0.7, -0.6)",
           "(0.3, 0.4)"
          ],
          [
           "(-0.7, -0.6)",
           "(0.3, 0.4)"
          ],
          [
           "(-0.7, -0.6)",
           "(0.3, 0.4)"
          ],
          [
           "(-0.7, -0.6)",
           "(0.3, 0.4)"
          ],
          [
           "(-0.7, -0.6)",
           "(0.3, 0.4)"
          ],
          [
           "(-0.7, -0.6)",
           "(0.3, 0.4)"
          ],
          [
           "(-0.7, -0.6)",
           "(0.3, 0.4)"
          ],
          [
           "(-0.7, -0.6)",
           "(0.3, 0.4)"
          ],
          [
           "(-0.7, -0.6)",
           "(0.3, 0.4)"
          ],
          [
           "(-0.7, -0.6)",
           "(0.3, 0.4)"
          ],
          [
           "(-0.7, -0.6)",
           "(0.3, 0.4)"
          ],
          [
           "(-0.7, -0.6)",
           "(0.3, 0.4)"
          ],
          [
           "(-0.7, -0.6)",
           "(0.3, 0.4)"
          ],
          [
           "(-0.7, -0.6)",
           "(0.3, 0.4)"
          ],
          [
           "(-0.7, -0.6)",
           "(0.3, 0.4)"
          ],
          [
           "(-0.7, -0.6)",
           "(0.3, 0.4)"
          ],
          [
           "(-0.7, -0.6)",
           "(0.3, 0.4)"
          ],
          [
           "(-0.7, -0.6)",
           "(0.3, 0.4)"
          ],
          [
           "(-0.7, -0.6)",
           "(0.3, 0.4)"
          ],
          [
           "(-0.7, -0.6)",
           "(0.3, 0.4)"
          ],
          [
           "(-0.7, -0.6)",
           "(0.3, 0.4)"
          ],
          [
           "(-0.7, -0.6)",
           "(0.3, 0.4)"
          ],
          [
           "(-0.7, -0.6)",
           "(0.3, 0.4)"
          ],
          [
           "(-0.7, -0.6)",
           "(0.3, 0.4)"
          ],
          [
           "(-0.7, -0.6)",
           "(0.3, 0.4)"
          ],
          [
           "(-0.7, -0.6)",
           "(0.3, 0.4)"
          ],
          [
           "(-0.7, -0.6)",
           "(0.3, 0.4)"
          ],
          [
           "(-0.7, -0.6)",
           "(0.3, 0.4)"
          ],
          [
           "(-0.7, -0.6)",
           "(0.3, 0.4)"
          ],
          [
           "(-0.7, -0.6)",
           "(0.3, 0.4)"
          ],
          [
           "(-0.7, -0.6)",
           "(0.3, 0.4)"
          ],
          [
           "(-0.7, -0.6)",
           "(0.3, 0.4)"
          ],
          [
           "(-0.7, -0.6)",
           "(0.3, 0.4)"
          ],
          [
           "(-0.7, -0.6)",
           "(0.3, 0.4)"
          ],
          [
           "(-0.7, -0.6)",
           "(0.3, 0.4)"
          ],
          [
           "(-0.7, -0.6)",
           "(0.3, 0.4)"
          ],
          [
           "(-0.7, -0.6)",
           "(0.3, 0.4)"
          ],
          [
           "(-0.7, -0.6)",
           "(0.3, 0.4)"
          ],
          [
           "(-0.7, -0.6)",
           "(0.3, 0.4)"
          ],
          [
           "(-0.7, -0.6)",
           "(0.3, 0.4)"
          ],
          [
           "(-0.7, -0.6)",
           "(0.3, 0.4)"
          ],
          [
           "(-0.7, -0.6)",
           "(0.3, 0.4)"
          ],
          [
           "(-0.7, -0.6)",
           "(0.3, 0.4)"
          ],
          [
           "(-0.7, -0.6)",
           "(0.3, 0.4)"
          ],
          [
           "(-0.7, -0.6)",
           "(0.3, 0.4)"
          ],
          [
           "(-0.7, -0.6)",
           "(0.3, 0.4)"
          ],
          [
           "(-0.7, -0.6)",
           "(0.3, 0.4)"
          ],
          [
           "(-0.7, -0.6)",
           "(0.3, 0.4)"
          ],
          [
           "(-0.7, -0.6)",
           "(0.3, 0.4)"
          ],
          [
           "(-0.7, -0.6)",
           "(0.3, 0.4)"
          ],
          [
           "(-0.7, -0.6)",
           "(0.3, 0.4)"
          ],
          [
           "(-0.7, -0.6)",
           "(0.3, 0.4)"
          ],
          [
           "(-0.7, -0.6)",
           "(0.3, 0.4)"
          ],
          [
           "(-0.7, -0.6)",
           "(0.3, 0.4)"
          ],
          [
           "(-0.7, -0.6)",
           "(0.3, 0.4)"
          ],
          [
           "(-0.7, -0.6)",
           "(0.3, 0.4)"
          ],
          [
           "(-0.7, -0.6)",
           "(0.3, 0.4)"
          ],
          [
           "(-0.7, -0.6)",
           "(0.3, 0.4)"
          ],
          [
           "(-0.7, -0.6)",
           "(0.3, 0.4)"
          ],
          [
           "(-0.7, -0.6)",
           "(0.3, 0.4)"
          ],
          [
           "(-0.7, -0.6)",
           "(0.3, 0.4)"
          ],
          [
           "(-0.7, -0.6)",
           "(0.3, 0.4)"
          ],
          [
           "(-0.7, -0.6)",
           "(0.3, 0.4)"
          ],
          [
           "(-0.7, -0.6)",
           "(0.3, 0.4)"
          ],
          [
           "(-0.7, -0.6)",
           "(0.3, 0.4)"
          ],
          [
           "(-0.7, -0.6)",
           "(0.3, 0.4)"
          ],
          [
           "(-0.7, -0.6)",
           "(0.3, 0.4)"
          ],
          [
           "(-0.7, -0.6)",
           "(0.3, 0.4)"
          ],
          [
           "(-0.7, -0.6)",
           "(0.3, 0.4)"
          ],
          [
           "(-0.7, -0.6)",
           "(0.3, 0.4)"
          ],
          [
           "(-0.7, -0.6)",
           "(0.3, 0.4)"
          ],
          [
           "(-0.7, -0.6)",
           "(0.3, 0.4)"
          ],
          [
           "(-0.7, -0.6)",
           "(0.3, 0.4)"
          ],
          [
           "(-0.7, -0.6)",
           "(0.3, 0.4)"
          ],
          [
           "(-0.7, -0.6)",
           "(0.3, 0.4)"
          ],
          [
           "(-0.7, -0.6)",
           "(0.3, 0.4)"
          ],
          [
           "(-0.7, -0.6)",
           "(0.3, 0.4)"
          ],
          [
           "(-0.7, -0.6)",
           "(0.3, 0.4)"
          ],
          [
           "(-0.7, -0.6)",
           "(0.3, 0.4)"
          ],
          [
           "(-0.7, -0.6)",
           "(0.3, 0.4)"
          ],
          [
           "(-0.7, -0.6)",
           "(0.3, 0.4)"
          ],
          [
           "(-0.7, -0.6)",
           "(0.3, 0.4)"
          ],
          [
           "(-0.7, -0.6)",
           "(0.3, 0.4)"
          ],
          [
           "(-0.7, -0.6)",
           "(0.3, 0.4)"
          ],
          [
           "(-0.7, -0.6)",
           "(0.3, 0.4)"
          ],
          [
           "(-0.7, -0.6)",
           "(0.3, 0.4)"
          ],
          [
           "(-0.7, -0.6)",
           "(0.3, 0.4)"
          ],
          [
           "(-0.7, -0.6)",
           "(0.3, 0.4)"
          ],
          [
           "(-0.7, -0.6)",
           "(0.3, 0.4)"
          ],
          [
           "(-0.7, -0.6)",
           "(0.3, 0.4)"
          ],
          [
           "(-0.7, -0.6)",
           "(0.3, 0.4)"
          ],
          [
           "(-0.7, -0.6)",
           "(0.3, 0.4)"
          ],
          [
           "(-0.7, -0.6)",
           "(0.3, 0.4)"
          ],
          [
           "(-0.7, -0.6)",
           "(0.3, 0.4)"
          ],
          [
           "(-0.7, -0.6)",
           "(0.3, 0.4)"
          ],
          [
           "(-0.7, -0.6)",
           "(0.3, 0.4)"
          ],
          [
           "(-0.7, -0.6)",
           "(0.3, 0.4)"
          ],
          [
           "(-0.7, -0.6)",
           "(0.3, 0.4)"
          ],
          [
           "(-0.7, -0.6)",
           "(0.3, 0.4)"
          ],
          [
           "(-0.7, -0.6)",
           "(0.3, 0.4)"
          ],
          [
           "(-0.7, -0.6)",
           "(0.3, 0.4)"
          ],
          [
           "(-0.7, -0.6)",
           "(0.3, 0.4)"
          ],
          [
           "(-0.7, -0.6)",
           "(0.3, 0.4)"
          ],
          [
           "(-0.7, -0.6)",
           "(0.3, 0.4)"
          ],
          [
           "(-0.7, -0.6)",
           "(0.3, 0.4)"
          ],
          [
           "(-0.7, -0.6)",
           "(0.3, 0.4)"
          ],
          [
           "(-0.7, -0.6)",
           "(0.3, 0.4)"
          ],
          [
           "(-0.7, -0.6)",
           "(0.3, 0.4)"
          ],
          [
           "(-0.7, -0.6)",
           "(0.3, 0.4)"
          ]
         ],
         "hovertemplate": "<b>Date:</b> %{x}<br><b>Portfolio Value:</b> %{y}<br><b>Put Delta Range:</b> %{customdata[0]}<br><b>Call Delta Range:</b> %{customdata[1]}",
         "legendgroup": "Put: (-0.7, -0.6), Call: (0.3, 0.4)",
         "line": {
          "color": "#EF553B",
          "dash": "solid"
         },
         "marker": {
          "symbol": "circle"
         },
         "mode": "lines",
         "name": "Put: (-0.7, -0.6), Call: (0.3, 0.4)",
         "showlegend": true,
         "type": "scattergl",
         "x": [
          "2024-01-03",
          "2024-01-05",
          "2024-01-08",
          "2024-01-10",
          "2024-01-12",
          "2024-01-17",
          "2024-01-19",
          "2024-01-22",
          "2024-01-24",
          "2024-01-26",
          "2024-01-29",
          "2024-01-31",
          "2024-02-02",
          "2024-02-05",
          "2024-02-07",
          "2024-02-09",
          "2024-02-12",
          "2024-02-14",
          "2024-02-16",
          "2024-02-21",
          "2024-02-23",
          "2024-02-26",
          "2024-02-28",
          "2024-03-01",
          "2024-03-04",
          "2024-03-06",
          "2024-03-08",
          "2024-03-11",
          "2024-03-13",
          "2024-03-15",
          "2024-03-18",
          "2024-03-20",
          "2024-03-22",
          "2024-03-25",
          "2024-03-27",
          "2024-04-01",
          "2024-04-03",
          "2024-04-05",
          "2024-04-08",
          "2024-04-10",
          "2024-04-12",
          "2024-04-15",
          "2024-04-17",
          "2024-04-19",
          "2024-04-22",
          "2024-04-24",
          "2024-04-26",
          "2024-04-29",
          "2024-05-01",
          "2024-05-03",
          "2024-05-06",
          "2024-05-08",
          "2024-05-10",
          "2024-05-13",
          "2024-05-15",
          "2024-05-17",
          "2024-05-20",
          "2024-05-22",
          "2024-05-24",
          "2024-05-29",
          "2024-05-31",
          "2024-06-03",
          "2024-06-05",
          "2024-06-07",
          "2024-06-10",
          "2024-06-12",
          "2024-06-14",
          "2024-06-17",
          "2024-06-21",
          "2024-06-24",
          "2024-06-26",
          "2024-06-28",
          "2024-07-01",
          "2024-07-03",
          "2024-07-05",
          "2024-07-08",
          "2024-07-10",
          "2024-07-12",
          "2024-07-15",
          "2024-07-17",
          "2024-07-19",
          "2024-07-22",
          "2024-07-24",
          "2024-07-26",
          "2024-07-29",
          "2024-08-12",
          "2024-08-14",
          "2024-08-16",
          "2024-08-19",
          "2024-08-21",
          "2024-08-23",
          "2024-08-26",
          "2024-08-28",
          "2024-08-30",
          "2024-09-04",
          "2024-09-06",
          "2024-09-09",
          "2024-09-11",
          "2024-09-12",
          "2024-09-13",
          "2024-09-16",
          "2024-09-17",
          "2024-09-18",
          "2024-09-19",
          "2024-09-20",
          "2024-09-23",
          "2024-09-24",
          "2024-09-25",
          "2024-09-26",
          "2024-09-27",
          "2024-09-30",
          "2024-10-01",
          "2024-10-02",
          "2024-10-03",
          "2024-10-04",
          "2024-10-07",
          "2024-10-08",
          "2024-10-09",
          "2024-10-10",
          "2024-10-11",
          "2024-10-14",
          "2024-10-15",
          "2024-10-16",
          "2024-10-17",
          "2024-10-18",
          "2024-10-21",
          "2024-10-22",
          "2024-10-23",
          "2024-10-24",
          "2024-10-25",
          "2024-10-28",
          "2024-10-29",
          "2024-10-30",
          "2024-10-31",
          "2024-11-01",
          "2024-11-04",
          "2024-11-05",
          "2024-11-06",
          "2024-11-07",
          "2024-11-08",
          "2024-11-11",
          "2024-11-13",
          "2024-11-14",
          "2024-11-15",
          "2024-11-18",
          "2024-11-19",
          "2024-11-20",
          "2024-11-21",
          "2024-11-22",
          "2024-11-25",
          "2024-11-26",
          "2024-11-27",
          "2024-11-29",
          "2024-12-02",
          "2024-12-03",
          "2024-12-04",
          "2024-12-05",
          "2024-12-06",
          "2024-12-09",
          "2024-12-10",
          "2024-12-11",
          "2024-12-12",
          "2024-12-13",
          "2024-12-16",
          "2024-12-17",
          "2024-12-18",
          "2024-12-19",
          "2024-12-20",
          "2024-12-23",
          "2024-12-24",
          "2024-12-27",
          "2024-12-30"
         ],
         "xaxis": "x",
         "y": {
          "bdata": "AAAAAEBC1EAAAAAAQELUQAAAAABAQtRAAAAAAEBC1EAAAAAAQELUQAAAAABAQtRAAAAAAEBC1EAAAAAAQELUQAAAAABAQtRAAAAAAEBC1EAAAAAAQELUQAAAAABAQtRAAAAAAEBC1ED///9lP+zTQAAAAHT9RdRAAAAA3Q8+1ED////bwhPUQAAAABgdydNAAQAAllSb00AAAABblJvTQAAAAC+OoNNA////GLd+00AAAABAL4XTQAAAADdkWdNAAAAAcO3n0kAAAABAIVPSQAAAAEAhU9JAAAAAAXSt0kAAAADdJMfSQAAAAPo37NJAAAAA6ZYH00AAAAD3wYLTQAAAACjC49JAAAAAXi3A0kAAAAAxY/3SQAAAANXFq9JAAAAAU1Gi0kAAAABtk6DSQAAAAHp1hNJAAAAAgslz0kAAAACCyXPSQAAAAAAAPNNAAAAAAMAg1EAAAAAAwCDUQAAAAADAINRAAAAAAMAg1EAAAAAAwCDUQAAAAADAINRAAAAAAMAg1EAAAAAAwCDUQAAAAADAINRAAAAAAMAg1EAAAAAAwCDUQAAAAADAINRAAAAAAMAg1EAAAAAAwCDUQAAAAABAqtRAAAAAAECq1EAAAAAAQKrUQAAAAABAqtRAAAAAAECq1EAAAAAAQKrUQAAAAABAqtRAAAAAAECq1EAAAAAAQKrUQAAAAABAqtRAAAAAAECq1EAAAAAAQKrUQAAAAABAqtRAAAAAAIBB1UAAAAAAgEHVQAAAAACAQdVAAAAAAIBB1UAAAAAAgEHVQAAAAACAQdVAAAAAAIBB1UAAAAAAgEHVQAAAAACAQdVAAAAAAIBB1UAAAAAAgEHVQAAAAACAQdVAAAAAAEAr1kAAAAAAQCvWQAAAAABAK9ZAAAAAAEAr1kAAAAAAQCvWQAAAAABAK9ZAAAAAAEAr1kAAAAAxGbjVQAAAAO4RANZAAAAAywsL1kD////7hhPWQP///7tQAtZA/v//ce1A1kABAAAJoHXVQAEAAAmgddVAAAAAJB931UAAAACIRvDVQP////gE89VAAQAA2kjs1UABAAC3H1LVQP////vYXdVAAAAAQiK/1UAAAABFL4vWQAAAAKh4etZAAAAAAFFP1kAAAABdxGXWQAAAAG3STNZA////RYJp1kAAAABlPnDWQAAAAEs18tZAAAAAv9RI1kAAAACwDFfWQAEAADZcO9ZAAAAAbIxX1kD+//8xFNjVQAAAAOLaPdZAAAAA4uWb1kD////pbI/WQP///+lsj9ZAAAAAJA0U10D+//9RqVPXQAAAAGAGINdAAAAAK0Ep10D+//8RWXDXQAEAAFdElddAAAAAEM2F10AAAAC0lAbXQAAAAIXXAddAAAAAlcsW10ABAACXb0jXQAAAAM8rT9dAAAAA9R321kAAAADtmI3WQAAAAATDQtZA////pk8s1kAAAAB0O1DWQP///7sFPtZAAAAAzsK01kAAAADOwrTWQP///+WXpdZAAAAApdG71kAAAADoOwnXQAAAAHXSuNZAAAAASz0E10D///9muwrXQAAAAFW2HNdA////xrkQ10AAAAA/cDLXQP///yZbfddAAAAAvQu010AAAACvzLDXQP///9i77NdAAAAA5Ssl2EAAAABllnHYQP///9uTethAAAAAqFN72EAAAACoU3vYQAAAAAAAPNdAAAAAAIDP10AAAAAAgM/XQAAAAACAz9dAAAAAAIDP10AAAAAAgM/XQAAAAACAz9dAAAAAAIDP10AAAAAAgM/XQAAAAACAz9dAAAAAAIDP10AAAAAAgM/XQAAAAACAz9dAAAAAAIDP10A=",
          "dtype": "f8"
         },
         "yaxis": "y"
        },
        {
         "customdata": [
          [
           "(-0.7, -0.6)",
           "(0.4, 0.5)"
          ],
          [
           "(-0.7, -0.6)",
           "(0.4, 0.5)"
          ],
          [
           "(-0.7, -0.6)",
           "(0.4, 0.5)"
          ],
          [
           "(-0.7, -0.6)",
           "(0.4, 0.5)"
          ],
          [
           "(-0.7, -0.6)",
           "(0.4, 0.5)"
          ],
          [
           "(-0.7, -0.6)",
           "(0.4, 0.5)"
          ],
          [
           "(-0.7, -0.6)",
           "(0.4, 0.5)"
          ],
          [
           "(-0.7, -0.6)",
           "(0.4, 0.5)"
          ],
          [
           "(-0.7, -0.6)",
           "(0.4, 0.5)"
          ],
          [
           "(-0.7, -0.6)",
           "(0.4, 0.5)"
          ],
          [
           "(-0.7, -0.6)",
           "(0.4, 0.5)"
          ],
          [
           "(-0.7, -0.6)",
           "(0.4, 0.5)"
          ],
          [
           "(-0.7, -0.6)",
           "(0.4, 0.5)"
          ],
          [
           "(-0.7, -0.6)",
           "(0.4, 0.5)"
          ],
          [
           "(-0.7, -0.6)",
           "(0.4, 0.5)"
          ],
          [
           "(-0.7, -0.6)",
           "(0.4, 0.5)"
          ],
          [
           "(-0.7, -0.6)",
           "(0.4, 0.5)"
          ],
          [
           "(-0.7, -0.6)",
           "(0.4, 0.5)"
          ],
          [
           "(-0.7, -0.6)",
           "(0.4, 0.5)"
          ],
          [
           "(-0.7, -0.6)",
           "(0.4, 0.5)"
          ],
          [
           "(-0.7, -0.6)",
           "(0.4, 0.5)"
          ],
          [
           "(-0.7, -0.6)",
           "(0.4, 0.5)"
          ],
          [
           "(-0.7, -0.6)",
           "(0.4, 0.5)"
          ],
          [
           "(-0.7, -0.6)",
           "(0.4, 0.5)"
          ],
          [
           "(-0.7, -0.6)",
           "(0.4, 0.5)"
          ],
          [
           "(-0.7, -0.6)",
           "(0.4, 0.5)"
          ],
          [
           "(-0.7, -0.6)",
           "(0.4, 0.5)"
          ],
          [
           "(-0.7, -0.6)",
           "(0.4, 0.5)"
          ],
          [
           "(-0.7, -0.6)",
           "(0.4, 0.5)"
          ],
          [
           "(-0.7, -0.6)",
           "(0.4, 0.5)"
          ],
          [
           "(-0.7, -0.6)",
           "(0.4, 0.5)"
          ],
          [
           "(-0.7, -0.6)",
           "(0.4, 0.5)"
          ],
          [
           "(-0.7, -0.6)",
           "(0.4, 0.5)"
          ],
          [
           "(-0.7, -0.6)",
           "(0.4, 0.5)"
          ],
          [
           "(-0.7, -0.6)",
           "(0.4, 0.5)"
          ],
          [
           "(-0.7, -0.6)",
           "(0.4, 0.5)"
          ],
          [
           "(-0.7, -0.6)",
           "(0.4, 0.5)"
          ],
          [
           "(-0.7, -0.6)",
           "(0.4, 0.5)"
          ],
          [
           "(-0.7, -0.6)",
           "(0.4, 0.5)"
          ],
          [
           "(-0.7, -0.6)",
           "(0.4, 0.5)"
          ],
          [
           "(-0.7, -0.6)",
           "(0.4, 0.5)"
          ],
          [
           "(-0.7, -0.6)",
           "(0.4, 0.5)"
          ],
          [
           "(-0.7, -0.6)",
           "(0.4, 0.5)"
          ],
          [
           "(-0.7, -0.6)",
           "(0.4, 0.5)"
          ],
          [
           "(-0.7, -0.6)",
           "(0.4, 0.5)"
          ],
          [
           "(-0.7, -0.6)",
           "(0.4, 0.5)"
          ],
          [
           "(-0.7, -0.6)",
           "(0.4, 0.5)"
          ],
          [
           "(-0.7, -0.6)",
           "(0.4, 0.5)"
          ],
          [
           "(-0.7, -0.6)",
           "(0.4, 0.5)"
          ],
          [
           "(-0.7, -0.6)",
           "(0.4, 0.5)"
          ],
          [
           "(-0.7, -0.6)",
           "(0.4, 0.5)"
          ],
          [
           "(-0.7, -0.6)",
           "(0.4, 0.5)"
          ],
          [
           "(-0.7, -0.6)",
           "(0.4, 0.5)"
          ],
          [
           "(-0.7, -0.6)",
           "(0.4, 0.5)"
          ],
          [
           "(-0.7, -0.6)",
           "(0.4, 0.5)"
          ],
          [
           "(-0.7, -0.6)",
           "(0.4, 0.5)"
          ],
          [
           "(-0.7, -0.6)",
           "(0.4, 0.5)"
          ],
          [
           "(-0.7, -0.6)",
           "(0.4, 0.5)"
          ],
          [
           "(-0.7, -0.6)",
           "(0.4, 0.5)"
          ],
          [
           "(-0.7, -0.6)",
           "(0.4, 0.5)"
          ],
          [
           "(-0.7, -0.6)",
           "(0.4, 0.5)"
          ],
          [
           "(-0.7, -0.6)",
           "(0.4, 0.5)"
          ],
          [
           "(-0.7, -0.6)",
           "(0.4, 0.5)"
          ],
          [
           "(-0.7, -0.6)",
           "(0.4, 0.5)"
          ],
          [
           "(-0.7, -0.6)",
           "(0.4, 0.5)"
          ],
          [
           "(-0.7, -0.6)",
           "(0.4, 0.5)"
          ],
          [
           "(-0.7, -0.6)",
           "(0.4, 0.5)"
          ],
          [
           "(-0.7, -0.6)",
           "(0.4, 0.5)"
          ],
          [
           "(-0.7, -0.6)",
           "(0.4, 0.5)"
          ],
          [
           "(-0.7, -0.6)",
           "(0.4, 0.5)"
          ],
          [
           "(-0.7, -0.6)",
           "(0.4, 0.5)"
          ],
          [
           "(-0.7, -0.6)",
           "(0.4, 0.5)"
          ],
          [
           "(-0.7, -0.6)",
           "(0.4, 0.5)"
          ],
          [
           "(-0.7, -0.6)",
           "(0.4, 0.5)"
          ],
          [
           "(-0.7, -0.6)",
           "(0.4, 0.5)"
          ],
          [
           "(-0.7, -0.6)",
           "(0.4, 0.5)"
          ],
          [
           "(-0.7, -0.6)",
           "(0.4, 0.5)"
          ],
          [
           "(-0.7, -0.6)",
           "(0.4, 0.5)"
          ],
          [
           "(-0.7, -0.6)",
           "(0.4, 0.5)"
          ],
          [
           "(-0.7, -0.6)",
           "(0.4, 0.5)"
          ],
          [
           "(-0.7, -0.6)",
           "(0.4, 0.5)"
          ],
          [
           "(-0.7, -0.6)",
           "(0.4, 0.5)"
          ],
          [
           "(-0.7, -0.6)",
           "(0.4, 0.5)"
          ],
          [
           "(-0.7, -0.6)",
           "(0.4, 0.5)"
          ],
          [
           "(-0.7, -0.6)",
           "(0.4, 0.5)"
          ],
          [
           "(-0.7, -0.6)",
           "(0.4, 0.5)"
          ],
          [
           "(-0.7, -0.6)",
           "(0.4, 0.5)"
          ],
          [
           "(-0.7, -0.6)",
           "(0.4, 0.5)"
          ],
          [
           "(-0.7, -0.6)",
           "(0.4, 0.5)"
          ],
          [
           "(-0.7, -0.6)",
           "(0.4, 0.5)"
          ],
          [
           "(-0.7, -0.6)",
           "(0.4, 0.5)"
          ],
          [
           "(-0.7, -0.6)",
           "(0.4, 0.5)"
          ],
          [
           "(-0.7, -0.6)",
           "(0.4, 0.5)"
          ],
          [
           "(-0.7, -0.6)",
           "(0.4, 0.5)"
          ],
          [
           "(-0.7, -0.6)",
           "(0.4, 0.5)"
          ],
          [
           "(-0.7, -0.6)",
           "(0.4, 0.5)"
          ],
          [
           "(-0.7, -0.6)",
           "(0.4, 0.5)"
          ],
          [
           "(-0.7, -0.6)",
           "(0.4, 0.5)"
          ],
          [
           "(-0.7, -0.6)",
           "(0.4, 0.5)"
          ],
          [
           "(-0.7, -0.6)",
           "(0.4, 0.5)"
          ],
          [
           "(-0.7, -0.6)",
           "(0.4, 0.5)"
          ],
          [
           "(-0.7, -0.6)",
           "(0.4, 0.5)"
          ],
          [
           "(-0.7, -0.6)",
           "(0.4, 0.5)"
          ],
          [
           "(-0.7, -0.6)",
           "(0.4, 0.5)"
          ],
          [
           "(-0.7, -0.6)",
           "(0.4, 0.5)"
          ],
          [
           "(-0.7, -0.6)",
           "(0.4, 0.5)"
          ],
          [
           "(-0.7, -0.6)",
           "(0.4, 0.5)"
          ],
          [
           "(-0.7, -0.6)",
           "(0.4, 0.5)"
          ],
          [
           "(-0.7, -0.6)",
           "(0.4, 0.5)"
          ],
          [
           "(-0.7, -0.6)",
           "(0.4, 0.5)"
          ],
          [
           "(-0.7, -0.6)",
           "(0.4, 0.5)"
          ],
          [
           "(-0.7, -0.6)",
           "(0.4, 0.5)"
          ],
          [
           "(-0.7, -0.6)",
           "(0.4, 0.5)"
          ],
          [
           "(-0.7, -0.6)",
           "(0.4, 0.5)"
          ],
          [
           "(-0.7, -0.6)",
           "(0.4, 0.5)"
          ],
          [
           "(-0.7, -0.6)",
           "(0.4, 0.5)"
          ],
          [
           "(-0.7, -0.6)",
           "(0.4, 0.5)"
          ],
          [
           "(-0.7, -0.6)",
           "(0.4, 0.5)"
          ],
          [
           "(-0.7, -0.6)",
           "(0.4, 0.5)"
          ],
          [
           "(-0.7, -0.6)",
           "(0.4, 0.5)"
          ],
          [
           "(-0.7, -0.6)",
           "(0.4, 0.5)"
          ],
          [
           "(-0.7, -0.6)",
           "(0.4, 0.5)"
          ],
          [
           "(-0.7, -0.6)",
           "(0.4, 0.5)"
          ],
          [
           "(-0.7, -0.6)",
           "(0.4, 0.5)"
          ],
          [
           "(-0.7, -0.6)",
           "(0.4, 0.5)"
          ],
          [
           "(-0.7, -0.6)",
           "(0.4, 0.5)"
          ],
          [
           "(-0.7, -0.6)",
           "(0.4, 0.5)"
          ],
          [
           "(-0.7, -0.6)",
           "(0.4, 0.5)"
          ],
          [
           "(-0.7, -0.6)",
           "(0.4, 0.5)"
          ],
          [
           "(-0.7, -0.6)",
           "(0.4, 0.5)"
          ],
          [
           "(-0.7, -0.6)",
           "(0.4, 0.5)"
          ],
          [
           "(-0.7, -0.6)",
           "(0.4, 0.5)"
          ],
          [
           "(-0.7, -0.6)",
           "(0.4, 0.5)"
          ],
          [
           "(-0.7, -0.6)",
           "(0.4, 0.5)"
          ],
          [
           "(-0.7, -0.6)",
           "(0.4, 0.5)"
          ],
          [
           "(-0.7, -0.6)",
           "(0.4, 0.5)"
          ],
          [
           "(-0.7, -0.6)",
           "(0.4, 0.5)"
          ],
          [
           "(-0.7, -0.6)",
           "(0.4, 0.5)"
          ],
          [
           "(-0.7, -0.6)",
           "(0.4, 0.5)"
          ],
          [
           "(-0.7, -0.6)",
           "(0.4, 0.5)"
          ],
          [
           "(-0.7, -0.6)",
           "(0.4, 0.5)"
          ],
          [
           "(-0.7, -0.6)",
           "(0.4, 0.5)"
          ],
          [
           "(-0.7, -0.6)",
           "(0.4, 0.5)"
          ],
          [
           "(-0.7, -0.6)",
           "(0.4, 0.5)"
          ],
          [
           "(-0.7, -0.6)",
           "(0.4, 0.5)"
          ],
          [
           "(-0.7, -0.6)",
           "(0.4, 0.5)"
          ],
          [
           "(-0.7, -0.6)",
           "(0.4, 0.5)"
          ],
          [
           "(-0.7, -0.6)",
           "(0.4, 0.5)"
          ],
          [
           "(-0.7, -0.6)",
           "(0.4, 0.5)"
          ],
          [
           "(-0.7, -0.6)",
           "(0.4, 0.5)"
          ],
          [
           "(-0.7, -0.6)",
           "(0.4, 0.5)"
          ],
          [
           "(-0.7, -0.6)",
           "(0.4, 0.5)"
          ],
          [
           "(-0.7, -0.6)",
           "(0.4, 0.5)"
          ],
          [
           "(-0.7, -0.6)",
           "(0.4, 0.5)"
          ],
          [
           "(-0.7, -0.6)",
           "(0.4, 0.5)"
          ],
          [
           "(-0.7, -0.6)",
           "(0.4, 0.5)"
          ],
          [
           "(-0.7, -0.6)",
           "(0.4, 0.5)"
          ],
          [
           "(-0.7, -0.6)",
           "(0.4, 0.5)"
          ],
          [
           "(-0.7, -0.6)",
           "(0.4, 0.5)"
          ],
          [
           "(-0.7, -0.6)",
           "(0.4, 0.5)"
          ],
          [
           "(-0.7, -0.6)",
           "(0.4, 0.5)"
          ],
          [
           "(-0.7, -0.6)",
           "(0.4, 0.5)"
          ],
          [
           "(-0.7, -0.6)",
           "(0.4, 0.5)"
          ],
          [
           "(-0.7, -0.6)",
           "(0.4, 0.5)"
          ],
          [
           "(-0.7, -0.6)",
           "(0.4, 0.5)"
          ],
          [
           "(-0.7, -0.6)",
           "(0.4, 0.5)"
          ],
          [
           "(-0.7, -0.6)",
           "(0.4, 0.5)"
          ],
          [
           "(-0.7, -0.6)",
           "(0.4, 0.5)"
          ],
          [
           "(-0.7, -0.6)",
           "(0.4, 0.5)"
          ],
          [
           "(-0.7, -0.6)",
           "(0.4, 0.5)"
          ],
          [
           "(-0.7, -0.6)",
           "(0.4, 0.5)"
          ],
          [
           "(-0.7, -0.6)",
           "(0.4, 0.5)"
          ]
         ],
         "hovertemplate": "<b>Date:</b> %{x}<br><b>Portfolio Value:</b> %{y}<br><b>Put Delta Range:</b> %{customdata[0]}<br><b>Call Delta Range:</b> %{customdata[1]}",
         "legendgroup": "Put: (-0.7, -0.6), Call: (0.4, 0.5)",
         "line": {
          "color": "#00cc96",
          "dash": "solid"
         },
         "marker": {
          "symbol": "circle"
         },
         "mode": "lines",
         "name": "Put: (-0.7, -0.6), Call: (0.4, 0.5)",
         "showlegend": true,
         "type": "scattergl",
         "x": [
          "2024-01-03",
          "2024-01-05",
          "2024-01-08",
          "2024-01-10",
          "2024-01-12",
          "2024-01-17",
          "2024-01-19",
          "2024-01-22",
          "2024-01-24",
          "2024-01-26",
          "2024-01-29",
          "2024-01-31",
          "2024-02-02",
          "2024-02-05",
          "2024-02-07",
          "2024-02-09",
          "2024-02-12",
          "2024-02-14",
          "2024-02-16",
          "2024-02-21",
          "2024-02-23",
          "2024-02-26",
          "2024-02-28",
          "2024-03-01",
          "2024-03-04",
          "2024-03-06",
          "2024-03-08",
          "2024-03-11",
          "2024-03-13",
          "2024-03-15",
          "2024-03-18",
          "2024-03-20",
          "2024-03-22",
          "2024-03-25",
          "2024-03-27",
          "2024-04-01",
          "2024-04-03",
          "2024-04-05",
          "2024-04-08",
          "2024-04-10",
          "2024-04-12",
          "2024-04-15",
          "2024-04-17",
          "2024-04-19",
          "2024-04-22",
          "2024-04-24",
          "2024-04-26",
          "2024-04-29",
          "2024-05-01",
          "2024-05-03",
          "2024-05-06",
          "2024-05-08",
          "2024-05-10",
          "2024-05-13",
          "2024-05-15",
          "2024-05-17",
          "2024-05-20",
          "2024-05-22",
          "2024-05-24",
          "2024-05-29",
          "2024-05-31",
          "2024-06-03",
          "2024-06-05",
          "2024-06-07",
          "2024-06-10",
          "2024-06-12",
          "2024-06-14",
          "2024-06-17",
          "2024-06-21",
          "2024-06-24",
          "2024-06-26",
          "2024-06-28",
          "2024-07-01",
          "2024-07-03",
          "2024-07-05",
          "2024-07-08",
          "2024-07-10",
          "2024-07-12",
          "2024-07-15",
          "2024-07-17",
          "2024-07-19",
          "2024-07-22",
          "2024-07-24",
          "2024-07-26",
          "2024-07-29",
          "2024-08-12",
          "2024-08-14",
          "2024-08-16",
          "2024-08-19",
          "2024-08-21",
          "2024-08-23",
          "2024-08-26",
          "2024-08-28",
          "2024-08-30",
          "2024-09-04",
          "2024-09-06",
          "2024-09-09",
          "2024-09-11",
          "2024-09-12",
          "2024-09-13",
          "2024-09-16",
          "2024-09-17",
          "2024-09-18",
          "2024-09-19",
          "2024-09-20",
          "2024-09-23",
          "2024-09-24",
          "2024-09-25",
          "2024-09-26",
          "2024-09-27",
          "2024-09-30",
          "2024-10-01",
          "2024-10-02",
          "2024-10-03",
          "2024-10-04",
          "2024-10-07",
          "2024-10-08",
          "2024-10-09",
          "2024-10-10",
          "2024-10-11",
          "2024-10-14",
          "2024-10-15",
          "2024-10-16",
          "2024-10-17",
          "2024-10-18",
          "2024-10-21",
          "2024-10-22",
          "2024-10-23",
          "2024-10-24",
          "2024-10-25",
          "2024-10-28",
          "2024-10-29",
          "2024-10-30",
          "2024-10-31",
          "2024-11-01",
          "2024-11-04",
          "2024-11-05",
          "2024-11-06",
          "2024-11-07",
          "2024-11-08",
          "2024-11-11",
          "2024-11-13",
          "2024-11-14",
          "2024-11-15",
          "2024-11-18",
          "2024-11-19",
          "2024-11-20",
          "2024-11-21",
          "2024-11-22",
          "2024-11-25",
          "2024-11-26",
          "2024-11-27",
          "2024-11-29",
          "2024-12-02",
          "2024-12-03",
          "2024-12-04",
          "2024-12-05",
          "2024-12-06",
          "2024-12-09",
          "2024-12-10",
          "2024-12-11",
          "2024-12-12",
          "2024-12-13",
          "2024-12-16",
          "2024-12-17",
          "2024-12-18",
          "2024-12-19",
          "2024-12-20",
          "2024-12-23",
          "2024-12-24",
          "2024-12-27",
          "2024-12-30"
         ],
         "xaxis": "x",
         "y": {
          "bdata": "AAAAAEBC1EAAAAAAQELUQAAAAABAQtRAAAAAAEBC1EAAAAAAQELUQAAAAABAQtRAAAAAAEBC1EAAAAAAQELUQAAAAABAQtRAAAAAAEBC1EAAAAAAQELUQAAAAABAQtRAAAAAAEBC1ED///9lPzbUQAAAAHQ9YdRAAAAA3U9Z1ED////bAi/UQAAAABhd5NNAAQAAlpS200AAAABb1LbTQAAAAC/Ou9NA////GPeZ00AAAABAb6DTQAAAAEBvoNNAAAAAcC0D00AAAABA4bvSQAAAANHw49JAAAAAATQW00AAAADd5O3SQAAAAPr3EtNAAAAA6VYu00AAAAD3ganTQAAAAPeBqdNAAAAAAMBx00AAAAAAwHHTQAAAAADAcdNAAAAAAMBx00AAAAAAwHHTQAAAAADAcdNAAAAAAMBx00AAAAAAwHHTQAAAAADAcdNAAAAAAMBx00AAAAAAwHHTQAAAAMtDedJAAAAAPeQu00AAAADu2zXTQAAAAHJdntNAAAAA7ts100AAAABoNJTUQAEAALamatRAAAAAv0eE1EAAAAC/R4TUQAAAAAAA19NAAAAAAADX00AAAAAAANfTQAAAAAAA19NAAAAAAADX00AAAAAAANfTQAAAAAAA19NAAAAAAADX00AAAAAAANfTQAAAAAAA19NAAAAAAADX00AAAAAAANfTQAAAAABAoNRAAAAAAECg1EAAAAAAQKDUQAAAAABAoNRAAAAAAECg1EAAAAAAQKDUQAAAAABAoNRAAAAAAECg1EAAAAAAQKDUQAAAAABAoNRAAAAAAECg1EAAAAAAQKDUQAAAAABAoNRAAAAAAECg1EAAAAAAwJfVQAAAAADAl9VAAAAAAMCX1UAAAAAAwJfVQAAAAADAl9VAAAAAAMCX1UAAAAAAwJfVQAAAAADAl9VAAAAAAMCX1UAAAAAxGfrUQAAAAO7RBtVAAAAAy8sR1UD////7RhrVQP///7sQCdVA/v//ca1H1UABAAAJYHzUQAAAAIige9RAAAAAJN991EAAAACIhqnUQP////hErNRA////+ESs1EABAAC3X2/UQP////sYe9RAAAAAQmLc1EAAAABFb6jVQAAAAKi4l9VAAAAAAJFs1UAAAABdBIPVQAAAAG0SatVA////RcKG1UAAAABlfo3VQAAAAEt1D9ZAAAAAvxRm1UAAAACwTHTVQAEAADacWNVAAAAAbMx01UD+//8xVPXUQAAAAOIaW9VAAAAA4iW51UD////prKzVQP///+msrNVAAAAAAIDI1UAAAAAAgMjVQAAAAACAyNVAAAAAAIDI1UAAAAAAgMjVQAAAAACAyNVAAAAAAIDI1UAAAAAAgMjVQAAAAACAyNVAAAAAAIDI1UAAAAAAgMjVQAAAAACAyNVAAAAAAIDI1UAAAAAAgMjVQAAAAACAyNVAAAAAAIDI1UAAAAAAgMjVQAAAAACAyNVAAAAAAIDI1UAAAAAAgMjVQP///+UXONRAAAAApVFO1EAAAADoOwfVQAAAAHXSttRAAAAASz0C1UD///9muwjVQAAAAFW2GtVA////xrkO1UAAAAA/cDDVQP///yZbe9VAAAAAvQuy1UAAAACvzK7VQP///9i76tVAAAAA5Ssj1kAAAABllm/WQP///9uTeNZAAAAAqFN51kAAAAALVXTWQAAAAKD51dZAAAAAbXLv1kAAAABre8/WQAAAACwx9NZAAAAALDH01kAAAAAAwNPVQAAAAADA09VAAAAAAMDT1UAAAAAAwNPVQAAAAADA09VAAAAAAMDT1UAAAAAAwNPVQAAAAADA09VAAAAAAMDT1UA=",
          "dtype": "f8"
         },
         "yaxis": "y"
        },
        {
         "customdata": [
          [
           "(-0.7, -0.6)",
           "(0.5, 0.6)"
          ],
          [
           "(-0.7, -0.6)",
           "(0.5, 0.6)"
          ],
          [
           "(-0.7, -0.6)",
           "(0.5, 0.6)"
          ],
          [
           "(-0.7, -0.6)",
           "(0.5, 0.6)"
          ],
          [
           "(-0.7, -0.6)",
           "(0.5, 0.6)"
          ],
          [
           "(-0.7, -0.6)",
           "(0.5, 0.6)"
          ],
          [
           "(-0.7, -0.6)",
           "(0.5, 0.6)"
          ],
          [
           "(-0.7, -0.6)",
           "(0.5, 0.6)"
          ],
          [
           "(-0.7, -0.6)",
           "(0.5, 0.6)"
          ],
          [
           "(-0.7, -0.6)",
           "(0.5, 0.6)"
          ],
          [
           "(-0.7, -0.6)",
           "(0.5, 0.6)"
          ],
          [
           "(-0.7, -0.6)",
           "(0.5, 0.6)"
          ],
          [
           "(-0.7, -0.6)",
           "(0.5, 0.6)"
          ],
          [
           "(-0.7, -0.6)",
           "(0.5, 0.6)"
          ],
          [
           "(-0.7, -0.6)",
           "(0.5, 0.6)"
          ],
          [
           "(-0.7, -0.6)",
           "(0.5, 0.6)"
          ],
          [
           "(-0.7, -0.6)",
           "(0.5, 0.6)"
          ],
          [
           "(-0.7, -0.6)",
           "(0.5, 0.6)"
          ],
          [
           "(-0.7, -0.6)",
           "(0.5, 0.6)"
          ],
          [
           "(-0.7, -0.6)",
           "(0.5, 0.6)"
          ],
          [
           "(-0.7, -0.6)",
           "(0.5, 0.6)"
          ],
          [
           "(-0.7, -0.6)",
           "(0.5, 0.6)"
          ],
          [
           "(-0.7, -0.6)",
           "(0.5, 0.6)"
          ],
          [
           "(-0.7, -0.6)",
           "(0.5, 0.6)"
          ],
          [
           "(-0.7, -0.6)",
           "(0.5, 0.6)"
          ],
          [
           "(-0.7, -0.6)",
           "(0.5, 0.6)"
          ],
          [
           "(-0.7, -0.6)",
           "(0.5, 0.6)"
          ],
          [
           "(-0.7, -0.6)",
           "(0.5, 0.6)"
          ],
          [
           "(-0.7, -0.6)",
           "(0.5, 0.6)"
          ],
          [
           "(-0.7, -0.6)",
           "(0.5, 0.6)"
          ],
          [
           "(-0.7, -0.6)",
           "(0.5, 0.6)"
          ],
          [
           "(-0.7, -0.6)",
           "(0.5, 0.6)"
          ],
          [
           "(-0.7, -0.6)",
           "(0.5, 0.6)"
          ],
          [
           "(-0.7, -0.6)",
           "(0.5, 0.6)"
          ],
          [
           "(-0.7, -0.6)",
           "(0.5, 0.6)"
          ],
          [
           "(-0.7, -0.6)",
           "(0.5, 0.6)"
          ],
          [
           "(-0.7, -0.6)",
           "(0.5, 0.6)"
          ],
          [
           "(-0.7, -0.6)",
           "(0.5, 0.6)"
          ],
          [
           "(-0.7, -0.6)",
           "(0.5, 0.6)"
          ],
          [
           "(-0.7, -0.6)",
           "(0.5, 0.6)"
          ],
          [
           "(-0.7, -0.6)",
           "(0.5, 0.6)"
          ],
          [
           "(-0.7, -0.6)",
           "(0.5, 0.6)"
          ],
          [
           "(-0.7, -0.6)",
           "(0.5, 0.6)"
          ],
          [
           "(-0.7, -0.6)",
           "(0.5, 0.6)"
          ],
          [
           "(-0.7, -0.6)",
           "(0.5, 0.6)"
          ],
          [
           "(-0.7, -0.6)",
           "(0.5, 0.6)"
          ],
          [
           "(-0.7, -0.6)",
           "(0.5, 0.6)"
          ],
          [
           "(-0.7, -0.6)",
           "(0.5, 0.6)"
          ],
          [
           "(-0.7, -0.6)",
           "(0.5, 0.6)"
          ],
          [
           "(-0.7, -0.6)",
           "(0.5, 0.6)"
          ],
          [
           "(-0.7, -0.6)",
           "(0.5, 0.6)"
          ],
          [
           "(-0.7, -0.6)",
           "(0.5, 0.6)"
          ],
          [
           "(-0.7, -0.6)",
           "(0.5, 0.6)"
          ],
          [
           "(-0.7, -0.6)",
           "(0.5, 0.6)"
          ],
          [
           "(-0.7, -0.6)",
           "(0.5, 0.6)"
          ],
          [
           "(-0.7, -0.6)",
           "(0.5, 0.6)"
          ],
          [
           "(-0.7, -0.6)",
           "(0.5, 0.6)"
          ],
          [
           "(-0.7, -0.6)",
           "(0.5, 0.6)"
          ],
          [
           "(-0.7, -0.6)",
           "(0.5, 0.6)"
          ],
          [
           "(-0.7, -0.6)",
           "(0.5, 0.6)"
          ],
          [
           "(-0.7, -0.6)",
           "(0.5, 0.6)"
          ],
          [
           "(-0.7, -0.6)",
           "(0.5, 0.6)"
          ],
          [
           "(-0.7, -0.6)",
           "(0.5, 0.6)"
          ],
          [
           "(-0.7, -0.6)",
           "(0.5, 0.6)"
          ],
          [
           "(-0.7, -0.6)",
           "(0.5, 0.6)"
          ],
          [
           "(-0.7, -0.6)",
           "(0.5, 0.6)"
          ],
          [
           "(-0.7, -0.6)",
           "(0.5, 0.6)"
          ],
          [
           "(-0.7, -0.6)",
           "(0.5, 0.6)"
          ],
          [
           "(-0.7, -0.6)",
           "(0.5, 0.6)"
          ],
          [
           "(-0.7, -0.6)",
           "(0.5, 0.6)"
          ],
          [
           "(-0.7, -0.6)",
           "(0.5, 0.6)"
          ],
          [
           "(-0.7, -0.6)",
           "(0.5, 0.6)"
          ],
          [
           "(-0.7, -0.6)",
           "(0.5, 0.6)"
          ],
          [
           "(-0.7, -0.6)",
           "(0.5, 0.6)"
          ],
          [
           "(-0.7, -0.6)",
           "(0.5, 0.6)"
          ],
          [
           "(-0.7, -0.6)",
           "(0.5, 0.6)"
          ],
          [
           "(-0.7, -0.6)",
           "(0.5, 0.6)"
          ],
          [
           "(-0.7, -0.6)",
           "(0.5, 0.6)"
          ],
          [
           "(-0.7, -0.6)",
           "(0.5, 0.6)"
          ],
          [
           "(-0.7, -0.6)",
           "(0.5, 0.6)"
          ],
          [
           "(-0.7, -0.6)",
           "(0.5, 0.6)"
          ],
          [
           "(-0.7, -0.6)",
           "(0.5, 0.6)"
          ],
          [
           "(-0.7, -0.6)",
           "(0.5, 0.6)"
          ],
          [
           "(-0.7, -0.6)",
           "(0.5, 0.6)"
          ],
          [
           "(-0.7, -0.6)",
           "(0.5, 0.6)"
          ],
          [
           "(-0.7, -0.6)",
           "(0.5, 0.6)"
          ],
          [
           "(-0.7, -0.6)",
           "(0.5, 0.6)"
          ],
          [
           "(-0.7, -0.6)",
           "(0.5, 0.6)"
          ],
          [
           "(-0.7, -0.6)",
           "(0.5, 0.6)"
          ],
          [
           "(-0.7, -0.6)",
           "(0.5, 0.6)"
          ],
          [
           "(-0.7, -0.6)",
           "(0.5, 0.6)"
          ],
          [
           "(-0.7, -0.6)",
           "(0.5, 0.6)"
          ],
          [
           "(-0.7, -0.6)",
           "(0.5, 0.6)"
          ],
          [
           "(-0.7, -0.6)",
           "(0.5, 0.6)"
          ],
          [
           "(-0.7, -0.6)",
           "(0.5, 0.6)"
          ],
          [
           "(-0.7, -0.6)",
           "(0.5, 0.6)"
          ],
          [
           "(-0.7, -0.6)",
           "(0.5, 0.6)"
          ],
          [
           "(-0.7, -0.6)",
           "(0.5, 0.6)"
          ],
          [
           "(-0.7, -0.6)",
           "(0.5, 0.6)"
          ],
          [
           "(-0.7, -0.6)",
           "(0.5, 0.6)"
          ],
          [
           "(-0.7, -0.6)",
           "(0.5, 0.6)"
          ],
          [
           "(-0.7, -0.6)",
           "(0.5, 0.6)"
          ],
          [
           "(-0.7, -0.6)",
           "(0.5, 0.6)"
          ],
          [
           "(-0.7, -0.6)",
           "(0.5, 0.6)"
          ],
          [
           "(-0.7, -0.6)",
           "(0.5, 0.6)"
          ],
          [
           "(-0.7, -0.6)",
           "(0.5, 0.6)"
          ],
          [
           "(-0.7, -0.6)",
           "(0.5, 0.6)"
          ],
          [
           "(-0.7, -0.6)",
           "(0.5, 0.6)"
          ],
          [
           "(-0.7, -0.6)",
           "(0.5, 0.6)"
          ],
          [
           "(-0.7, -0.6)",
           "(0.5, 0.6)"
          ],
          [
           "(-0.7, -0.6)",
           "(0.5, 0.6)"
          ],
          [
           "(-0.7, -0.6)",
           "(0.5, 0.6)"
          ],
          [
           "(-0.7, -0.6)",
           "(0.5, 0.6)"
          ],
          [
           "(-0.7, -0.6)",
           "(0.5, 0.6)"
          ],
          [
           "(-0.7, -0.6)",
           "(0.5, 0.6)"
          ],
          [
           "(-0.7, -0.6)",
           "(0.5, 0.6)"
          ],
          [
           "(-0.7, -0.6)",
           "(0.5, 0.6)"
          ],
          [
           "(-0.7, -0.6)",
           "(0.5, 0.6)"
          ],
          [
           "(-0.7, -0.6)",
           "(0.5, 0.6)"
          ],
          [
           "(-0.7, -0.6)",
           "(0.5, 0.6)"
          ],
          [
           "(-0.7, -0.6)",
           "(0.5, 0.6)"
          ],
          [
           "(-0.7, -0.6)",
           "(0.5, 0.6)"
          ],
          [
           "(-0.7, -0.6)",
           "(0.5, 0.6)"
          ],
          [
           "(-0.7, -0.6)",
           "(0.5, 0.6)"
          ],
          [
           "(-0.7, -0.6)",
           "(0.5, 0.6)"
          ],
          [
           "(-0.7, -0.6)",
           "(0.5, 0.6)"
          ],
          [
           "(-0.7, -0.6)",
           "(0.5, 0.6)"
          ],
          [
           "(-0.7, -0.6)",
           "(0.5, 0.6)"
          ],
          [
           "(-0.7, -0.6)",
           "(0.5, 0.6)"
          ],
          [
           "(-0.7, -0.6)",
           "(0.5, 0.6)"
          ],
          [
           "(-0.7, -0.6)",
           "(0.5, 0.6)"
          ],
          [
           "(-0.7, -0.6)",
           "(0.5, 0.6)"
          ],
          [
           "(-0.7, -0.6)",
           "(0.5, 0.6)"
          ],
          [
           "(-0.7, -0.6)",
           "(0.5, 0.6)"
          ],
          [
           "(-0.7, -0.6)",
           "(0.5, 0.6)"
          ],
          [
           "(-0.7, -0.6)",
           "(0.5, 0.6)"
          ],
          [
           "(-0.7, -0.6)",
           "(0.5, 0.6)"
          ],
          [
           "(-0.7, -0.6)",
           "(0.5, 0.6)"
          ],
          [
           "(-0.7, -0.6)",
           "(0.5, 0.6)"
          ],
          [
           "(-0.7, -0.6)",
           "(0.5, 0.6)"
          ],
          [
           "(-0.7, -0.6)",
           "(0.5, 0.6)"
          ],
          [
           "(-0.7, -0.6)",
           "(0.5, 0.6)"
          ],
          [
           "(-0.7, -0.6)",
           "(0.5, 0.6)"
          ],
          [
           "(-0.7, -0.6)",
           "(0.5, 0.6)"
          ],
          [
           "(-0.7, -0.6)",
           "(0.5, 0.6)"
          ],
          [
           "(-0.7, -0.6)",
           "(0.5, 0.6)"
          ],
          [
           "(-0.7, -0.6)",
           "(0.5, 0.6)"
          ],
          [
           "(-0.7, -0.6)",
           "(0.5, 0.6)"
          ],
          [
           "(-0.7, -0.6)",
           "(0.5, 0.6)"
          ],
          [
           "(-0.7, -0.6)",
           "(0.5, 0.6)"
          ],
          [
           "(-0.7, -0.6)",
           "(0.5, 0.6)"
          ],
          [
           "(-0.7, -0.6)",
           "(0.5, 0.6)"
          ],
          [
           "(-0.7, -0.6)",
           "(0.5, 0.6)"
          ],
          [
           "(-0.7, -0.6)",
           "(0.5, 0.6)"
          ],
          [
           "(-0.7, -0.6)",
           "(0.5, 0.6)"
          ],
          [
           "(-0.7, -0.6)",
           "(0.5, 0.6)"
          ],
          [
           "(-0.7, -0.6)",
           "(0.5, 0.6)"
          ],
          [
           "(-0.7, -0.6)",
           "(0.5, 0.6)"
          ],
          [
           "(-0.7, -0.6)",
           "(0.5, 0.6)"
          ],
          [
           "(-0.7, -0.6)",
           "(0.5, 0.6)"
          ],
          [
           "(-0.7, -0.6)",
           "(0.5, 0.6)"
          ],
          [
           "(-0.7, -0.6)",
           "(0.5, 0.6)"
          ],
          [
           "(-0.7, -0.6)",
           "(0.5, 0.6)"
          ],
          [
           "(-0.7, -0.6)",
           "(0.5, 0.6)"
          ],
          [
           "(-0.7, -0.6)",
           "(0.5, 0.6)"
          ],
          [
           "(-0.7, -0.6)",
           "(0.5, 0.6)"
          ],
          [
           "(-0.7, -0.6)",
           "(0.5, 0.6)"
          ],
          [
           "(-0.7, -0.6)",
           "(0.5, 0.6)"
          ],
          [
           "(-0.7, -0.6)",
           "(0.5, 0.6)"
          ],
          [
           "(-0.7, -0.6)",
           "(0.5, 0.6)"
          ],
          [
           "(-0.7, -0.6)",
           "(0.5, 0.6)"
          ],
          [
           "(-0.7, -0.6)",
           "(0.5, 0.6)"
          ]
         ],
         "hovertemplate": "<b>Date:</b> %{x}<br><b>Portfolio Value:</b> %{y}<br><b>Put Delta Range:</b> %{customdata[0]}<br><b>Call Delta Range:</b> %{customdata[1]}",
         "legendgroup": "Put: (-0.7, -0.6), Call: (0.5, 0.6)",
         "line": {
          "color": "#ab63fa",
          "dash": "solid"
         },
         "marker": {
          "symbol": "circle"
         },
         "mode": "lines",
         "name": "Put: (-0.7, -0.6), Call: (0.5, 0.6)",
         "showlegend": true,
         "type": "scattergl",
         "x": [
          "2024-01-03",
          "2024-01-05",
          "2024-01-08",
          "2024-01-10",
          "2024-01-12",
          "2024-01-17",
          "2024-01-19",
          "2024-01-22",
          "2024-01-24",
          "2024-01-26",
          "2024-01-29",
          "2024-01-31",
          "2024-02-02",
          "2024-02-05",
          "2024-02-07",
          "2024-02-09",
          "2024-02-12",
          "2024-02-14",
          "2024-02-16",
          "2024-02-21",
          "2024-02-23",
          "2024-02-26",
          "2024-02-28",
          "2024-03-01",
          "2024-03-04",
          "2024-03-06",
          "2024-03-08",
          "2024-03-11",
          "2024-03-13",
          "2024-03-15",
          "2024-03-18",
          "2024-03-20",
          "2024-03-22",
          "2024-03-25",
          "2024-03-27",
          "2024-04-01",
          "2024-04-03",
          "2024-04-05",
          "2024-04-08",
          "2024-04-10",
          "2024-04-12",
          "2024-04-15",
          "2024-04-17",
          "2024-04-19",
          "2024-04-22",
          "2024-04-24",
          "2024-04-26",
          "2024-04-29",
          "2024-05-01",
          "2024-05-03",
          "2024-05-06",
          "2024-05-08",
          "2024-05-10",
          "2024-05-13",
          "2024-05-15",
          "2024-05-17",
          "2024-05-20",
          "2024-05-22",
          "2024-05-24",
          "2024-05-29",
          "2024-05-31",
          "2024-06-03",
          "2024-06-05",
          "2024-06-07",
          "2024-06-10",
          "2024-06-12",
          "2024-06-14",
          "2024-06-17",
          "2024-06-21",
          "2024-06-24",
          "2024-06-26",
          "2024-06-28",
          "2024-07-01",
          "2024-07-03",
          "2024-07-05",
          "2024-07-08",
          "2024-07-10",
          "2024-07-12",
          "2024-07-15",
          "2024-07-17",
          "2024-07-19",
          "2024-07-22",
          "2024-07-24",
          "2024-07-26",
          "2024-07-29",
          "2024-08-12",
          "2024-08-14",
          "2024-08-16",
          "2024-08-19",
          "2024-08-21",
          "2024-08-23",
          "2024-08-26",
          "2024-08-28",
          "2024-08-30",
          "2024-09-04",
          "2024-09-06",
          "2024-09-09",
          "2024-09-11",
          "2024-09-12",
          "2024-09-13",
          "2024-09-16",
          "2024-09-17",
          "2024-09-18",
          "2024-09-19",
          "2024-09-20",
          "2024-09-23",
          "2024-09-24",
          "2024-09-25",
          "2024-09-26",
          "2024-09-27",
          "2024-09-30",
          "2024-10-01",
          "2024-10-02",
          "2024-10-03",
          "2024-10-04",
          "2024-10-07",
          "2024-10-08",
          "2024-10-09",
          "2024-10-10",
          "2024-10-11",
          "2024-10-14",
          "2024-10-15",
          "2024-10-16",
          "2024-10-17",
          "2024-10-18",
          "2024-10-21",
          "2024-10-22",
          "2024-10-23",
          "2024-10-24",
          "2024-10-25",
          "2024-10-28",
          "2024-10-29",
          "2024-10-30",
          "2024-10-31",
          "2024-11-01",
          "2024-11-04",
          "2024-11-05",
          "2024-11-06",
          "2024-11-07",
          "2024-11-08",
          "2024-11-11",
          "2024-11-13",
          "2024-11-14",
          "2024-11-15",
          "2024-11-18",
          "2024-11-19",
          "2024-11-20",
          "2024-11-21",
          "2024-11-22",
          "2024-11-25",
          "2024-11-26",
          "2024-11-27",
          "2024-11-29",
          "2024-12-02",
          "2024-12-03",
          "2024-12-04",
          "2024-12-05",
          "2024-12-06",
          "2024-12-09",
          "2024-12-10",
          "2024-12-11",
          "2024-12-12",
          "2024-12-13",
          "2024-12-16",
          "2024-12-17",
          "2024-12-18",
          "2024-12-19",
          "2024-12-20",
          "2024-12-23",
          "2024-12-24",
          "2024-12-27",
          "2024-12-30"
         ],
         "xaxis": "x",
         "y": {
          "bdata": "AAAAAEBC1EAAAAAAQELUQAAAAABAQtRAAAAAAEBC1EAAAAAAQELUQAAAAABAQtRAAAAAAEBC1EAAAAAAQELUQAAAAABAQtRAAAAAAEBC1EAAAAAAQELUQAAAAABAQtRAAAAAAEBC1ED///9lP+zTQAAAAHS9eNRAAAAA3c9w1ED////bgkbUQAAAABjd+9NAAQAAlhTO00AAAABbVM7TQAAAAC9O09NA////GHex00AAAABA77fTQAAAADckjNNAAAAAcK0a00AAAABA4YXSQAAAAEDhhdJAAAAAATTg0kAAAADd5DTTQAAAAPr3WdNAAAAA6VZ100AAAAD3gfDTQAAAACiCUdNAAAAAXu0t00AAAAAxI2vTQAAAANWFGdNAAAAAUxEQ00AAAABtUw7TQAAAAHo18tJAAAAAgonh0kAAAACCieHSQAAAAADALNNAAAAAAIAR1EAAAAAAgBHUQAAAAACAEdRAAAAAAIAR1EAAAAAAgBHUQAAAAACAEdRAAAAAAIAR1EAAAAAAgBHUQAAAAACAEdRAAAAAAIAR1EAAAAAAgBHUQAAAAACAEdRAAAAAAIAR1EAAAAAAgBHUQAAAAAAAm9RAAAAAAACb1EAAAAAAAJvUQAAAAAAAm9RAAAAAAACb1EAAAAAAAJvUQAAAAAAAm9RAAAAAAACb1EAAAAAAAJvUQAAAAAAAm9RAAAAAAACb1EAAAAAAAJvUQAAAAAAAm9RAAAAAAEAy1UAAAAAAQDLVQAAAAABAMtVAAAAAAEAy1UAAAAAAQDLVQAAAAABAMtVAAAAAAEAy1UAAAAAAQDLVQAAAAABAMtVAAAAAAEAy1UAAAAAAQDLVQAAAAABAMtVAAAAAAAAc1kAAAAAAABzWQAAAAAAAHNZAAAAAAAAc1kAAAAAAABzWQAAAAAAAHNZAAAAAAAAc1kAAAAAxGTvWQAAAAO7RR9ZAAAAAy8tS1kD////7RlvWQP///7sQStZA/v//ca2I1kABAAAJYL3VQAAAAIigvNVAAAAAJN++1UAAAACIhurVQP////hE7dVA////+ETt1UABAAC33+7VQP////uY+tVAAAAAQuJb1kAAAABF7yfXQAAAAKg4F9dAAAAAABHs1kAAAABdhALXQAAAAG2S6dZA////RUIG10AAAABl/gzXQAAAAEv1jtdAAAAAv5Tl1kAAAACwzPPWQAEAADYc2NZAAAAAbEz01kD+//8x1HTWQAAAAOKa2tZAAAAA4qU410D////pLCzXQP///+ksLNdAAAAAAADL1kAAAAAAAMvWQAAAAAAAy9ZAAAAAAADL1kAAAAAAAMvWQAAAAAAAy9ZAAAAAAADL1kAAAAAAAMvWQAAAAAAAy9ZAAAAAAADL1kAAAAAAAMvWQAAAAAAAy9ZAAAAAAADL1kAAAAAAAMvWQAAAAAAAy9ZAAAAAAADL1kAAAAAAAMvWQAAAAAAAy9ZAAAAAAADL1kAAAAAAAMvWQP///+XXqdVAAAAApRHA1UAAAADoew3WQAAAAHUSvdVAAAAAS30I1kD///9m+w7WQAAAAFX2INZA////xvkU1kAAAAA/sDbWQP///yabgdZAAAAAvUu41kAAAACvDLXWQP///9j78NZAAAAA5Wsp10AAAABl1nXXQP///9vTftdAAAAAqJN/10AAAACok3/XQAAAAABAw9VAAAAAAMBW1kAAAAAAwFbWQAAAAADAVtZAAAAAAMBW1kAAAAAAwFbWQAAAAADAVtZAAAAAAMBW1kAAAAAAwFbWQAAAAADAVtZAAAAAAMBW1kAAAAAAwFbWQAAAAADAVtZAAAAAAMBW1kA=",
          "dtype": "f8"
         },
         "yaxis": "y"
        },
        {
         "customdata": [
          [
           "(-0.7, -0.6)",
           "(0.6, 0.7)"
          ],
          [
           "(-0.7, -0.6)",
           "(0.6, 0.7)"
          ],
          [
           "(-0.7, -0.6)",
           "(0.6, 0.7)"
          ],
          [
           "(-0.7, -0.6)",
           "(0.6, 0.7)"
          ],
          [
           "(-0.7, -0.6)",
           "(0.6, 0.7)"
          ],
          [
           "(-0.7, -0.6)",
           "(0.6, 0.7)"
          ],
          [
           "(-0.7, -0.6)",
           "(0.6, 0.7)"
          ],
          [
           "(-0.7, -0.6)",
           "(0.6, 0.7)"
          ],
          [
           "(-0.7, -0.6)",
           "(0.6, 0.7)"
          ],
          [
           "(-0.7, -0.6)",
           "(0.6, 0.7)"
          ],
          [
           "(-0.7, -0.6)",
           "(0.6, 0.7)"
          ],
          [
           "(-0.7, -0.6)",
           "(0.6, 0.7)"
          ],
          [
           "(-0.7, -0.6)",
           "(0.6, 0.7)"
          ],
          [
           "(-0.7, -0.6)",
           "(0.6, 0.7)"
          ],
          [
           "(-0.7, -0.6)",
           "(0.6, 0.7)"
          ],
          [
           "(-0.7, -0.6)",
           "(0.6, 0.7)"
          ],
          [
           "(-0.7, -0.6)",
           "(0.6, 0.7)"
          ],
          [
           "(-0.7, -0.6)",
           "(0.6, 0.7)"
          ],
          [
           "(-0.7, -0.6)",
           "(0.6, 0.7)"
          ],
          [
           "(-0.7, -0.6)",
           "(0.6, 0.7)"
          ],
          [
           "(-0.7, -0.6)",
           "(0.6, 0.7)"
          ],
          [
           "(-0.7, -0.6)",
           "(0.6, 0.7)"
          ],
          [
           "(-0.7, -0.6)",
           "(0.6, 0.7)"
          ],
          [
           "(-0.7, -0.6)",
           "(0.6, 0.7)"
          ],
          [
           "(-0.7, -0.6)",
           "(0.6, 0.7)"
          ],
          [
           "(-0.7, -0.6)",
           "(0.6, 0.7)"
          ],
          [
           "(-0.7, -0.6)",
           "(0.6, 0.7)"
          ],
          [
           "(-0.7, -0.6)",
           "(0.6, 0.7)"
          ],
          [
           "(-0.7, -0.6)",
           "(0.6, 0.7)"
          ],
          [
           "(-0.7, -0.6)",
           "(0.6, 0.7)"
          ],
          [
           "(-0.7, -0.6)",
           "(0.6, 0.7)"
          ],
          [
           "(-0.7, -0.6)",
           "(0.6, 0.7)"
          ],
          [
           "(-0.7, -0.6)",
           "(0.6, 0.7)"
          ],
          [
           "(-0.7, -0.6)",
           "(0.6, 0.7)"
          ],
          [
           "(-0.7, -0.6)",
           "(0.6, 0.7)"
          ],
          [
           "(-0.7, -0.6)",
           "(0.6, 0.7)"
          ],
          [
           "(-0.7, -0.6)",
           "(0.6, 0.7)"
          ],
          [
           "(-0.7, -0.6)",
           "(0.6, 0.7)"
          ],
          [
           "(-0.7, -0.6)",
           "(0.6, 0.7)"
          ],
          [
           "(-0.7, -0.6)",
           "(0.6, 0.7)"
          ],
          [
           "(-0.7, -0.6)",
           "(0.6, 0.7)"
          ],
          [
           "(-0.7, -0.6)",
           "(0.6, 0.7)"
          ],
          [
           "(-0.7, -0.6)",
           "(0.6, 0.7)"
          ],
          [
           "(-0.7, -0.6)",
           "(0.6, 0.7)"
          ],
          [
           "(-0.7, -0.6)",
           "(0.6, 0.7)"
          ],
          [
           "(-0.7, -0.6)",
           "(0.6, 0.7)"
          ],
          [
           "(-0.7, -0.6)",
           "(0.6, 0.7)"
          ],
          [
           "(-0.7, -0.6)",
           "(0.6, 0.7)"
          ],
          [
           "(-0.7, -0.6)",
           "(0.6, 0.7)"
          ],
          [
           "(-0.7, -0.6)",
           "(0.6, 0.7)"
          ],
          [
           "(-0.7, -0.6)",
           "(0.6, 0.7)"
          ],
          [
           "(-0.7, -0.6)",
           "(0.6, 0.7)"
          ],
          [
           "(-0.7, -0.6)",
           "(0.6, 0.7)"
          ],
          [
           "(-0.7, -0.6)",
           "(0.6, 0.7)"
          ],
          [
           "(-0.7, -0.6)",
           "(0.6, 0.7)"
          ],
          [
           "(-0.7, -0.6)",
           "(0.6, 0.7)"
          ],
          [
           "(-0.7, -0.6)",
           "(0.6, 0.7)"
          ],
          [
           "(-0.7, -0.6)",
           "(0.6, 0.7)"
          ],
          [
           "(-0.7, -0.6)",
           "(0.6, 0.7)"
          ],
          [
           "(-0.7, -0.6)",
           "(0.6, 0.7)"
          ],
          [
           "(-0.7, -0.6)",
           "(0.6, 0.7)"
          ],
          [
           "(-0.7, -0.6)",
           "(0.6, 0.7)"
          ],
          [
           "(-0.7, -0.6)",
           "(0.6, 0.7)"
          ],
          [
           "(-0.7, -0.6)",
           "(0.6, 0.7)"
          ],
          [
           "(-0.7, -0.6)",
           "(0.6, 0.7)"
          ],
          [
           "(-0.7, -0.6)",
           "(0.6, 0.7)"
          ],
          [
           "(-0.7, -0.6)",
           "(0.6, 0.7)"
          ],
          [
           "(-0.7, -0.6)",
           "(0.6, 0.7)"
          ],
          [
           "(-0.7, -0.6)",
           "(0.6, 0.7)"
          ],
          [
           "(-0.7, -0.6)",
           "(0.6, 0.7)"
          ],
          [
           "(-0.7, -0.6)",
           "(0.6, 0.7)"
          ],
          [
           "(-0.7, -0.6)",
           "(0.6, 0.7)"
          ],
          [
           "(-0.7, -0.6)",
           "(0.6, 0.7)"
          ],
          [
           "(-0.7, -0.6)",
           "(0.6, 0.7)"
          ],
          [
           "(-0.7, -0.6)",
           "(0.6, 0.7)"
          ],
          [
           "(-0.7, -0.6)",
           "(0.6, 0.7)"
          ],
          [
           "(-0.7, -0.6)",
           "(0.6, 0.7)"
          ],
          [
           "(-0.7, -0.6)",
           "(0.6, 0.7)"
          ],
          [
           "(-0.7, -0.6)",
           "(0.6, 0.7)"
          ],
          [
           "(-0.7, -0.6)",
           "(0.6, 0.7)"
          ],
          [
           "(-0.7, -0.6)",
           "(0.6, 0.7)"
          ],
          [
           "(-0.7, -0.6)",
           "(0.6, 0.7)"
          ],
          [
           "(-0.7, -0.6)",
           "(0.6, 0.7)"
          ],
          [
           "(-0.7, -0.6)",
           "(0.6, 0.7)"
          ],
          [
           "(-0.7, -0.6)",
           "(0.6, 0.7)"
          ],
          [
           "(-0.7, -0.6)",
           "(0.6, 0.7)"
          ],
          [
           "(-0.7, -0.6)",
           "(0.6, 0.7)"
          ],
          [
           "(-0.7, -0.6)",
           "(0.6, 0.7)"
          ],
          [
           "(-0.7, -0.6)",
           "(0.6, 0.7)"
          ],
          [
           "(-0.7, -0.6)",
           "(0.6, 0.7)"
          ],
          [
           "(-0.7, -0.6)",
           "(0.6, 0.7)"
          ],
          [
           "(-0.7, -0.6)",
           "(0.6, 0.7)"
          ],
          [
           "(-0.7, -0.6)",
           "(0.6, 0.7)"
          ],
          [
           "(-0.7, -0.6)",
           "(0.6, 0.7)"
          ],
          [
           "(-0.7, -0.6)",
           "(0.6, 0.7)"
          ],
          [
           "(-0.7, -0.6)",
           "(0.6, 0.7)"
          ],
          [
           "(-0.7, -0.6)",
           "(0.6, 0.7)"
          ],
          [
           "(-0.7, -0.6)",
           "(0.6, 0.7)"
          ],
          [
           "(-0.7, -0.6)",
           "(0.6, 0.7)"
          ],
          [
           "(-0.7, -0.6)",
           "(0.6, 0.7)"
          ],
          [
           "(-0.7, -0.6)",
           "(0.6, 0.7)"
          ],
          [
           "(-0.7, -0.6)",
           "(0.6, 0.7)"
          ],
          [
           "(-0.7, -0.6)",
           "(0.6, 0.7)"
          ],
          [
           "(-0.7, -0.6)",
           "(0.6, 0.7)"
          ],
          [
           "(-0.7, -0.6)",
           "(0.6, 0.7)"
          ],
          [
           "(-0.7, -0.6)",
           "(0.6, 0.7)"
          ],
          [
           "(-0.7, -0.6)",
           "(0.6, 0.7)"
          ],
          [
           "(-0.7, -0.6)",
           "(0.6, 0.7)"
          ],
          [
           "(-0.7, -0.6)",
           "(0.6, 0.7)"
          ],
          [
           "(-0.7, -0.6)",
           "(0.6, 0.7)"
          ],
          [
           "(-0.7, -0.6)",
           "(0.6, 0.7)"
          ],
          [
           "(-0.7, -0.6)",
           "(0.6, 0.7)"
          ],
          [
           "(-0.7, -0.6)",
           "(0.6, 0.7)"
          ],
          [
           "(-0.7, -0.6)",
           "(0.6, 0.7)"
          ],
          [
           "(-0.7, -0.6)",
           "(0.6, 0.7)"
          ],
          [
           "(-0.7, -0.6)",
           "(0.6, 0.7)"
          ],
          [
           "(-0.7, -0.6)",
           "(0.6, 0.7)"
          ],
          [
           "(-0.7, -0.6)",
           "(0.6, 0.7)"
          ],
          [
           "(-0.7, -0.6)",
           "(0.6, 0.7)"
          ],
          [
           "(-0.7, -0.6)",
           "(0.6, 0.7)"
          ],
          [
           "(-0.7, -0.6)",
           "(0.6, 0.7)"
          ],
          [
           "(-0.7, -0.6)",
           "(0.6, 0.7)"
          ],
          [
           "(-0.7, -0.6)",
           "(0.6, 0.7)"
          ],
          [
           "(-0.7, -0.6)",
           "(0.6, 0.7)"
          ],
          [
           "(-0.7, -0.6)",
           "(0.6, 0.7)"
          ],
          [
           "(-0.7, -0.6)",
           "(0.6, 0.7)"
          ],
          [
           "(-0.7, -0.6)",
           "(0.6, 0.7)"
          ],
          [
           "(-0.7, -0.6)",
           "(0.6, 0.7)"
          ],
          [
           "(-0.7, -0.6)",
           "(0.6, 0.7)"
          ],
          [
           "(-0.7, -0.6)",
           "(0.6, 0.7)"
          ],
          [
           "(-0.7, -0.6)",
           "(0.6, 0.7)"
          ],
          [
           "(-0.7, -0.6)",
           "(0.6, 0.7)"
          ],
          [
           "(-0.7, -0.6)",
           "(0.6, 0.7)"
          ],
          [
           "(-0.7, -0.6)",
           "(0.6, 0.7)"
          ],
          [
           "(-0.7, -0.6)",
           "(0.6, 0.7)"
          ],
          [
           "(-0.7, -0.6)",
           "(0.6, 0.7)"
          ],
          [
           "(-0.7, -0.6)",
           "(0.6, 0.7)"
          ],
          [
           "(-0.7, -0.6)",
           "(0.6, 0.7)"
          ],
          [
           "(-0.7, -0.6)",
           "(0.6, 0.7)"
          ],
          [
           "(-0.7, -0.6)",
           "(0.6, 0.7)"
          ],
          [
           "(-0.7, -0.6)",
           "(0.6, 0.7)"
          ],
          [
           "(-0.7, -0.6)",
           "(0.6, 0.7)"
          ],
          [
           "(-0.7, -0.6)",
           "(0.6, 0.7)"
          ],
          [
           "(-0.7, -0.6)",
           "(0.6, 0.7)"
          ],
          [
           "(-0.7, -0.6)",
           "(0.6, 0.7)"
          ],
          [
           "(-0.7, -0.6)",
           "(0.6, 0.7)"
          ],
          [
           "(-0.7, -0.6)",
           "(0.6, 0.7)"
          ],
          [
           "(-0.7, -0.6)",
           "(0.6, 0.7)"
          ],
          [
           "(-0.7, -0.6)",
           "(0.6, 0.7)"
          ],
          [
           "(-0.7, -0.6)",
           "(0.6, 0.7)"
          ],
          [
           "(-0.7, -0.6)",
           "(0.6, 0.7)"
          ],
          [
           "(-0.7, -0.6)",
           "(0.6, 0.7)"
          ],
          [
           "(-0.7, -0.6)",
           "(0.6, 0.7)"
          ],
          [
           "(-0.7, -0.6)",
           "(0.6, 0.7)"
          ],
          [
           "(-0.7, -0.6)",
           "(0.6, 0.7)"
          ],
          [
           "(-0.7, -0.6)",
           "(0.6, 0.7)"
          ],
          [
           "(-0.7, -0.6)",
           "(0.6, 0.7)"
          ],
          [
           "(-0.7, -0.6)",
           "(0.6, 0.7)"
          ],
          [
           "(-0.7, -0.6)",
           "(0.6, 0.7)"
          ],
          [
           "(-0.7, -0.6)",
           "(0.6, 0.7)"
          ],
          [
           "(-0.7, -0.6)",
           "(0.6, 0.7)"
          ],
          [
           "(-0.7, -0.6)",
           "(0.6, 0.7)"
          ],
          [
           "(-0.7, -0.6)",
           "(0.6, 0.7)"
          ],
          [
           "(-0.7, -0.6)",
           "(0.6, 0.7)"
          ],
          [
           "(-0.7, -0.6)",
           "(0.6, 0.7)"
          ],
          [
           "(-0.7, -0.6)",
           "(0.6, 0.7)"
          ],
          [
           "(-0.7, -0.6)",
           "(0.6, 0.7)"
          ],
          [
           "(-0.7, -0.6)",
           "(0.6, 0.7)"
          ],
          [
           "(-0.7, -0.6)",
           "(0.6, 0.7)"
          ],
          [
           "(-0.7, -0.6)",
           "(0.6, 0.7)"
          ],
          [
           "(-0.7, -0.6)",
           "(0.6, 0.7)"
          ],
          [
           "(-0.7, -0.6)",
           "(0.6, 0.7)"
          ]
         ],
         "hovertemplate": "<b>Date:</b> %{x}<br><b>Portfolio Value:</b> %{y}<br><b>Put Delta Range:</b> %{customdata[0]}<br><b>Call Delta Range:</b> %{customdata[1]}",
         "legendgroup": "Put: (-0.7, -0.6), Call: (0.6, 0.7)",
         "line": {
          "color": "#FFA15A",
          "dash": "solid"
         },
         "marker": {
          "symbol": "circle"
         },
         "mode": "lines",
         "name": "Put: (-0.7, -0.6), Call: (0.6, 0.7)",
         "showlegend": true,
         "type": "scattergl",
         "x": [
          "2024-01-03",
          "2024-01-05",
          "2024-01-08",
          "2024-01-10",
          "2024-01-12",
          "2024-01-17",
          "2024-01-19",
          "2024-01-22",
          "2024-01-24",
          "2024-01-26",
          "2024-01-29",
          "2024-01-31",
          "2024-02-02",
          "2024-02-05",
          "2024-02-07",
          "2024-02-09",
          "2024-02-12",
          "2024-02-14",
          "2024-02-16",
          "2024-02-21",
          "2024-02-23",
          "2024-02-26",
          "2024-02-28",
          "2024-03-01",
          "2024-03-04",
          "2024-03-06",
          "2024-03-08",
          "2024-03-11",
          "2024-03-13",
          "2024-03-15",
          "2024-03-18",
          "2024-03-20",
          "2024-03-22",
          "2024-03-25",
          "2024-03-27",
          "2024-04-01",
          "2024-04-03",
          "2024-04-05",
          "2024-04-08",
          "2024-04-10",
          "2024-04-12",
          "2024-04-15",
          "2024-04-17",
          "2024-04-19",
          "2024-04-22",
          "2024-04-24",
          "2024-04-26",
          "2024-04-29",
          "2024-05-01",
          "2024-05-03",
          "2024-05-06",
          "2024-05-08",
          "2024-05-10",
          "2024-05-13",
          "2024-05-15",
          "2024-05-17",
          "2024-05-20",
          "2024-05-22",
          "2024-05-24",
          "2024-05-29",
          "2024-05-31",
          "2024-06-03",
          "2024-06-05",
          "2024-06-07",
          "2024-06-10",
          "2024-06-12",
          "2024-06-14",
          "2024-06-17",
          "2024-06-21",
          "2024-06-24",
          "2024-06-26",
          "2024-06-28",
          "2024-07-01",
          "2024-07-03",
          "2024-07-05",
          "2024-07-08",
          "2024-07-10",
          "2024-07-12",
          "2024-07-15",
          "2024-07-17",
          "2024-07-19",
          "2024-07-22",
          "2024-07-24",
          "2024-07-26",
          "2024-07-29",
          "2024-08-12",
          "2024-08-14",
          "2024-08-16",
          "2024-08-19",
          "2024-08-21",
          "2024-08-23",
          "2024-08-26",
          "2024-08-28",
          "2024-08-30",
          "2024-09-04",
          "2024-09-06",
          "2024-09-09",
          "2024-09-11",
          "2024-09-12",
          "2024-09-13",
          "2024-09-16",
          "2024-09-17",
          "2024-09-18",
          "2024-09-19",
          "2024-09-20",
          "2024-09-23",
          "2024-09-24",
          "2024-09-25",
          "2024-09-26",
          "2024-09-27",
          "2024-09-30",
          "2024-10-01",
          "2024-10-02",
          "2024-10-03",
          "2024-10-04",
          "2024-10-07",
          "2024-10-08",
          "2024-10-09",
          "2024-10-10",
          "2024-10-11",
          "2024-10-14",
          "2024-10-15",
          "2024-10-16",
          "2024-10-17",
          "2024-10-18",
          "2024-10-21",
          "2024-10-22",
          "2024-10-23",
          "2024-10-24",
          "2024-10-25",
          "2024-10-28",
          "2024-10-29",
          "2024-10-30",
          "2024-10-31",
          "2024-11-01",
          "2024-11-04",
          "2024-11-05",
          "2024-11-06",
          "2024-11-07",
          "2024-11-08",
          "2024-11-11",
          "2024-11-13",
          "2024-11-14",
          "2024-11-15",
          "2024-11-18",
          "2024-11-19",
          "2024-11-20",
          "2024-11-21",
          "2024-11-22",
          "2024-11-25",
          "2024-11-26",
          "2024-11-27",
          "2024-11-29",
          "2024-12-02",
          "2024-12-03",
          "2024-12-04",
          "2024-12-05",
          "2024-12-06",
          "2024-12-09",
          "2024-12-10",
          "2024-12-11",
          "2024-12-12",
          "2024-12-13",
          "2024-12-16",
          "2024-12-17",
          "2024-12-18",
          "2024-12-19",
          "2024-12-20",
          "2024-12-23",
          "2024-12-24",
          "2024-12-27",
          "2024-12-30"
         ],
         "xaxis": "x",
         "y": {
          "bdata": "AAAAAEBC1EAAAAAAQELUQAAAAABAQtRAAAAAAEBC1EAAAAAAQELUQAAAAABAQtRAAAAAAEBC1EAAAAAAQELUQAAAAABAQtRAAAAAAEBC1EAAAAAAQELUQAAAAABAQtRAAAAAAEBC1ED///9lf3nUQAAAAHR9pNRAAAAA3Y+c1ED////bQnLUQAAAABidJ9RAAQAAltT500AAAABbFPrTQAAAAC8O/9NA////GDfd00AAAABAr+PTQAAAAECv49NAAAAAcG1G00AAAABAoWXTQAAAANGwjdNAAAAAAfS/00AAAADdpJfTQAAAAPq3vNNAAAAA6RbY00AAAAD3QVPUQAAAAChCtNNAAAAAXq2Q00AAAAAx483TQAAAANVFfNNAAAAAU9Fy00AAAABT0XLTQAAAAACAEtNAAAAAAMBy00AAAAAAwHLTQAAAAADActNAAAAAAMBy00AAAAAAwHLTQAAAAADActNAAAAAAMBy00AAAAAAwHLTQAAAAHIdcNRAAAAA7psH1EAAAABo9GXVQAEAALZmPNVAAAAAvwdW1UAAAAC062PVQAEAAIlmtNVA/v//0RwK1kAAAACo2Q3WQAAAAIwAK9ZAAAAAlIMn1kAAAACUgyfWQAAAAADAy9RAAAAAAMDL1EAAAAAAwMvUQAAAAADAy9RAAAAAAMDL1EAAAAAAwMvUQAAAAADAy9RAAAAAAMDL1EAAAAAAwMvUQAAAAADAy9RAAAAAAMDL1EAAAAAAwMvUQAAAAADAy9RAAAAAAEBf1UAAAAAAQF/VQAAAAABAX9VAAAAAAEBf1UAAAAAAQF/VQAAAAABAX9VAAAAAAEBf1UAAAAAAQF/VQAAAAABAX9VAAAAAAEBf1UAAAAAAQF/VQAAAAABAX9VAAAAAbPn81UAAAACrjvHVQAAAAMwTWtZAAAAA+BbG1kAAAAAxGcLWQAAAAO7RztZAAAAA7tHO1kAAAAAAgH3WQAAAAACAfdZAAAAAAIB91kAAAAAAgH3WQAAAAACAfdZAAAAAAIB91kAAAAAAgH3WQAAAAACAfdZAAAAAAIB91kAAAAAAgH3WQAAAAACAfdZAAAAAAIB91kAAAAAAgH3WQAAAAACAfdZAAAAAABGc1kAAAABdhLLWQAAAAG2SmdZA////RUK21kAAAABl/rzWQAAAAEv1PtdAAAAAv5SV1kAAAACwzKPWQAEAADYciNZAAAAAbEyk1kD+//8x1CTWQAAAAOKaitZAAAAA4qXo1kD////pLNzWQAAAAOABt9ZAAAAAJI0U10D+//9RKVTXQAAAAGCGINdAAAAAK8Ep10AAAAArwSnXQAAAAACAT9dAAAAAAIBP10AAAAAAgE/XQAAAAACAT9dAAAAAAIBP10AAAAAAgE/XQAAAAACAT9dAAAAAAIBP10AAAAAAgE/XQAAAAACAT9dAAAAAAIBP10AAAAAAgE/XQAAAAACAT9dAAAAAAIBP10AAAAAAgE/XQAAAAACAT9dAAAAAAIBP10AAAAAAgE/XQAAAAACAT9dAAAAASz001kD///9muzrWQAAAAFW2TNZA////xrlA1kAAAAA/cGLWQP///yZbrdZAAAAAvQvk1kAAAACvzODWQP///9i7HNdAAAAA5StV10AAAABllqHXQP///9uTqtdAAAAAqFOr10AAAAALVabXQAAAAKD5B9hAAAAAbXIh2EAAAABrewHYQAAAACwxJthAAAAALDEm2EAAAAAAwIjWQAAAAADAiNZAAAAAAMCI1kAAAAAAwIjWQAAAAADAiNZAAAAAAMCI1kAAAAAAwIjWQAAAAADAiNZAAAAAAMCI1kA=",
          "dtype": "f8"
         },
         "yaxis": "y"
        },
        {
         "customdata": [
          [
           "(-0.6, -0.5)",
           "(0.2, 0.3)"
          ],
          [
           "(-0.6, -0.5)",
           "(0.2, 0.3)"
          ],
          [
           "(-0.6, -0.5)",
           "(0.2, 0.3)"
          ],
          [
           "(-0.6, -0.5)",
           "(0.2, 0.3)"
          ],
          [
           "(-0.6, -0.5)",
           "(0.2, 0.3)"
          ],
          [
           "(-0.6, -0.5)",
           "(0.2, 0.3)"
          ],
          [
           "(-0.6, -0.5)",
           "(0.2, 0.3)"
          ],
          [
           "(-0.6, -0.5)",
           "(0.2, 0.3)"
          ],
          [
           "(-0.6, -0.5)",
           "(0.2, 0.3)"
          ],
          [
           "(-0.6, -0.5)",
           "(0.2, 0.3)"
          ],
          [
           "(-0.6, -0.5)",
           "(0.2, 0.3)"
          ],
          [
           "(-0.6, -0.5)",
           "(0.2, 0.3)"
          ],
          [
           "(-0.6, -0.5)",
           "(0.2, 0.3)"
          ],
          [
           "(-0.6, -0.5)",
           "(0.2, 0.3)"
          ],
          [
           "(-0.6, -0.5)",
           "(0.2, 0.3)"
          ],
          [
           "(-0.6, -0.5)",
           "(0.2, 0.3)"
          ],
          [
           "(-0.6, -0.5)",
           "(0.2, 0.3)"
          ],
          [
           "(-0.6, -0.5)",
           "(0.2, 0.3)"
          ],
          [
           "(-0.6, -0.5)",
           "(0.2, 0.3)"
          ],
          [
           "(-0.6, -0.5)",
           "(0.2, 0.3)"
          ],
          [
           "(-0.6, -0.5)",
           "(0.2, 0.3)"
          ],
          [
           "(-0.6, -0.5)",
           "(0.2, 0.3)"
          ],
          [
           "(-0.6, -0.5)",
           "(0.2, 0.3)"
          ],
          [
           "(-0.6, -0.5)",
           "(0.2, 0.3)"
          ],
          [
           "(-0.6, -0.5)",
           "(0.2, 0.3)"
          ],
          [
           "(-0.6, -0.5)",
           "(0.2, 0.3)"
          ],
          [
           "(-0.6, -0.5)",
           "(0.2, 0.3)"
          ],
          [
           "(-0.6, -0.5)",
           "(0.2, 0.3)"
          ],
          [
           "(-0.6, -0.5)",
           "(0.2, 0.3)"
          ],
          [
           "(-0.6, -0.5)",
           "(0.2, 0.3)"
          ],
          [
           "(-0.6, -0.5)",
           "(0.2, 0.3)"
          ],
          [
           "(-0.6, -0.5)",
           "(0.2, 0.3)"
          ],
          [
           "(-0.6, -0.5)",
           "(0.2, 0.3)"
          ],
          [
           "(-0.6, -0.5)",
           "(0.2, 0.3)"
          ],
          [
           "(-0.6, -0.5)",
           "(0.2, 0.3)"
          ],
          [
           "(-0.6, -0.5)",
           "(0.2, 0.3)"
          ],
          [
           "(-0.6, -0.5)",
           "(0.2, 0.3)"
          ],
          [
           "(-0.6, -0.5)",
           "(0.2, 0.3)"
          ],
          [
           "(-0.6, -0.5)",
           "(0.2, 0.3)"
          ],
          [
           "(-0.6, -0.5)",
           "(0.2, 0.3)"
          ],
          [
           "(-0.6, -0.5)",
           "(0.2, 0.3)"
          ],
          [
           "(-0.6, -0.5)",
           "(0.2, 0.3)"
          ],
          [
           "(-0.6, -0.5)",
           "(0.2, 0.3)"
          ],
          [
           "(-0.6, -0.5)",
           "(0.2, 0.3)"
          ],
          [
           "(-0.6, -0.5)",
           "(0.2, 0.3)"
          ],
          [
           "(-0.6, -0.5)",
           "(0.2, 0.3)"
          ],
          [
           "(-0.6, -0.5)",
           "(0.2, 0.3)"
          ],
          [
           "(-0.6, -0.5)",
           "(0.2, 0.3)"
          ],
          [
           "(-0.6, -0.5)",
           "(0.2, 0.3)"
          ],
          [
           "(-0.6, -0.5)",
           "(0.2, 0.3)"
          ],
          [
           "(-0.6, -0.5)",
           "(0.2, 0.3)"
          ],
          [
           "(-0.6, -0.5)",
           "(0.2, 0.3)"
          ],
          [
           "(-0.6, -0.5)",
           "(0.2, 0.3)"
          ],
          [
           "(-0.6, -0.5)",
           "(0.2, 0.3)"
          ],
          [
           "(-0.6, -0.5)",
           "(0.2, 0.3)"
          ],
          [
           "(-0.6, -0.5)",
           "(0.2, 0.3)"
          ],
          [
           "(-0.6, -0.5)",
           "(0.2, 0.3)"
          ],
          [
           "(-0.6, -0.5)",
           "(0.2, 0.3)"
          ],
          [
           "(-0.6, -0.5)",
           "(0.2, 0.3)"
          ],
          [
           "(-0.6, -0.5)",
           "(0.2, 0.3)"
          ],
          [
           "(-0.6, -0.5)",
           "(0.2, 0.3)"
          ],
          [
           "(-0.6, -0.5)",
           "(0.2, 0.3)"
          ],
          [
           "(-0.6, -0.5)",
           "(0.2, 0.3)"
          ],
          [
           "(-0.6, -0.5)",
           "(0.2, 0.3)"
          ],
          [
           "(-0.6, -0.5)",
           "(0.2, 0.3)"
          ],
          [
           "(-0.6, -0.5)",
           "(0.2, 0.3)"
          ],
          [
           "(-0.6, -0.5)",
           "(0.2, 0.3)"
          ],
          [
           "(-0.6, -0.5)",
           "(0.2, 0.3)"
          ],
          [
           "(-0.6, -0.5)",
           "(0.2, 0.3)"
          ],
          [
           "(-0.6, -0.5)",
           "(0.2, 0.3)"
          ],
          [
           "(-0.6, -0.5)",
           "(0.2, 0.3)"
          ],
          [
           "(-0.6, -0.5)",
           "(0.2, 0.3)"
          ],
          [
           "(-0.6, -0.5)",
           "(0.2, 0.3)"
          ],
          [
           "(-0.6, -0.5)",
           "(0.2, 0.3)"
          ],
          [
           "(-0.6, -0.5)",
           "(0.2, 0.3)"
          ],
          [
           "(-0.6, -0.5)",
           "(0.2, 0.3)"
          ],
          [
           "(-0.6, -0.5)",
           "(0.2, 0.3)"
          ],
          [
           "(-0.6, -0.5)",
           "(0.2, 0.3)"
          ],
          [
           "(-0.6, -0.5)",
           "(0.2, 0.3)"
          ],
          [
           "(-0.6, -0.5)",
           "(0.2, 0.3)"
          ],
          [
           "(-0.6, -0.5)",
           "(0.2, 0.3)"
          ],
          [
           "(-0.6, -0.5)",
           "(0.2, 0.3)"
          ],
          [
           "(-0.6, -0.5)",
           "(0.2, 0.3)"
          ],
          [
           "(-0.6, -0.5)",
           "(0.2, 0.3)"
          ],
          [
           "(-0.6, -0.5)",
           "(0.2, 0.3)"
          ],
          [
           "(-0.6, -0.5)",
           "(0.2, 0.3)"
          ],
          [
           "(-0.6, -0.5)",
           "(0.2, 0.3)"
          ],
          [
           "(-0.6, -0.5)",
           "(0.2, 0.3)"
          ],
          [
           "(-0.6, -0.5)",
           "(0.2, 0.3)"
          ],
          [
           "(-0.6, -0.5)",
           "(0.2, 0.3)"
          ],
          [
           "(-0.6, -0.5)",
           "(0.2, 0.3)"
          ],
          [
           "(-0.6, -0.5)",
           "(0.2, 0.3)"
          ],
          [
           "(-0.6, -0.5)",
           "(0.2, 0.3)"
          ],
          [
           "(-0.6, -0.5)",
           "(0.2, 0.3)"
          ],
          [
           "(-0.6, -0.5)",
           "(0.2, 0.3)"
          ],
          [
           "(-0.6, -0.5)",
           "(0.2, 0.3)"
          ],
          [
           "(-0.6, -0.5)",
           "(0.2, 0.3)"
          ],
          [
           "(-0.6, -0.5)",
           "(0.2, 0.3)"
          ],
          [
           "(-0.6, -0.5)",
           "(0.2, 0.3)"
          ],
          [
           "(-0.6, -0.5)",
           "(0.2, 0.3)"
          ],
          [
           "(-0.6, -0.5)",
           "(0.2, 0.3)"
          ],
          [
           "(-0.6, -0.5)",
           "(0.2, 0.3)"
          ],
          [
           "(-0.6, -0.5)",
           "(0.2, 0.3)"
          ],
          [
           "(-0.6, -0.5)",
           "(0.2, 0.3)"
          ],
          [
           "(-0.6, -0.5)",
           "(0.2, 0.3)"
          ],
          [
           "(-0.6, -0.5)",
           "(0.2, 0.3)"
          ],
          [
           "(-0.6, -0.5)",
           "(0.2, 0.3)"
          ],
          [
           "(-0.6, -0.5)",
           "(0.2, 0.3)"
          ],
          [
           "(-0.6, -0.5)",
           "(0.2, 0.3)"
          ],
          [
           "(-0.6, -0.5)",
           "(0.2, 0.3)"
          ],
          [
           "(-0.6, -0.5)",
           "(0.2, 0.3)"
          ],
          [
           "(-0.6, -0.5)",
           "(0.2, 0.3)"
          ],
          [
           "(-0.6, -0.5)",
           "(0.2, 0.3)"
          ],
          [
           "(-0.6, -0.5)",
           "(0.2, 0.3)"
          ],
          [
           "(-0.6, -0.5)",
           "(0.2, 0.3)"
          ],
          [
           "(-0.6, -0.5)",
           "(0.2, 0.3)"
          ],
          [
           "(-0.6, -0.5)",
           "(0.2, 0.3)"
          ],
          [
           "(-0.6, -0.5)",
           "(0.2, 0.3)"
          ],
          [
           "(-0.6, -0.5)",
           "(0.2, 0.3)"
          ],
          [
           "(-0.6, -0.5)",
           "(0.2, 0.3)"
          ],
          [
           "(-0.6, -0.5)",
           "(0.2, 0.3)"
          ],
          [
           "(-0.6, -0.5)",
           "(0.2, 0.3)"
          ],
          [
           "(-0.6, -0.5)",
           "(0.2, 0.3)"
          ],
          [
           "(-0.6, -0.5)",
           "(0.2, 0.3)"
          ],
          [
           "(-0.6, -0.5)",
           "(0.2, 0.3)"
          ],
          [
           "(-0.6, -0.5)",
           "(0.2, 0.3)"
          ],
          [
           "(-0.6, -0.5)",
           "(0.2, 0.3)"
          ],
          [
           "(-0.6, -0.5)",
           "(0.2, 0.3)"
          ],
          [
           "(-0.6, -0.5)",
           "(0.2, 0.3)"
          ],
          [
           "(-0.6, -0.5)",
           "(0.2, 0.3)"
          ],
          [
           "(-0.6, -0.5)",
           "(0.2, 0.3)"
          ],
          [
           "(-0.6, -0.5)",
           "(0.2, 0.3)"
          ],
          [
           "(-0.6, -0.5)",
           "(0.2, 0.3)"
          ],
          [
           "(-0.6, -0.5)",
           "(0.2, 0.3)"
          ],
          [
           "(-0.6, -0.5)",
           "(0.2, 0.3)"
          ],
          [
           "(-0.6, -0.5)",
           "(0.2, 0.3)"
          ],
          [
           "(-0.6, -0.5)",
           "(0.2, 0.3)"
          ],
          [
           "(-0.6, -0.5)",
           "(0.2, 0.3)"
          ],
          [
           "(-0.6, -0.5)",
           "(0.2, 0.3)"
          ],
          [
           "(-0.6, -0.5)",
           "(0.2, 0.3)"
          ],
          [
           "(-0.6, -0.5)",
           "(0.2, 0.3)"
          ],
          [
           "(-0.6, -0.5)",
           "(0.2, 0.3)"
          ],
          [
           "(-0.6, -0.5)",
           "(0.2, 0.3)"
          ],
          [
           "(-0.6, -0.5)",
           "(0.2, 0.3)"
          ],
          [
           "(-0.6, -0.5)",
           "(0.2, 0.3)"
          ],
          [
           "(-0.6, -0.5)",
           "(0.2, 0.3)"
          ],
          [
           "(-0.6, -0.5)",
           "(0.2, 0.3)"
          ],
          [
           "(-0.6, -0.5)",
           "(0.2, 0.3)"
          ],
          [
           "(-0.6, -0.5)",
           "(0.2, 0.3)"
          ],
          [
           "(-0.6, -0.5)",
           "(0.2, 0.3)"
          ],
          [
           "(-0.6, -0.5)",
           "(0.2, 0.3)"
          ],
          [
           "(-0.6, -0.5)",
           "(0.2, 0.3)"
          ],
          [
           "(-0.6, -0.5)",
           "(0.2, 0.3)"
          ],
          [
           "(-0.6, -0.5)",
           "(0.2, 0.3)"
          ],
          [
           "(-0.6, -0.5)",
           "(0.2, 0.3)"
          ],
          [
           "(-0.6, -0.5)",
           "(0.2, 0.3)"
          ],
          [
           "(-0.6, -0.5)",
           "(0.2, 0.3)"
          ],
          [
           "(-0.6, -0.5)",
           "(0.2, 0.3)"
          ],
          [
           "(-0.6, -0.5)",
           "(0.2, 0.3)"
          ],
          [
           "(-0.6, -0.5)",
           "(0.2, 0.3)"
          ],
          [
           "(-0.6, -0.5)",
           "(0.2, 0.3)"
          ],
          [
           "(-0.6, -0.5)",
           "(0.2, 0.3)"
          ],
          [
           "(-0.6, -0.5)",
           "(0.2, 0.3)"
          ],
          [
           "(-0.6, -0.5)",
           "(0.2, 0.3)"
          ],
          [
           "(-0.6, -0.5)",
           "(0.2, 0.3)"
          ],
          [
           "(-0.6, -0.5)",
           "(0.2, 0.3)"
          ],
          [
           "(-0.6, -0.5)",
           "(0.2, 0.3)"
          ],
          [
           "(-0.6, -0.5)",
           "(0.2, 0.3)"
          ],
          [
           "(-0.6, -0.5)",
           "(0.2, 0.3)"
          ],
          [
           "(-0.6, -0.5)",
           "(0.2, 0.3)"
          ],
          [
           "(-0.6, -0.5)",
           "(0.2, 0.3)"
          ],
          [
           "(-0.6, -0.5)",
           "(0.2, 0.3)"
          ]
         ],
         "hovertemplate": "<b>Date:</b> %{x}<br><b>Portfolio Value:</b> %{y}<br><b>Put Delta Range:</b> %{customdata[0]}<br><b>Call Delta Range:</b> %{customdata[1]}",
         "legendgroup": "Put: (-0.6, -0.5), Call: (0.2, 0.3)",
         "line": {
          "color": "#19d3f3",
          "dash": "solid"
         },
         "marker": {
          "symbol": "circle"
         },
         "mode": "lines",
         "name": "Put: (-0.6, -0.5), Call: (0.2, 0.3)",
         "showlegend": true,
         "type": "scattergl",
         "x": [
          "2024-01-03",
          "2024-01-05",
          "2024-01-08",
          "2024-01-10",
          "2024-01-12",
          "2024-01-17",
          "2024-01-19",
          "2024-01-22",
          "2024-01-24",
          "2024-01-26",
          "2024-01-29",
          "2024-01-31",
          "2024-02-02",
          "2024-02-05",
          "2024-02-07",
          "2024-02-09",
          "2024-02-12",
          "2024-02-14",
          "2024-02-16",
          "2024-02-21",
          "2024-02-23",
          "2024-02-26",
          "2024-02-28",
          "2024-03-01",
          "2024-03-04",
          "2024-03-06",
          "2024-03-08",
          "2024-03-11",
          "2024-03-13",
          "2024-03-15",
          "2024-03-18",
          "2024-03-20",
          "2024-03-22",
          "2024-03-25",
          "2024-03-27",
          "2024-04-01",
          "2024-04-03",
          "2024-04-05",
          "2024-04-08",
          "2024-04-10",
          "2024-04-12",
          "2024-04-15",
          "2024-04-17",
          "2024-04-19",
          "2024-04-22",
          "2024-04-24",
          "2024-04-26",
          "2024-04-29",
          "2024-05-01",
          "2024-05-03",
          "2024-05-06",
          "2024-05-08",
          "2024-05-10",
          "2024-05-13",
          "2024-05-15",
          "2024-05-17",
          "2024-05-20",
          "2024-05-22",
          "2024-05-24",
          "2024-05-29",
          "2024-05-31",
          "2024-06-03",
          "2024-06-05",
          "2024-06-07",
          "2024-06-10",
          "2024-06-12",
          "2024-06-14",
          "2024-06-17",
          "2024-06-21",
          "2024-06-24",
          "2024-06-26",
          "2024-06-28",
          "2024-07-01",
          "2024-07-03",
          "2024-07-05",
          "2024-07-08",
          "2024-07-10",
          "2024-07-12",
          "2024-07-15",
          "2024-07-17",
          "2024-07-19",
          "2024-07-22",
          "2024-07-24",
          "2024-07-26",
          "2024-07-29",
          "2024-08-12",
          "2024-08-14",
          "2024-08-16",
          "2024-08-19",
          "2024-08-21",
          "2024-08-23",
          "2024-08-26",
          "2024-08-28",
          "2024-08-30",
          "2024-09-04",
          "2024-09-06",
          "2024-09-09",
          "2024-09-11",
          "2024-09-12",
          "2024-09-13",
          "2024-09-16",
          "2024-09-17",
          "2024-09-18",
          "2024-09-19",
          "2024-09-20",
          "2024-09-23",
          "2024-09-24",
          "2024-09-25",
          "2024-09-26",
          "2024-09-27",
          "2024-09-30",
          "2024-10-01",
          "2024-10-02",
          "2024-10-03",
          "2024-10-04",
          "2024-10-07",
          "2024-10-08",
          "2024-10-09",
          "2024-10-10",
          "2024-10-11",
          "2024-10-14",
          "2024-10-15",
          "2024-10-16",
          "2024-10-17",
          "2024-10-18",
          "2024-10-21",
          "2024-10-22",
          "2024-10-23",
          "2024-10-24",
          "2024-10-25",
          "2024-10-28",
          "2024-10-29",
          "2024-10-30",
          "2024-10-31",
          "2024-11-01",
          "2024-11-04",
          "2024-11-05",
          "2024-11-06",
          "2024-11-07",
          "2024-11-08",
          "2024-11-11",
          "2024-11-13",
          "2024-11-14",
          "2024-11-15",
          "2024-11-18",
          "2024-11-19",
          "2024-11-20",
          "2024-11-21",
          "2024-11-22",
          "2024-11-25",
          "2024-11-26",
          "2024-11-27",
          "2024-11-29",
          "2024-12-02",
          "2024-12-03",
          "2024-12-04",
          "2024-12-05",
          "2024-12-06",
          "2024-12-09",
          "2024-12-10",
          "2024-12-11",
          "2024-12-12",
          "2024-12-13",
          "2024-12-16",
          "2024-12-17",
          "2024-12-18",
          "2024-12-19",
          "2024-12-20",
          "2024-12-23",
          "2024-12-24",
          "2024-12-27",
          "2024-12-30"
         ],
         "xaxis": "x",
         "y": {
          "bdata": "AAAAAADM00AAAAAAAMzTQAAAAAAAzNNAAAAAAADM00AAAAAAAMzTQAAAAAAAzNNAAAAAAADM00AAAAAAwEfUQAAAAADAR9RAAAAAAMBH1EAAAAAAwEfUQAAAAADAR9RAAAAAAMBH1EAAAAAAwEfUQAAAAADAR9RAAAAAAMBH1EAAAAAAwEfUQAAAAADAR9RAAAAAAMBH1EAAAABbVB3TQAAAAC9OItNA////GHcA00AAAABA7wbTQAAAADck29JAAAAAcK1p0kAAAABA4dTRQAAAANHw/NFAAAAAATQv0kAAAADd5AbSQAAAAPr3K9JAAAAA6VZH0kAAAAD3gcLSQAAAAPeBwtJAAAAAXi0k0kAAAAAxY2HSQAAAANXFD9JAAAAAU1EG0kAAAABtkwTSQAAAAHp16NFAAAAAgsnX0UAAAADEAbLSQAAAAOD1UdJAAAAA+ULd0UAAAAD5Qt3RQAAAAMtD0NFAAAAAPWQf0kAAAADuWybSQAAAAHLdjtJAAAAA7lsm0kAAAABotITTQAEAALYmW9NAAAAAv8d000AAAAC0q4LTQAEAAIkm09NA/v//0dwo1ED+///R3CjUQAAAAADAyNJAAAAAAMDI0kAAAAAAwMjSQAAAAADAyNJAAAAAAMAs00AAAAAAwCzTQAAAAADALNNAAAAAAMAs00AAAAAAwCzTQAAAAADALNNAAAAAAMAs00AAAAAAwCzTQAAAAADALNNAAAAAAMAs00AAAAAAwCzTQAAAAADALNNAAAAAAMAs00AAAAAAwOrTQAAAAADA6tNAAAAAAMDq00AAAAAAwOrTQAAAAADA6tNAAAAAAMDq00AAAAAAwOrTQAAAAADA6tNAAAAAAMDq00AAAAAAwOrTQAAAAADA6tNAAAAAAMDq00AAAAAAwOrTQAAAAMyTqNNAAAAA+JYU1EAAAAAxmRDUQAAAAO5RHdRAAAAAy0so1ED////7xjDUQP///7uQH9RA////u5Af1EABAAAJIMDTQAAAAIhgv9NAAAAAJJ/B00AAAACIRu3TQP////gE8NNAAQAA2kjp00ABAAC3H0/TQP////vYWtNAAAAAQiK800AAAABFL4jUQAAAAEUviNRAAAAAAJF61EAAAABdBJHUQAAAAG0SeNRA////RcKU1EAAAABlfpvUQAAAAEt1HdVAAAAAvxR01EAAAACwTILUQAEAADacZtRAAAAAbMyC1ED+//8xVAPUQAAAAOIaadRAAAAA4iXH1ED////prLrUQAAAAOCBldRAAAAAJA3z1ED+//9RqTLVQAAAAGAG/9RAAAAAK0EI1UAAAAArQQjVQAEAAFfEm9VAAAAAEE2M1UAAAAC0FA3VQAAAAIVXCNVAAAAAlUsd1UABAACX707VQAAAAM+rVdVAAAAA9Z381EAAAADtGJTUQAAAAARDSdRA////ps8y1EAAAAB0u1bUQP///7uFRNRAAAAAzkK71EAAAAC7hLTUQP///+VXcNRAAAAApZGG1EAAAADo+9PUQAAAAOj709RAAAAAS7361ED///9mOwHVQAAAAFU2E9VA////xjkH1UAAAAA/8CjVQP///ybbc9VAAAAAvYuq1UAAAACvTKfVQP///9g749VAAAAA5asb1kAAAABlFmjWQP///9sTcdZAAAAAqNNx1kAAAAAL1WzWQAAAAKB5ztZAAAAAbfLn1kAAAABr+8fWQAAAACyx7NZAAAAALLHs1kAAAAAAgK/VQAAAAACADtZAAAAAAIAO1kAAAAAAgA7WQAAAAACADtZAAAAAAIAO1kAAAAAAgA7WQAAAAACADtZAAAAAAIAO1kA=",
          "dtype": "f8"
         },
         "yaxis": "y"
        },
        {
         "customdata": [
          [
           "(-0.6, -0.5)",
           "(0.3, 0.4)"
          ],
          [
           "(-0.6, -0.5)",
           "(0.3, 0.4)"
          ],
          [
           "(-0.6, -0.5)",
           "(0.3, 0.4)"
          ],
          [
           "(-0.6, -0.5)",
           "(0.3, 0.4)"
          ],
          [
           "(-0.6, -0.5)",
           "(0.3, 0.4)"
          ],
          [
           "(-0.6, -0.5)",
           "(0.3, 0.4)"
          ],
          [
           "(-0.6, -0.5)",
           "(0.3, 0.4)"
          ],
          [
           "(-0.6, -0.5)",
           "(0.3, 0.4)"
          ],
          [
           "(-0.6, -0.5)",
           "(0.3, 0.4)"
          ],
          [
           "(-0.6, -0.5)",
           "(0.3, 0.4)"
          ],
          [
           "(-0.6, -0.5)",
           "(0.3, 0.4)"
          ],
          [
           "(-0.6, -0.5)",
           "(0.3, 0.4)"
          ],
          [
           "(-0.6, -0.5)",
           "(0.3, 0.4)"
          ],
          [
           "(-0.6, -0.5)",
           "(0.3, 0.4)"
          ],
          [
           "(-0.6, -0.5)",
           "(0.3, 0.4)"
          ],
          [
           "(-0.6, -0.5)",
           "(0.3, 0.4)"
          ],
          [
           "(-0.6, -0.5)",
           "(0.3, 0.4)"
          ],
          [
           "(-0.6, -0.5)",
           "(0.3, 0.4)"
          ],
          [
           "(-0.6, -0.5)",
           "(0.3, 0.4)"
          ],
          [
           "(-0.6, -0.5)",
           "(0.3, 0.4)"
          ],
          [
           "(-0.6, -0.5)",
           "(0.3, 0.4)"
          ],
          [
           "(-0.6, -0.5)",
           "(0.3, 0.4)"
          ],
          [
           "(-0.6, -0.5)",
           "(0.3, 0.4)"
          ],
          [
           "(-0.6, -0.5)",
           "(0.3, 0.4)"
          ],
          [
           "(-0.6, -0.5)",
           "(0.3, 0.4)"
          ],
          [
           "(-0.6, -0.5)",
           "(0.3, 0.4)"
          ],
          [
           "(-0.6, -0.5)",
           "(0.3, 0.4)"
          ],
          [
           "(-0.6, -0.5)",
           "(0.3, 0.4)"
          ],
          [
           "(-0.6, -0.5)",
           "(0.3, 0.4)"
          ],
          [
           "(-0.6, -0.5)",
           "(0.3, 0.4)"
          ],
          [
           "(-0.6, -0.5)",
           "(0.3, 0.4)"
          ],
          [
           "(-0.6, -0.5)",
           "(0.3, 0.4)"
          ],
          [
           "(-0.6, -0.5)",
           "(0.3, 0.4)"
          ],
          [
           "(-0.6, -0.5)",
           "(0.3, 0.4)"
          ],
          [
           "(-0.6, -0.5)",
           "(0.3, 0.4)"
          ],
          [
           "(-0.6, -0.5)",
           "(0.3, 0.4)"
          ],
          [
           "(-0.6, -0.5)",
           "(0.3, 0.4)"
          ],
          [
           "(-0.6, -0.5)",
           "(0.3, 0.4)"
          ],
          [
           "(-0.6, -0.5)",
           "(0.3, 0.4)"
          ],
          [
           "(-0.6, -0.5)",
           "(0.3, 0.4)"
          ],
          [
           "(-0.6, -0.5)",
           "(0.3, 0.4)"
          ],
          [
           "(-0.6, -0.5)",
           "(0.3, 0.4)"
          ],
          [
           "(-0.6, -0.5)",
           "(0.3, 0.4)"
          ],
          [
           "(-0.6, -0.5)",
           "(0.3, 0.4)"
          ],
          [
           "(-0.6, -0.5)",
           "(0.3, 0.4)"
          ],
          [
           "(-0.6, -0.5)",
           "(0.3, 0.4)"
          ],
          [
           "(-0.6, -0.5)",
           "(0.3, 0.4)"
          ],
          [
           "(-0.6, -0.5)",
           "(0.3, 0.4)"
          ],
          [
           "(-0.6, -0.5)",
           "(0.3, 0.4)"
          ],
          [
           "(-0.6, -0.5)",
           "(0.3, 0.4)"
          ],
          [
           "(-0.6, -0.5)",
           "(0.3, 0.4)"
          ],
          [
           "(-0.6, -0.5)",
           "(0.3, 0.4)"
          ],
          [
           "(-0.6, -0.5)",
           "(0.3, 0.4)"
          ],
          [
           "(-0.6, -0.5)",
           "(0.3, 0.4)"
          ],
          [
           "(-0.6, -0.5)",
           "(0.3, 0.4)"
          ],
          [
           "(-0.6, -0.5)",
           "(0.3, 0.4)"
          ],
          [
           "(-0.6, -0.5)",
           "(0.3, 0.4)"
          ],
          [
           "(-0.6, -0.5)",
           "(0.3, 0.4)"
          ],
          [
           "(-0.6, -0.5)",
           "(0.3, 0.4)"
          ],
          [
           "(-0.6, -0.5)",
           "(0.3, 0.4)"
          ],
          [
           "(-0.6, -0.5)",
           "(0.3, 0.4)"
          ],
          [
           "(-0.6, -0.5)",
           "(0.3, 0.4)"
          ],
          [
           "(-0.6, -0.5)",
           "(0.3, 0.4)"
          ],
          [
           "(-0.6, -0.5)",
           "(0.3, 0.4)"
          ],
          [
           "(-0.6, -0.5)",
           "(0.3, 0.4)"
          ],
          [
           "(-0.6, -0.5)",
           "(0.3, 0.4)"
          ],
          [
           "(-0.6, -0.5)",
           "(0.3, 0.4)"
          ],
          [
           "(-0.6, -0.5)",
           "(0.3, 0.4)"
          ],
          [
           "(-0.6, -0.5)",
           "(0.3, 0.4)"
          ],
          [
           "(-0.6, -0.5)",
           "(0.3, 0.4)"
          ],
          [
           "(-0.6, -0.5)",
           "(0.3, 0.4)"
          ],
          [
           "(-0.6, -0.5)",
           "(0.3, 0.4)"
          ],
          [
           "(-0.6, -0.5)",
           "(0.3, 0.4)"
          ],
          [
           "(-0.6, -0.5)",
           "(0.3, 0.4)"
          ],
          [
           "(-0.6, -0.5)",
           "(0.3, 0.4)"
          ],
          [
           "(-0.6, -0.5)",
           "(0.3, 0.4)"
          ],
          [
           "(-0.6, -0.5)",
           "(0.3, 0.4)"
          ],
          [
           "(-0.6, -0.5)",
           "(0.3, 0.4)"
          ],
          [
           "(-0.6, -0.5)",
           "(0.3, 0.4)"
          ],
          [
           "(-0.6, -0.5)",
           "(0.3, 0.4)"
          ],
          [
           "(-0.6, -0.5)",
           "(0.3, 0.4)"
          ],
          [
           "(-0.6, -0.5)",
           "(0.3, 0.4)"
          ],
          [
           "(-0.6, -0.5)",
           "(0.3, 0.4)"
          ],
          [
           "(-0.6, -0.5)",
           "(0.3, 0.4)"
          ],
          [
           "(-0.6, -0.5)",
           "(0.3, 0.4)"
          ],
          [
           "(-0.6, -0.5)",
           "(0.3, 0.4)"
          ],
          [
           "(-0.6, -0.5)",
           "(0.3, 0.4)"
          ],
          [
           "(-0.6, -0.5)",
           "(0.3, 0.4)"
          ],
          [
           "(-0.6, -0.5)",
           "(0.3, 0.4)"
          ],
          [
           "(-0.6, -0.5)",
           "(0.3, 0.4)"
          ],
          [
           "(-0.6, -0.5)",
           "(0.3, 0.4)"
          ],
          [
           "(-0.6, -0.5)",
           "(0.3, 0.4)"
          ],
          [
           "(-0.6, -0.5)",
           "(0.3, 0.4)"
          ],
          [
           "(-0.6, -0.5)",
           "(0.3, 0.4)"
          ],
          [
           "(-0.6, -0.5)",
           "(0.3, 0.4)"
          ],
          [
           "(-0.6, -0.5)",
           "(0.3, 0.4)"
          ],
          [
           "(-0.6, -0.5)",
           "(0.3, 0.4)"
          ],
          [
           "(-0.6, -0.5)",
           "(0.3, 0.4)"
          ],
          [
           "(-0.6, -0.5)",
           "(0.3, 0.4)"
          ],
          [
           "(-0.6, -0.5)",
           "(0.3, 0.4)"
          ],
          [
           "(-0.6, -0.5)",
           "(0.3, 0.4)"
          ],
          [
           "(-0.6, -0.5)",
           "(0.3, 0.4)"
          ],
          [
           "(-0.6, -0.5)",
           "(0.3, 0.4)"
          ],
          [
           "(-0.6, -0.5)",
           "(0.3, 0.4)"
          ],
          [
           "(-0.6, -0.5)",
           "(0.3, 0.4)"
          ],
          [
           "(-0.6, -0.5)",
           "(0.3, 0.4)"
          ],
          [
           "(-0.6, -0.5)",
           "(0.3, 0.4)"
          ],
          [
           "(-0.6, -0.5)",
           "(0.3, 0.4)"
          ],
          [
           "(-0.6, -0.5)",
           "(0.3, 0.4)"
          ],
          [
           "(-0.6, -0.5)",
           "(0.3, 0.4)"
          ],
          [
           "(-0.6, -0.5)",
           "(0.3, 0.4)"
          ],
          [
           "(-0.6, -0.5)",
           "(0.3, 0.4)"
          ],
          [
           "(-0.6, -0.5)",
           "(0.3, 0.4)"
          ],
          [
           "(-0.6, -0.5)",
           "(0.3, 0.4)"
          ],
          [
           "(-0.6, -0.5)",
           "(0.3, 0.4)"
          ],
          [
           "(-0.6, -0.5)",
           "(0.3, 0.4)"
          ],
          [
           "(-0.6, -0.5)",
           "(0.3, 0.4)"
          ],
          [
           "(-0.6, -0.5)",
           "(0.3, 0.4)"
          ],
          [
           "(-0.6, -0.5)",
           "(0.3, 0.4)"
          ],
          [
           "(-0.6, -0.5)",
           "(0.3, 0.4)"
          ],
          [
           "(-0.6, -0.5)",
           "(0.3, 0.4)"
          ],
          [
           "(-0.6, -0.5)",
           "(0.3, 0.4)"
          ],
          [
           "(-0.6, -0.5)",
           "(0.3, 0.4)"
          ],
          [
           "(-0.6, -0.5)",
           "(0.3, 0.4)"
          ],
          [
           "(-0.6, -0.5)",
           "(0.3, 0.4)"
          ],
          [
           "(-0.6, -0.5)",
           "(0.3, 0.4)"
          ],
          [
           "(-0.6, -0.5)",
           "(0.3, 0.4)"
          ],
          [
           "(-0.6, -0.5)",
           "(0.3, 0.4)"
          ],
          [
           "(-0.6, -0.5)",
           "(0.3, 0.4)"
          ],
          [
           "(-0.6, -0.5)",
           "(0.3, 0.4)"
          ],
          [
           "(-0.6, -0.5)",
           "(0.3, 0.4)"
          ],
          [
           "(-0.6, -0.5)",
           "(0.3, 0.4)"
          ],
          [
           "(-0.6, -0.5)",
           "(0.3, 0.4)"
          ],
          [
           "(-0.6, -0.5)",
           "(0.3, 0.4)"
          ],
          [
           "(-0.6, -0.5)",
           "(0.3, 0.4)"
          ],
          [
           "(-0.6, -0.5)",
           "(0.3, 0.4)"
          ],
          [
           "(-0.6, -0.5)",
           "(0.3, 0.4)"
          ],
          [
           "(-0.6, -0.5)",
           "(0.3, 0.4)"
          ],
          [
           "(-0.6, -0.5)",
           "(0.3, 0.4)"
          ],
          [
           "(-0.6, -0.5)",
           "(0.3, 0.4)"
          ],
          [
           "(-0.6, -0.5)",
           "(0.3, 0.4)"
          ],
          [
           "(-0.6, -0.5)",
           "(0.3, 0.4)"
          ],
          [
           "(-0.6, -0.5)",
           "(0.3, 0.4)"
          ],
          [
           "(-0.6, -0.5)",
           "(0.3, 0.4)"
          ],
          [
           "(-0.6, -0.5)",
           "(0.3, 0.4)"
          ],
          [
           "(-0.6, -0.5)",
           "(0.3, 0.4)"
          ],
          [
           "(-0.6, -0.5)",
           "(0.3, 0.4)"
          ],
          [
           "(-0.6, -0.5)",
           "(0.3, 0.4)"
          ],
          [
           "(-0.6, -0.5)",
           "(0.3, 0.4)"
          ],
          [
           "(-0.6, -0.5)",
           "(0.3, 0.4)"
          ],
          [
           "(-0.6, -0.5)",
           "(0.3, 0.4)"
          ],
          [
           "(-0.6, -0.5)",
           "(0.3, 0.4)"
          ],
          [
           "(-0.6, -0.5)",
           "(0.3, 0.4)"
          ],
          [
           "(-0.6, -0.5)",
           "(0.3, 0.4)"
          ],
          [
           "(-0.6, -0.5)",
           "(0.3, 0.4)"
          ],
          [
           "(-0.6, -0.5)",
           "(0.3, 0.4)"
          ],
          [
           "(-0.6, -0.5)",
           "(0.3, 0.4)"
          ],
          [
           "(-0.6, -0.5)",
           "(0.3, 0.4)"
          ],
          [
           "(-0.6, -0.5)",
           "(0.3, 0.4)"
          ],
          [
           "(-0.6, -0.5)",
           "(0.3, 0.4)"
          ],
          [
           "(-0.6, -0.5)",
           "(0.3, 0.4)"
          ],
          [
           "(-0.6, -0.5)",
           "(0.3, 0.4)"
          ],
          [
           "(-0.6, -0.5)",
           "(0.3, 0.4)"
          ],
          [
           "(-0.6, -0.5)",
           "(0.3, 0.4)"
          ],
          [
           "(-0.6, -0.5)",
           "(0.3, 0.4)"
          ],
          [
           "(-0.6, -0.5)",
           "(0.3, 0.4)"
          ],
          [
           "(-0.6, -0.5)",
           "(0.3, 0.4)"
          ],
          [
           "(-0.6, -0.5)",
           "(0.3, 0.4)"
          ],
          [
           "(-0.6, -0.5)",
           "(0.3, 0.4)"
          ],
          [
           "(-0.6, -0.5)",
           "(0.3, 0.4)"
          ],
          [
           "(-0.6, -0.5)",
           "(0.3, 0.4)"
          ],
          [
           "(-0.6, -0.5)",
           "(0.3, 0.4)"
          ]
         ],
         "hovertemplate": "<b>Date:</b> %{x}<br><b>Portfolio Value:</b> %{y}<br><b>Put Delta Range:</b> %{customdata[0]}<br><b>Call Delta Range:</b> %{customdata[1]}",
         "legendgroup": "Put: (-0.6, -0.5), Call: (0.3, 0.4)",
         "line": {
          "color": "#FF6692",
          "dash": "solid"
         },
         "marker": {
          "symbol": "circle"
         },
         "mode": "lines",
         "name": "Put: (-0.6, -0.5), Call: (0.3, 0.4)",
         "showlegend": true,
         "type": "scattergl",
         "x": [
          "2024-01-03",
          "2024-01-05",
          "2024-01-08",
          "2024-01-10",
          "2024-01-12",
          "2024-01-17",
          "2024-01-19",
          "2024-01-22",
          "2024-01-24",
          "2024-01-26",
          "2024-01-29",
          "2024-01-31",
          "2024-02-02",
          "2024-02-05",
          "2024-02-07",
          "2024-02-09",
          "2024-02-12",
          "2024-02-14",
          "2024-02-16",
          "2024-02-21",
          "2024-02-23",
          "2024-02-26",
          "2024-02-28",
          "2024-03-01",
          "2024-03-04",
          "2024-03-06",
          "2024-03-08",
          "2024-03-11",
          "2024-03-13",
          "2024-03-15",
          "2024-03-18",
          "2024-03-20",
          "2024-03-22",
          "2024-03-25",
          "2024-03-27",
          "2024-04-01",
          "2024-04-03",
          "2024-04-05",
          "2024-04-08",
          "2024-04-10",
          "2024-04-12",
          "2024-04-15",
          "2024-04-17",
          "2024-04-19",
          "2024-04-22",
          "2024-04-24",
          "2024-04-26",
          "2024-04-29",
          "2024-05-01",
          "2024-05-03",
          "2024-05-06",
          "2024-05-08",
          "2024-05-10",
          "2024-05-13",
          "2024-05-15",
          "2024-05-17",
          "2024-05-20",
          "2024-05-22",
          "2024-05-24",
          "2024-05-29",
          "2024-05-31",
          "2024-06-03",
          "2024-06-05",
          "2024-06-07",
          "2024-06-10",
          "2024-06-12",
          "2024-06-14",
          "2024-06-17",
          "2024-06-21",
          "2024-06-24",
          "2024-06-26",
          "2024-06-28",
          "2024-07-01",
          "2024-07-03",
          "2024-07-05",
          "2024-07-08",
          "2024-07-10",
          "2024-07-12",
          "2024-07-15",
          "2024-07-17",
          "2024-07-19",
          "2024-07-22",
          "2024-07-24",
          "2024-07-26",
          "2024-07-29",
          "2024-08-12",
          "2024-08-14",
          "2024-08-16",
          "2024-08-19",
          "2024-08-21",
          "2024-08-23",
          "2024-08-26",
          "2024-08-28",
          "2024-08-30",
          "2024-09-04",
          "2024-09-06",
          "2024-09-09",
          "2024-09-11",
          "2024-09-12",
          "2024-09-13",
          "2024-09-16",
          "2024-09-17",
          "2024-09-18",
          "2024-09-19",
          "2024-09-20",
          "2024-09-23",
          "2024-09-24",
          "2024-09-25",
          "2024-09-26",
          "2024-09-27",
          "2024-09-30",
          "2024-10-01",
          "2024-10-02",
          "2024-10-03",
          "2024-10-04",
          "2024-10-07",
          "2024-10-08",
          "2024-10-09",
          "2024-10-10",
          "2024-10-11",
          "2024-10-14",
          "2024-10-15",
          "2024-10-16",
          "2024-10-17",
          "2024-10-18",
          "2024-10-21",
          "2024-10-22",
          "2024-10-23",
          "2024-10-24",
          "2024-10-25",
          "2024-10-28",
          "2024-10-29",
          "2024-10-30",
          "2024-10-31",
          "2024-11-01",
          "2024-11-04",
          "2024-11-05",
          "2024-11-06",
          "2024-11-07",
          "2024-11-08",
          "2024-11-11",
          "2024-11-13",
          "2024-11-14",
          "2024-11-15",
          "2024-11-18",
          "2024-11-19",
          "2024-11-20",
          "2024-11-21",
          "2024-11-22",
          "2024-11-25",
          "2024-11-26",
          "2024-11-27",
          "2024-11-29",
          "2024-12-02",
          "2024-12-03",
          "2024-12-04",
          "2024-12-05",
          "2024-12-06",
          "2024-12-09",
          "2024-12-10",
          "2024-12-11",
          "2024-12-12",
          "2024-12-13",
          "2024-12-16",
          "2024-12-17",
          "2024-12-18",
          "2024-12-19",
          "2024-12-20",
          "2024-12-23",
          "2024-12-24",
          "2024-12-27",
          "2024-12-30"
         ],
         "xaxis": "x",
         "y": {
          "bdata": "AAAAAADM00AAAAAAAMzTQAAAAAAAzNNAAAAAAADM00AAAAAAAMzTQAAAAAAAzNNAAAAAAADM00AAAAAAwEfUQAAAAADAR9RAAAAAAMBH1EAAAAAAwEfUQAAAAADAR9RAAAAAAMBH1EAAAAAAwEfUQAAAAADAR9RAAAAAAMBH1EAAAAAAwEfUQAAAAADAR9RAAAAAAMBH1EAAAABblCvTQAAAAC+OMNNA////GLcO00AAAABALxXTQAAAADdk6dJAAAAAcO130kAAAABAIePRQAAAAEAh49FAAAAAAXQ90kAAAADdJFfSQAAAAPo3fNJAAAAA6ZaX0kAAAAD3wRLTQAAAACjCc9JAAAAAXi1Q0kAAAAAxY43SQAAAANXFO9JAAAAAU1Ey0kAAAABtkzDSQAAAAHp1FNJAAAAAgskD0kAAAACCyQPSQAAAAADAYNNAAAAAAMBg00AAAAAAwGDTQAAAAADAYNNAAAAAAMBg00AAAAAAwGDTQAAAAADAYNNAAAAAAMBg00AAAAAAwGDTQAAAAADAYNNAAAAAAMBg00AAAAAAwGDTQAAAAADAYNNAAAAAAMCY00AAAAAAwJjTQAAAAADAmNNAAAAAAMCY00AAAAAAwJjTQAAAAADAmNNAAAAAAMCY00AAAAAAQAnUQAAAAABACdRAAAAAAEAJ1EAAAAAAQAnUQAAAAABACdRAAAAAAEAJ1EAAAAAAQAnUQAAAAABACdRAAAAAAEAJ1EAAAAAAQAnUQAAAAABACdRAAAAAAEAJ1EAAAAAAQMfUQAAAAABAx9RAAAAAAEDH1EAAAAAAQMfUQAAAAABAx9RAAAAAAEDH1EAAAAAAQMfUQAAAAABAx9RAAAAAAEDH1EAAAAAAQMfUQAAAAABAx9RAAAAAAEDH1EAAAAAAQMfUQAAAAMxTp9RAAAAA+FYT1UAAAAAxWQ/VQAAAAO4RHNVAAAAAywsn1UD////7hi/VQP///7tQHtVA/v//ce1c1UABAAAJoJHUQAAAAIjgkNRAAAAAJB+T1EAAAACIxr7UQP////iEwdRA////+ITB1EABAAC3nyDUQP////tYLNRAAAAAQqLT1EAAAABFr5/VQAAAAKj4jtVAAAAAANFj1UAAAABdRHrVQAAAAG1SYdVA////RQJ+1UAAAABlvoTVQAAAAEu1BtZAAAAAv1Rd1UAAAACwjGvVQAEAADbcT9VAAQAANtxP1UAAAAAAgA7WQAAAAACADtZAAAAAAIAO1kAAAAAAgA7WQAAAAACADtZAAAAAAIAO1kAAAAAAgA7WQAAAAACADtZAAAAAAIAO1kAAAAAAgA7WQAAAAACADtZAAAAAAIAO1kAAAAAAgA7WQAAAAACADtZAAAAAAIAO1kAAAAAAgA7WQAAAAACADtZAAAAAAIAO1kAAAAAAgA7WQAAAAACADtZA////po/z1UAAAAB0exfWQP///7tFBdZAAAAAzgJ81kAAAAC7RHXWQP///+UXMdZAAAAApVFH1kAAAADou5TWQAAAAHVSRNZAAAAAS72P1kD///9mO5bWQAAAAFU2qNZA////xjmc1kAAAAA/8L3WQP///ybbCNdAAAAAvYs/10AAAACvTDzXQAAAAK9MPNdAAAAAAIDH1kAAAAAAgMfWQAAAAACAP9dAAAAAAIA/10AAAAAAgD/XQAAAAACAP9dAAAAAAIA/10AAAAAAgD/XQAAAAACAP9dAAAAAAIA/10AAAAAAgD/XQAAAAACAP9dAAAAAAIA/10AAAAAAgD/XQAAAAACAP9dAAAAAAIA/10AAAAAAgD/XQAAAAACAP9dAAAAAAIA/10A=",
          "dtype": "f8"
         },
         "yaxis": "y"
        },
        {
         "customdata": [
          [
           "(-0.6, -0.5)",
           "(0.4, 0.5)"
          ],
          [
           "(-0.6, -0.5)",
           "(0.4, 0.5)"
          ],
          [
           "(-0.6, -0.5)",
           "(0.4, 0.5)"
          ],
          [
           "(-0.6, -0.5)",
           "(0.4, 0.5)"
          ],
          [
           "(-0.6, -0.5)",
           "(0.4, 0.5)"
          ],
          [
           "(-0.6, -0.5)",
           "(0.4, 0.5)"
          ],
          [
           "(-0.6, -0.5)",
           "(0.4, 0.5)"
          ],
          [
           "(-0.6, -0.5)",
           "(0.4, 0.5)"
          ],
          [
           "(-0.6, -0.5)",
           "(0.4, 0.5)"
          ],
          [
           "(-0.6, -0.5)",
           "(0.4, 0.5)"
          ],
          [
           "(-0.6, -0.5)",
           "(0.4, 0.5)"
          ],
          [
           "(-0.6, -0.5)",
           "(0.4, 0.5)"
          ],
          [
           "(-0.6, -0.5)",
           "(0.4, 0.5)"
          ],
          [
           "(-0.6, -0.5)",
           "(0.4, 0.5)"
          ],
          [
           "(-0.6, -0.5)",
           "(0.4, 0.5)"
          ],
          [
           "(-0.6, -0.5)",
           "(0.4, 0.5)"
          ],
          [
           "(-0.6, -0.5)",
           "(0.4, 0.5)"
          ],
          [
           "(-0.6, -0.5)",
           "(0.4, 0.5)"
          ],
          [
           "(-0.6, -0.5)",
           "(0.4, 0.5)"
          ],
          [
           "(-0.6, -0.5)",
           "(0.4, 0.5)"
          ],
          [
           "(-0.6, -0.5)",
           "(0.4, 0.5)"
          ],
          [
           "(-0.6, -0.5)",
           "(0.4, 0.5)"
          ],
          [
           "(-0.6, -0.5)",
           "(0.4, 0.5)"
          ],
          [
           "(-0.6, -0.5)",
           "(0.4, 0.5)"
          ],
          [
           "(-0.6, -0.5)",
           "(0.4, 0.5)"
          ],
          [
           "(-0.6, -0.5)",
           "(0.4, 0.5)"
          ],
          [
           "(-0.6, -0.5)",
           "(0.4, 0.5)"
          ],
          [
           "(-0.6, -0.5)",
           "(0.4, 0.5)"
          ],
          [
           "(-0.6, -0.5)",
           "(0.4, 0.5)"
          ],
          [
           "(-0.6, -0.5)",
           "(0.4, 0.5)"
          ],
          [
           "(-0.6, -0.5)",
           "(0.4, 0.5)"
          ],
          [
           "(-0.6, -0.5)",
           "(0.4, 0.5)"
          ],
          [
           "(-0.6, -0.5)",
           "(0.4, 0.5)"
          ],
          [
           "(-0.6, -0.5)",
           "(0.4, 0.5)"
          ],
          [
           "(-0.6, -0.5)",
           "(0.4, 0.5)"
          ],
          [
           "(-0.6, -0.5)",
           "(0.4, 0.5)"
          ],
          [
           "(-0.6, -0.5)",
           "(0.4, 0.5)"
          ],
          [
           "(-0.6, -0.5)",
           "(0.4, 0.5)"
          ],
          [
           "(-0.6, -0.5)",
           "(0.4, 0.5)"
          ],
          [
           "(-0.6, -0.5)",
           "(0.4, 0.5)"
          ],
          [
           "(-0.6, -0.5)",
           "(0.4, 0.5)"
          ],
          [
           "(-0.6, -0.5)",
           "(0.4, 0.5)"
          ],
          [
           "(-0.6, -0.5)",
           "(0.4, 0.5)"
          ],
          [
           "(-0.6, -0.5)",
           "(0.4, 0.5)"
          ],
          [
           "(-0.6, -0.5)",
           "(0.4, 0.5)"
          ],
          [
           "(-0.6, -0.5)",
           "(0.4, 0.5)"
          ],
          [
           "(-0.6, -0.5)",
           "(0.4, 0.5)"
          ],
          [
           "(-0.6, -0.5)",
           "(0.4, 0.5)"
          ],
          [
           "(-0.6, -0.5)",
           "(0.4, 0.5)"
          ],
          [
           "(-0.6, -0.5)",
           "(0.4, 0.5)"
          ],
          [
           "(-0.6, -0.5)",
           "(0.4, 0.5)"
          ],
          [
           "(-0.6, -0.5)",
           "(0.4, 0.5)"
          ],
          [
           "(-0.6, -0.5)",
           "(0.4, 0.5)"
          ],
          [
           "(-0.6, -0.5)",
           "(0.4, 0.5)"
          ],
          [
           "(-0.6, -0.5)",
           "(0.4, 0.5)"
          ],
          [
           "(-0.6, -0.5)",
           "(0.4, 0.5)"
          ],
          [
           "(-0.6, -0.5)",
           "(0.4, 0.5)"
          ],
          [
           "(-0.6, -0.5)",
           "(0.4, 0.5)"
          ],
          [
           "(-0.6, -0.5)",
           "(0.4, 0.5)"
          ],
          [
           "(-0.6, -0.5)",
           "(0.4, 0.5)"
          ],
          [
           "(-0.6, -0.5)",
           "(0.4, 0.5)"
          ],
          [
           "(-0.6, -0.5)",
           "(0.4, 0.5)"
          ],
          [
           "(-0.6, -0.5)",
           "(0.4, 0.5)"
          ],
          [
           "(-0.6, -0.5)",
           "(0.4, 0.5)"
          ],
          [
           "(-0.6, -0.5)",
           "(0.4, 0.5)"
          ],
          [
           "(-0.6, -0.5)",
           "(0.4, 0.5)"
          ],
          [
           "(-0.6, -0.5)",
           "(0.4, 0.5)"
          ],
          [
           "(-0.6, -0.5)",
           "(0.4, 0.5)"
          ],
          [
           "(-0.6, -0.5)",
           "(0.4, 0.5)"
          ],
          [
           "(-0.6, -0.5)",
           "(0.4, 0.5)"
          ],
          [
           "(-0.6, -0.5)",
           "(0.4, 0.5)"
          ],
          [
           "(-0.6, -0.5)",
           "(0.4, 0.5)"
          ],
          [
           "(-0.6, -0.5)",
           "(0.4, 0.5)"
          ],
          [
           "(-0.6, -0.5)",
           "(0.4, 0.5)"
          ],
          [
           "(-0.6, -0.5)",
           "(0.4, 0.5)"
          ],
          [
           "(-0.6, -0.5)",
           "(0.4, 0.5)"
          ],
          [
           "(-0.6, -0.5)",
           "(0.4, 0.5)"
          ],
          [
           "(-0.6, -0.5)",
           "(0.4, 0.5)"
          ],
          [
           "(-0.6, -0.5)",
           "(0.4, 0.5)"
          ],
          [
           "(-0.6, -0.5)",
           "(0.4, 0.5)"
          ],
          [
           "(-0.6, -0.5)",
           "(0.4, 0.5)"
          ],
          [
           "(-0.6, -0.5)",
           "(0.4, 0.5)"
          ],
          [
           "(-0.6, -0.5)",
           "(0.4, 0.5)"
          ],
          [
           "(-0.6, -0.5)",
           "(0.4, 0.5)"
          ],
          [
           "(-0.6, -0.5)",
           "(0.4, 0.5)"
          ],
          [
           "(-0.6, -0.5)",
           "(0.4, 0.5)"
          ],
          [
           "(-0.6, -0.5)",
           "(0.4, 0.5)"
          ],
          [
           "(-0.6, -0.5)",
           "(0.4, 0.5)"
          ],
          [
           "(-0.6, -0.5)",
           "(0.4, 0.5)"
          ],
          [
           "(-0.6, -0.5)",
           "(0.4, 0.5)"
          ],
          [
           "(-0.6, -0.5)",
           "(0.4, 0.5)"
          ],
          [
           "(-0.6, -0.5)",
           "(0.4, 0.5)"
          ],
          [
           "(-0.6, -0.5)",
           "(0.4, 0.5)"
          ],
          [
           "(-0.6, -0.5)",
           "(0.4, 0.5)"
          ],
          [
           "(-0.6, -0.5)",
           "(0.4, 0.5)"
          ],
          [
           "(-0.6, -0.5)",
           "(0.4, 0.5)"
          ],
          [
           "(-0.6, -0.5)",
           "(0.4, 0.5)"
          ],
          [
           "(-0.6, -0.5)",
           "(0.4, 0.5)"
          ],
          [
           "(-0.6, -0.5)",
           "(0.4, 0.5)"
          ],
          [
           "(-0.6, -0.5)",
           "(0.4, 0.5)"
          ],
          [
           "(-0.6, -0.5)",
           "(0.4, 0.5)"
          ],
          [
           "(-0.6, -0.5)",
           "(0.4, 0.5)"
          ],
          [
           "(-0.6, -0.5)",
           "(0.4, 0.5)"
          ],
          [
           "(-0.6, -0.5)",
           "(0.4, 0.5)"
          ],
          [
           "(-0.6, -0.5)",
           "(0.4, 0.5)"
          ],
          [
           "(-0.6, -0.5)",
           "(0.4, 0.5)"
          ],
          [
           "(-0.6, -0.5)",
           "(0.4, 0.5)"
          ],
          [
           "(-0.6, -0.5)",
           "(0.4, 0.5)"
          ],
          [
           "(-0.6, -0.5)",
           "(0.4, 0.5)"
          ],
          [
           "(-0.6, -0.5)",
           "(0.4, 0.5)"
          ],
          [
           "(-0.6, -0.5)",
           "(0.4, 0.5)"
          ],
          [
           "(-0.6, -0.5)",
           "(0.4, 0.5)"
          ],
          [
           "(-0.6, -0.5)",
           "(0.4, 0.5)"
          ],
          [
           "(-0.6, -0.5)",
           "(0.4, 0.5)"
          ],
          [
           "(-0.6, -0.5)",
           "(0.4, 0.5)"
          ],
          [
           "(-0.6, -0.5)",
           "(0.4, 0.5)"
          ],
          [
           "(-0.6, -0.5)",
           "(0.4, 0.5)"
          ],
          [
           "(-0.6, -0.5)",
           "(0.4, 0.5)"
          ],
          [
           "(-0.6, -0.5)",
           "(0.4, 0.5)"
          ],
          [
           "(-0.6, -0.5)",
           "(0.4, 0.5)"
          ],
          [
           "(-0.6, -0.5)",
           "(0.4, 0.5)"
          ],
          [
           "(-0.6, -0.5)",
           "(0.4, 0.5)"
          ],
          [
           "(-0.6, -0.5)",
           "(0.4, 0.5)"
          ],
          [
           "(-0.6, -0.5)",
           "(0.4, 0.5)"
          ],
          [
           "(-0.6, -0.5)",
           "(0.4, 0.5)"
          ],
          [
           "(-0.6, -0.5)",
           "(0.4, 0.5)"
          ],
          [
           "(-0.6, -0.5)",
           "(0.4, 0.5)"
          ],
          [
           "(-0.6, -0.5)",
           "(0.4, 0.5)"
          ],
          [
           "(-0.6, -0.5)",
           "(0.4, 0.5)"
          ],
          [
           "(-0.6, -0.5)",
           "(0.4, 0.5)"
          ],
          [
           "(-0.6, -0.5)",
           "(0.4, 0.5)"
          ],
          [
           "(-0.6, -0.5)",
           "(0.4, 0.5)"
          ],
          [
           "(-0.6, -0.5)",
           "(0.4, 0.5)"
          ],
          [
           "(-0.6, -0.5)",
           "(0.4, 0.5)"
          ],
          [
           "(-0.6, -0.5)",
           "(0.4, 0.5)"
          ],
          [
           "(-0.6, -0.5)",
           "(0.4, 0.5)"
          ],
          [
           "(-0.6, -0.5)",
           "(0.4, 0.5)"
          ],
          [
           "(-0.6, -0.5)",
           "(0.4, 0.5)"
          ],
          [
           "(-0.6, -0.5)",
           "(0.4, 0.5)"
          ],
          [
           "(-0.6, -0.5)",
           "(0.4, 0.5)"
          ],
          [
           "(-0.6, -0.5)",
           "(0.4, 0.5)"
          ],
          [
           "(-0.6, -0.5)",
           "(0.4, 0.5)"
          ],
          [
           "(-0.6, -0.5)",
           "(0.4, 0.5)"
          ],
          [
           "(-0.6, -0.5)",
           "(0.4, 0.5)"
          ],
          [
           "(-0.6, -0.5)",
           "(0.4, 0.5)"
          ],
          [
           "(-0.6, -0.5)",
           "(0.4, 0.5)"
          ],
          [
           "(-0.6, -0.5)",
           "(0.4, 0.5)"
          ],
          [
           "(-0.6, -0.5)",
           "(0.4, 0.5)"
          ],
          [
           "(-0.6, -0.5)",
           "(0.4, 0.5)"
          ],
          [
           "(-0.6, -0.5)",
           "(0.4, 0.5)"
          ],
          [
           "(-0.6, -0.5)",
           "(0.4, 0.5)"
          ],
          [
           "(-0.6, -0.5)",
           "(0.4, 0.5)"
          ],
          [
           "(-0.6, -0.5)",
           "(0.4, 0.5)"
          ],
          [
           "(-0.6, -0.5)",
           "(0.4, 0.5)"
          ],
          [
           "(-0.6, -0.5)",
           "(0.4, 0.5)"
          ],
          [
           "(-0.6, -0.5)",
           "(0.4, 0.5)"
          ],
          [
           "(-0.6, -0.5)",
           "(0.4, 0.5)"
          ],
          [
           "(-0.6, -0.5)",
           "(0.4, 0.5)"
          ],
          [
           "(-0.6, -0.5)",
           "(0.4, 0.5)"
          ],
          [
           "(-0.6, -0.5)",
           "(0.4, 0.5)"
          ],
          [
           "(-0.6, -0.5)",
           "(0.4, 0.5)"
          ],
          [
           "(-0.6, -0.5)",
           "(0.4, 0.5)"
          ],
          [
           "(-0.6, -0.5)",
           "(0.4, 0.5)"
          ],
          [
           "(-0.6, -0.5)",
           "(0.4, 0.5)"
          ],
          [
           "(-0.6, -0.5)",
           "(0.4, 0.5)"
          ],
          [
           "(-0.6, -0.5)",
           "(0.4, 0.5)"
          ],
          [
           "(-0.6, -0.5)",
           "(0.4, 0.5)"
          ],
          [
           "(-0.6, -0.5)",
           "(0.4, 0.5)"
          ],
          [
           "(-0.6, -0.5)",
           "(0.4, 0.5)"
          ],
          [
           "(-0.6, -0.5)",
           "(0.4, 0.5)"
          ],
          [
           "(-0.6, -0.5)",
           "(0.4, 0.5)"
          ],
          [
           "(-0.6, -0.5)",
           "(0.4, 0.5)"
          ]
         ],
         "hovertemplate": "<b>Date:</b> %{x}<br><b>Portfolio Value:</b> %{y}<br><b>Put Delta Range:</b> %{customdata[0]}<br><b>Call Delta Range:</b> %{customdata[1]}",
         "legendgroup": "Put: (-0.6, -0.5), Call: (0.4, 0.5)",
         "line": {
          "color": "#B6E880",
          "dash": "solid"
         },
         "marker": {
          "symbol": "circle"
         },
         "mode": "lines",
         "name": "Put: (-0.6, -0.5), Call: (0.4, 0.5)",
         "showlegend": true,
         "type": "scattergl",
         "x": [
          "2024-01-03",
          "2024-01-05",
          "2024-01-08",
          "2024-01-10",
          "2024-01-12",
          "2024-01-17",
          "2024-01-19",
          "2024-01-22",
          "2024-01-24",
          "2024-01-26",
          "2024-01-29",
          "2024-01-31",
          "2024-02-02",
          "2024-02-05",
          "2024-02-07",
          "2024-02-09",
          "2024-02-12",
          "2024-02-14",
          "2024-02-16",
          "2024-02-21",
          "2024-02-23",
          "2024-02-26",
          "2024-02-28",
          "2024-03-01",
          "2024-03-04",
          "2024-03-06",
          "2024-03-08",
          "2024-03-11",
          "2024-03-13",
          "2024-03-15",
          "2024-03-18",
          "2024-03-20",
          "2024-03-22",
          "2024-03-25",
          "2024-03-27",
          "2024-04-01",
          "2024-04-03",
          "2024-04-05",
          "2024-04-08",
          "2024-04-10",
          "2024-04-12",
          "2024-04-15",
          "2024-04-17",
          "2024-04-19",
          "2024-04-22",
          "2024-04-24",
          "2024-04-26",
          "2024-04-29",
          "2024-05-01",
          "2024-05-03",
          "2024-05-06",
          "2024-05-08",
          "2024-05-10",
          "2024-05-13",
          "2024-05-15",
          "2024-05-17",
          "2024-05-20",
          "2024-05-22",
          "2024-05-24",
          "2024-05-29",
          "2024-05-31",
          "2024-06-03",
          "2024-06-05",
          "2024-06-07",
          "2024-06-10",
          "2024-06-12",
          "2024-06-14",
          "2024-06-17",
          "2024-06-21",
          "2024-06-24",
          "2024-06-26",
          "2024-06-28",
          "2024-07-01",
          "2024-07-03",
          "2024-07-05",
          "2024-07-08",
          "2024-07-10",
          "2024-07-12",
          "2024-07-15",
          "2024-07-17",
          "2024-07-19",
          "2024-07-22",
          "2024-07-24",
          "2024-07-26",
          "2024-07-29",
          "2024-08-12",
          "2024-08-14",
          "2024-08-16",
          "2024-08-19",
          "2024-08-21",
          "2024-08-23",
          "2024-08-26",
          "2024-08-28",
          "2024-08-30",
          "2024-09-04",
          "2024-09-06",
          "2024-09-09",
          "2024-09-11",
          "2024-09-12",
          "2024-09-13",
          "2024-09-16",
          "2024-09-17",
          "2024-09-18",
          "2024-09-19",
          "2024-09-20",
          "2024-09-23",
          "2024-09-24",
          "2024-09-25",
          "2024-09-26",
          "2024-09-27",
          "2024-09-30",
          "2024-10-01",
          "2024-10-02",
          "2024-10-03",
          "2024-10-04",
          "2024-10-07",
          "2024-10-08",
          "2024-10-09",
          "2024-10-10",
          "2024-10-11",
          "2024-10-14",
          "2024-10-15",
          "2024-10-16",
          "2024-10-17",
          "2024-10-18",
          "2024-10-21",
          "2024-10-22",
          "2024-10-23",
          "2024-10-24",
          "2024-10-25",
          "2024-10-28",
          "2024-10-29",
          "2024-10-30",
          "2024-10-31",
          "2024-11-01",
          "2024-11-04",
          "2024-11-05",
          "2024-11-06",
          "2024-11-07",
          "2024-11-08",
          "2024-11-11",
          "2024-11-13",
          "2024-11-14",
          "2024-11-15",
          "2024-11-18",
          "2024-11-19",
          "2024-11-20",
          "2024-11-21",
          "2024-11-22",
          "2024-11-25",
          "2024-11-26",
          "2024-11-27",
          "2024-11-29",
          "2024-12-02",
          "2024-12-03",
          "2024-12-04",
          "2024-12-05",
          "2024-12-06",
          "2024-12-09",
          "2024-12-10",
          "2024-12-11",
          "2024-12-12",
          "2024-12-13",
          "2024-12-16",
          "2024-12-17",
          "2024-12-18",
          "2024-12-19",
          "2024-12-20",
          "2024-12-23",
          "2024-12-24",
          "2024-12-27",
          "2024-12-30"
         ],
         "xaxis": "x",
         "y": {
          "bdata": "AAAAAADM00AAAAAAAMzTQAAAAAAAzNNAAAAAAADM00AAAAAAAMzTQAAAAAAAzNNAAAAAAADM00AAAAAAwEfUQAAAAADAR9RAAAAAAMBH1EAAAAAAwEfUQAAAAADAR9RAAAAAAMBH1EAAAAAAwEfUQAAAAADAR9RAAAAAAMBH1EAAAAAAwEfUQAAAAADAR9RAAAAAAMBH1EAAAABbFEnTQAAAAC8OTtNA////GDcs00AAAABArzLTQAAAADfkBtNAAAAAcG2V0kAAAABAoQDSQAAAANGwKNJAAAAAAfRa0kAAAADdpDLSQAAAAPq3V9JAAAAA6RZz0kAAAAD3Qe7SQAAAAPdB7tJAAAAAXq0r0kAAAAAx473SQAAAANVFbNJAAAAAU9Fi0kAAAABtE2HSQAAAAHr1RNJAAAAAgkk00kAAAADEgQ7TQAAAAOB1rtJAAAAA+cI50kAAAAA1He/RQAAAAMsDBNJAAAAAPSRT0kAAAAA9JFPSQAAAAHIdONNAAAAA7pvP0kAAAABo9C3UQAEAALZmBNRAAAAAvwce1EAAAAC06yvUQAEAAIlmfNRA/v//0RzS1EAAAACo2dXUQAAAAIwA89RAAAAAlIPv1EAAAACUg+/UQAAAAAAActNAAAAAAADW00AAAAAAANbTQAAAAAAA1tNAAAAAAADW00AAAAAAANbTQAAAAAAA1tNAAAAAAADW00AAAAAAANbTQAAAAAAA1tNAAAAAAADW00AAAAAAANbTQAAAAAAA1tNAAAAAAADW00AAAAAAAJTUQAAAAAAAlNRAAAAAAACU1EAAAAAAAJTUQAAAAAAAlNRAAAAAAACU1EAAAAAAAJTUQAAAAAAAlNRAAAAAAACU1EAAAAAAAJTUQAAAAAAAlNRAAAAAAACU1EAAAAAAAJTUQAAAAMwTpdRAAAAA+BYR1UAAAAAxGQ3VQAAAAO7RGdVAAAAAy8sk1UD////7Ri3VQP///7sQHNVA/v//ca1a1UABAAAJYI/UQAAAAIigjtRAAAAAJN+Q1EAAAACIhrzUQP////hEv9RA////+ES/1EABAAC3X4LUQP////sYjtRAAAAAQmLv1EAAAABFb7vVQAAAAKi4qtVAAAAAAJF/1UAAAABdBJbVQAAAAG0SfdVA////RcKZ1UAAAABlfqDVQAAAAEt1ItZAAAAAvxR51UAAAACwTIfVQAEAADaca9VAAAAAbMyH1UD+//8xVAjVQAAAAOIabtVAAAAA4iXM1UD////prL/VQP///+msv9VAAAAAAACs1UAAAAAAAKzVQAAAAAAArNVAAAAAAACs1UAAAAAAAKzVQAAAAAAArNVAAAAAAACs1UAAAAAAAKzVQAAAAAAArNVAAAAAAACs1UAAAAAAAKzVQAAAAAAArNVAAAAAAACs1UAAAAAAAKzVQAAAAAAArNVAAAAAAACs1UAAAAAAAKzVQAAAAAAArNVAAAAAAACs1UAAAAAAAKzVQP///+WXmNRAAAAApdGu1EAAAADou2fVQAAAAHVSF9VAAAAAS71i1UD///9mO2nVQAAAAFU2e9VA////xjlv1UAAAAA/8JDVQP///ybb29VAAAAAvYsS1kAAAACvTA/WQP///9g7S9ZAAAAA5auD1kAAAABlFtDWQP///9sT2dZAAAAAqNPZ1kAAAAAL1dTWQAAAAKB5NtdAAAAAbfJP10AAAABr+y/XQAAAACyxVNdAAAAALLFU10AAAAAAgJrVQAAAAACA+dVAAAAAAID51UAAAAAAgPnVQAAAAACA+dVAAAAAAID51UAAAAAAgPnVQAAAAACA+dVAAAAAAID51UA=",
          "dtype": "f8"
         },
         "yaxis": "y"
        },
        {
         "customdata": [
          [
           "(-0.6, -0.5)",
           "(0.5, 0.6)"
          ],
          [
           "(-0.6, -0.5)",
           "(0.5, 0.6)"
          ],
          [
           "(-0.6, -0.5)",
           "(0.5, 0.6)"
          ],
          [
           "(-0.6, -0.5)",
           "(0.5, 0.6)"
          ],
          [
           "(-0.6, -0.5)",
           "(0.5, 0.6)"
          ],
          [
           "(-0.6, -0.5)",
           "(0.5, 0.6)"
          ],
          [
           "(-0.6, -0.5)",
           "(0.5, 0.6)"
          ],
          [
           "(-0.6, -0.5)",
           "(0.5, 0.6)"
          ],
          [
           "(-0.6, -0.5)",
           "(0.5, 0.6)"
          ],
          [
           "(-0.6, -0.5)",
           "(0.5, 0.6)"
          ],
          [
           "(-0.6, -0.5)",
           "(0.5, 0.6)"
          ],
          [
           "(-0.6, -0.5)",
           "(0.5, 0.6)"
          ],
          [
           "(-0.6, -0.5)",
           "(0.5, 0.6)"
          ],
          [
           "(-0.6, -0.5)",
           "(0.5, 0.6)"
          ],
          [
           "(-0.6, -0.5)",
           "(0.5, 0.6)"
          ],
          [
           "(-0.6, -0.5)",
           "(0.5, 0.6)"
          ],
          [
           "(-0.6, -0.5)",
           "(0.5, 0.6)"
          ],
          [
           "(-0.6, -0.5)",
           "(0.5, 0.6)"
          ],
          [
           "(-0.6, -0.5)",
           "(0.5, 0.6)"
          ],
          [
           "(-0.6, -0.5)",
           "(0.5, 0.6)"
          ],
          [
           "(-0.6, -0.5)",
           "(0.5, 0.6)"
          ],
          [
           "(-0.6, -0.5)",
           "(0.5, 0.6)"
          ],
          [
           "(-0.6, -0.5)",
           "(0.5, 0.6)"
          ],
          [
           "(-0.6, -0.5)",
           "(0.5, 0.6)"
          ],
          [
           "(-0.6, -0.5)",
           "(0.5, 0.6)"
          ],
          [
           "(-0.6, -0.5)",
           "(0.5, 0.6)"
          ],
          [
           "(-0.6, -0.5)",
           "(0.5, 0.6)"
          ],
          [
           "(-0.6, -0.5)",
           "(0.5, 0.6)"
          ],
          [
           "(-0.6, -0.5)",
           "(0.5, 0.6)"
          ],
          [
           "(-0.6, -0.5)",
           "(0.5, 0.6)"
          ],
          [
           "(-0.6, -0.5)",
           "(0.5, 0.6)"
          ],
          [
           "(-0.6, -0.5)",
           "(0.5, 0.6)"
          ],
          [
           "(-0.6, -0.5)",
           "(0.5, 0.6)"
          ],
          [
           "(-0.6, -0.5)",
           "(0.5, 0.6)"
          ],
          [
           "(-0.6, -0.5)",
           "(0.5, 0.6)"
          ],
          [
           "(-0.6, -0.5)",
           "(0.5, 0.6)"
          ],
          [
           "(-0.6, -0.5)",
           "(0.5, 0.6)"
          ],
          [
           "(-0.6, -0.5)",
           "(0.5, 0.6)"
          ],
          [
           "(-0.6, -0.5)",
           "(0.5, 0.6)"
          ],
          [
           "(-0.6, -0.5)",
           "(0.5, 0.6)"
          ],
          [
           "(-0.6, -0.5)",
           "(0.5, 0.6)"
          ],
          [
           "(-0.6, -0.5)",
           "(0.5, 0.6)"
          ],
          [
           "(-0.6, -0.5)",
           "(0.5, 0.6)"
          ],
          [
           "(-0.6, -0.5)",
           "(0.5, 0.6)"
          ],
          [
           "(-0.6, -0.5)",
           "(0.5, 0.6)"
          ],
          [
           "(-0.6, -0.5)",
           "(0.5, 0.6)"
          ],
          [
           "(-0.6, -0.5)",
           "(0.5, 0.6)"
          ],
          [
           "(-0.6, -0.5)",
           "(0.5, 0.6)"
          ],
          [
           "(-0.6, -0.5)",
           "(0.5, 0.6)"
          ],
          [
           "(-0.6, -0.5)",
           "(0.5, 0.6)"
          ],
          [
           "(-0.6, -0.5)",
           "(0.5, 0.6)"
          ],
          [
           "(-0.6, -0.5)",
           "(0.5, 0.6)"
          ],
          [
           "(-0.6, -0.5)",
           "(0.5, 0.6)"
          ],
          [
           "(-0.6, -0.5)",
           "(0.5, 0.6)"
          ],
          [
           "(-0.6, -0.5)",
           "(0.5, 0.6)"
          ],
          [
           "(-0.6, -0.5)",
           "(0.5, 0.6)"
          ],
          [
           "(-0.6, -0.5)",
           "(0.5, 0.6)"
          ],
          [
           "(-0.6, -0.5)",
           "(0.5, 0.6)"
          ],
          [
           "(-0.6, -0.5)",
           "(0.5, 0.6)"
          ],
          [
           "(-0.6, -0.5)",
           "(0.5, 0.6)"
          ],
          [
           "(-0.6, -0.5)",
           "(0.5, 0.6)"
          ],
          [
           "(-0.6, -0.5)",
           "(0.5, 0.6)"
          ],
          [
           "(-0.6, -0.5)",
           "(0.5, 0.6)"
          ],
          [
           "(-0.6, -0.5)",
           "(0.5, 0.6)"
          ],
          [
           "(-0.6, -0.5)",
           "(0.5, 0.6)"
          ],
          [
           "(-0.6, -0.5)",
           "(0.5, 0.6)"
          ],
          [
           "(-0.6, -0.5)",
           "(0.5, 0.6)"
          ],
          [
           "(-0.6, -0.5)",
           "(0.5, 0.6)"
          ],
          [
           "(-0.6, -0.5)",
           "(0.5, 0.6)"
          ],
          [
           "(-0.6, -0.5)",
           "(0.5, 0.6)"
          ],
          [
           "(-0.6, -0.5)",
           "(0.5, 0.6)"
          ],
          [
           "(-0.6, -0.5)",
           "(0.5, 0.6)"
          ],
          [
           "(-0.6, -0.5)",
           "(0.5, 0.6)"
          ],
          [
           "(-0.6, -0.5)",
           "(0.5, 0.6)"
          ],
          [
           "(-0.6, -0.5)",
           "(0.5, 0.6)"
          ],
          [
           "(-0.6, -0.5)",
           "(0.5, 0.6)"
          ],
          [
           "(-0.6, -0.5)",
           "(0.5, 0.6)"
          ],
          [
           "(-0.6, -0.5)",
           "(0.5, 0.6)"
          ],
          [
           "(-0.6, -0.5)",
           "(0.5, 0.6)"
          ],
          [
           "(-0.6, -0.5)",
           "(0.5, 0.6)"
          ],
          [
           "(-0.6, -0.5)",
           "(0.5, 0.6)"
          ],
          [
           "(-0.6, -0.5)",
           "(0.5, 0.6)"
          ],
          [
           "(-0.6, -0.5)",
           "(0.5, 0.6)"
          ],
          [
           "(-0.6, -0.5)",
           "(0.5, 0.6)"
          ],
          [
           "(-0.6, -0.5)",
           "(0.5, 0.6)"
          ],
          [
           "(-0.6, -0.5)",
           "(0.5, 0.6)"
          ],
          [
           "(-0.6, -0.5)",
           "(0.5, 0.6)"
          ],
          [
           "(-0.6, -0.5)",
           "(0.5, 0.6)"
          ],
          [
           "(-0.6, -0.5)",
           "(0.5, 0.6)"
          ],
          [
           "(-0.6, -0.5)",
           "(0.5, 0.6)"
          ],
          [
           "(-0.6, -0.5)",
           "(0.5, 0.6)"
          ],
          [
           "(-0.6, -0.5)",
           "(0.5, 0.6)"
          ],
          [
           "(-0.6, -0.5)",
           "(0.5, 0.6)"
          ],
          [
           "(-0.6, -0.5)",
           "(0.5, 0.6)"
          ],
          [
           "(-0.6, -0.5)",
           "(0.5, 0.6)"
          ],
          [
           "(-0.6, -0.5)",
           "(0.5, 0.6)"
          ],
          [
           "(-0.6, -0.5)",
           "(0.5, 0.6)"
          ],
          [
           "(-0.6, -0.5)",
           "(0.5, 0.6)"
          ],
          [
           "(-0.6, -0.5)",
           "(0.5, 0.6)"
          ],
          [
           "(-0.6, -0.5)",
           "(0.5, 0.6)"
          ],
          [
           "(-0.6, -0.5)",
           "(0.5, 0.6)"
          ],
          [
           "(-0.6, -0.5)",
           "(0.5, 0.6)"
          ],
          [
           "(-0.6, -0.5)",
           "(0.5, 0.6)"
          ],
          [
           "(-0.6, -0.5)",
           "(0.5, 0.6)"
          ],
          [
           "(-0.6, -0.5)",
           "(0.5, 0.6)"
          ],
          [
           "(-0.6, -0.5)",
           "(0.5, 0.6)"
          ],
          [
           "(-0.6, -0.5)",
           "(0.5, 0.6)"
          ],
          [
           "(-0.6, -0.5)",
           "(0.5, 0.6)"
          ],
          [
           "(-0.6, -0.5)",
           "(0.5, 0.6)"
          ],
          [
           "(-0.6, -0.5)",
           "(0.5, 0.6)"
          ],
          [
           "(-0.6, -0.5)",
           "(0.5, 0.6)"
          ],
          [
           "(-0.6, -0.5)",
           "(0.5, 0.6)"
          ],
          [
           "(-0.6, -0.5)",
           "(0.5, 0.6)"
          ],
          [
           "(-0.6, -0.5)",
           "(0.5, 0.6)"
          ],
          [
           "(-0.6, -0.5)",
           "(0.5, 0.6)"
          ],
          [
           "(-0.6, -0.5)",
           "(0.5, 0.6)"
          ],
          [
           "(-0.6, -0.5)",
           "(0.5, 0.6)"
          ],
          [
           "(-0.6, -0.5)",
           "(0.5, 0.6)"
          ],
          [
           "(-0.6, -0.5)",
           "(0.5, 0.6)"
          ],
          [
           "(-0.6, -0.5)",
           "(0.5, 0.6)"
          ],
          [
           "(-0.6, -0.5)",
           "(0.5, 0.6)"
          ],
          [
           "(-0.6, -0.5)",
           "(0.5, 0.6)"
          ],
          [
           "(-0.6, -0.5)",
           "(0.5, 0.6)"
          ],
          [
           "(-0.6, -0.5)",
           "(0.5, 0.6)"
          ],
          [
           "(-0.6, -0.5)",
           "(0.5, 0.6)"
          ],
          [
           "(-0.6, -0.5)",
           "(0.5, 0.6)"
          ],
          [
           "(-0.6, -0.5)",
           "(0.5, 0.6)"
          ],
          [
           "(-0.6, -0.5)",
           "(0.5, 0.6)"
          ],
          [
           "(-0.6, -0.5)",
           "(0.5, 0.6)"
          ],
          [
           "(-0.6, -0.5)",
           "(0.5, 0.6)"
          ],
          [
           "(-0.6, -0.5)",
           "(0.5, 0.6)"
          ],
          [
           "(-0.6, -0.5)",
           "(0.5, 0.6)"
          ],
          [
           "(-0.6, -0.5)",
           "(0.5, 0.6)"
          ],
          [
           "(-0.6, -0.5)",
           "(0.5, 0.6)"
          ],
          [
           "(-0.6, -0.5)",
           "(0.5, 0.6)"
          ],
          [
           "(-0.6, -0.5)",
           "(0.5, 0.6)"
          ],
          [
           "(-0.6, -0.5)",
           "(0.5, 0.6)"
          ],
          [
           "(-0.6, -0.5)",
           "(0.5, 0.6)"
          ],
          [
           "(-0.6, -0.5)",
           "(0.5, 0.6)"
          ],
          [
           "(-0.6, -0.5)",
           "(0.5, 0.6)"
          ],
          [
           "(-0.6, -0.5)",
           "(0.5, 0.6)"
          ],
          [
           "(-0.6, -0.5)",
           "(0.5, 0.6)"
          ],
          [
           "(-0.6, -0.5)",
           "(0.5, 0.6)"
          ],
          [
           "(-0.6, -0.5)",
           "(0.5, 0.6)"
          ],
          [
           "(-0.6, -0.5)",
           "(0.5, 0.6)"
          ],
          [
           "(-0.6, -0.5)",
           "(0.5, 0.6)"
          ],
          [
           "(-0.6, -0.5)",
           "(0.5, 0.6)"
          ],
          [
           "(-0.6, -0.5)",
           "(0.5, 0.6)"
          ],
          [
           "(-0.6, -0.5)",
           "(0.5, 0.6)"
          ],
          [
           "(-0.6, -0.5)",
           "(0.5, 0.6)"
          ],
          [
           "(-0.6, -0.5)",
           "(0.5, 0.6)"
          ],
          [
           "(-0.6, -0.5)",
           "(0.5, 0.6)"
          ],
          [
           "(-0.6, -0.5)",
           "(0.5, 0.6)"
          ],
          [
           "(-0.6, -0.5)",
           "(0.5, 0.6)"
          ],
          [
           "(-0.6, -0.5)",
           "(0.5, 0.6)"
          ],
          [
           "(-0.6, -0.5)",
           "(0.5, 0.6)"
          ],
          [
           "(-0.6, -0.5)",
           "(0.5, 0.6)"
          ],
          [
           "(-0.6, -0.5)",
           "(0.5, 0.6)"
          ],
          [
           "(-0.6, -0.5)",
           "(0.5, 0.6)"
          ],
          [
           "(-0.6, -0.5)",
           "(0.5, 0.6)"
          ],
          [
           "(-0.6, -0.5)",
           "(0.5, 0.6)"
          ],
          [
           "(-0.6, -0.5)",
           "(0.5, 0.6)"
          ],
          [
           "(-0.6, -0.5)",
           "(0.5, 0.6)"
          ],
          [
           "(-0.6, -0.5)",
           "(0.5, 0.6)"
          ],
          [
           "(-0.6, -0.5)",
           "(0.5, 0.6)"
          ],
          [
           "(-0.6, -0.5)",
           "(0.5, 0.6)"
          ],
          [
           "(-0.6, -0.5)",
           "(0.5, 0.6)"
          ],
          [
           "(-0.6, -0.5)",
           "(0.5, 0.6)"
          ],
          [
           "(-0.6, -0.5)",
           "(0.5, 0.6)"
          ],
          [
           "(-0.6, -0.5)",
           "(0.5, 0.6)"
          ],
          [
           "(-0.6, -0.5)",
           "(0.5, 0.6)"
          ],
          [
           "(-0.6, -0.5)",
           "(0.5, 0.6)"
          ]
         ],
         "hovertemplate": "<b>Date:</b> %{x}<br><b>Portfolio Value:</b> %{y}<br><b>Put Delta Range:</b> %{customdata[0]}<br><b>Call Delta Range:</b> %{customdata[1]}",
         "legendgroup": "Put: (-0.6, -0.5), Call: (0.5, 0.6)",
         "line": {
          "color": "#FF97FF",
          "dash": "solid"
         },
         "marker": {
          "symbol": "circle"
         },
         "mode": "lines",
         "name": "Put: (-0.6, -0.5), Call: (0.5, 0.6)",
         "showlegend": true,
         "type": "scattergl",
         "x": [
          "2024-01-03",
          "2024-01-05",
          "2024-01-08",
          "2024-01-10",
          "2024-01-12",
          "2024-01-17",
          "2024-01-19",
          "2024-01-22",
          "2024-01-24",
          "2024-01-26",
          "2024-01-29",
          "2024-01-31",
          "2024-02-02",
          "2024-02-05",
          "2024-02-07",
          "2024-02-09",
          "2024-02-12",
          "2024-02-14",
          "2024-02-16",
          "2024-02-21",
          "2024-02-23",
          "2024-02-26",
          "2024-02-28",
          "2024-03-01",
          "2024-03-04",
          "2024-03-06",
          "2024-03-08",
          "2024-03-11",
          "2024-03-13",
          "2024-03-15",
          "2024-03-18",
          "2024-03-20",
          "2024-03-22",
          "2024-03-25",
          "2024-03-27",
          "2024-04-01",
          "2024-04-03",
          "2024-04-05",
          "2024-04-08",
          "2024-04-10",
          "2024-04-12",
          "2024-04-15",
          "2024-04-17",
          "2024-04-19",
          "2024-04-22",
          "2024-04-24",
          "2024-04-26",
          "2024-04-29",
          "2024-05-01",
          "2024-05-03",
          "2024-05-06",
          "2024-05-08",
          "2024-05-10",
          "2024-05-13",
          "2024-05-15",
          "2024-05-17",
          "2024-05-20",
          "2024-05-22",
          "2024-05-24",
          "2024-05-29",
          "2024-05-31",
          "2024-06-03",
          "2024-06-05",
          "2024-06-07",
          "2024-06-10",
          "2024-06-12",
          "2024-06-14",
          "2024-06-17",
          "2024-06-21",
          "2024-06-24",
          "2024-06-26",
          "2024-06-28",
          "2024-07-01",
          "2024-07-03",
          "2024-07-05",
          "2024-07-08",
          "2024-07-10",
          "2024-07-12",
          "2024-07-15",
          "2024-07-17",
          "2024-07-19",
          "2024-07-22",
          "2024-07-24",
          "2024-07-26",
          "2024-07-29",
          "2024-08-12",
          "2024-08-14",
          "2024-08-16",
          "2024-08-19",
          "2024-08-21",
          "2024-08-23",
          "2024-08-26",
          "2024-08-28",
          "2024-08-30",
          "2024-09-04",
          "2024-09-06",
          "2024-09-09",
          "2024-09-11",
          "2024-09-12",
          "2024-09-13",
          "2024-09-16",
          "2024-09-17",
          "2024-09-18",
          "2024-09-19",
          "2024-09-20",
          "2024-09-23",
          "2024-09-24",
          "2024-09-25",
          "2024-09-26",
          "2024-09-27",
          "2024-09-30",
          "2024-10-01",
          "2024-10-02",
          "2024-10-03",
          "2024-10-04",
          "2024-10-07",
          "2024-10-08",
          "2024-10-09",
          "2024-10-10",
          "2024-10-11",
          "2024-10-14",
          "2024-10-15",
          "2024-10-16",
          "2024-10-17",
          "2024-10-18",
          "2024-10-21",
          "2024-10-22",
          "2024-10-23",
          "2024-10-24",
          "2024-10-25",
          "2024-10-28",
          "2024-10-29",
          "2024-10-30",
          "2024-10-31",
          "2024-11-01",
          "2024-11-04",
          "2024-11-05",
          "2024-11-06",
          "2024-11-07",
          "2024-11-08",
          "2024-11-11",
          "2024-11-13",
          "2024-11-14",
          "2024-11-15",
          "2024-11-18",
          "2024-11-19",
          "2024-11-20",
          "2024-11-21",
          "2024-11-22",
          "2024-11-25",
          "2024-11-26",
          "2024-11-27",
          "2024-11-29",
          "2024-12-02",
          "2024-12-03",
          "2024-12-04",
          "2024-12-05",
          "2024-12-06",
          "2024-12-09",
          "2024-12-10",
          "2024-12-11",
          "2024-12-12",
          "2024-12-13",
          "2024-12-16",
          "2024-12-17",
          "2024-12-18",
          "2024-12-19",
          "2024-12-20",
          "2024-12-23",
          "2024-12-24",
          "2024-12-27",
          "2024-12-30"
         ],
         "xaxis": "x",
         "y": {
          "bdata": "AAAAAADM00AAAAAAAMzTQAAAAAAAzNNAAAAAAADM00AAAAAAAMzTQAAAAAAAzNNAAAAAAADM00AAAAAAwEfUQAAAAADAR9RAAAAAAMBH1EAAAAAAwEfUQAAAAADAR9RAAAAAAMBH1EAAAAAAwEfUQAAAAADAR9RAAAAAAMBH1EAAAAAAwEfUQAAAAADAR9RAAAAAAMBH1EAAAABbFEnTQAAAAC8OTtNA////GDcs00AAAABArzLTQAAAADfkBtNAAAAAcG2V0kAAAABAoQDSQAAAAEChANJAAAAAAfRa0kAAAADdpK/SQAAAAPq31NJAAAAA6Rbw0kAAAAD3QWvTQAAAAChCzNJAAAAAXq2o0kAAAAAx4+XSQAAAANVFlNJAAAAAU9GK0kAAAABtE4nSQAAAAHr1bNJAAAAAgklc0kAAAACCSVzSQAAAAABAPNNAAAAAAEA800AAAAAAQDzTQAAAAABAPNNAAAAAAEA800AAAAAAQDzTQAAAAABAPNNAAAAAAEA800AAAAAAQDzTQAAAAABAPNNAAAAAAEA800AAAAAAQDzTQAAAAABAPNNAAAAAAEB000AAAAAAQHTTQAAAAABAdNNAAAAAAEB000AAAAAAQHTTQAAAAABAdNNAAAAAAEB000AAAAAAwOTTQAAAAADA5NNAAAAAAMDk00AAAAAAwOTTQAAAAADA5NNAAAAAAMDk00AAAAAAwOTTQAAAAADA5NNAAAAAAMDk00AAAAAAwOTTQAAAAADA5NNAAAAAAMDk00AAAAAAwKLUQAAAAADAotRAAAAAAMCi1EAAAAAAwKLUQAAAAADAotRAAAAAAMCi1EAAAAAAwKLUQAAAAADAotRAAAAAAMCi1EAAAAAAwKLUQAAAAADAotRAAAAAAMCi1EAAAAAAwKLUQAAAAMzT9NRAAAAA+NZg1UAAAAAx2VzVQAAAAO6RadVAAAAAy4t01UD////7Bn3VQP///7vQa9VA/v//cW2q1UABAAAJIN/UQAAAAIhg3tRAAAAAJJ/g1EAAAACIRgzVQP////gED9VA////+AQP1UAAAAAAgHjVQAAAAACAeNVAAAAAAIB41UAAAAAAgHjVQAAAAACAeNVAAAAAAIB41UAAAAAAgHjVQAAAAACAeNVAAAAAAIB41UAAAAAAgHjVQAAAAACAeNVAAAAAAIB41UAAAAAAgHjVQAAAAACAeNVAAAAAAIB41UAAAAAAgHjVQAAAAACAeNVAAAAAAIB41UAAAAAAgHjVQAAAAACAeNVAAAAAAEA61kAAAAAAQDrWQAAAAABAOtZAAAAAAEA61kAAAAAAQDrWQAAAAABAOtZAAAAAAEA61kAAAAAAQDrWQAAAAABAOtZAAAAAAEA61kAAAAAAQDrWQAAAAABAOtZAAAAAAEA61kAAAAAAQDrWQAAAAABAOtZAAAAAAEA61kAAAAAAQDrWQAAAAABAOtZAAAAAAEA61kAAAAAAQDrWQP///+UXltVAAAAApVGs1UAAAADou/nVQAAAAHVSqdVAAAAAS7301UD///9mO/vVQAAAAFU2DdZA////xjkB1kAAAAA/8CLWQP///ybbbdZAAAAAvYuk1kAAAACvTKHWQP///9g73dZAAAAA5asV10AAAABlFmLXQP///9sTa9dAAAAAqNNr10AAAACo02vXQAAAAAAANNZAAAAAAAA01kAAAAAAADTWQAAAAAAANNZAAAAAAAA01kAAAAAAADTWQAAAAAAANNZAAAAAAAA01kAAAAAAADTWQAAAAAAANNZAAAAAAAA01kAAAAAAADTWQAAAAAAANNZAAAAAAAA01kA=",
          "dtype": "f8"
         },
         "yaxis": "y"
        },
        {
         "customdata": [
          [
           "(-0.6, -0.5)",
           "(0.6, 0.7)"
          ],
          [
           "(-0.6, -0.5)",
           "(0.6, 0.7)"
          ],
          [
           "(-0.6, -0.5)",
           "(0.6, 0.7)"
          ],
          [
           "(-0.6, -0.5)",
           "(0.6, 0.7)"
          ],
          [
           "(-0.6, -0.5)",
           "(0.6, 0.7)"
          ],
          [
           "(-0.6, -0.5)",
           "(0.6, 0.7)"
          ],
          [
           "(-0.6, -0.5)",
           "(0.6, 0.7)"
          ],
          [
           "(-0.6, -0.5)",
           "(0.6, 0.7)"
          ],
          [
           "(-0.6, -0.5)",
           "(0.6, 0.7)"
          ],
          [
           "(-0.6, -0.5)",
           "(0.6, 0.7)"
          ],
          [
           "(-0.6, -0.5)",
           "(0.6, 0.7)"
          ],
          [
           "(-0.6, -0.5)",
           "(0.6, 0.7)"
          ],
          [
           "(-0.6, -0.5)",
           "(0.6, 0.7)"
          ],
          [
           "(-0.6, -0.5)",
           "(0.6, 0.7)"
          ],
          [
           "(-0.6, -0.5)",
           "(0.6, 0.7)"
          ],
          [
           "(-0.6, -0.5)",
           "(0.6, 0.7)"
          ],
          [
           "(-0.6, -0.5)",
           "(0.6, 0.7)"
          ],
          [
           "(-0.6, -0.5)",
           "(0.6, 0.7)"
          ],
          [
           "(-0.6, -0.5)",
           "(0.6, 0.7)"
          ],
          [
           "(-0.6, -0.5)",
           "(0.6, 0.7)"
          ],
          [
           "(-0.6, -0.5)",
           "(0.6, 0.7)"
          ],
          [
           "(-0.6, -0.5)",
           "(0.6, 0.7)"
          ],
          [
           "(-0.6, -0.5)",
           "(0.6, 0.7)"
          ],
          [
           "(-0.6, -0.5)",
           "(0.6, 0.7)"
          ],
          [
           "(-0.6, -0.5)",
           "(0.6, 0.7)"
          ],
          [
           "(-0.6, -0.5)",
           "(0.6, 0.7)"
          ],
          [
           "(-0.6, -0.5)",
           "(0.6, 0.7)"
          ],
          [
           "(-0.6, -0.5)",
           "(0.6, 0.7)"
          ],
          [
           "(-0.6, -0.5)",
           "(0.6, 0.7)"
          ],
          [
           "(-0.6, -0.5)",
           "(0.6, 0.7)"
          ],
          [
           "(-0.6, -0.5)",
           "(0.6, 0.7)"
          ],
          [
           "(-0.6, -0.5)",
           "(0.6, 0.7)"
          ],
          [
           "(-0.6, -0.5)",
           "(0.6, 0.7)"
          ],
          [
           "(-0.6, -0.5)",
           "(0.6, 0.7)"
          ],
          [
           "(-0.6, -0.5)",
           "(0.6, 0.7)"
          ],
          [
           "(-0.6, -0.5)",
           "(0.6, 0.7)"
          ],
          [
           "(-0.6, -0.5)",
           "(0.6, 0.7)"
          ],
          [
           "(-0.6, -0.5)",
           "(0.6, 0.7)"
          ],
          [
           "(-0.6, -0.5)",
           "(0.6, 0.7)"
          ],
          [
           "(-0.6, -0.5)",
           "(0.6, 0.7)"
          ],
          [
           "(-0.6, -0.5)",
           "(0.6, 0.7)"
          ],
          [
           "(-0.6, -0.5)",
           "(0.6, 0.7)"
          ],
          [
           "(-0.6, -0.5)",
           "(0.6, 0.7)"
          ],
          [
           "(-0.6, -0.5)",
           "(0.6, 0.7)"
          ],
          [
           "(-0.6, -0.5)",
           "(0.6, 0.7)"
          ],
          [
           "(-0.6, -0.5)",
           "(0.6, 0.7)"
          ],
          [
           "(-0.6, -0.5)",
           "(0.6, 0.7)"
          ],
          [
           "(-0.6, -0.5)",
           "(0.6, 0.7)"
          ],
          [
           "(-0.6, -0.5)",
           "(0.6, 0.7)"
          ],
          [
           "(-0.6, -0.5)",
           "(0.6, 0.7)"
          ],
          [
           "(-0.6, -0.5)",
           "(0.6, 0.7)"
          ],
          [
           "(-0.6, -0.5)",
           "(0.6, 0.7)"
          ],
          [
           "(-0.6, -0.5)",
           "(0.6, 0.7)"
          ],
          [
           "(-0.6, -0.5)",
           "(0.6, 0.7)"
          ],
          [
           "(-0.6, -0.5)",
           "(0.6, 0.7)"
          ],
          [
           "(-0.6, -0.5)",
           "(0.6, 0.7)"
          ],
          [
           "(-0.6, -0.5)",
           "(0.6, 0.7)"
          ],
          [
           "(-0.6, -0.5)",
           "(0.6, 0.7)"
          ],
          [
           "(-0.6, -0.5)",
           "(0.6, 0.7)"
          ],
          [
           "(-0.6, -0.5)",
           "(0.6, 0.7)"
          ],
          [
           "(-0.6, -0.5)",
           "(0.6, 0.7)"
          ],
          [
           "(-0.6, -0.5)",
           "(0.6, 0.7)"
          ],
          [
           "(-0.6, -0.5)",
           "(0.6, 0.7)"
          ],
          [
           "(-0.6, -0.5)",
           "(0.6, 0.7)"
          ],
          [
           "(-0.6, -0.5)",
           "(0.6, 0.7)"
          ],
          [
           "(-0.6, -0.5)",
           "(0.6, 0.7)"
          ],
          [
           "(-0.6, -0.5)",
           "(0.6, 0.7)"
          ],
          [
           "(-0.6, -0.5)",
           "(0.6, 0.7)"
          ],
          [
           "(-0.6, -0.5)",
           "(0.6, 0.7)"
          ],
          [
           "(-0.6, -0.5)",
           "(0.6, 0.7)"
          ],
          [
           "(-0.6, -0.5)",
           "(0.6, 0.7)"
          ],
          [
           "(-0.6, -0.5)",
           "(0.6, 0.7)"
          ],
          [
           "(-0.6, -0.5)",
           "(0.6, 0.7)"
          ],
          [
           "(-0.6, -0.5)",
           "(0.6, 0.7)"
          ],
          [
           "(-0.6, -0.5)",
           "(0.6, 0.7)"
          ],
          [
           "(-0.6, -0.5)",
           "(0.6, 0.7)"
          ],
          [
           "(-0.6, -0.5)",
           "(0.6, 0.7)"
          ],
          [
           "(-0.6, -0.5)",
           "(0.6, 0.7)"
          ],
          [
           "(-0.6, -0.5)",
           "(0.6, 0.7)"
          ],
          [
           "(-0.6, -0.5)",
           "(0.6, 0.7)"
          ],
          [
           "(-0.6, -0.5)",
           "(0.6, 0.7)"
          ],
          [
           "(-0.6, -0.5)",
           "(0.6, 0.7)"
          ],
          [
           "(-0.6, -0.5)",
           "(0.6, 0.7)"
          ],
          [
           "(-0.6, -0.5)",
           "(0.6, 0.7)"
          ],
          [
           "(-0.6, -0.5)",
           "(0.6, 0.7)"
          ],
          [
           "(-0.6, -0.5)",
           "(0.6, 0.7)"
          ],
          [
           "(-0.6, -0.5)",
           "(0.6, 0.7)"
          ],
          [
           "(-0.6, -0.5)",
           "(0.6, 0.7)"
          ],
          [
           "(-0.6, -0.5)",
           "(0.6, 0.7)"
          ],
          [
           "(-0.6, -0.5)",
           "(0.6, 0.7)"
          ],
          [
           "(-0.6, -0.5)",
           "(0.6, 0.7)"
          ],
          [
           "(-0.6, -0.5)",
           "(0.6, 0.7)"
          ],
          [
           "(-0.6, -0.5)",
           "(0.6, 0.7)"
          ],
          [
           "(-0.6, -0.5)",
           "(0.6, 0.7)"
          ],
          [
           "(-0.6, -0.5)",
           "(0.6, 0.7)"
          ],
          [
           "(-0.6, -0.5)",
           "(0.6, 0.7)"
          ],
          [
           "(-0.6, -0.5)",
           "(0.6, 0.7)"
          ],
          [
           "(-0.6, -0.5)",
           "(0.6, 0.7)"
          ],
          [
           "(-0.6, -0.5)",
           "(0.6, 0.7)"
          ],
          [
           "(-0.6, -0.5)",
           "(0.6, 0.7)"
          ],
          [
           "(-0.6, -0.5)",
           "(0.6, 0.7)"
          ],
          [
           "(-0.6, -0.5)",
           "(0.6, 0.7)"
          ],
          [
           "(-0.6, -0.5)",
           "(0.6, 0.7)"
          ],
          [
           "(-0.6, -0.5)",
           "(0.6, 0.7)"
          ],
          [
           "(-0.6, -0.5)",
           "(0.6, 0.7)"
          ],
          [
           "(-0.6, -0.5)",
           "(0.6, 0.7)"
          ],
          [
           "(-0.6, -0.5)",
           "(0.6, 0.7)"
          ],
          [
           "(-0.6, -0.5)",
           "(0.6, 0.7)"
          ],
          [
           "(-0.6, -0.5)",
           "(0.6, 0.7)"
          ],
          [
           "(-0.6, -0.5)",
           "(0.6, 0.7)"
          ],
          [
           "(-0.6, -0.5)",
           "(0.6, 0.7)"
          ],
          [
           "(-0.6, -0.5)",
           "(0.6, 0.7)"
          ],
          [
           "(-0.6, -0.5)",
           "(0.6, 0.7)"
          ],
          [
           "(-0.6, -0.5)",
           "(0.6, 0.7)"
          ],
          [
           "(-0.6, -0.5)",
           "(0.6, 0.7)"
          ],
          [
           "(-0.6, -0.5)",
           "(0.6, 0.7)"
          ],
          [
           "(-0.6, -0.5)",
           "(0.6, 0.7)"
          ],
          [
           "(-0.6, -0.5)",
           "(0.6, 0.7)"
          ],
          [
           "(-0.6, -0.5)",
           "(0.6, 0.7)"
          ],
          [
           "(-0.6, -0.5)",
           "(0.6, 0.7)"
          ],
          [
           "(-0.6, -0.5)",
           "(0.6, 0.7)"
          ],
          [
           "(-0.6, -0.5)",
           "(0.6, 0.7)"
          ],
          [
           "(-0.6, -0.5)",
           "(0.6, 0.7)"
          ],
          [
           "(-0.6, -0.5)",
           "(0.6, 0.7)"
          ],
          [
           "(-0.6, -0.5)",
           "(0.6, 0.7)"
          ],
          [
           "(-0.6, -0.5)",
           "(0.6, 0.7)"
          ],
          [
           "(-0.6, -0.5)",
           "(0.6, 0.7)"
          ],
          [
           "(-0.6, -0.5)",
           "(0.6, 0.7)"
          ],
          [
           "(-0.6, -0.5)",
           "(0.6, 0.7)"
          ],
          [
           "(-0.6, -0.5)",
           "(0.6, 0.7)"
          ],
          [
           "(-0.6, -0.5)",
           "(0.6, 0.7)"
          ],
          [
           "(-0.6, -0.5)",
           "(0.6, 0.7)"
          ],
          [
           "(-0.6, -0.5)",
           "(0.6, 0.7)"
          ],
          [
           "(-0.6, -0.5)",
           "(0.6, 0.7)"
          ],
          [
           "(-0.6, -0.5)",
           "(0.6, 0.7)"
          ],
          [
           "(-0.6, -0.5)",
           "(0.6, 0.7)"
          ],
          [
           "(-0.6, -0.5)",
           "(0.6, 0.7)"
          ],
          [
           "(-0.6, -0.5)",
           "(0.6, 0.7)"
          ],
          [
           "(-0.6, -0.5)",
           "(0.6, 0.7)"
          ],
          [
           "(-0.6, -0.5)",
           "(0.6, 0.7)"
          ],
          [
           "(-0.6, -0.5)",
           "(0.6, 0.7)"
          ],
          [
           "(-0.6, -0.5)",
           "(0.6, 0.7)"
          ],
          [
           "(-0.6, -0.5)",
           "(0.6, 0.7)"
          ],
          [
           "(-0.6, -0.5)",
           "(0.6, 0.7)"
          ],
          [
           "(-0.6, -0.5)",
           "(0.6, 0.7)"
          ],
          [
           "(-0.6, -0.5)",
           "(0.6, 0.7)"
          ],
          [
           "(-0.6, -0.5)",
           "(0.6, 0.7)"
          ],
          [
           "(-0.6, -0.5)",
           "(0.6, 0.7)"
          ],
          [
           "(-0.6, -0.5)",
           "(0.6, 0.7)"
          ],
          [
           "(-0.6, -0.5)",
           "(0.6, 0.7)"
          ],
          [
           "(-0.6, -0.5)",
           "(0.6, 0.7)"
          ],
          [
           "(-0.6, -0.5)",
           "(0.6, 0.7)"
          ],
          [
           "(-0.6, -0.5)",
           "(0.6, 0.7)"
          ],
          [
           "(-0.6, -0.5)",
           "(0.6, 0.7)"
          ],
          [
           "(-0.6, -0.5)",
           "(0.6, 0.7)"
          ],
          [
           "(-0.6, -0.5)",
           "(0.6, 0.7)"
          ],
          [
           "(-0.6, -0.5)",
           "(0.6, 0.7)"
          ],
          [
           "(-0.6, -0.5)",
           "(0.6, 0.7)"
          ],
          [
           "(-0.6, -0.5)",
           "(0.6, 0.7)"
          ],
          [
           "(-0.6, -0.5)",
           "(0.6, 0.7)"
          ],
          [
           "(-0.6, -0.5)",
           "(0.6, 0.7)"
          ],
          [
           "(-0.6, -0.5)",
           "(0.6, 0.7)"
          ],
          [
           "(-0.6, -0.5)",
           "(0.6, 0.7)"
          ],
          [
           "(-0.6, -0.5)",
           "(0.6, 0.7)"
          ],
          [
           "(-0.6, -0.5)",
           "(0.6, 0.7)"
          ],
          [
           "(-0.6, -0.5)",
           "(0.6, 0.7)"
          ],
          [
           "(-0.6, -0.5)",
           "(0.6, 0.7)"
          ],
          [
           "(-0.6, -0.5)",
           "(0.6, 0.7)"
          ],
          [
           "(-0.6, -0.5)",
           "(0.6, 0.7)"
          ],
          [
           "(-0.6, -0.5)",
           "(0.6, 0.7)"
          ],
          [
           "(-0.6, -0.5)",
           "(0.6, 0.7)"
          ],
          [
           "(-0.6, -0.5)",
           "(0.6, 0.7)"
          ]
         ],
         "hovertemplate": "<b>Date:</b> %{x}<br><b>Portfolio Value:</b> %{y}<br><b>Put Delta Range:</b> %{customdata[0]}<br><b>Call Delta Range:</b> %{customdata[1]}",
         "legendgroup": "Put: (-0.6, -0.5), Call: (0.6, 0.7)",
         "line": {
          "color": "#FECB52",
          "dash": "solid"
         },
         "marker": {
          "symbol": "circle"
         },
         "mode": "lines",
         "name": "Put: (-0.6, -0.5), Call: (0.6, 0.7)",
         "showlegend": true,
         "type": "scattergl",
         "x": [
          "2024-01-03",
          "2024-01-05",
          "2024-01-08",
          "2024-01-10",
          "2024-01-12",
          "2024-01-17",
          "2024-01-19",
          "2024-01-22",
          "2024-01-24",
          "2024-01-26",
          "2024-01-29",
          "2024-01-31",
          "2024-02-02",
          "2024-02-05",
          "2024-02-07",
          "2024-02-09",
          "2024-02-12",
          "2024-02-14",
          "2024-02-16",
          "2024-02-21",
          "2024-02-23",
          "2024-02-26",
          "2024-02-28",
          "2024-03-01",
          "2024-03-04",
          "2024-03-06",
          "2024-03-08",
          "2024-03-11",
          "2024-03-13",
          "2024-03-15",
          "2024-03-18",
          "2024-03-20",
          "2024-03-22",
          "2024-03-25",
          "2024-03-27",
          "2024-04-01",
          "2024-04-03",
          "2024-04-05",
          "2024-04-08",
          "2024-04-10",
          "2024-04-12",
          "2024-04-15",
          "2024-04-17",
          "2024-04-19",
          "2024-04-22",
          "2024-04-24",
          "2024-04-26",
          "2024-04-29",
          "2024-05-01",
          "2024-05-03",
          "2024-05-06",
          "2024-05-08",
          "2024-05-10",
          "2024-05-13",
          "2024-05-15",
          "2024-05-17",
          "2024-05-20",
          "2024-05-22",
          "2024-05-24",
          "2024-05-29",
          "2024-05-31",
          "2024-06-03",
          "2024-06-05",
          "2024-06-07",
          "2024-06-10",
          "2024-06-12",
          "2024-06-14",
          "2024-06-17",
          "2024-06-21",
          "2024-06-24",
          "2024-06-26",
          "2024-06-28",
          "2024-07-01",
          "2024-07-03",
          "2024-07-05",
          "2024-07-08",
          "2024-07-10",
          "2024-07-12",
          "2024-07-15",
          "2024-07-17",
          "2024-07-19",
          "2024-07-22",
          "2024-07-24",
          "2024-07-26",
          "2024-07-29",
          "2024-08-12",
          "2024-08-14",
          "2024-08-16",
          "2024-08-19",
          "2024-08-21",
          "2024-08-23",
          "2024-08-26",
          "2024-08-28",
          "2024-08-30",
          "2024-09-04",
          "2024-09-06",
          "2024-09-09",
          "2024-09-11",
          "2024-09-12",
          "2024-09-13",
          "2024-09-16",
          "2024-09-17",
          "2024-09-18",
          "2024-09-19",
          "2024-09-20",
          "2024-09-23",
          "2024-09-24",
          "2024-09-25",
          "2024-09-26",
          "2024-09-27",
          "2024-09-30",
          "2024-10-01",
          "2024-10-02",
          "2024-10-03",
          "2024-10-04",
          "2024-10-07",
          "2024-10-08",
          "2024-10-09",
          "2024-10-10",
          "2024-10-11",
          "2024-10-14",
          "2024-10-15",
          "2024-10-16",
          "2024-10-17",
          "2024-10-18",
          "2024-10-21",
          "2024-10-22",
          "2024-10-23",
          "2024-10-24",
          "2024-10-25",
          "2024-10-28",
          "2024-10-29",
          "2024-10-30",
          "2024-10-31",
          "2024-11-01",
          "2024-11-04",
          "2024-11-05",
          "2024-11-06",
          "2024-11-07",
          "2024-11-08",
          "2024-11-11",
          "2024-11-13",
          "2024-11-14",
          "2024-11-15",
          "2024-11-18",
          "2024-11-19",
          "2024-11-20",
          "2024-11-21",
          "2024-11-22",
          "2024-11-25",
          "2024-11-26",
          "2024-11-27",
          "2024-11-29",
          "2024-12-02",
          "2024-12-03",
          "2024-12-04",
          "2024-12-05",
          "2024-12-06",
          "2024-12-09",
          "2024-12-10",
          "2024-12-11",
          "2024-12-12",
          "2024-12-13",
          "2024-12-16",
          "2024-12-17",
          "2024-12-18",
          "2024-12-19",
          "2024-12-20",
          "2024-12-23",
          "2024-12-24",
          "2024-12-27",
          "2024-12-30"
         ],
         "xaxis": "x",
         "y": {
          "bdata": "AAAAAADM00AAAAAAAMzTQAAAAAAAzNNAAAAAAADM00AAAAAAAMzTQAAAAAAAzNNAAAAAAADM00AAAAAAwEfUQAAAAADAR9RAAAAAAMBH1EAAAAAAwEfUQAAAAADAR9RAAAAAAMBH1EAAAAAAwEfUQAAAAADAR9RAAAAAAMBH1EAAAAAAwEfUQAAAAADAR9RAAAAAAMBH1EAAAABb1I3TQAAAAC/OktNA////GPdw00AAAABAb3fTQAAAADekS9NAAAAAcC3a0kAAAABAYUXSQAAAANFwbdJAAAAAAbSf0kAAAADdZHfSQAAAAPp3nNJAAAAA6da30kAAAAD3ATPTQAAAAPcBM9NAAAAAXu0I00AAAAAxI0bTQAAAANWF9NJAAAAAUxHr0kAAAABtU+nSQAAAAHo1zdJAAAAAgom80kAAAADEwZbTQAAAAOC1NtNAAAAA+QLC0kAAAAD5AsLSQAAAAMvDPdNAAAAAPeSM00AAAADu25PTQAAAAHJd/NNAAAAA7tuT00AAAABoNPLUQAEAALamyNRAAAAAv0fi1EAAAAC0K/DUQAEAAImmQNVA/v//0VyW1UD+///RXJbVQAAAAADA/dJAAAAAAMD90kAAAAAAwP3SQAAAAADA/dJAAAAAAMBh00AAAAAAwGHTQAAAAADAYdNAAAAAAMBh00AAAAAAwGHTQAAAAADAYdNAAAAAAMBh00AAAAAAwGHTQAAAAADAYdNAAAAAAMBh00AAAAAAwGHTQAAAAADAYdNAAAAAAMBh00AAAAAAwB/UQAAAAADAH9RAAAAAAMAf1EAAAAAAwB/UQAAAAADAH9RAAAAAAMAf1EAAAAAAwB/UQAAAAADAH9RAAAAAAMAf1EAAAAAAwB/UQAAAAADAH9RAAAAAAMAf1EAAAAAAwB/UQAAAAMwTyNRAAAAA+BY01UAAAAAxGTDVQAAAAO7RPNVAAAAAy8tH1UD////7RlDVQP///7sQP9VA/v//ca191UABAAAJYLLUQAAAAIigsdRAAAAAJN+z1EAAAACIht/UQP////hE4tRA////+ETi1EAAAAAAwM7UQAAAAADAztRAAAAAAMDO1EAAAAAAwM7UQAAAAADAztRAAAAAAMDO1EAAAAAAwM7UQAAAAADAztRAAAAAAMDO1EAAAAAAwM7UQAAAAADAztRAAAAAAMDO1EAAAAAAwM7UQAAAAADAztRAAAAAAMDO1EAAAAAAwM7UQAAAAADAztRAAAAAAMDO1EAAAAAAwM7UQAAAAADAztRAAAAAAICQ1UAAAAAAgJDVQAAAAACAkNVAAAAAAICQ1UAAAAAAgJDVQAAAAACAkNVAAAAAAICQ1UAAAAAAgJDVQAAAAACAkNVAAAAAAICQ1UAAAAAAgJDVQAAAAACAkNVAAAAAAICQ1UAAAAAAgJDVQAAAAACAkNVAAAAAAICQ1UAAAAAAgJDVQAAAAACAkNVAAAAAAICQ1UAAAAAAgJDVQP///+WXONVAAAAApdFO1UAAAADoO5zVQAAAAHXSS9VAAAAASz2X1UD///9mu53VQAAAAFW2r9VA////xrmj1UAAAAA/cMXVQP///yZbENZAAAAAvQtH1kAAAACvzEPWQP///9i7f9ZAAAAA5Su41kAAAABllgTXQP///9uTDddAAAAAqFMO10AAAACoUw7XQAAAAACAWdVAAAAAAIBZ1UAAAAAAgFnVQAAAAACAWdVAAAAAAIBZ1UAAAAAAgFnVQAAAAACAWdVAAAAAAIBZ1UAAAAAAgFnVQAAAAACAWdVAAAAAAIBZ1UAAAAAAgFnVQAAAAACAWdVAAAAAAIBZ1UA=",
          "dtype": "f8"
         },
         "yaxis": "y"
        },
        {
         "customdata": [
          [
           "(-0.5, -0.4)",
           "(0.2, 0.3)"
          ],
          [
           "(-0.5, -0.4)",
           "(0.2, 0.3)"
          ],
          [
           "(-0.5, -0.4)",
           "(0.2, 0.3)"
          ],
          [
           "(-0.5, -0.4)",
           "(0.2, 0.3)"
          ],
          [
           "(-0.5, -0.4)",
           "(0.2, 0.3)"
          ],
          [
           "(-0.5, -0.4)",
           "(0.2, 0.3)"
          ],
          [
           "(-0.5, -0.4)",
           "(0.2, 0.3)"
          ],
          [
           "(-0.5, -0.4)",
           "(0.2, 0.3)"
          ],
          [
           "(-0.5, -0.4)",
           "(0.2, 0.3)"
          ],
          [
           "(-0.5, -0.4)",
           "(0.2, 0.3)"
          ],
          [
           "(-0.5, -0.4)",
           "(0.2, 0.3)"
          ],
          [
           "(-0.5, -0.4)",
           "(0.2, 0.3)"
          ],
          [
           "(-0.5, -0.4)",
           "(0.2, 0.3)"
          ],
          [
           "(-0.5, -0.4)",
           "(0.2, 0.3)"
          ],
          [
           "(-0.5, -0.4)",
           "(0.2, 0.3)"
          ],
          [
           "(-0.5, -0.4)",
           "(0.2, 0.3)"
          ],
          [
           "(-0.5, -0.4)",
           "(0.2, 0.3)"
          ],
          [
           "(-0.5, -0.4)",
           "(0.2, 0.3)"
          ],
          [
           "(-0.5, -0.4)",
           "(0.2, 0.3)"
          ],
          [
           "(-0.5, -0.4)",
           "(0.2, 0.3)"
          ],
          [
           "(-0.5, -0.4)",
           "(0.2, 0.3)"
          ],
          [
           "(-0.5, -0.4)",
           "(0.2, 0.3)"
          ],
          [
           "(-0.5, -0.4)",
           "(0.2, 0.3)"
          ],
          [
           "(-0.5, -0.4)",
           "(0.2, 0.3)"
          ],
          [
           "(-0.5, -0.4)",
           "(0.2, 0.3)"
          ],
          [
           "(-0.5, -0.4)",
           "(0.2, 0.3)"
          ],
          [
           "(-0.5, -0.4)",
           "(0.2, 0.3)"
          ],
          [
           "(-0.5, -0.4)",
           "(0.2, 0.3)"
          ],
          [
           "(-0.5, -0.4)",
           "(0.2, 0.3)"
          ],
          [
           "(-0.5, -0.4)",
           "(0.2, 0.3)"
          ],
          [
           "(-0.5, -0.4)",
           "(0.2, 0.3)"
          ],
          [
           "(-0.5, -0.4)",
           "(0.2, 0.3)"
          ],
          [
           "(-0.5, -0.4)",
           "(0.2, 0.3)"
          ],
          [
           "(-0.5, -0.4)",
           "(0.2, 0.3)"
          ],
          [
           "(-0.5, -0.4)",
           "(0.2, 0.3)"
          ],
          [
           "(-0.5, -0.4)",
           "(0.2, 0.3)"
          ],
          [
           "(-0.5, -0.4)",
           "(0.2, 0.3)"
          ],
          [
           "(-0.5, -0.4)",
           "(0.2, 0.3)"
          ],
          [
           "(-0.5, -0.4)",
           "(0.2, 0.3)"
          ],
          [
           "(-0.5, -0.4)",
           "(0.2, 0.3)"
          ],
          [
           "(-0.5, -0.4)",
           "(0.2, 0.3)"
          ],
          [
           "(-0.5, -0.4)",
           "(0.2, 0.3)"
          ],
          [
           "(-0.5, -0.4)",
           "(0.2, 0.3)"
          ],
          [
           "(-0.5, -0.4)",
           "(0.2, 0.3)"
          ],
          [
           "(-0.5, -0.4)",
           "(0.2, 0.3)"
          ],
          [
           "(-0.5, -0.4)",
           "(0.2, 0.3)"
          ],
          [
           "(-0.5, -0.4)",
           "(0.2, 0.3)"
          ],
          [
           "(-0.5, -0.4)",
           "(0.2, 0.3)"
          ],
          [
           "(-0.5, -0.4)",
           "(0.2, 0.3)"
          ],
          [
           "(-0.5, -0.4)",
           "(0.2, 0.3)"
          ],
          [
           "(-0.5, -0.4)",
           "(0.2, 0.3)"
          ],
          [
           "(-0.5, -0.4)",
           "(0.2, 0.3)"
          ],
          [
           "(-0.5, -0.4)",
           "(0.2, 0.3)"
          ],
          [
           "(-0.5, -0.4)",
           "(0.2, 0.3)"
          ],
          [
           "(-0.5, -0.4)",
           "(0.2, 0.3)"
          ],
          [
           "(-0.5, -0.4)",
           "(0.2, 0.3)"
          ],
          [
           "(-0.5, -0.4)",
           "(0.2, 0.3)"
          ],
          [
           "(-0.5, -0.4)",
           "(0.2, 0.3)"
          ],
          [
           "(-0.5, -0.4)",
           "(0.2, 0.3)"
          ],
          [
           "(-0.5, -0.4)",
           "(0.2, 0.3)"
          ],
          [
           "(-0.5, -0.4)",
           "(0.2, 0.3)"
          ],
          [
           "(-0.5, -0.4)",
           "(0.2, 0.3)"
          ],
          [
           "(-0.5, -0.4)",
           "(0.2, 0.3)"
          ],
          [
           "(-0.5, -0.4)",
           "(0.2, 0.3)"
          ],
          [
           "(-0.5, -0.4)",
           "(0.2, 0.3)"
          ],
          [
           "(-0.5, -0.4)",
           "(0.2, 0.3)"
          ],
          [
           "(-0.5, -0.4)",
           "(0.2, 0.3)"
          ],
          [
           "(-0.5, -0.4)",
           "(0.2, 0.3)"
          ],
          [
           "(-0.5, -0.4)",
           "(0.2, 0.3)"
          ],
          [
           "(-0.5, -0.4)",
           "(0.2, 0.3)"
          ],
          [
           "(-0.5, -0.4)",
           "(0.2, 0.3)"
          ],
          [
           "(-0.5, -0.4)",
           "(0.2, 0.3)"
          ],
          [
           "(-0.5, -0.4)",
           "(0.2, 0.3)"
          ],
          [
           "(-0.5, -0.4)",
           "(0.2, 0.3)"
          ],
          [
           "(-0.5, -0.4)",
           "(0.2, 0.3)"
          ],
          [
           "(-0.5, -0.4)",
           "(0.2, 0.3)"
          ],
          [
           "(-0.5, -0.4)",
           "(0.2, 0.3)"
          ],
          [
           "(-0.5, -0.4)",
           "(0.2, 0.3)"
          ],
          [
           "(-0.5, -0.4)",
           "(0.2, 0.3)"
          ],
          [
           "(-0.5, -0.4)",
           "(0.2, 0.3)"
          ],
          [
           "(-0.5, -0.4)",
           "(0.2, 0.3)"
          ],
          [
           "(-0.5, -0.4)",
           "(0.2, 0.3)"
          ],
          [
           "(-0.5, -0.4)",
           "(0.2, 0.3)"
          ],
          [
           "(-0.5, -0.4)",
           "(0.2, 0.3)"
          ],
          [
           "(-0.5, -0.4)",
           "(0.2, 0.3)"
          ],
          [
           "(-0.5, -0.4)",
           "(0.2, 0.3)"
          ],
          [
           "(-0.5, -0.4)",
           "(0.2, 0.3)"
          ],
          [
           "(-0.5, -0.4)",
           "(0.2, 0.3)"
          ],
          [
           "(-0.5, -0.4)",
           "(0.2, 0.3)"
          ],
          [
           "(-0.5, -0.4)",
           "(0.2, 0.3)"
          ],
          [
           "(-0.5, -0.4)",
           "(0.2, 0.3)"
          ],
          [
           "(-0.5, -0.4)",
           "(0.2, 0.3)"
          ],
          [
           "(-0.5, -0.4)",
           "(0.2, 0.3)"
          ],
          [
           "(-0.5, -0.4)",
           "(0.2, 0.3)"
          ],
          [
           "(-0.5, -0.4)",
           "(0.2, 0.3)"
          ],
          [
           "(-0.5, -0.4)",
           "(0.2, 0.3)"
          ],
          [
           "(-0.5, -0.4)",
           "(0.2, 0.3)"
          ],
          [
           "(-0.5, -0.4)",
           "(0.2, 0.3)"
          ],
          [
           "(-0.5, -0.4)",
           "(0.2, 0.3)"
          ],
          [
           "(-0.5, -0.4)",
           "(0.2, 0.3)"
          ],
          [
           "(-0.5, -0.4)",
           "(0.2, 0.3)"
          ],
          [
           "(-0.5, -0.4)",
           "(0.2, 0.3)"
          ],
          [
           "(-0.5, -0.4)",
           "(0.2, 0.3)"
          ],
          [
           "(-0.5, -0.4)",
           "(0.2, 0.3)"
          ],
          [
           "(-0.5, -0.4)",
           "(0.2, 0.3)"
          ],
          [
           "(-0.5, -0.4)",
           "(0.2, 0.3)"
          ],
          [
           "(-0.5, -0.4)",
           "(0.2, 0.3)"
          ],
          [
           "(-0.5, -0.4)",
           "(0.2, 0.3)"
          ],
          [
           "(-0.5, -0.4)",
           "(0.2, 0.3)"
          ],
          [
           "(-0.5, -0.4)",
           "(0.2, 0.3)"
          ],
          [
           "(-0.5, -0.4)",
           "(0.2, 0.3)"
          ],
          [
           "(-0.5, -0.4)",
           "(0.2, 0.3)"
          ],
          [
           "(-0.5, -0.4)",
           "(0.2, 0.3)"
          ],
          [
           "(-0.5, -0.4)",
           "(0.2, 0.3)"
          ],
          [
           "(-0.5, -0.4)",
           "(0.2, 0.3)"
          ],
          [
           "(-0.5, -0.4)",
           "(0.2, 0.3)"
          ],
          [
           "(-0.5, -0.4)",
           "(0.2, 0.3)"
          ],
          [
           "(-0.5, -0.4)",
           "(0.2, 0.3)"
          ],
          [
           "(-0.5, -0.4)",
           "(0.2, 0.3)"
          ],
          [
           "(-0.5, -0.4)",
           "(0.2, 0.3)"
          ],
          [
           "(-0.5, -0.4)",
           "(0.2, 0.3)"
          ],
          [
           "(-0.5, -0.4)",
           "(0.2, 0.3)"
          ],
          [
           "(-0.5, -0.4)",
           "(0.2, 0.3)"
          ],
          [
           "(-0.5, -0.4)",
           "(0.2, 0.3)"
          ],
          [
           "(-0.5, -0.4)",
           "(0.2, 0.3)"
          ],
          [
           "(-0.5, -0.4)",
           "(0.2, 0.3)"
          ],
          [
           "(-0.5, -0.4)",
           "(0.2, 0.3)"
          ],
          [
           "(-0.5, -0.4)",
           "(0.2, 0.3)"
          ],
          [
           "(-0.5, -0.4)",
           "(0.2, 0.3)"
          ],
          [
           "(-0.5, -0.4)",
           "(0.2, 0.3)"
          ],
          [
           "(-0.5, -0.4)",
           "(0.2, 0.3)"
          ],
          [
           "(-0.5, -0.4)",
           "(0.2, 0.3)"
          ],
          [
           "(-0.5, -0.4)",
           "(0.2, 0.3)"
          ],
          [
           "(-0.5, -0.4)",
           "(0.2, 0.3)"
          ],
          [
           "(-0.5, -0.4)",
           "(0.2, 0.3)"
          ],
          [
           "(-0.5, -0.4)",
           "(0.2, 0.3)"
          ],
          [
           "(-0.5, -0.4)",
           "(0.2, 0.3)"
          ],
          [
           "(-0.5, -0.4)",
           "(0.2, 0.3)"
          ],
          [
           "(-0.5, -0.4)",
           "(0.2, 0.3)"
          ],
          [
           "(-0.5, -0.4)",
           "(0.2, 0.3)"
          ],
          [
           "(-0.5, -0.4)",
           "(0.2, 0.3)"
          ],
          [
           "(-0.5, -0.4)",
           "(0.2, 0.3)"
          ],
          [
           "(-0.5, -0.4)",
           "(0.2, 0.3)"
          ],
          [
           "(-0.5, -0.4)",
           "(0.2, 0.3)"
          ],
          [
           "(-0.5, -0.4)",
           "(0.2, 0.3)"
          ],
          [
           "(-0.5, -0.4)",
           "(0.2, 0.3)"
          ],
          [
           "(-0.5, -0.4)",
           "(0.2, 0.3)"
          ],
          [
           "(-0.5, -0.4)",
           "(0.2, 0.3)"
          ],
          [
           "(-0.5, -0.4)",
           "(0.2, 0.3)"
          ],
          [
           "(-0.5, -0.4)",
           "(0.2, 0.3)"
          ],
          [
           "(-0.5, -0.4)",
           "(0.2, 0.3)"
          ],
          [
           "(-0.5, -0.4)",
           "(0.2, 0.3)"
          ],
          [
           "(-0.5, -0.4)",
           "(0.2, 0.3)"
          ],
          [
           "(-0.5, -0.4)",
           "(0.2, 0.3)"
          ],
          [
           "(-0.5, -0.4)",
           "(0.2, 0.3)"
          ],
          [
           "(-0.5, -0.4)",
           "(0.2, 0.3)"
          ],
          [
           "(-0.5, -0.4)",
           "(0.2, 0.3)"
          ],
          [
           "(-0.5, -0.4)",
           "(0.2, 0.3)"
          ],
          [
           "(-0.5, -0.4)",
           "(0.2, 0.3)"
          ],
          [
           "(-0.5, -0.4)",
           "(0.2, 0.3)"
          ],
          [
           "(-0.5, -0.4)",
           "(0.2, 0.3)"
          ],
          [
           "(-0.5, -0.4)",
           "(0.2, 0.3)"
          ],
          [
           "(-0.5, -0.4)",
           "(0.2, 0.3)"
          ],
          [
           "(-0.5, -0.4)",
           "(0.2, 0.3)"
          ],
          [
           "(-0.5, -0.4)",
           "(0.2, 0.3)"
          ],
          [
           "(-0.5, -0.4)",
           "(0.2, 0.3)"
          ],
          [
           "(-0.5, -0.4)",
           "(0.2, 0.3)"
          ],
          [
           "(-0.5, -0.4)",
           "(0.2, 0.3)"
          ],
          [
           "(-0.5, -0.4)",
           "(0.2, 0.3)"
          ],
          [
           "(-0.5, -0.4)",
           "(0.2, 0.3)"
          ],
          [
           "(-0.5, -0.4)",
           "(0.2, 0.3)"
          ],
          [
           "(-0.5, -0.4)",
           "(0.2, 0.3)"
          ]
         ],
         "hovertemplate": "<b>Date:</b> %{x}<br><b>Portfolio Value:</b> %{y}<br><b>Put Delta Range:</b> %{customdata[0]}<br><b>Call Delta Range:</b> %{customdata[1]}",
         "legendgroup": "Put: (-0.5, -0.4), Call: (0.2, 0.3)",
         "line": {
          "color": "#636efa",
          "dash": "solid"
         },
         "marker": {
          "symbol": "circle"
         },
         "mode": "lines",
         "name": "Put: (-0.5, -0.4), Call: (0.2, 0.3)",
         "showlegend": true,
         "type": "scattergl",
         "x": [
          "2024-01-03",
          "2024-01-05",
          "2024-01-08",
          "2024-01-10",
          "2024-01-12",
          "2024-01-17",
          "2024-01-19",
          "2024-01-22",
          "2024-01-24",
          "2024-01-26",
          "2024-01-29",
          "2024-01-31",
          "2024-02-02",
          "2024-02-05",
          "2024-02-07",
          "2024-02-09",
          "2024-02-12",
          "2024-02-14",
          "2024-02-16",
          "2024-02-21",
          "2024-02-23",
          "2024-02-26",
          "2024-02-28",
          "2024-03-01",
          "2024-03-04",
          "2024-03-06",
          "2024-03-08",
          "2024-03-11",
          "2024-03-13",
          "2024-03-15",
          "2024-03-18",
          "2024-03-20",
          "2024-03-22",
          "2024-03-25",
          "2024-03-27",
          "2024-04-01",
          "2024-04-03",
          "2024-04-05",
          "2024-04-08",
          "2024-04-10",
          "2024-04-12",
          "2024-04-15",
          "2024-04-17",
          "2024-04-19",
          "2024-04-22",
          "2024-04-24",
          "2024-04-26",
          "2024-04-29",
          "2024-05-01",
          "2024-05-03",
          "2024-05-06",
          "2024-05-08",
          "2024-05-10",
          "2024-05-13",
          "2024-05-15",
          "2024-05-17",
          "2024-05-20",
          "2024-05-22",
          "2024-05-24",
          "2024-05-29",
          "2024-05-31",
          "2024-06-03",
          "2024-06-05",
          "2024-06-07",
          "2024-06-10",
          "2024-06-12",
          "2024-06-14",
          "2024-06-17",
          "2024-06-21",
          "2024-06-24",
          "2024-06-26",
          "2024-06-28",
          "2024-07-01",
          "2024-07-03",
          "2024-07-05",
          "2024-07-08",
          "2024-07-10",
          "2024-07-12",
          "2024-07-15",
          "2024-07-17",
          "2024-07-19",
          "2024-07-22",
          "2024-07-24",
          "2024-07-26",
          "2024-07-29",
          "2024-08-12",
          "2024-08-14",
          "2024-08-16",
          "2024-08-19",
          "2024-08-21",
          "2024-08-23",
          "2024-08-26",
          "2024-08-28",
          "2024-08-30",
          "2024-09-04",
          "2024-09-06",
          "2024-09-09",
          "2024-09-11",
          "2024-09-12",
          "2024-09-13",
          "2024-09-16",
          "2024-09-17",
          "2024-09-18",
          "2024-09-19",
          "2024-09-20",
          "2024-09-23",
          "2024-09-24",
          "2024-09-25",
          "2024-09-26",
          "2024-09-27",
          "2024-09-30",
          "2024-10-01",
          "2024-10-02",
          "2024-10-03",
          "2024-10-04",
          "2024-10-07",
          "2024-10-08",
          "2024-10-09",
          "2024-10-10",
          "2024-10-11",
          "2024-10-14",
          "2024-10-15",
          "2024-10-16",
          "2024-10-17",
          "2024-10-18",
          "2024-10-21",
          "2024-10-22",
          "2024-10-23",
          "2024-10-24",
          "2024-10-25",
          "2024-10-28",
          "2024-10-29",
          "2024-10-30",
          "2024-10-31",
          "2024-11-01",
          "2024-11-04",
          "2024-11-05",
          "2024-11-06",
          "2024-11-07",
          "2024-11-08",
          "2024-11-11",
          "2024-11-13",
          "2024-11-14",
          "2024-11-15",
          "2024-11-18",
          "2024-11-19",
          "2024-11-20",
          "2024-11-21",
          "2024-11-22",
          "2024-11-25",
          "2024-11-26",
          "2024-11-27",
          "2024-11-29",
          "2024-12-02",
          "2024-12-03",
          "2024-12-04",
          "2024-12-05",
          "2024-12-06",
          "2024-12-09",
          "2024-12-10",
          "2024-12-11",
          "2024-12-12",
          "2024-12-13",
          "2024-12-16",
          "2024-12-17",
          "2024-12-18",
          "2024-12-19",
          "2024-12-20",
          "2024-12-23",
          "2024-12-24",
          "2024-12-27",
          "2024-12-30"
         ],
         "xaxis": "x",
         "y": {
          "bdata": "AAAAAMD+00AAAAAAwP7TQAAAAADA/tNAAAAAAMD+00AAAAAAwP7TQAAAAADA/tNAAAAAAMD+00AAAAAAwP7TQAAAAADA/tNAAAAAAMD+00AAAAAAwP7TQAAAAADA/tNAAAAAAMD+00D///9l/0fUQAAAAHT9ctRAAAAA3Q9r1ED////bwkDUQAAAABgd9tNAAQAAllTI00AAAABblMjTQAAAAC+OzdNA////GLer00AAAABAL7LTQAAAAEAvstNAAAAAcO0U00AAAABAoaHSQAAAANGwydJAAAAAAfT70kAAAADdpNPSQAAAAPq3+NJAAAAA6RYU00AAAAD3QY/TQAAAAPdBj9NAAAAAXu3w0kAAAAAxIy7TQAAAANWF3NJAAAAAUxHT0kAAAABtU9HSQAAAAHo1tdJAAAAAgomk0kAAAADEwX7TQAAAAOC1HtNAAAAA+QKq0kAAAAD5AqrSQAAAAMsDndJAAAAAPSTs0kAAAADuG/PSQAAAAHKdW9NAAAAA7hvz0kAAAABodFHUQAEAALbmJ9RAAAAAv4dB1EAAAAC0a0/UQAEAAInmn9RA/v//0Zz11ED+///RnPXUQAAAAABA3dNAAAAAAEDd00AAAAAAQN3TQAAAAABA3dNAAAAAAEDd00AAAAAAQN3TQAAAAABA3dNAAAAAAEDd00AAAAAAQN3TQAAAAABA3dNAAAAAAEDd00AAAAAAADvUQAAAAAAAO9RAAAAAAAA71EAAAAAAADvUQAAAAAAAO9RAAAAAAAA71EAAAAAAADvUQAAAAAAAO9RAAAAAAAA71EAAAAAAADvUQAAAAAAAO9RAAAAAAADg1EAAAAAAAODUQAAAAAAA4NRAAAAAAADg1EAAAAAAAODUQAAAAAAA4NRAAAAAAADg1EAAAAAAAODUQAAAAMzTo9NAAAAA+NYP1EAAAAAx2QvUQAAAAO6RGNRAAAAAy4sj1ED////7BizUQP///7vQGtRA////u9Aa1EABAAAJYLvTQAAAAIigutNAAAAAJN+800AAAACIhujTQP////hE69NAAQAA2ojk00ABAAC3X0rTQP////sYVtNAAAAAQmK300AAAABFb4PUQAAAAEVvg9RAAAAAANF11EAAAABdRIzUQAAAAG1Sc9RA////RQKQ1EAAAABlvpbUQAAAAEu1GNVAAAAAv1Rv1EAAAACwjH3UQAEAADbcYdRAAAAAbAx+1ED+//8xlP7TQAAAAOJaZNRAAAAA4mXC1ED////p7LXUQAAAAODBkNRAAAAAJE3u1ED+//9R6S3VQAAAAGBG+tRAAAAAK4ED1UAAAAArgQPVQAEAAFcEl9VAAAAAEI2H1UAAAAC0VAjVQAAAAIWXA9VAAAAAlYsY1UABAACXL0rVQAAAAM/rUNVAAAAA9d331EAAAADtWI/UQAAAAASDRNRA////pg8u1EAAAAB0+1HUQP///7vFP9RAAAAAzoK21EAAAAC7xK/UQP///+WXa9RAAAAApdGB1EAAAADoO8/UQAAAAOg7z9RAAAAAS/311ED///9me/zUQAAAAFV2DtVA////xnkC1UAAAAA/MCTVQP///yYbb9VAAAAAvcul1UAAAACvjKLVQP///9h73tVAAAAA5esW1kAAAABlVmPWQP///9tTbNZAAAAAqBNt1kAAAAALFWjWQAAAAKC5ydZAAAAAbTLj1kAAAABrO8PWQAAAACzx59ZAAAAALPHn1kAAAAAAwATWQAAAAADABNZAAAAAAMAE1kAAAAAAwATWQAAAAADABNZAAAAAAMAE1kAAAAAAwATWQAAAAADABNZAAAAAAMAE1kA=",
          "dtype": "f8"
         },
         "yaxis": "y"
        },
        {
         "customdata": [
          [
           "(-0.5, -0.4)",
           "(0.3, 0.4)"
          ],
          [
           "(-0.5, -0.4)",
           "(0.3, 0.4)"
          ],
          [
           "(-0.5, -0.4)",
           "(0.3, 0.4)"
          ],
          [
           "(-0.5, -0.4)",
           "(0.3, 0.4)"
          ],
          [
           "(-0.5, -0.4)",
           "(0.3, 0.4)"
          ],
          [
           "(-0.5, -0.4)",
           "(0.3, 0.4)"
          ],
          [
           "(-0.5, -0.4)",
           "(0.3, 0.4)"
          ],
          [
           "(-0.5, -0.4)",
           "(0.3, 0.4)"
          ],
          [
           "(-0.5, -0.4)",
           "(0.3, 0.4)"
          ],
          [
           "(-0.5, -0.4)",
           "(0.3, 0.4)"
          ],
          [
           "(-0.5, -0.4)",
           "(0.3, 0.4)"
          ],
          [
           "(-0.5, -0.4)",
           "(0.3, 0.4)"
          ],
          [
           "(-0.5, -0.4)",
           "(0.3, 0.4)"
          ],
          [
           "(-0.5, -0.4)",
           "(0.3, 0.4)"
          ],
          [
           "(-0.5, -0.4)",
           "(0.3, 0.4)"
          ],
          [
           "(-0.5, -0.4)",
           "(0.3, 0.4)"
          ],
          [
           "(-0.5, -0.4)",
           "(0.3, 0.4)"
          ],
          [
           "(-0.5, -0.4)",
           "(0.3, 0.4)"
          ],
          [
           "(-0.5, -0.4)",
           "(0.3, 0.4)"
          ],
          [
           "(-0.5, -0.4)",
           "(0.3, 0.4)"
          ],
          [
           "(-0.5, -0.4)",
           "(0.3, 0.4)"
          ],
          [
           "(-0.5, -0.4)",
           "(0.3, 0.4)"
          ],
          [
           "(-0.5, -0.4)",
           "(0.3, 0.4)"
          ],
          [
           "(-0.5, -0.4)",
           "(0.3, 0.4)"
          ],
          [
           "(-0.5, -0.4)",
           "(0.3, 0.4)"
          ],
          [
           "(-0.5, -0.4)",
           "(0.3, 0.4)"
          ],
          [
           "(-0.5, -0.4)",
           "(0.3, 0.4)"
          ],
          [
           "(-0.5, -0.4)",
           "(0.3, 0.4)"
          ],
          [
           "(-0.5, -0.4)",
           "(0.3, 0.4)"
          ],
          [
           "(-0.5, -0.4)",
           "(0.3, 0.4)"
          ],
          [
           "(-0.5, -0.4)",
           "(0.3, 0.4)"
          ],
          [
           "(-0.5, -0.4)",
           "(0.3, 0.4)"
          ],
          [
           "(-0.5, -0.4)",
           "(0.3, 0.4)"
          ],
          [
           "(-0.5, -0.4)",
           "(0.3, 0.4)"
          ],
          [
           "(-0.5, -0.4)",
           "(0.3, 0.4)"
          ],
          [
           "(-0.5, -0.4)",
           "(0.3, 0.4)"
          ],
          [
           "(-0.5, -0.4)",
           "(0.3, 0.4)"
          ],
          [
           "(-0.5, -0.4)",
           "(0.3, 0.4)"
          ],
          [
           "(-0.5, -0.4)",
           "(0.3, 0.4)"
          ],
          [
           "(-0.5, -0.4)",
           "(0.3, 0.4)"
          ],
          [
           "(-0.5, -0.4)",
           "(0.3, 0.4)"
          ],
          [
           "(-0.5, -0.4)",
           "(0.3, 0.4)"
          ],
          [
           "(-0.5, -0.4)",
           "(0.3, 0.4)"
          ],
          [
           "(-0.5, -0.4)",
           "(0.3, 0.4)"
          ],
          [
           "(-0.5, -0.4)",
           "(0.3, 0.4)"
          ],
          [
           "(-0.5, -0.4)",
           "(0.3, 0.4)"
          ],
          [
           "(-0.5, -0.4)",
           "(0.3, 0.4)"
          ],
          [
           "(-0.5, -0.4)",
           "(0.3, 0.4)"
          ],
          [
           "(-0.5, -0.4)",
           "(0.3, 0.4)"
          ],
          [
           "(-0.5, -0.4)",
           "(0.3, 0.4)"
          ],
          [
           "(-0.5, -0.4)",
           "(0.3, 0.4)"
          ],
          [
           "(-0.5, -0.4)",
           "(0.3, 0.4)"
          ],
          [
           "(-0.5, -0.4)",
           "(0.3, 0.4)"
          ],
          [
           "(-0.5, -0.4)",
           "(0.3, 0.4)"
          ],
          [
           "(-0.5, -0.4)",
           "(0.3, 0.4)"
          ],
          [
           "(-0.5, -0.4)",
           "(0.3, 0.4)"
          ],
          [
           "(-0.5, -0.4)",
           "(0.3, 0.4)"
          ],
          [
           "(-0.5, -0.4)",
           "(0.3, 0.4)"
          ],
          [
           "(-0.5, -0.4)",
           "(0.3, 0.4)"
          ],
          [
           "(-0.5, -0.4)",
           "(0.3, 0.4)"
          ],
          [
           "(-0.5, -0.4)",
           "(0.3, 0.4)"
          ],
          [
           "(-0.5, -0.4)",
           "(0.3, 0.4)"
          ],
          [
           "(-0.5, -0.4)",
           "(0.3, 0.4)"
          ],
          [
           "(-0.5, -0.4)",
           "(0.3, 0.4)"
          ],
          [
           "(-0.5, -0.4)",
           "(0.3, 0.4)"
          ],
          [
           "(-0.5, -0.4)",
           "(0.3, 0.4)"
          ],
          [
           "(-0.5, -0.4)",
           "(0.3, 0.4)"
          ],
          [
           "(-0.5, -0.4)",
           "(0.3, 0.4)"
          ],
          [
           "(-0.5, -0.4)",
           "(0.3, 0.4)"
          ],
          [
           "(-0.5, -0.4)",
           "(0.3, 0.4)"
          ],
          [
           "(-0.5, -0.4)",
           "(0.3, 0.4)"
          ],
          [
           "(-0.5, -0.4)",
           "(0.3, 0.4)"
          ],
          [
           "(-0.5, -0.4)",
           "(0.3, 0.4)"
          ],
          [
           "(-0.5, -0.4)",
           "(0.3, 0.4)"
          ],
          [
           "(-0.5, -0.4)",
           "(0.3, 0.4)"
          ],
          [
           "(-0.5, -0.4)",
           "(0.3, 0.4)"
          ],
          [
           "(-0.5, -0.4)",
           "(0.3, 0.4)"
          ],
          [
           "(-0.5, -0.4)",
           "(0.3, 0.4)"
          ],
          [
           "(-0.5, -0.4)",
           "(0.3, 0.4)"
          ],
          [
           "(-0.5, -0.4)",
           "(0.3, 0.4)"
          ],
          [
           "(-0.5, -0.4)",
           "(0.3, 0.4)"
          ],
          [
           "(-0.5, -0.4)",
           "(0.3, 0.4)"
          ],
          [
           "(-0.5, -0.4)",
           "(0.3, 0.4)"
          ],
          [
           "(-0.5, -0.4)",
           "(0.3, 0.4)"
          ],
          [
           "(-0.5, -0.4)",
           "(0.3, 0.4)"
          ],
          [
           "(-0.5, -0.4)",
           "(0.3, 0.4)"
          ],
          [
           "(-0.5, -0.4)",
           "(0.3, 0.4)"
          ],
          [
           "(-0.5, -0.4)",
           "(0.3, 0.4)"
          ],
          [
           "(-0.5, -0.4)",
           "(0.3, 0.4)"
          ],
          [
           "(-0.5, -0.4)",
           "(0.3, 0.4)"
          ],
          [
           "(-0.5, -0.4)",
           "(0.3, 0.4)"
          ],
          [
           "(-0.5, -0.4)",
           "(0.3, 0.4)"
          ],
          [
           "(-0.5, -0.4)",
           "(0.3, 0.4)"
          ],
          [
           "(-0.5, -0.4)",
           "(0.3, 0.4)"
          ],
          [
           "(-0.5, -0.4)",
           "(0.3, 0.4)"
          ],
          [
           "(-0.5, -0.4)",
           "(0.3, 0.4)"
          ],
          [
           "(-0.5, -0.4)",
           "(0.3, 0.4)"
          ],
          [
           "(-0.5, -0.4)",
           "(0.3, 0.4)"
          ],
          [
           "(-0.5, -0.4)",
           "(0.3, 0.4)"
          ],
          [
           "(-0.5, -0.4)",
           "(0.3, 0.4)"
          ],
          [
           "(-0.5, -0.4)",
           "(0.3, 0.4)"
          ],
          [
           "(-0.5, -0.4)",
           "(0.3, 0.4)"
          ],
          [
           "(-0.5, -0.4)",
           "(0.3, 0.4)"
          ],
          [
           "(-0.5, -0.4)",
           "(0.3, 0.4)"
          ],
          [
           "(-0.5, -0.4)",
           "(0.3, 0.4)"
          ],
          [
           "(-0.5, -0.4)",
           "(0.3, 0.4)"
          ],
          [
           "(-0.5, -0.4)",
           "(0.3, 0.4)"
          ],
          [
           "(-0.5, -0.4)",
           "(0.3, 0.4)"
          ],
          [
           "(-0.5, -0.4)",
           "(0.3, 0.4)"
          ],
          [
           "(-0.5, -0.4)",
           "(0.3, 0.4)"
          ],
          [
           "(-0.5, -0.4)",
           "(0.3, 0.4)"
          ],
          [
           "(-0.5, -0.4)",
           "(0.3, 0.4)"
          ],
          [
           "(-0.5, -0.4)",
           "(0.3, 0.4)"
          ],
          [
           "(-0.5, -0.4)",
           "(0.3, 0.4)"
          ],
          [
           "(-0.5, -0.4)",
           "(0.3, 0.4)"
          ],
          [
           "(-0.5, -0.4)",
           "(0.3, 0.4)"
          ],
          [
           "(-0.5, -0.4)",
           "(0.3, 0.4)"
          ],
          [
           "(-0.5, -0.4)",
           "(0.3, 0.4)"
          ],
          [
           "(-0.5, -0.4)",
           "(0.3, 0.4)"
          ],
          [
           "(-0.5, -0.4)",
           "(0.3, 0.4)"
          ],
          [
           "(-0.5, -0.4)",
           "(0.3, 0.4)"
          ],
          [
           "(-0.5, -0.4)",
           "(0.3, 0.4)"
          ],
          [
           "(-0.5, -0.4)",
           "(0.3, 0.4)"
          ],
          [
           "(-0.5, -0.4)",
           "(0.3, 0.4)"
          ],
          [
           "(-0.5, -0.4)",
           "(0.3, 0.4)"
          ],
          [
           "(-0.5, -0.4)",
           "(0.3, 0.4)"
          ],
          [
           "(-0.5, -0.4)",
           "(0.3, 0.4)"
          ],
          [
           "(-0.5, -0.4)",
           "(0.3, 0.4)"
          ],
          [
           "(-0.5, -0.4)",
           "(0.3, 0.4)"
          ],
          [
           "(-0.5, -0.4)",
           "(0.3, 0.4)"
          ],
          [
           "(-0.5, -0.4)",
           "(0.3, 0.4)"
          ],
          [
           "(-0.5, -0.4)",
           "(0.3, 0.4)"
          ],
          [
           "(-0.5, -0.4)",
           "(0.3, 0.4)"
          ],
          [
           "(-0.5, -0.4)",
           "(0.3, 0.4)"
          ],
          [
           "(-0.5, -0.4)",
           "(0.3, 0.4)"
          ],
          [
           "(-0.5, -0.4)",
           "(0.3, 0.4)"
          ],
          [
           "(-0.5, -0.4)",
           "(0.3, 0.4)"
          ],
          [
           "(-0.5, -0.4)",
           "(0.3, 0.4)"
          ],
          [
           "(-0.5, -0.4)",
           "(0.3, 0.4)"
          ],
          [
           "(-0.5, -0.4)",
           "(0.3, 0.4)"
          ],
          [
           "(-0.5, -0.4)",
           "(0.3, 0.4)"
          ],
          [
           "(-0.5, -0.4)",
           "(0.3, 0.4)"
          ],
          [
           "(-0.5, -0.4)",
           "(0.3, 0.4)"
          ],
          [
           "(-0.5, -0.4)",
           "(0.3, 0.4)"
          ],
          [
           "(-0.5, -0.4)",
           "(0.3, 0.4)"
          ],
          [
           "(-0.5, -0.4)",
           "(0.3, 0.4)"
          ],
          [
           "(-0.5, -0.4)",
           "(0.3, 0.4)"
          ],
          [
           "(-0.5, -0.4)",
           "(0.3, 0.4)"
          ],
          [
           "(-0.5, -0.4)",
           "(0.3, 0.4)"
          ],
          [
           "(-0.5, -0.4)",
           "(0.3, 0.4)"
          ],
          [
           "(-0.5, -0.4)",
           "(0.3, 0.4)"
          ],
          [
           "(-0.5, -0.4)",
           "(0.3, 0.4)"
          ],
          [
           "(-0.5, -0.4)",
           "(0.3, 0.4)"
          ],
          [
           "(-0.5, -0.4)",
           "(0.3, 0.4)"
          ],
          [
           "(-0.5, -0.4)",
           "(0.3, 0.4)"
          ],
          [
           "(-0.5, -0.4)",
           "(0.3, 0.4)"
          ],
          [
           "(-0.5, -0.4)",
           "(0.3, 0.4)"
          ],
          [
           "(-0.5, -0.4)",
           "(0.3, 0.4)"
          ],
          [
           "(-0.5, -0.4)",
           "(0.3, 0.4)"
          ],
          [
           "(-0.5, -0.4)",
           "(0.3, 0.4)"
          ],
          [
           "(-0.5, -0.4)",
           "(0.3, 0.4)"
          ],
          [
           "(-0.5, -0.4)",
           "(0.3, 0.4)"
          ],
          [
           "(-0.5, -0.4)",
           "(0.3, 0.4)"
          ],
          [
           "(-0.5, -0.4)",
           "(0.3, 0.4)"
          ],
          [
           "(-0.5, -0.4)",
           "(0.3, 0.4)"
          ],
          [
           "(-0.5, -0.4)",
           "(0.3, 0.4)"
          ],
          [
           "(-0.5, -0.4)",
           "(0.3, 0.4)"
          ],
          [
           "(-0.5, -0.4)",
           "(0.3, 0.4)"
          ],
          [
           "(-0.5, -0.4)",
           "(0.3, 0.4)"
          ],
          [
           "(-0.5, -0.4)",
           "(0.3, 0.4)"
          ],
          [
           "(-0.5, -0.4)",
           "(0.3, 0.4)"
          ],
          [
           "(-0.5, -0.4)",
           "(0.3, 0.4)"
          ]
         ],
         "hovertemplate": "<b>Date:</b> %{x}<br><b>Portfolio Value:</b> %{y}<br><b>Put Delta Range:</b> %{customdata[0]}<br><b>Call Delta Range:</b> %{customdata[1]}",
         "legendgroup": "Put: (-0.5, -0.4), Call: (0.3, 0.4)",
         "line": {
          "color": "#EF553B",
          "dash": "solid"
         },
         "marker": {
          "symbol": "circle"
         },
         "mode": "lines",
         "name": "Put: (-0.5, -0.4), Call: (0.3, 0.4)",
         "showlegend": true,
         "type": "scattergl",
         "x": [
          "2024-01-03",
          "2024-01-05",
          "2024-01-08",
          "2024-01-10",
          "2024-01-12",
          "2024-01-17",
          "2024-01-19",
          "2024-01-22",
          "2024-01-24",
          "2024-01-26",
          "2024-01-29",
          "2024-01-31",
          "2024-02-02",
          "2024-02-05",
          "2024-02-07",
          "2024-02-09",
          "2024-02-12",
          "2024-02-14",
          "2024-02-16",
          "2024-02-21",
          "2024-02-23",
          "2024-02-26",
          "2024-02-28",
          "2024-03-01",
          "2024-03-04",
          "2024-03-06",
          "2024-03-08",
          "2024-03-11",
          "2024-03-13",
          "2024-03-15",
          "2024-03-18",
          "2024-03-20",
          "2024-03-22",
          "2024-03-25",
          "2024-03-27",
          "2024-04-01",
          "2024-04-03",
          "2024-04-05",
          "2024-04-08",
          "2024-04-10",
          "2024-04-12",
          "2024-04-15",
          "2024-04-17",
          "2024-04-19",
          "2024-04-22",
          "2024-04-24",
          "2024-04-26",
          "2024-04-29",
          "2024-05-01",
          "2024-05-03",
          "2024-05-06",
          "2024-05-08",
          "2024-05-10",
          "2024-05-13",
          "2024-05-15",
          "2024-05-17",
          "2024-05-20",
          "2024-05-22",
          "2024-05-24",
          "2024-05-29",
          "2024-05-31",
          "2024-06-03",
          "2024-06-05",
          "2024-06-07",
          "2024-06-10",
          "2024-06-12",
          "2024-06-14",
          "2024-06-17",
          "2024-06-21",
          "2024-06-24",
          "2024-06-26",
          "2024-06-28",
          "2024-07-01",
          "2024-07-03",
          "2024-07-05",
          "2024-07-08",
          "2024-07-10",
          "2024-07-12",
          "2024-07-15",
          "2024-07-17",
          "2024-07-19",
          "2024-07-22",
          "2024-07-24",
          "2024-07-26",
          "2024-07-29",
          "2024-08-12",
          "2024-08-14",
          "2024-08-16",
          "2024-08-19",
          "2024-08-21",
          "2024-08-23",
          "2024-08-26",
          "2024-08-28",
          "2024-08-30",
          "2024-09-04",
          "2024-09-06",
          "2024-09-09",
          "2024-09-11",
          "2024-09-12",
          "2024-09-13",
          "2024-09-16",
          "2024-09-17",
          "2024-09-18",
          "2024-09-19",
          "2024-09-20",
          "2024-09-23",
          "2024-09-24",
          "2024-09-25",
          "2024-09-26",
          "2024-09-27",
          "2024-09-30",
          "2024-10-01",
          "2024-10-02",
          "2024-10-03",
          "2024-10-04",
          "2024-10-07",
          "2024-10-08",
          "2024-10-09",
          "2024-10-10",
          "2024-10-11",
          "2024-10-14",
          "2024-10-15",
          "2024-10-16",
          "2024-10-17",
          "2024-10-18",
          "2024-10-21",
          "2024-10-22",
          "2024-10-23",
          "2024-10-24",
          "2024-10-25",
          "2024-10-28",
          "2024-10-29",
          "2024-10-30",
          "2024-10-31",
          "2024-11-01",
          "2024-11-04",
          "2024-11-05",
          "2024-11-06",
          "2024-11-07",
          "2024-11-08",
          "2024-11-11",
          "2024-11-13",
          "2024-11-14",
          "2024-11-15",
          "2024-11-18",
          "2024-11-19",
          "2024-11-20",
          "2024-11-21",
          "2024-11-22",
          "2024-11-25",
          "2024-11-26",
          "2024-11-27",
          "2024-11-29",
          "2024-12-02",
          "2024-12-03",
          "2024-12-04",
          "2024-12-05",
          "2024-12-06",
          "2024-12-09",
          "2024-12-10",
          "2024-12-11",
          "2024-12-12",
          "2024-12-13",
          "2024-12-16",
          "2024-12-17",
          "2024-12-18",
          "2024-12-19",
          "2024-12-20",
          "2024-12-23",
          "2024-12-24",
          "2024-12-27",
          "2024-12-30"
         ],
         "xaxis": "x",
         "y": {
          "bdata": "AAAAAMD+00AAAAAAwP7TQAAAAADA/tNAAAAAAMD+00AAAAAAwP7TQAAAAADA/tNAAAAAAMD+00AAAAAAwP7TQAAAAADA/tNAAAAAAMD+00AAAAAAwP7TQAAAAADA/tNAAAAAAMD+00D///9lvyXUQAAAAHR9f9RAAAAA3Y931ED////bQk3UQAAAABidAtRAAQAAltTU00AAAABbFNXTQAAAAC8O2tNA////GDe400AAAABAr77TQAAAADfkktNAAAAAcG0h00AAAABAoYzSQAAAAEChjNJAAAAAAfTm0kAAAADdpADTQAAAAPq3JdNAAAAA6RZB00AAAAD3QbzTQAAAAChCHdNAAAAAXq350kAAAAAx4zbTQAAAANVF5dJAAAAAU9Hb0kAAAABtE9rSQAAAAHr1vdJAAAAAgkmt0kAAAACCSa3SQAAAAACAddNAAAAAAADc00AAAAAAANzTQAAAAAAA3NNAAAAAAADc00AAAAAAANzTQAAAAAAA3NNAAAAAAADc00AAAAAAANzTQAAAAAAA3NNAAAAAAIAY1EAAAAAAgBjUQAAAAACAGNRAAAAAAIAY1EAAAAAAgBjUQAAAAACAGNRAAAAAAIAY1EAAAAAAgBjUQAAAAADAeNRAAAAAAMB41EAAAAAAwHjUQAAAAADAeNRAAAAAAMB41EAAAAAAwHjUQAAAAADAeNRAAAAAAMB41EAAAAAAwHjUQAAAAADAeNRAAAAAAMB41EAAAAAAwHjUQAAAAADAeNRAAAAAAIDM1EAAAAAAgMzUQAAAAACAzNRAAAAAAIDM1EAAAAAAgMzUQAAAAACAzNRAAAAAAIDM1EAAAAAAgMzUQAAAAACAzNRAAAAAAIDM1EAAAAAAgMzUQAAAAACAzNRAAAAAAIDM1EAAAAAAgMzUQAAAAAAAPdVAAAAAAAA91UAAAAAAAD3VQAAAAAAAPdVAAAAAAAA91UAAAAAAAD3VQAAAAAAAPdVAAAAAAAA91UAAAAAAAD3VQAAAAAAAPdVAAAAAAAA91UAAAAAAAD3VQAAAAAAAPdVAAAAAAAA91UAAAAAAwKnVQAAAAADAqdVAAAAAAMCp1UAAAAAAwKnVQAAAAADAqdVAAAAAAMCp1UAAAAAAwKnVQAAAAADAqdVAAAAAAMCp1UAAAAAAwKnVQAAAAADAqdVAAAAAAMCp1UAAAAAAwKnVQAAAAADAqdVAAAAAAMCp1UAAAAAAwKnVQAAAAADAqdVAAAAAAMCp1UAAAAAAwKnVQAAAAADAqdVAAAAAAIAv1kAAAAAAgC/WQAAAAACAL9ZAAAAAAIAv1kAAAAAAgC/WQAAAAACAL9ZAAAAAAIAv1kAAAAAAgC/WQAAAAACAL9ZAAAAAAIAv1kAAAAAAgC/WQAAAAACAL9ZAAAAAAIAv1kAAAAAAgC/WQAAAAACAL9ZAAAAAAIAv1kAAAAAAgC/WQAAAAACAL9ZAAAAAAIAv1kAAAAAAgC/WQP///+XX1NVAAAAApRHr1UAAAADoezjWQAAAAHUS6NVAAAAAS30z1kD///9m+znWQAAAAFX2S9ZA////xvk/1kAAAAA/sGHWQP///yabrNZAAAAAvUvj1kAAAACvDODWQP///9j7G9dAAAAA5WtU10AAAABl1qDXQP///9vTqddAAAAAqJOq10AAAACok6rXQAAAAADAs9ZAAAAAAMCz1kAAAAAAwLPWQAAAAADAs9ZAAAAAAMCz1kAAAAAAwLPWQAAAAADAs9ZAAAAAAMCz1kAAAAAAwLPWQAAAAADAs9ZAAAAAAMCz1kAAAAAAwLPWQAAAAADAs9ZAAAAAAMCz1kA=",
          "dtype": "f8"
         },
         "yaxis": "y"
        },
        {
         "customdata": [
          [
           "(-0.5, -0.4)",
           "(0.4, 0.5)"
          ],
          [
           "(-0.5, -0.4)",
           "(0.4, 0.5)"
          ],
          [
           "(-0.5, -0.4)",
           "(0.4, 0.5)"
          ],
          [
           "(-0.5, -0.4)",
           "(0.4, 0.5)"
          ],
          [
           "(-0.5, -0.4)",
           "(0.4, 0.5)"
          ],
          [
           "(-0.5, -0.4)",
           "(0.4, 0.5)"
          ],
          [
           "(-0.5, -0.4)",
           "(0.4, 0.5)"
          ],
          [
           "(-0.5, -0.4)",
           "(0.4, 0.5)"
          ],
          [
           "(-0.5, -0.4)",
           "(0.4, 0.5)"
          ],
          [
           "(-0.5, -0.4)",
           "(0.4, 0.5)"
          ],
          [
           "(-0.5, -0.4)",
           "(0.4, 0.5)"
          ],
          [
           "(-0.5, -0.4)",
           "(0.4, 0.5)"
          ],
          [
           "(-0.5, -0.4)",
           "(0.4, 0.5)"
          ],
          [
           "(-0.5, -0.4)",
           "(0.4, 0.5)"
          ],
          [
           "(-0.5, -0.4)",
           "(0.4, 0.5)"
          ],
          [
           "(-0.5, -0.4)",
           "(0.4, 0.5)"
          ],
          [
           "(-0.5, -0.4)",
           "(0.4, 0.5)"
          ],
          [
           "(-0.5, -0.4)",
           "(0.4, 0.5)"
          ],
          [
           "(-0.5, -0.4)",
           "(0.4, 0.5)"
          ],
          [
           "(-0.5, -0.4)",
           "(0.4, 0.5)"
          ],
          [
           "(-0.5, -0.4)",
           "(0.4, 0.5)"
          ],
          [
           "(-0.5, -0.4)",
           "(0.4, 0.5)"
          ],
          [
           "(-0.5, -0.4)",
           "(0.4, 0.5)"
          ],
          [
           "(-0.5, -0.4)",
           "(0.4, 0.5)"
          ],
          [
           "(-0.5, -0.4)",
           "(0.4, 0.5)"
          ],
          [
           "(-0.5, -0.4)",
           "(0.4, 0.5)"
          ],
          [
           "(-0.5, -0.4)",
           "(0.4, 0.5)"
          ],
          [
           "(-0.5, -0.4)",
           "(0.4, 0.5)"
          ],
          [
           "(-0.5, -0.4)",
           "(0.4, 0.5)"
          ],
          [
           "(-0.5, -0.4)",
           "(0.4, 0.5)"
          ],
          [
           "(-0.5, -0.4)",
           "(0.4, 0.5)"
          ],
          [
           "(-0.5, -0.4)",
           "(0.4, 0.5)"
          ],
          [
           "(-0.5, -0.4)",
           "(0.4, 0.5)"
          ],
          [
           "(-0.5, -0.4)",
           "(0.4, 0.5)"
          ],
          [
           "(-0.5, -0.4)",
           "(0.4, 0.5)"
          ],
          [
           "(-0.5, -0.4)",
           "(0.4, 0.5)"
          ],
          [
           "(-0.5, -0.4)",
           "(0.4, 0.5)"
          ],
          [
           "(-0.5, -0.4)",
           "(0.4, 0.5)"
          ],
          [
           "(-0.5, -0.4)",
           "(0.4, 0.5)"
          ],
          [
           "(-0.5, -0.4)",
           "(0.4, 0.5)"
          ],
          [
           "(-0.5, -0.4)",
           "(0.4, 0.5)"
          ],
          [
           "(-0.5, -0.4)",
           "(0.4, 0.5)"
          ],
          [
           "(-0.5, -0.4)",
           "(0.4, 0.5)"
          ],
          [
           "(-0.5, -0.4)",
           "(0.4, 0.5)"
          ],
          [
           "(-0.5, -0.4)",
           "(0.4, 0.5)"
          ],
          [
           "(-0.5, -0.4)",
           "(0.4, 0.5)"
          ],
          [
           "(-0.5, -0.4)",
           "(0.4, 0.5)"
          ],
          [
           "(-0.5, -0.4)",
           "(0.4, 0.5)"
          ],
          [
           "(-0.5, -0.4)",
           "(0.4, 0.5)"
          ],
          [
           "(-0.5, -0.4)",
           "(0.4, 0.5)"
          ],
          [
           "(-0.5, -0.4)",
           "(0.4, 0.5)"
          ],
          [
           "(-0.5, -0.4)",
           "(0.4, 0.5)"
          ],
          [
           "(-0.5, -0.4)",
           "(0.4, 0.5)"
          ],
          [
           "(-0.5, -0.4)",
           "(0.4, 0.5)"
          ],
          [
           "(-0.5, -0.4)",
           "(0.4, 0.5)"
          ],
          [
           "(-0.5, -0.4)",
           "(0.4, 0.5)"
          ],
          [
           "(-0.5, -0.4)",
           "(0.4, 0.5)"
          ],
          [
           "(-0.5, -0.4)",
           "(0.4, 0.5)"
          ],
          [
           "(-0.5, -0.4)",
           "(0.4, 0.5)"
          ],
          [
           "(-0.5, -0.4)",
           "(0.4, 0.5)"
          ],
          [
           "(-0.5, -0.4)",
           "(0.4, 0.5)"
          ],
          [
           "(-0.5, -0.4)",
           "(0.4, 0.5)"
          ],
          [
           "(-0.5, -0.4)",
           "(0.4, 0.5)"
          ],
          [
           "(-0.5, -0.4)",
           "(0.4, 0.5)"
          ],
          [
           "(-0.5, -0.4)",
           "(0.4, 0.5)"
          ],
          [
           "(-0.5, -0.4)",
           "(0.4, 0.5)"
          ],
          [
           "(-0.5, -0.4)",
           "(0.4, 0.5)"
          ],
          [
           "(-0.5, -0.4)",
           "(0.4, 0.5)"
          ],
          [
           "(-0.5, -0.4)",
           "(0.4, 0.5)"
          ],
          [
           "(-0.5, -0.4)",
           "(0.4, 0.5)"
          ],
          [
           "(-0.5, -0.4)",
           "(0.4, 0.5)"
          ],
          [
           "(-0.5, -0.4)",
           "(0.4, 0.5)"
          ],
          [
           "(-0.5, -0.4)",
           "(0.4, 0.5)"
          ],
          [
           "(-0.5, -0.4)",
           "(0.4, 0.5)"
          ],
          [
           "(-0.5, -0.4)",
           "(0.4, 0.5)"
          ],
          [
           "(-0.5, -0.4)",
           "(0.4, 0.5)"
          ],
          [
           "(-0.5, -0.4)",
           "(0.4, 0.5)"
          ],
          [
           "(-0.5, -0.4)",
           "(0.4, 0.5)"
          ],
          [
           "(-0.5, -0.4)",
           "(0.4, 0.5)"
          ],
          [
           "(-0.5, -0.4)",
           "(0.4, 0.5)"
          ],
          [
           "(-0.5, -0.4)",
           "(0.4, 0.5)"
          ],
          [
           "(-0.5, -0.4)",
           "(0.4, 0.5)"
          ],
          [
           "(-0.5, -0.4)",
           "(0.4, 0.5)"
          ],
          [
           "(-0.5, -0.4)",
           "(0.4, 0.5)"
          ],
          [
           "(-0.5, -0.4)",
           "(0.4, 0.5)"
          ],
          [
           "(-0.5, -0.4)",
           "(0.4, 0.5)"
          ],
          [
           "(-0.5, -0.4)",
           "(0.4, 0.5)"
          ],
          [
           "(-0.5, -0.4)",
           "(0.4, 0.5)"
          ],
          [
           "(-0.5, -0.4)",
           "(0.4, 0.5)"
          ],
          [
           "(-0.5, -0.4)",
           "(0.4, 0.5)"
          ],
          [
           "(-0.5, -0.4)",
           "(0.4, 0.5)"
          ],
          [
           "(-0.5, -0.4)",
           "(0.4, 0.5)"
          ],
          [
           "(-0.5, -0.4)",
           "(0.4, 0.5)"
          ],
          [
           "(-0.5, -0.4)",
           "(0.4, 0.5)"
          ],
          [
           "(-0.5, -0.4)",
           "(0.4, 0.5)"
          ],
          [
           "(-0.5, -0.4)",
           "(0.4, 0.5)"
          ],
          [
           "(-0.5, -0.4)",
           "(0.4, 0.5)"
          ],
          [
           "(-0.5, -0.4)",
           "(0.4, 0.5)"
          ],
          [
           "(-0.5, -0.4)",
           "(0.4, 0.5)"
          ],
          [
           "(-0.5, -0.4)",
           "(0.4, 0.5)"
          ],
          [
           "(-0.5, -0.4)",
           "(0.4, 0.5)"
          ],
          [
           "(-0.5, -0.4)",
           "(0.4, 0.5)"
          ],
          [
           "(-0.5, -0.4)",
           "(0.4, 0.5)"
          ],
          [
           "(-0.5, -0.4)",
           "(0.4, 0.5)"
          ],
          [
           "(-0.5, -0.4)",
           "(0.4, 0.5)"
          ],
          [
           "(-0.5, -0.4)",
           "(0.4, 0.5)"
          ],
          [
           "(-0.5, -0.4)",
           "(0.4, 0.5)"
          ],
          [
           "(-0.5, -0.4)",
           "(0.4, 0.5)"
          ],
          [
           "(-0.5, -0.4)",
           "(0.4, 0.5)"
          ],
          [
           "(-0.5, -0.4)",
           "(0.4, 0.5)"
          ],
          [
           "(-0.5, -0.4)",
           "(0.4, 0.5)"
          ],
          [
           "(-0.5, -0.4)",
           "(0.4, 0.5)"
          ],
          [
           "(-0.5, -0.4)",
           "(0.4, 0.5)"
          ],
          [
           "(-0.5, -0.4)",
           "(0.4, 0.5)"
          ],
          [
           "(-0.5, -0.4)",
           "(0.4, 0.5)"
          ],
          [
           "(-0.5, -0.4)",
           "(0.4, 0.5)"
          ],
          [
           "(-0.5, -0.4)",
           "(0.4, 0.5)"
          ],
          [
           "(-0.5, -0.4)",
           "(0.4, 0.5)"
          ],
          [
           "(-0.5, -0.4)",
           "(0.4, 0.5)"
          ],
          [
           "(-0.5, -0.4)",
           "(0.4, 0.5)"
          ],
          [
           "(-0.5, -0.4)",
           "(0.4, 0.5)"
          ],
          [
           "(-0.5, -0.4)",
           "(0.4, 0.5)"
          ],
          [
           "(-0.5, -0.4)",
           "(0.4, 0.5)"
          ],
          [
           "(-0.5, -0.4)",
           "(0.4, 0.5)"
          ],
          [
           "(-0.5, -0.4)",
           "(0.4, 0.5)"
          ],
          [
           "(-0.5, -0.4)",
           "(0.4, 0.5)"
          ],
          [
           "(-0.5, -0.4)",
           "(0.4, 0.5)"
          ],
          [
           "(-0.5, -0.4)",
           "(0.4, 0.5)"
          ],
          [
           "(-0.5, -0.4)",
           "(0.4, 0.5)"
          ],
          [
           "(-0.5, -0.4)",
           "(0.4, 0.5)"
          ],
          [
           "(-0.5, -0.4)",
           "(0.4, 0.5)"
          ],
          [
           "(-0.5, -0.4)",
           "(0.4, 0.5)"
          ],
          [
           "(-0.5, -0.4)",
           "(0.4, 0.5)"
          ],
          [
           "(-0.5, -0.4)",
           "(0.4, 0.5)"
          ],
          [
           "(-0.5, -0.4)",
           "(0.4, 0.5)"
          ],
          [
           "(-0.5, -0.4)",
           "(0.4, 0.5)"
          ],
          [
           "(-0.5, -0.4)",
           "(0.4, 0.5)"
          ],
          [
           "(-0.5, -0.4)",
           "(0.4, 0.5)"
          ],
          [
           "(-0.5, -0.4)",
           "(0.4, 0.5)"
          ],
          [
           "(-0.5, -0.4)",
           "(0.4, 0.5)"
          ],
          [
           "(-0.5, -0.4)",
           "(0.4, 0.5)"
          ],
          [
           "(-0.5, -0.4)",
           "(0.4, 0.5)"
          ],
          [
           "(-0.5, -0.4)",
           "(0.4, 0.5)"
          ],
          [
           "(-0.5, -0.4)",
           "(0.4, 0.5)"
          ],
          [
           "(-0.5, -0.4)",
           "(0.4, 0.5)"
          ],
          [
           "(-0.5, -0.4)",
           "(0.4, 0.5)"
          ],
          [
           "(-0.5, -0.4)",
           "(0.4, 0.5)"
          ],
          [
           "(-0.5, -0.4)",
           "(0.4, 0.5)"
          ],
          [
           "(-0.5, -0.4)",
           "(0.4, 0.5)"
          ],
          [
           "(-0.5, -0.4)",
           "(0.4, 0.5)"
          ],
          [
           "(-0.5, -0.4)",
           "(0.4, 0.5)"
          ],
          [
           "(-0.5, -0.4)",
           "(0.4, 0.5)"
          ],
          [
           "(-0.5, -0.4)",
           "(0.4, 0.5)"
          ],
          [
           "(-0.5, -0.4)",
           "(0.4, 0.5)"
          ],
          [
           "(-0.5, -0.4)",
           "(0.4, 0.5)"
          ],
          [
           "(-0.5, -0.4)",
           "(0.4, 0.5)"
          ],
          [
           "(-0.5, -0.4)",
           "(0.4, 0.5)"
          ],
          [
           "(-0.5, -0.4)",
           "(0.4, 0.5)"
          ],
          [
           "(-0.5, -0.4)",
           "(0.4, 0.5)"
          ],
          [
           "(-0.5, -0.4)",
           "(0.4, 0.5)"
          ],
          [
           "(-0.5, -0.4)",
           "(0.4, 0.5)"
          ],
          [
           "(-0.5, -0.4)",
           "(0.4, 0.5)"
          ],
          [
           "(-0.5, -0.4)",
           "(0.4, 0.5)"
          ],
          [
           "(-0.5, -0.4)",
           "(0.4, 0.5)"
          ],
          [
           "(-0.5, -0.4)",
           "(0.4, 0.5)"
          ],
          [
           "(-0.5, -0.4)",
           "(0.4, 0.5)"
          ],
          [
           "(-0.5, -0.4)",
           "(0.4, 0.5)"
          ],
          [
           "(-0.5, -0.4)",
           "(0.4, 0.5)"
          ],
          [
           "(-0.5, -0.4)",
           "(0.4, 0.5)"
          ],
          [
           "(-0.5, -0.4)",
           "(0.4, 0.5)"
          ],
          [
           "(-0.5, -0.4)",
           "(0.4, 0.5)"
          ],
          [
           "(-0.5, -0.4)",
           "(0.4, 0.5)"
          ]
         ],
         "hovertemplate": "<b>Date:</b> %{x}<br><b>Portfolio Value:</b> %{y}<br><b>Put Delta Range:</b> %{customdata[0]}<br><b>Call Delta Range:</b> %{customdata[1]}",
         "legendgroup": "Put: (-0.5, -0.4), Call: (0.4, 0.5)",
         "line": {
          "color": "#00cc96",
          "dash": "solid"
         },
         "marker": {
          "symbol": "circle"
         },
         "mode": "lines",
         "name": "Put: (-0.5, -0.4), Call: (0.4, 0.5)",
         "showlegend": true,
         "type": "scattergl",
         "x": [
          "2024-01-03",
          "2024-01-05",
          "2024-01-08",
          "2024-01-10",
          "2024-01-12",
          "2024-01-17",
          "2024-01-19",
          "2024-01-22",
          "2024-01-24",
          "2024-01-26",
          "2024-01-29",
          "2024-01-31",
          "2024-02-02",
          "2024-02-05",
          "2024-02-07",
          "2024-02-09",
          "2024-02-12",
          "2024-02-14",
          "2024-02-16",
          "2024-02-21",
          "2024-02-23",
          "2024-02-26",
          "2024-02-28",
          "2024-03-01",
          "2024-03-04",
          "2024-03-06",
          "2024-03-08",
          "2024-03-11",
          "2024-03-13",
          "2024-03-15",
          "2024-03-18",
          "2024-03-20",
          "2024-03-22",
          "2024-03-25",
          "2024-03-27",
          "2024-04-01",
          "2024-04-03",
          "2024-04-05",
          "2024-04-08",
          "2024-04-10",
          "2024-04-12",
          "2024-04-15",
          "2024-04-17",
          "2024-04-19",
          "2024-04-22",
          "2024-04-24",
          "2024-04-26",
          "2024-04-29",
          "2024-05-01",
          "2024-05-03",
          "2024-05-06",
          "2024-05-08",
          "2024-05-10",
          "2024-05-13",
          "2024-05-15",
          "2024-05-17",
          "2024-05-20",
          "2024-05-22",
          "2024-05-24",
          "2024-05-29",
          "2024-05-31",
          "2024-06-03",
          "2024-06-05",
          "2024-06-07",
          "2024-06-10",
          "2024-06-12",
          "2024-06-14",
          "2024-06-17",
          "2024-06-21",
          "2024-06-24",
          "2024-06-26",
          "2024-06-28",
          "2024-07-01",
          "2024-07-03",
          "2024-07-05",
          "2024-07-08",
          "2024-07-10",
          "2024-07-12",
          "2024-07-15",
          "2024-07-17",
          "2024-07-19",
          "2024-07-22",
          "2024-07-24",
          "2024-07-26",
          "2024-07-29",
          "2024-08-12",
          "2024-08-14",
          "2024-08-16",
          "2024-08-19",
          "2024-08-21",
          "2024-08-23",
          "2024-08-26",
          "2024-08-28",
          "2024-08-30",
          "2024-09-04",
          "2024-09-06",
          "2024-09-09",
          "2024-09-11",
          "2024-09-12",
          "2024-09-13",
          "2024-09-16",
          "2024-09-17",
          "2024-09-18",
          "2024-09-19",
          "2024-09-20",
          "2024-09-23",
          "2024-09-24",
          "2024-09-25",
          "2024-09-26",
          "2024-09-27",
          "2024-09-30",
          "2024-10-01",
          "2024-10-02",
          "2024-10-03",
          "2024-10-04",
          "2024-10-07",
          "2024-10-08",
          "2024-10-09",
          "2024-10-10",
          "2024-10-11",
          "2024-10-14",
          "2024-10-15",
          "2024-10-16",
          "2024-10-17",
          "2024-10-18",
          "2024-10-21",
          "2024-10-22",
          "2024-10-23",
          "2024-10-24",
          "2024-10-25",
          "2024-10-28",
          "2024-10-29",
          "2024-10-30",
          "2024-10-31",
          "2024-11-01",
          "2024-11-04",
          "2024-11-05",
          "2024-11-06",
          "2024-11-07",
          "2024-11-08",
          "2024-11-11",
          "2024-11-13",
          "2024-11-14",
          "2024-11-15",
          "2024-11-18",
          "2024-11-19",
          "2024-11-20",
          "2024-11-21",
          "2024-11-22",
          "2024-11-25",
          "2024-11-26",
          "2024-11-27",
          "2024-11-29",
          "2024-12-02",
          "2024-12-03",
          "2024-12-04",
          "2024-12-05",
          "2024-12-06",
          "2024-12-09",
          "2024-12-10",
          "2024-12-11",
          "2024-12-12",
          "2024-12-13",
          "2024-12-16",
          "2024-12-17",
          "2024-12-18",
          "2024-12-19",
          "2024-12-20",
          "2024-12-23",
          "2024-12-24",
          "2024-12-27",
          "2024-12-30"
         ],
         "xaxis": "x",
         "y": {
          "bdata": "AAAAAMD+00AAAAAAwP7TQAAAAADA/tNAAAAAAMD+00AAAAAAwP7TQAAAAADA/tNAAAAAAMD+00AAAAAAwP7TQAAAAADA/tNAAAAAAMD+00AAAAAAwP7TQAAAAADA/tNAAAAAAMD+00D///9lv2/UQAAAAHS9mtRAAAAA3c+S1ED////bgmjUQAAAABjdHdRAAQAAlhTw00AAAABbVPDTQAAAAC9O9dNA////GHfT00AAAABA79nTQAAAAEDv2dNAAAAAcK0800AAAABAYfXSQAAAANFwHdNAAAAAAbRP00AAAADdZCfTQAAAAPp3TNNAAAAA6dZn00AAAAD3AePTQAAAAPcB49NAAAAAAIBp00AAAAAAgGnTQAAAAACAadNAAAAAAIBp00AAAAAAgGnTQAAAAACAadNAAAAAAIBp00AAAAAAgGnTQAAAAACAadNAAAAAAIBp00AAAAAAgGnTQAAAAMsD7tJAAAAAPaSj00AAAADum6rTQAAAAHIdE9RAAAAA7puq00AAAABo9AjVQAEAALZm39RAAAAAvwf51EAAAAC/B/nUQAAAAACACtRAAAAAAIAK1EAAAAAAgArUQAAAAACACtRAAAAAAIAK1EAAAAAAgArUQAAAAACACtRAAAAAAIAK1EAAAAAAgArUQAAAAACACtRAAAAAAIAK1EAAAAAAgArUQAAAAACAZNRAAAAAAIBk1EAAAAAAgGTUQAAAAACAZNRAAAAAAIBk1EAAAAAAgGTUQAAAAACAZNRA/v//UdkS1UAAAACCcorVQAAAALvLAdZAAAAAEKwm1kAAAABYPafWQAAAAKxxatZAAQAA9p7K1kAAAABLFUHWQP7//zE3z9VA////xX7G1UD////lcj/VQP///+VyP9VAAAAAbHnQ1UAAAACrDsXVQAAAAMyTLdZAAAAA+JaZ1kAAAAAxmZXWQAAAAO5RotZAAAAA7lGi1kAAAAAAAI3WQAAAAAAAjdZAAAAAAACN1kAAAAAAAI3WQAAAAAAAjdZAAAAAAACN1kAAAAAAAI3WQAAAAAAAjdZAAAAAAACN1kAAAAAAAI3WQAAAAAAAjdZAAAAAAACN1kAAAAAAAI3WQAAAAAAAjdZAAAAAAACN1kAAAAAAwOrWQAAAAADA6tZAAAAAAMDq1kAAAAAAwOrWQAAAAADA6tZAAAAAAMDq1kAAAAAAwOrWQAAAAADA6tZAAAAAAMDq1kAAAAAAwOrWQAAAAADA6tZAAAAAAMDq1kAAAAAAwOrWQAAAAADA6tZAAAAAJI2310D+//9RKffXQAAAAGCGw9dAAAAAK8HM10D+//8R2RPYQAEAAFfEONhAAAAAEE0p2EAAAAC0FKrXQAAAAIVXpddAAAAAlUu610ABAACX7+vXQAAAAM+r8tdAAAAA9Z2Z10AAAADtGDHXQAAAAARD5tZA////ps/P1kAAAAB0u/PWQP///7uF4dZAAAAAzkJY10AAAADOQljXQP///+VXDddAAAAApZEj10AAAADoe9zXQAAAAHUSjNdAAAAAS33X10D///9m+93XQAAAAFX279dA////xvnj10AAAAA/sAXYQP///yabUNhAAAAAvUuH2EAAAACvDITYQP///9j7v9hAAAAA5Wv42EAAAABl1kTZQP///9vTTdlAAAAAqJNO2UAAAAALlUnZQAAAAKA5q9lAAAAAbbLE2UAAAABru6TZQAAAACxxydlAAAAALHHJ2UAAAAAAQGnYQAAAAABAadhAAAAAAEBp2EAAAAAAQGnYQAAAAABAadhAAAAAAEBp2EAAAAAAQGnYQAAAAABAadhAAAAAAEBp2EA=",
          "dtype": "f8"
         },
         "yaxis": "y"
        },
        {
         "customdata": [
          [
           "(-0.5, -0.4)",
           "(0.5, 0.6)"
          ],
          [
           "(-0.5, -0.4)",
           "(0.5, 0.6)"
          ],
          [
           "(-0.5, -0.4)",
           "(0.5, 0.6)"
          ],
          [
           "(-0.5, -0.4)",
           "(0.5, 0.6)"
          ],
          [
           "(-0.5, -0.4)",
           "(0.5, 0.6)"
          ],
          [
           "(-0.5, -0.4)",
           "(0.5, 0.6)"
          ],
          [
           "(-0.5, -0.4)",
           "(0.5, 0.6)"
          ],
          [
           "(-0.5, -0.4)",
           "(0.5, 0.6)"
          ],
          [
           "(-0.5, -0.4)",
           "(0.5, 0.6)"
          ],
          [
           "(-0.5, -0.4)",
           "(0.5, 0.6)"
          ],
          [
           "(-0.5, -0.4)",
           "(0.5, 0.6)"
          ],
          [
           "(-0.5, -0.4)",
           "(0.5, 0.6)"
          ],
          [
           "(-0.5, -0.4)",
           "(0.5, 0.6)"
          ],
          [
           "(-0.5, -0.4)",
           "(0.5, 0.6)"
          ],
          [
           "(-0.5, -0.4)",
           "(0.5, 0.6)"
          ],
          [
           "(-0.5, -0.4)",
           "(0.5, 0.6)"
          ],
          [
           "(-0.5, -0.4)",
           "(0.5, 0.6)"
          ],
          [
           "(-0.5, -0.4)",
           "(0.5, 0.6)"
          ],
          [
           "(-0.5, -0.4)",
           "(0.5, 0.6)"
          ],
          [
           "(-0.5, -0.4)",
           "(0.5, 0.6)"
          ],
          [
           "(-0.5, -0.4)",
           "(0.5, 0.6)"
          ],
          [
           "(-0.5, -0.4)",
           "(0.5, 0.6)"
          ],
          [
           "(-0.5, -0.4)",
           "(0.5, 0.6)"
          ],
          [
           "(-0.5, -0.4)",
           "(0.5, 0.6)"
          ],
          [
           "(-0.5, -0.4)",
           "(0.5, 0.6)"
          ],
          [
           "(-0.5, -0.4)",
           "(0.5, 0.6)"
          ],
          [
           "(-0.5, -0.4)",
           "(0.5, 0.6)"
          ],
          [
           "(-0.5, -0.4)",
           "(0.5, 0.6)"
          ],
          [
           "(-0.5, -0.4)",
           "(0.5, 0.6)"
          ],
          [
           "(-0.5, -0.4)",
           "(0.5, 0.6)"
          ],
          [
           "(-0.5, -0.4)",
           "(0.5, 0.6)"
          ],
          [
           "(-0.5, -0.4)",
           "(0.5, 0.6)"
          ],
          [
           "(-0.5, -0.4)",
           "(0.5, 0.6)"
          ],
          [
           "(-0.5, -0.4)",
           "(0.5, 0.6)"
          ],
          [
           "(-0.5, -0.4)",
           "(0.5, 0.6)"
          ],
          [
           "(-0.5, -0.4)",
           "(0.5, 0.6)"
          ],
          [
           "(-0.5, -0.4)",
           "(0.5, 0.6)"
          ],
          [
           "(-0.5, -0.4)",
           "(0.5, 0.6)"
          ],
          [
           "(-0.5, -0.4)",
           "(0.5, 0.6)"
          ],
          [
           "(-0.5, -0.4)",
           "(0.5, 0.6)"
          ],
          [
           "(-0.5, -0.4)",
           "(0.5, 0.6)"
          ],
          [
           "(-0.5, -0.4)",
           "(0.5, 0.6)"
          ],
          [
           "(-0.5, -0.4)",
           "(0.5, 0.6)"
          ],
          [
           "(-0.5, -0.4)",
           "(0.5, 0.6)"
          ],
          [
           "(-0.5, -0.4)",
           "(0.5, 0.6)"
          ],
          [
           "(-0.5, -0.4)",
           "(0.5, 0.6)"
          ],
          [
           "(-0.5, -0.4)",
           "(0.5, 0.6)"
          ],
          [
           "(-0.5, -0.4)",
           "(0.5, 0.6)"
          ],
          [
           "(-0.5, -0.4)",
           "(0.5, 0.6)"
          ],
          [
           "(-0.5, -0.4)",
           "(0.5, 0.6)"
          ],
          [
           "(-0.5, -0.4)",
           "(0.5, 0.6)"
          ],
          [
           "(-0.5, -0.4)",
           "(0.5, 0.6)"
          ],
          [
           "(-0.5, -0.4)",
           "(0.5, 0.6)"
          ],
          [
           "(-0.5, -0.4)",
           "(0.5, 0.6)"
          ],
          [
           "(-0.5, -0.4)",
           "(0.5, 0.6)"
          ],
          [
           "(-0.5, -0.4)",
           "(0.5, 0.6)"
          ],
          [
           "(-0.5, -0.4)",
           "(0.5, 0.6)"
          ],
          [
           "(-0.5, -0.4)",
           "(0.5, 0.6)"
          ],
          [
           "(-0.5, -0.4)",
           "(0.5, 0.6)"
          ],
          [
           "(-0.5, -0.4)",
           "(0.5, 0.6)"
          ],
          [
           "(-0.5, -0.4)",
           "(0.5, 0.6)"
          ],
          [
           "(-0.5, -0.4)",
           "(0.5, 0.6)"
          ],
          [
           "(-0.5, -0.4)",
           "(0.5, 0.6)"
          ],
          [
           "(-0.5, -0.4)",
           "(0.5, 0.6)"
          ],
          [
           "(-0.5, -0.4)",
           "(0.5, 0.6)"
          ],
          [
           "(-0.5, -0.4)",
           "(0.5, 0.6)"
          ],
          [
           "(-0.5, -0.4)",
           "(0.5, 0.6)"
          ],
          [
           "(-0.5, -0.4)",
           "(0.5, 0.6)"
          ],
          [
           "(-0.5, -0.4)",
           "(0.5, 0.6)"
          ],
          [
           "(-0.5, -0.4)",
           "(0.5, 0.6)"
          ],
          [
           "(-0.5, -0.4)",
           "(0.5, 0.6)"
          ],
          [
           "(-0.5, -0.4)",
           "(0.5, 0.6)"
          ],
          [
           "(-0.5, -0.4)",
           "(0.5, 0.6)"
          ],
          [
           "(-0.5, -0.4)",
           "(0.5, 0.6)"
          ],
          [
           "(-0.5, -0.4)",
           "(0.5, 0.6)"
          ],
          [
           "(-0.5, -0.4)",
           "(0.5, 0.6)"
          ],
          [
           "(-0.5, -0.4)",
           "(0.5, 0.6)"
          ],
          [
           "(-0.5, -0.4)",
           "(0.5, 0.6)"
          ],
          [
           "(-0.5, -0.4)",
           "(0.5, 0.6)"
          ],
          [
           "(-0.5, -0.4)",
           "(0.5, 0.6)"
          ],
          [
           "(-0.5, -0.4)",
           "(0.5, 0.6)"
          ],
          [
           "(-0.5, -0.4)",
           "(0.5, 0.6)"
          ],
          [
           "(-0.5, -0.4)",
           "(0.5, 0.6)"
          ],
          [
           "(-0.5, -0.4)",
           "(0.5, 0.6)"
          ],
          [
           "(-0.5, -0.4)",
           "(0.5, 0.6)"
          ],
          [
           "(-0.5, -0.4)",
           "(0.5, 0.6)"
          ],
          [
           "(-0.5, -0.4)",
           "(0.5, 0.6)"
          ],
          [
           "(-0.5, -0.4)",
           "(0.5, 0.6)"
          ],
          [
           "(-0.5, -0.4)",
           "(0.5, 0.6)"
          ],
          [
           "(-0.5, -0.4)",
           "(0.5, 0.6)"
          ],
          [
           "(-0.5, -0.4)",
           "(0.5, 0.6)"
          ],
          [
           "(-0.5, -0.4)",
           "(0.5, 0.6)"
          ],
          [
           "(-0.5, -0.4)",
           "(0.5, 0.6)"
          ],
          [
           "(-0.5, -0.4)",
           "(0.5, 0.6)"
          ],
          [
           "(-0.5, -0.4)",
           "(0.5, 0.6)"
          ],
          [
           "(-0.5, -0.4)",
           "(0.5, 0.6)"
          ],
          [
           "(-0.5, -0.4)",
           "(0.5, 0.6)"
          ],
          [
           "(-0.5, -0.4)",
           "(0.5, 0.6)"
          ],
          [
           "(-0.5, -0.4)",
           "(0.5, 0.6)"
          ],
          [
           "(-0.5, -0.4)",
           "(0.5, 0.6)"
          ],
          [
           "(-0.5, -0.4)",
           "(0.5, 0.6)"
          ],
          [
           "(-0.5, -0.4)",
           "(0.5, 0.6)"
          ],
          [
           "(-0.5, -0.4)",
           "(0.5, 0.6)"
          ],
          [
           "(-0.5, -0.4)",
           "(0.5, 0.6)"
          ],
          [
           "(-0.5, -0.4)",
           "(0.5, 0.6)"
          ],
          [
           "(-0.5, -0.4)",
           "(0.5, 0.6)"
          ],
          [
           "(-0.5, -0.4)",
           "(0.5, 0.6)"
          ],
          [
           "(-0.5, -0.4)",
           "(0.5, 0.6)"
          ],
          [
           "(-0.5, -0.4)",
           "(0.5, 0.6)"
          ],
          [
           "(-0.5, -0.4)",
           "(0.5, 0.6)"
          ],
          [
           "(-0.5, -0.4)",
           "(0.5, 0.6)"
          ],
          [
           "(-0.5, -0.4)",
           "(0.5, 0.6)"
          ],
          [
           "(-0.5, -0.4)",
           "(0.5, 0.6)"
          ],
          [
           "(-0.5, -0.4)",
           "(0.5, 0.6)"
          ],
          [
           "(-0.5, -0.4)",
           "(0.5, 0.6)"
          ],
          [
           "(-0.5, -0.4)",
           "(0.5, 0.6)"
          ],
          [
           "(-0.5, -0.4)",
           "(0.5, 0.6)"
          ],
          [
           "(-0.5, -0.4)",
           "(0.5, 0.6)"
          ],
          [
           "(-0.5, -0.4)",
           "(0.5, 0.6)"
          ],
          [
           "(-0.5, -0.4)",
           "(0.5, 0.6)"
          ],
          [
           "(-0.5, -0.4)",
           "(0.5, 0.6)"
          ],
          [
           "(-0.5, -0.4)",
           "(0.5, 0.6)"
          ],
          [
           "(-0.5, -0.4)",
           "(0.5, 0.6)"
          ],
          [
           "(-0.5, -0.4)",
           "(0.5, 0.6)"
          ],
          [
           "(-0.5, -0.4)",
           "(0.5, 0.6)"
          ],
          [
           "(-0.5, -0.4)",
           "(0.5, 0.6)"
          ],
          [
           "(-0.5, -0.4)",
           "(0.5, 0.6)"
          ],
          [
           "(-0.5, -0.4)",
           "(0.5, 0.6)"
          ],
          [
           "(-0.5, -0.4)",
           "(0.5, 0.6)"
          ],
          [
           "(-0.5, -0.4)",
           "(0.5, 0.6)"
          ],
          [
           "(-0.5, -0.4)",
           "(0.5, 0.6)"
          ],
          [
           "(-0.5, -0.4)",
           "(0.5, 0.6)"
          ],
          [
           "(-0.5, -0.4)",
           "(0.5, 0.6)"
          ],
          [
           "(-0.5, -0.4)",
           "(0.5, 0.6)"
          ],
          [
           "(-0.5, -0.4)",
           "(0.5, 0.6)"
          ],
          [
           "(-0.5, -0.4)",
           "(0.5, 0.6)"
          ],
          [
           "(-0.5, -0.4)",
           "(0.5, 0.6)"
          ],
          [
           "(-0.5, -0.4)",
           "(0.5, 0.6)"
          ],
          [
           "(-0.5, -0.4)",
           "(0.5, 0.6)"
          ],
          [
           "(-0.5, -0.4)",
           "(0.5, 0.6)"
          ],
          [
           "(-0.5, -0.4)",
           "(0.5, 0.6)"
          ],
          [
           "(-0.5, -0.4)",
           "(0.5, 0.6)"
          ],
          [
           "(-0.5, -0.4)",
           "(0.5, 0.6)"
          ],
          [
           "(-0.5, -0.4)",
           "(0.5, 0.6)"
          ],
          [
           "(-0.5, -0.4)",
           "(0.5, 0.6)"
          ],
          [
           "(-0.5, -0.4)",
           "(0.5, 0.6)"
          ],
          [
           "(-0.5, -0.4)",
           "(0.5, 0.6)"
          ],
          [
           "(-0.5, -0.4)",
           "(0.5, 0.6)"
          ],
          [
           "(-0.5, -0.4)",
           "(0.5, 0.6)"
          ],
          [
           "(-0.5, -0.4)",
           "(0.5, 0.6)"
          ],
          [
           "(-0.5, -0.4)",
           "(0.5, 0.6)"
          ],
          [
           "(-0.5, -0.4)",
           "(0.5, 0.6)"
          ],
          [
           "(-0.5, -0.4)",
           "(0.5, 0.6)"
          ],
          [
           "(-0.5, -0.4)",
           "(0.5, 0.6)"
          ],
          [
           "(-0.5, -0.4)",
           "(0.5, 0.6)"
          ],
          [
           "(-0.5, -0.4)",
           "(0.5, 0.6)"
          ],
          [
           "(-0.5, -0.4)",
           "(0.5, 0.6)"
          ],
          [
           "(-0.5, -0.4)",
           "(0.5, 0.6)"
          ],
          [
           "(-0.5, -0.4)",
           "(0.5, 0.6)"
          ],
          [
           "(-0.5, -0.4)",
           "(0.5, 0.6)"
          ],
          [
           "(-0.5, -0.4)",
           "(0.5, 0.6)"
          ],
          [
           "(-0.5, -0.4)",
           "(0.5, 0.6)"
          ],
          [
           "(-0.5, -0.4)",
           "(0.5, 0.6)"
          ],
          [
           "(-0.5, -0.4)",
           "(0.5, 0.6)"
          ],
          [
           "(-0.5, -0.4)",
           "(0.5, 0.6)"
          ],
          [
           "(-0.5, -0.4)",
           "(0.5, 0.6)"
          ],
          [
           "(-0.5, -0.4)",
           "(0.5, 0.6)"
          ],
          [
           "(-0.5, -0.4)",
           "(0.5, 0.6)"
          ],
          [
           "(-0.5, -0.4)",
           "(0.5, 0.6)"
          ],
          [
           "(-0.5, -0.4)",
           "(0.5, 0.6)"
          ],
          [
           "(-0.5, -0.4)",
           "(0.5, 0.6)"
          ],
          [
           "(-0.5, -0.4)",
           "(0.5, 0.6)"
          ]
         ],
         "hovertemplate": "<b>Date:</b> %{x}<br><b>Portfolio Value:</b> %{y}<br><b>Put Delta Range:</b> %{customdata[0]}<br><b>Call Delta Range:</b> %{customdata[1]}",
         "legendgroup": "Put: (-0.5, -0.4), Call: (0.5, 0.6)",
         "line": {
          "color": "#ab63fa",
          "dash": "solid"
         },
         "marker": {
          "symbol": "circle"
         },
         "mode": "lines",
         "name": "Put: (-0.5, -0.4), Call: (0.5, 0.6)",
         "showlegend": true,
         "type": "scattergl",
         "x": [
          "2024-01-03",
          "2024-01-05",
          "2024-01-08",
          "2024-01-10",
          "2024-01-12",
          "2024-01-17",
          "2024-01-19",
          "2024-01-22",
          "2024-01-24",
          "2024-01-26",
          "2024-01-29",
          "2024-01-31",
          "2024-02-02",
          "2024-02-05",
          "2024-02-07",
          "2024-02-09",
          "2024-02-12",
          "2024-02-14",
          "2024-02-16",
          "2024-02-21",
          "2024-02-23",
          "2024-02-26",
          "2024-02-28",
          "2024-03-01",
          "2024-03-04",
          "2024-03-06",
          "2024-03-08",
          "2024-03-11",
          "2024-03-13",
          "2024-03-15",
          "2024-03-18",
          "2024-03-20",
          "2024-03-22",
          "2024-03-25",
          "2024-03-27",
          "2024-04-01",
          "2024-04-03",
          "2024-04-05",
          "2024-04-08",
          "2024-04-10",
          "2024-04-12",
          "2024-04-15",
          "2024-04-17",
          "2024-04-19",
          "2024-04-22",
          "2024-04-24",
          "2024-04-26",
          "2024-04-29",
          "2024-05-01",
          "2024-05-03",
          "2024-05-06",
          "2024-05-08",
          "2024-05-10",
          "2024-05-13",
          "2024-05-15",
          "2024-05-17",
          "2024-05-20",
          "2024-05-22",
          "2024-05-24",
          "2024-05-29",
          "2024-05-31",
          "2024-06-03",
          "2024-06-05",
          "2024-06-07",
          "2024-06-10",
          "2024-06-12",
          "2024-06-14",
          "2024-06-17",
          "2024-06-21",
          "2024-06-24",
          "2024-06-26",
          "2024-06-28",
          "2024-07-01",
          "2024-07-03",
          "2024-07-05",
          "2024-07-08",
          "2024-07-10",
          "2024-07-12",
          "2024-07-15",
          "2024-07-17",
          "2024-07-19",
          "2024-07-22",
          "2024-07-24",
          "2024-07-26",
          "2024-07-29",
          "2024-08-12",
          "2024-08-14",
          "2024-08-16",
          "2024-08-19",
          "2024-08-21",
          "2024-08-23",
          "2024-08-26",
          "2024-08-28",
          "2024-08-30",
          "2024-09-04",
          "2024-09-06",
          "2024-09-09",
          "2024-09-11",
          "2024-09-12",
          "2024-09-13",
          "2024-09-16",
          "2024-09-17",
          "2024-09-18",
          "2024-09-19",
          "2024-09-20",
          "2024-09-23",
          "2024-09-24",
          "2024-09-25",
          "2024-09-26",
          "2024-09-27",
          "2024-09-30",
          "2024-10-01",
          "2024-10-02",
          "2024-10-03",
          "2024-10-04",
          "2024-10-07",
          "2024-10-08",
          "2024-10-09",
          "2024-10-10",
          "2024-10-11",
          "2024-10-14",
          "2024-10-15",
          "2024-10-16",
          "2024-10-17",
          "2024-10-18",
          "2024-10-21",
          "2024-10-22",
          "2024-10-23",
          "2024-10-24",
          "2024-10-25",
          "2024-10-28",
          "2024-10-29",
          "2024-10-30",
          "2024-10-31",
          "2024-11-01",
          "2024-11-04",
          "2024-11-05",
          "2024-11-06",
          "2024-11-07",
          "2024-11-08",
          "2024-11-11",
          "2024-11-13",
          "2024-11-14",
          "2024-11-15",
          "2024-11-18",
          "2024-11-19",
          "2024-11-20",
          "2024-11-21",
          "2024-11-22",
          "2024-11-25",
          "2024-11-26",
          "2024-11-27",
          "2024-11-29",
          "2024-12-02",
          "2024-12-03",
          "2024-12-04",
          "2024-12-05",
          "2024-12-06",
          "2024-12-09",
          "2024-12-10",
          "2024-12-11",
          "2024-12-12",
          "2024-12-13",
          "2024-12-16",
          "2024-12-17",
          "2024-12-18",
          "2024-12-19",
          "2024-12-20",
          "2024-12-23",
          "2024-12-24",
          "2024-12-27",
          "2024-12-30"
         ],
         "xaxis": "x",
         "y": {
          "bdata": "AAAAAMD+00AAAAAAwP7TQAAAAADA/tNAAAAAAMD+00AAAAAAwP7TQAAAAADA/tNAAAAAAMD+00AAAAAAwP7TQAAAAADA/tNAAAAAAMD+00AAAAAAwP7TQAAAAADA/tNAAAAAAMD+00D///9lvyXUQAAAAHQ9stRAAAAA3U+q1ED////bAoDUQAAAABhdNdRAAQAAlpQH1EAAAABb1AfUQAAAAC/ODNRA////GPfq00AAAABAb/HTQAAAADekxdNAAAAAcC1U00AAAABAYb/SQAAAAEBhv9JAAAAAAbQZ00AAAADdZG7TQAAAAPp3k9NAAAAA6dau00AAAAD3ASrUQAAAACgCi9NAAAAAXm1n00AAAAAxo6TTQAAAANUFU9NAAAAAU5FJ00AAAABt00fTQAAAAHq1K9NAAAAAggkb00AAAACCCRvTQAAAAABAZtNAAAAAAMDM00AAAAAAwMzTQAAAAADAzNNAAAAAAMDM00AAAAAAwMzTQAAAAADAzNNAAAAAAMDM00AAAAAAwMzTQAAAAADAzNNAAAAAAEAJ1EAAAAAAQAnUQAAAAABACdRAAAAAAEAJ1EAAAAAAQAnUQAAAAABACdRAAAAAAEAJ1EAAAAAAQAnUQAAAAACAadRAAAAAAIBp1EAAAAAAgGnUQAAAAACAadRAAAAAAIBp1EAAAAAAgGnUQAAAAACAadRAAAAAAIBp1EAAAAAAgGnUQAAAAACAadRAAAAAAIBp1EAAAAAAgGnUQAAAAACAadRAAAAAAEC91EAAAAAAQL3UQAAAAABAvdRAAAAAAEC91EAAAAAAQL3UQAAAAABAvdRAAAAAAEC91EAAAAAAQL3UQAAAAABAvdRAAAAAAEC91EAAAAAAQL3UQAAAAABAvdRAAAAAAEC91EAAAAAAQL3UQAAAAADALdVAAAAAAMAt1UAAAAAAwC3VQAAAAADALdVAAAAAAMAt1UAAAAAAwC3VQAAAAADALdVAAAAAAMAt1UAAAAAAwC3VQAAAAADALdVAAAAAAMAt1UAAAAAAwC3VQAAAAADALdVAAAAAAMAt1UAAAAAAgJrVQAAAAACAmtVAAAAAAICa1UAAAAAAgJrVQAAAAACAmtVAAAAAAICa1UAAAAAAgJrVQAAAAACAmtVAAAAAAICa1UAAAAAAgJrVQAAAAACAmtVAAAAAAICa1UAAAAAAgJrVQAAAAACAmtVAAAAAAICa1UAAAAAAgJrVQAAAAACAmtVAAAAAAICa1UAAAAAAgJrVQAAAAACAmtVAAAAAAEAg1kAAAAAAQCDWQAAAAABAINZAAAAAAEAg1kAAAAAAQCDWQAAAAABAINZAAAAAAEAg1kAAAAAAQCDWQAAAAABAINZAAAAAAEAg1kAAAAAAQCDWQAAAAABAINZAAAAAAEAg1kAAAAAAQCDWQAAAAABAINZAAAAAAEAg1kAAAAAAQCDWQAAAAABAINZAAAAAAEAg1kAAAAAAQCDWQP///+UX+dVAAAAApVEP1kAAAADou1zWQAAAAHVSDNZAAAAAS71X1kD///9mO17WQAAAAFU2cNZA////xjlk1kAAAAA/8IXWQP///ybb0NZAAAAAvYsH10AAAACvTATXQP///9g7QNdAAAAA5at410AAAABlFsXXQP///9sTztdAAAAAqNPO10AAAACo087XQAAAAAAAW9ZAAAAAAABb1kAAAAAAAFvWQAAAAAAAW9ZAAAAAAABb1kAAAAAAAFvWQAAAAAAAW9ZAAAAAAABb1kAAAAAAAFvWQAAAAAAAW9ZAAAAAAABb1kAAAAAAAFvWQAAAAAAAW9ZAAAAAAABb1kA=",
          "dtype": "f8"
         },
         "yaxis": "y"
        },
        {
         "customdata": [
          [
           "(-0.5, -0.4)",
           "(0.6, 0.7)"
          ],
          [
           "(-0.5, -0.4)",
           "(0.6, 0.7)"
          ],
          [
           "(-0.5, -0.4)",
           "(0.6, 0.7)"
          ],
          [
           "(-0.5, -0.4)",
           "(0.6, 0.7)"
          ],
          [
           "(-0.5, -0.4)",
           "(0.6, 0.7)"
          ],
          [
           "(-0.5, -0.4)",
           "(0.6, 0.7)"
          ],
          [
           "(-0.5, -0.4)",
           "(0.6, 0.7)"
          ],
          [
           "(-0.5, -0.4)",
           "(0.6, 0.7)"
          ],
          [
           "(-0.5, -0.4)",
           "(0.6, 0.7)"
          ],
          [
           "(-0.5, -0.4)",
           "(0.6, 0.7)"
          ],
          [
           "(-0.5, -0.4)",
           "(0.6, 0.7)"
          ],
          [
           "(-0.5, -0.4)",
           "(0.6, 0.7)"
          ],
          [
           "(-0.5, -0.4)",
           "(0.6, 0.7)"
          ],
          [
           "(-0.5, -0.4)",
           "(0.6, 0.7)"
          ],
          [
           "(-0.5, -0.4)",
           "(0.6, 0.7)"
          ],
          [
           "(-0.5, -0.4)",
           "(0.6, 0.7)"
          ],
          [
           "(-0.5, -0.4)",
           "(0.6, 0.7)"
          ],
          [
           "(-0.5, -0.4)",
           "(0.6, 0.7)"
          ],
          [
           "(-0.5, -0.4)",
           "(0.6, 0.7)"
          ],
          [
           "(-0.5, -0.4)",
           "(0.6, 0.7)"
          ],
          [
           "(-0.5, -0.4)",
           "(0.6, 0.7)"
          ],
          [
           "(-0.5, -0.4)",
           "(0.6, 0.7)"
          ],
          [
           "(-0.5, -0.4)",
           "(0.6, 0.7)"
          ],
          [
           "(-0.5, -0.4)",
           "(0.6, 0.7)"
          ],
          [
           "(-0.5, -0.4)",
           "(0.6, 0.7)"
          ],
          [
           "(-0.5, -0.4)",
           "(0.6, 0.7)"
          ],
          [
           "(-0.5, -0.4)",
           "(0.6, 0.7)"
          ],
          [
           "(-0.5, -0.4)",
           "(0.6, 0.7)"
          ],
          [
           "(-0.5, -0.4)",
           "(0.6, 0.7)"
          ],
          [
           "(-0.5, -0.4)",
           "(0.6, 0.7)"
          ],
          [
           "(-0.5, -0.4)",
           "(0.6, 0.7)"
          ],
          [
           "(-0.5, -0.4)",
           "(0.6, 0.7)"
          ],
          [
           "(-0.5, -0.4)",
           "(0.6, 0.7)"
          ],
          [
           "(-0.5, -0.4)",
           "(0.6, 0.7)"
          ],
          [
           "(-0.5, -0.4)",
           "(0.6, 0.7)"
          ],
          [
           "(-0.5, -0.4)",
           "(0.6, 0.7)"
          ],
          [
           "(-0.5, -0.4)",
           "(0.6, 0.7)"
          ],
          [
           "(-0.5, -0.4)",
           "(0.6, 0.7)"
          ],
          [
           "(-0.5, -0.4)",
           "(0.6, 0.7)"
          ],
          [
           "(-0.5, -0.4)",
           "(0.6, 0.7)"
          ],
          [
           "(-0.5, -0.4)",
           "(0.6, 0.7)"
          ],
          [
           "(-0.5, -0.4)",
           "(0.6, 0.7)"
          ],
          [
           "(-0.5, -0.4)",
           "(0.6, 0.7)"
          ],
          [
           "(-0.5, -0.4)",
           "(0.6, 0.7)"
          ],
          [
           "(-0.5, -0.4)",
           "(0.6, 0.7)"
          ],
          [
           "(-0.5, -0.4)",
           "(0.6, 0.7)"
          ],
          [
           "(-0.5, -0.4)",
           "(0.6, 0.7)"
          ],
          [
           "(-0.5, -0.4)",
           "(0.6, 0.7)"
          ],
          [
           "(-0.5, -0.4)",
           "(0.6, 0.7)"
          ],
          [
           "(-0.5, -0.4)",
           "(0.6, 0.7)"
          ],
          [
           "(-0.5, -0.4)",
           "(0.6, 0.7)"
          ],
          [
           "(-0.5, -0.4)",
           "(0.6, 0.7)"
          ],
          [
           "(-0.5, -0.4)",
           "(0.6, 0.7)"
          ],
          [
           "(-0.5, -0.4)",
           "(0.6, 0.7)"
          ],
          [
           "(-0.5, -0.4)",
           "(0.6, 0.7)"
          ],
          [
           "(-0.5, -0.4)",
           "(0.6, 0.7)"
          ],
          [
           "(-0.5, -0.4)",
           "(0.6, 0.7)"
          ],
          [
           "(-0.5, -0.4)",
           "(0.6, 0.7)"
          ],
          [
           "(-0.5, -0.4)",
           "(0.6, 0.7)"
          ],
          [
           "(-0.5, -0.4)",
           "(0.6, 0.7)"
          ],
          [
           "(-0.5, -0.4)",
           "(0.6, 0.7)"
          ],
          [
           "(-0.5, -0.4)",
           "(0.6, 0.7)"
          ],
          [
           "(-0.5, -0.4)",
           "(0.6, 0.7)"
          ],
          [
           "(-0.5, -0.4)",
           "(0.6, 0.7)"
          ],
          [
           "(-0.5, -0.4)",
           "(0.6, 0.7)"
          ],
          [
           "(-0.5, -0.4)",
           "(0.6, 0.7)"
          ],
          [
           "(-0.5, -0.4)",
           "(0.6, 0.7)"
          ],
          [
           "(-0.5, -0.4)",
           "(0.6, 0.7)"
          ],
          [
           "(-0.5, -0.4)",
           "(0.6, 0.7)"
          ],
          [
           "(-0.5, -0.4)",
           "(0.6, 0.7)"
          ],
          [
           "(-0.5, -0.4)",
           "(0.6, 0.7)"
          ],
          [
           "(-0.5, -0.4)",
           "(0.6, 0.7)"
          ],
          [
           "(-0.5, -0.4)",
           "(0.6, 0.7)"
          ],
          [
           "(-0.5, -0.4)",
           "(0.6, 0.7)"
          ],
          [
           "(-0.5, -0.4)",
           "(0.6, 0.7)"
          ],
          [
           "(-0.5, -0.4)",
           "(0.6, 0.7)"
          ],
          [
           "(-0.5, -0.4)",
           "(0.6, 0.7)"
          ],
          [
           "(-0.5, -0.4)",
           "(0.6, 0.7)"
          ],
          [
           "(-0.5, -0.4)",
           "(0.6, 0.7)"
          ],
          [
           "(-0.5, -0.4)",
           "(0.6, 0.7)"
          ],
          [
           "(-0.5, -0.4)",
           "(0.6, 0.7)"
          ],
          [
           "(-0.5, -0.4)",
           "(0.6, 0.7)"
          ],
          [
           "(-0.5, -0.4)",
           "(0.6, 0.7)"
          ],
          [
           "(-0.5, -0.4)",
           "(0.6, 0.7)"
          ],
          [
           "(-0.5, -0.4)",
           "(0.6, 0.7)"
          ],
          [
           "(-0.5, -0.4)",
           "(0.6, 0.7)"
          ],
          [
           "(-0.5, -0.4)",
           "(0.6, 0.7)"
          ],
          [
           "(-0.5, -0.4)",
           "(0.6, 0.7)"
          ],
          [
           "(-0.5, -0.4)",
           "(0.6, 0.7)"
          ],
          [
           "(-0.5, -0.4)",
           "(0.6, 0.7)"
          ],
          [
           "(-0.5, -0.4)",
           "(0.6, 0.7)"
          ],
          [
           "(-0.5, -0.4)",
           "(0.6, 0.7)"
          ],
          [
           "(-0.5, -0.4)",
           "(0.6, 0.7)"
          ],
          [
           "(-0.5, -0.4)",
           "(0.6, 0.7)"
          ],
          [
           "(-0.5, -0.4)",
           "(0.6, 0.7)"
          ],
          [
           "(-0.5, -0.4)",
           "(0.6, 0.7)"
          ],
          [
           "(-0.5, -0.4)",
           "(0.6, 0.7)"
          ],
          [
           "(-0.5, -0.4)",
           "(0.6, 0.7)"
          ],
          [
           "(-0.5, -0.4)",
           "(0.6, 0.7)"
          ],
          [
           "(-0.5, -0.4)",
           "(0.6, 0.7)"
          ],
          [
           "(-0.5, -0.4)",
           "(0.6, 0.7)"
          ],
          [
           "(-0.5, -0.4)",
           "(0.6, 0.7)"
          ],
          [
           "(-0.5, -0.4)",
           "(0.6, 0.7)"
          ],
          [
           "(-0.5, -0.4)",
           "(0.6, 0.7)"
          ],
          [
           "(-0.5, -0.4)",
           "(0.6, 0.7)"
          ],
          [
           "(-0.5, -0.4)",
           "(0.6, 0.7)"
          ],
          [
           "(-0.5, -0.4)",
           "(0.6, 0.7)"
          ],
          [
           "(-0.5, -0.4)",
           "(0.6, 0.7)"
          ],
          [
           "(-0.5, -0.4)",
           "(0.6, 0.7)"
          ],
          [
           "(-0.5, -0.4)",
           "(0.6, 0.7)"
          ],
          [
           "(-0.5, -0.4)",
           "(0.6, 0.7)"
          ],
          [
           "(-0.5, -0.4)",
           "(0.6, 0.7)"
          ],
          [
           "(-0.5, -0.4)",
           "(0.6, 0.7)"
          ],
          [
           "(-0.5, -0.4)",
           "(0.6, 0.7)"
          ],
          [
           "(-0.5, -0.4)",
           "(0.6, 0.7)"
          ],
          [
           "(-0.5, -0.4)",
           "(0.6, 0.7)"
          ],
          [
           "(-0.5, -0.4)",
           "(0.6, 0.7)"
          ],
          [
           "(-0.5, -0.4)",
           "(0.6, 0.7)"
          ],
          [
           "(-0.5, -0.4)",
           "(0.6, 0.7)"
          ],
          [
           "(-0.5, -0.4)",
           "(0.6, 0.7)"
          ],
          [
           "(-0.5, -0.4)",
           "(0.6, 0.7)"
          ],
          [
           "(-0.5, -0.4)",
           "(0.6, 0.7)"
          ],
          [
           "(-0.5, -0.4)",
           "(0.6, 0.7)"
          ],
          [
           "(-0.5, -0.4)",
           "(0.6, 0.7)"
          ],
          [
           "(-0.5, -0.4)",
           "(0.6, 0.7)"
          ],
          [
           "(-0.5, -0.4)",
           "(0.6, 0.7)"
          ],
          [
           "(-0.5, -0.4)",
           "(0.6, 0.7)"
          ],
          [
           "(-0.5, -0.4)",
           "(0.6, 0.7)"
          ],
          [
           "(-0.5, -0.4)",
           "(0.6, 0.7)"
          ],
          [
           "(-0.5, -0.4)",
           "(0.6, 0.7)"
          ],
          [
           "(-0.5, -0.4)",
           "(0.6, 0.7)"
          ],
          [
           "(-0.5, -0.4)",
           "(0.6, 0.7)"
          ],
          [
           "(-0.5, -0.4)",
           "(0.6, 0.7)"
          ],
          [
           "(-0.5, -0.4)",
           "(0.6, 0.7)"
          ],
          [
           "(-0.5, -0.4)",
           "(0.6, 0.7)"
          ],
          [
           "(-0.5, -0.4)",
           "(0.6, 0.7)"
          ],
          [
           "(-0.5, -0.4)",
           "(0.6, 0.7)"
          ],
          [
           "(-0.5, -0.4)",
           "(0.6, 0.7)"
          ],
          [
           "(-0.5, -0.4)",
           "(0.6, 0.7)"
          ],
          [
           "(-0.5, -0.4)",
           "(0.6, 0.7)"
          ],
          [
           "(-0.5, -0.4)",
           "(0.6, 0.7)"
          ],
          [
           "(-0.5, -0.4)",
           "(0.6, 0.7)"
          ],
          [
           "(-0.5, -0.4)",
           "(0.6, 0.7)"
          ],
          [
           "(-0.5, -0.4)",
           "(0.6, 0.7)"
          ],
          [
           "(-0.5, -0.4)",
           "(0.6, 0.7)"
          ],
          [
           "(-0.5, -0.4)",
           "(0.6, 0.7)"
          ],
          [
           "(-0.5, -0.4)",
           "(0.6, 0.7)"
          ],
          [
           "(-0.5, -0.4)",
           "(0.6, 0.7)"
          ],
          [
           "(-0.5, -0.4)",
           "(0.6, 0.7)"
          ],
          [
           "(-0.5, -0.4)",
           "(0.6, 0.7)"
          ],
          [
           "(-0.5, -0.4)",
           "(0.6, 0.7)"
          ],
          [
           "(-0.5, -0.4)",
           "(0.6, 0.7)"
          ],
          [
           "(-0.5, -0.4)",
           "(0.6, 0.7)"
          ],
          [
           "(-0.5, -0.4)",
           "(0.6, 0.7)"
          ],
          [
           "(-0.5, -0.4)",
           "(0.6, 0.7)"
          ],
          [
           "(-0.5, -0.4)",
           "(0.6, 0.7)"
          ],
          [
           "(-0.5, -0.4)",
           "(0.6, 0.7)"
          ],
          [
           "(-0.5, -0.4)",
           "(0.6, 0.7)"
          ],
          [
           "(-0.5, -0.4)",
           "(0.6, 0.7)"
          ],
          [
           "(-0.5, -0.4)",
           "(0.6, 0.7)"
          ],
          [
           "(-0.5, -0.4)",
           "(0.6, 0.7)"
          ],
          [
           "(-0.5, -0.4)",
           "(0.6, 0.7)"
          ],
          [
           "(-0.5, -0.4)",
           "(0.6, 0.7)"
          ],
          [
           "(-0.5, -0.4)",
           "(0.6, 0.7)"
          ],
          [
           "(-0.5, -0.4)",
           "(0.6, 0.7)"
          ],
          [
           "(-0.5, -0.4)",
           "(0.6, 0.7)"
          ],
          [
           "(-0.5, -0.4)",
           "(0.6, 0.7)"
          ],
          [
           "(-0.5, -0.4)",
           "(0.6, 0.7)"
          ],
          [
           "(-0.5, -0.4)",
           "(0.6, 0.7)"
          ],
          [
           "(-0.5, -0.4)",
           "(0.6, 0.7)"
          ],
          [
           "(-0.5, -0.4)",
           "(0.6, 0.7)"
          ],
          [
           "(-0.5, -0.4)",
           "(0.6, 0.7)"
          ]
         ],
         "hovertemplate": "<b>Date:</b> %{x}<br><b>Portfolio Value:</b> %{y}<br><b>Put Delta Range:</b> %{customdata[0]}<br><b>Call Delta Range:</b> %{customdata[1]}",
         "legendgroup": "Put: (-0.5, -0.4), Call: (0.6, 0.7)",
         "line": {
          "color": "#FFA15A",
          "dash": "solid"
         },
         "marker": {
          "symbol": "circle"
         },
         "mode": "lines",
         "name": "Put: (-0.5, -0.4), Call: (0.6, 0.7)",
         "showlegend": true,
         "type": "scattergl",
         "x": [
          "2024-01-03",
          "2024-01-05",
          "2024-01-08",
          "2024-01-10",
          "2024-01-12",
          "2024-01-17",
          "2024-01-19",
          "2024-01-22",
          "2024-01-24",
          "2024-01-26",
          "2024-01-29",
          "2024-01-31",
          "2024-02-02",
          "2024-02-05",
          "2024-02-07",
          "2024-02-09",
          "2024-02-12",
          "2024-02-14",
          "2024-02-16",
          "2024-02-21",
          "2024-02-23",
          "2024-02-26",
          "2024-02-28",
          "2024-03-01",
          "2024-03-04",
          "2024-03-06",
          "2024-03-08",
          "2024-03-11",
          "2024-03-13",
          "2024-03-15",
          "2024-03-18",
          "2024-03-20",
          "2024-03-22",
          "2024-03-25",
          "2024-03-27",
          "2024-04-01",
          "2024-04-03",
          "2024-04-05",
          "2024-04-08",
          "2024-04-10",
          "2024-04-12",
          "2024-04-15",
          "2024-04-17",
          "2024-04-19",
          "2024-04-22",
          "2024-04-24",
          "2024-04-26",
          "2024-04-29",
          "2024-05-01",
          "2024-05-03",
          "2024-05-06",
          "2024-05-08",
          "2024-05-10",
          "2024-05-13",
          "2024-05-15",
          "2024-05-17",
          "2024-05-20",
          "2024-05-22",
          "2024-05-24",
          "2024-05-29",
          "2024-05-31",
          "2024-06-03",
          "2024-06-05",
          "2024-06-07",
          "2024-06-10",
          "2024-06-12",
          "2024-06-14",
          "2024-06-17",
          "2024-06-21",
          "2024-06-24",
          "2024-06-26",
          "2024-06-28",
          "2024-07-01",
          "2024-07-03",
          "2024-07-05",
          "2024-07-08",
          "2024-07-10",
          "2024-07-12",
          "2024-07-15",
          "2024-07-17",
          "2024-07-19",
          "2024-07-22",
          "2024-07-24",
          "2024-07-26",
          "2024-07-29",
          "2024-08-12",
          "2024-08-14",
          "2024-08-16",
          "2024-08-19",
          "2024-08-21",
          "2024-08-23",
          "2024-08-26",
          "2024-08-28",
          "2024-08-30",
          "2024-09-04",
          "2024-09-06",
          "2024-09-09",
          "2024-09-11",
          "2024-09-12",
          "2024-09-13",
          "2024-09-16",
          "2024-09-17",
          "2024-09-18",
          "2024-09-19",
          "2024-09-20",
          "2024-09-23",
          "2024-09-24",
          "2024-09-25",
          "2024-09-26",
          "2024-09-27",
          "2024-09-30",
          "2024-10-01",
          "2024-10-02",
          "2024-10-03",
          "2024-10-04",
          "2024-10-07",
          "2024-10-08",
          "2024-10-09",
          "2024-10-10",
          "2024-10-11",
          "2024-10-14",
          "2024-10-15",
          "2024-10-16",
          "2024-10-17",
          "2024-10-18",
          "2024-10-21",
          "2024-10-22",
          "2024-10-23",
          "2024-10-24",
          "2024-10-25",
          "2024-10-28",
          "2024-10-29",
          "2024-10-30",
          "2024-10-31",
          "2024-11-01",
          "2024-11-04",
          "2024-11-05",
          "2024-11-06",
          "2024-11-07",
          "2024-11-08",
          "2024-11-11",
          "2024-11-13",
          "2024-11-14",
          "2024-11-15",
          "2024-11-18",
          "2024-11-19",
          "2024-11-20",
          "2024-11-21",
          "2024-11-22",
          "2024-11-25",
          "2024-11-26",
          "2024-11-27",
          "2024-11-29",
          "2024-12-02",
          "2024-12-03",
          "2024-12-04",
          "2024-12-05",
          "2024-12-06",
          "2024-12-09",
          "2024-12-10",
          "2024-12-11",
          "2024-12-12",
          "2024-12-13",
          "2024-12-16",
          "2024-12-17",
          "2024-12-18",
          "2024-12-19",
          "2024-12-20",
          "2024-12-23",
          "2024-12-24",
          "2024-12-27",
          "2024-12-30"
         ],
         "xaxis": "x",
         "y": {
          "bdata": "AAAAAMD+00AAAAAAwP7TQAAAAADA/tNAAAAAAMD+00AAAAAAwP7TQAAAAADA/tNAAAAAAMD+00AAAAAAwP7TQAAAAADA/tNAAAAAAMD+00AAAAAAwP7TQAAAAADA/tNAAAAAAMD+00D///9l/7LUQAAAAHT93dRAAAAA3Q/W1ED////bwqvUQAAAABgdYdRAAQAAllQz1EAAAABblDPUQAAAAC+OONRA////GLcW1EAAAABALx3UQAAAAEAvHdRAAAAAcO1/00AAAABAIZ/TQAAAANEwx9NAAAAAAXT500AAAADdJNHTQAAAAPo39tNAAAAA6ZYR1EAAAAD3wYzUQAAAACjC7dNAAAAAXi3K00AAAAAxYwfUQAAAANXFtdNAAAAAU1Gs00AAAABTUazTQAAAAAAATNNAAAAAAABM00AAAAAAQLbTQAAAAABAttNAAAAAAEC200AAAAAAQLbTQAAAAABAttNAAAAAAEC200AAAAAAQLbTQAAAAABAttNAAAAAAEC200AAAAAAQLbTQAAAAABAttNAAAAAAEC200AAAAAAQLbTQAAAAADA8NNAAAAAAMDw00AAAAAAwPDTQAAAAADA8NNAAAAAAMDw00AAAAAAwPDTQAAAAADA8NNAAAAAAMDw00AAAAAAwPDTQAAAAADA8NNAAAAAAMDw00AAAAAAwPDTQAAAAADAStRAAAAAAMBK1EAAAAAAwErUQAAAAADAStRAAAAAAMBK1EAAAAAAwErUQAAAAADAStRA/v//Udmi1EAAAACC8iXWQAAAALtLndZAAAAAECzC1kAAAABYvULXQAAAAKzxBddAAQAA9h5m10AAAABLldzWQP7//zG3atZA////xf5h1kD////l8trVQAAAAGN/zNVAAAAAbHnT1UAAAABsedPVQAAAAABABdZAAAAAAEAF1kAAAAAAQAXWQAAAAABABdZAAAAAAEAF1kAAAAAAQAXWQAAAAABABdZAAAAAAEAF1kAAAAAAQAXWQAAAAABABdZAAAAAAEAF1kAAAAAAQAXWQAAAAABABdZAAAAAAEAF1kAAAAAAAHLWQAAAAAAActZAAAAAAABy1kAAAAAAAHLWQAAAAAAActZAAAAAAABy1kAAAAAAAHLWQAAAAAAActZAAAAAAABy1kAAAAAAAHLWQAAAAAAActZAAAAAAABy1kAAAAAAAHLWQAAAAAAActZAAAAAAABy1kAAAAAAAHLWQAAAAAAActZAAAAAAABy1kAAAAAAAHLWQAAAAAAActZAAAAAAMD31kAAAAAAwPfWQAAAAADA99ZAAAAAAMD31kAAAAAAwPfWQAAAAADA99ZAAAAAAMD31kAAAAAAwPfWQAAAAADA99ZAAAAAAMD31kAAAAAAwPfWQAAAAADA99ZAAAAAAMD31kAAAAAAwPfWQAAAAADA99ZAAAAAAMD31kAAAAAAwPfWQAAAAADA99ZAAAAAAMD31kAAAAAAwPfWQP///+XXHNdAAAAApREz10AAAADoe4DXQAAAAHUSMNdAAAAAS31710D///9m+4HXQAAAAFX2k9dA////xvmH10AAAAA/sKnXQP///yab9NdAAAAAvUsr2EAAAACvDCjYQP///9j7Y9hAAAAA5Wuc2EAAAABl1ujYQP///9vT8dhAAAAAqJPy2EAAAACok/LYQAAAAADAAddAAAAAAMAB10AAAAAAwAHXQAAAAADAAddAAAAAAMAB10AAAAAAwAHXQAAAAADAAddAAAAAAMAB10AAAAAAwAHXQAAAAADAAddAAAAAAMAB10AAAAAAwAHXQAAAAADAAddAAAAAAMAB10A=",
          "dtype": "f8"
         },
         "yaxis": "y"
        },
        {
         "customdata": [
          [
           "(-0.4, -0.3)",
           "(0.2, 0.3)"
          ],
          [
           "(-0.4, -0.3)",
           "(0.2, 0.3)"
          ],
          [
           "(-0.4, -0.3)",
           "(0.2, 0.3)"
          ],
          [
           "(-0.4, -0.3)",
           "(0.2, 0.3)"
          ],
          [
           "(-0.4, -0.3)",
           "(0.2, 0.3)"
          ],
          [
           "(-0.4, -0.3)",
           "(0.2, 0.3)"
          ],
          [
           "(-0.4, -0.3)",
           "(0.2, 0.3)"
          ],
          [
           "(-0.4, -0.3)",
           "(0.2, 0.3)"
          ],
          [
           "(-0.4, -0.3)",
           "(0.2, 0.3)"
          ],
          [
           "(-0.4, -0.3)",
           "(0.2, 0.3)"
          ],
          [
           "(-0.4, -0.3)",
           "(0.2, 0.3)"
          ],
          [
           "(-0.4, -0.3)",
           "(0.2, 0.3)"
          ],
          [
           "(-0.4, -0.3)",
           "(0.2, 0.3)"
          ],
          [
           "(-0.4, -0.3)",
           "(0.2, 0.3)"
          ],
          [
           "(-0.4, -0.3)",
           "(0.2, 0.3)"
          ],
          [
           "(-0.4, -0.3)",
           "(0.2, 0.3)"
          ],
          [
           "(-0.4, -0.3)",
           "(0.2, 0.3)"
          ],
          [
           "(-0.4, -0.3)",
           "(0.2, 0.3)"
          ],
          [
           "(-0.4, -0.3)",
           "(0.2, 0.3)"
          ],
          [
           "(-0.4, -0.3)",
           "(0.2, 0.3)"
          ],
          [
           "(-0.4, -0.3)",
           "(0.2, 0.3)"
          ],
          [
           "(-0.4, -0.3)",
           "(0.2, 0.3)"
          ],
          [
           "(-0.4, -0.3)",
           "(0.2, 0.3)"
          ],
          [
           "(-0.4, -0.3)",
           "(0.2, 0.3)"
          ],
          [
           "(-0.4, -0.3)",
           "(0.2, 0.3)"
          ],
          [
           "(-0.4, -0.3)",
           "(0.2, 0.3)"
          ],
          [
           "(-0.4, -0.3)",
           "(0.2, 0.3)"
          ],
          [
           "(-0.4, -0.3)",
           "(0.2, 0.3)"
          ],
          [
           "(-0.4, -0.3)",
           "(0.2, 0.3)"
          ],
          [
           "(-0.4, -0.3)",
           "(0.2, 0.3)"
          ],
          [
           "(-0.4, -0.3)",
           "(0.2, 0.3)"
          ],
          [
           "(-0.4, -0.3)",
           "(0.2, 0.3)"
          ],
          [
           "(-0.4, -0.3)",
           "(0.2, 0.3)"
          ],
          [
           "(-0.4, -0.3)",
           "(0.2, 0.3)"
          ],
          [
           "(-0.4, -0.3)",
           "(0.2, 0.3)"
          ],
          [
           "(-0.4, -0.3)",
           "(0.2, 0.3)"
          ],
          [
           "(-0.4, -0.3)",
           "(0.2, 0.3)"
          ],
          [
           "(-0.4, -0.3)",
           "(0.2, 0.3)"
          ],
          [
           "(-0.4, -0.3)",
           "(0.2, 0.3)"
          ],
          [
           "(-0.4, -0.3)",
           "(0.2, 0.3)"
          ],
          [
           "(-0.4, -0.3)",
           "(0.2, 0.3)"
          ],
          [
           "(-0.4, -0.3)",
           "(0.2, 0.3)"
          ],
          [
           "(-0.4, -0.3)",
           "(0.2, 0.3)"
          ],
          [
           "(-0.4, -0.3)",
           "(0.2, 0.3)"
          ],
          [
           "(-0.4, -0.3)",
           "(0.2, 0.3)"
          ],
          [
           "(-0.4, -0.3)",
           "(0.2, 0.3)"
          ],
          [
           "(-0.4, -0.3)",
           "(0.2, 0.3)"
          ],
          [
           "(-0.4, -0.3)",
           "(0.2, 0.3)"
          ],
          [
           "(-0.4, -0.3)",
           "(0.2, 0.3)"
          ],
          [
           "(-0.4, -0.3)",
           "(0.2, 0.3)"
          ],
          [
           "(-0.4, -0.3)",
           "(0.2, 0.3)"
          ],
          [
           "(-0.4, -0.3)",
           "(0.2, 0.3)"
          ],
          [
           "(-0.4, -0.3)",
           "(0.2, 0.3)"
          ],
          [
           "(-0.4, -0.3)",
           "(0.2, 0.3)"
          ],
          [
           "(-0.4, -0.3)",
           "(0.2, 0.3)"
          ],
          [
           "(-0.4, -0.3)",
           "(0.2, 0.3)"
          ],
          [
           "(-0.4, -0.3)",
           "(0.2, 0.3)"
          ],
          [
           "(-0.4, -0.3)",
           "(0.2, 0.3)"
          ],
          [
           "(-0.4, -0.3)",
           "(0.2, 0.3)"
          ],
          [
           "(-0.4, -0.3)",
           "(0.2, 0.3)"
          ],
          [
           "(-0.4, -0.3)",
           "(0.2, 0.3)"
          ],
          [
           "(-0.4, -0.3)",
           "(0.2, 0.3)"
          ],
          [
           "(-0.4, -0.3)",
           "(0.2, 0.3)"
          ],
          [
           "(-0.4, -0.3)",
           "(0.2, 0.3)"
          ],
          [
           "(-0.4, -0.3)",
           "(0.2, 0.3)"
          ],
          [
           "(-0.4, -0.3)",
           "(0.2, 0.3)"
          ],
          [
           "(-0.4, -0.3)",
           "(0.2, 0.3)"
          ],
          [
           "(-0.4, -0.3)",
           "(0.2, 0.3)"
          ],
          [
           "(-0.4, -0.3)",
           "(0.2, 0.3)"
          ],
          [
           "(-0.4, -0.3)",
           "(0.2, 0.3)"
          ],
          [
           "(-0.4, -0.3)",
           "(0.2, 0.3)"
          ],
          [
           "(-0.4, -0.3)",
           "(0.2, 0.3)"
          ],
          [
           "(-0.4, -0.3)",
           "(0.2, 0.3)"
          ],
          [
           "(-0.4, -0.3)",
           "(0.2, 0.3)"
          ],
          [
           "(-0.4, -0.3)",
           "(0.2, 0.3)"
          ],
          [
           "(-0.4, -0.3)",
           "(0.2, 0.3)"
          ],
          [
           "(-0.4, -0.3)",
           "(0.2, 0.3)"
          ],
          [
           "(-0.4, -0.3)",
           "(0.2, 0.3)"
          ],
          [
           "(-0.4, -0.3)",
           "(0.2, 0.3)"
          ],
          [
           "(-0.4, -0.3)",
           "(0.2, 0.3)"
          ],
          [
           "(-0.4, -0.3)",
           "(0.2, 0.3)"
          ],
          [
           "(-0.4, -0.3)",
           "(0.2, 0.3)"
          ],
          [
           "(-0.4, -0.3)",
           "(0.2, 0.3)"
          ],
          [
           "(-0.4, -0.3)",
           "(0.2, 0.3)"
          ],
          [
           "(-0.4, -0.3)",
           "(0.2, 0.3)"
          ],
          [
           "(-0.4, -0.3)",
           "(0.2, 0.3)"
          ],
          [
           "(-0.4, -0.3)",
           "(0.2, 0.3)"
          ],
          [
           "(-0.4, -0.3)",
           "(0.2, 0.3)"
          ],
          [
           "(-0.4, -0.3)",
           "(0.2, 0.3)"
          ],
          [
           "(-0.4, -0.3)",
           "(0.2, 0.3)"
          ],
          [
           "(-0.4, -0.3)",
           "(0.2, 0.3)"
          ],
          [
           "(-0.4, -0.3)",
           "(0.2, 0.3)"
          ],
          [
           "(-0.4, -0.3)",
           "(0.2, 0.3)"
          ],
          [
           "(-0.4, -0.3)",
           "(0.2, 0.3)"
          ],
          [
           "(-0.4, -0.3)",
           "(0.2, 0.3)"
          ],
          [
           "(-0.4, -0.3)",
           "(0.2, 0.3)"
          ],
          [
           "(-0.4, -0.3)",
           "(0.2, 0.3)"
          ],
          [
           "(-0.4, -0.3)",
           "(0.2, 0.3)"
          ],
          [
           "(-0.4, -0.3)",
           "(0.2, 0.3)"
          ],
          [
           "(-0.4, -0.3)",
           "(0.2, 0.3)"
          ],
          [
           "(-0.4, -0.3)",
           "(0.2, 0.3)"
          ],
          [
           "(-0.4, -0.3)",
           "(0.2, 0.3)"
          ],
          [
           "(-0.4, -0.3)",
           "(0.2, 0.3)"
          ],
          [
           "(-0.4, -0.3)",
           "(0.2, 0.3)"
          ],
          [
           "(-0.4, -0.3)",
           "(0.2, 0.3)"
          ],
          [
           "(-0.4, -0.3)",
           "(0.2, 0.3)"
          ],
          [
           "(-0.4, -0.3)",
           "(0.2, 0.3)"
          ],
          [
           "(-0.4, -0.3)",
           "(0.2, 0.3)"
          ],
          [
           "(-0.4, -0.3)",
           "(0.2, 0.3)"
          ],
          [
           "(-0.4, -0.3)",
           "(0.2, 0.3)"
          ],
          [
           "(-0.4, -0.3)",
           "(0.2, 0.3)"
          ],
          [
           "(-0.4, -0.3)",
           "(0.2, 0.3)"
          ],
          [
           "(-0.4, -0.3)",
           "(0.2, 0.3)"
          ],
          [
           "(-0.4, -0.3)",
           "(0.2, 0.3)"
          ],
          [
           "(-0.4, -0.3)",
           "(0.2, 0.3)"
          ],
          [
           "(-0.4, -0.3)",
           "(0.2, 0.3)"
          ],
          [
           "(-0.4, -0.3)",
           "(0.2, 0.3)"
          ],
          [
           "(-0.4, -0.3)",
           "(0.2, 0.3)"
          ],
          [
           "(-0.4, -0.3)",
           "(0.2, 0.3)"
          ],
          [
           "(-0.4, -0.3)",
           "(0.2, 0.3)"
          ],
          [
           "(-0.4, -0.3)",
           "(0.2, 0.3)"
          ],
          [
           "(-0.4, -0.3)",
           "(0.2, 0.3)"
          ],
          [
           "(-0.4, -0.3)",
           "(0.2, 0.3)"
          ],
          [
           "(-0.4, -0.3)",
           "(0.2, 0.3)"
          ],
          [
           "(-0.4, -0.3)",
           "(0.2, 0.3)"
          ],
          [
           "(-0.4, -0.3)",
           "(0.2, 0.3)"
          ],
          [
           "(-0.4, -0.3)",
           "(0.2, 0.3)"
          ],
          [
           "(-0.4, -0.3)",
           "(0.2, 0.3)"
          ],
          [
           "(-0.4, -0.3)",
           "(0.2, 0.3)"
          ],
          [
           "(-0.4, -0.3)",
           "(0.2, 0.3)"
          ],
          [
           "(-0.4, -0.3)",
           "(0.2, 0.3)"
          ],
          [
           "(-0.4, -0.3)",
           "(0.2, 0.3)"
          ],
          [
           "(-0.4, -0.3)",
           "(0.2, 0.3)"
          ],
          [
           "(-0.4, -0.3)",
           "(0.2, 0.3)"
          ],
          [
           "(-0.4, -0.3)",
           "(0.2, 0.3)"
          ],
          [
           "(-0.4, -0.3)",
           "(0.2, 0.3)"
          ],
          [
           "(-0.4, -0.3)",
           "(0.2, 0.3)"
          ],
          [
           "(-0.4, -0.3)",
           "(0.2, 0.3)"
          ],
          [
           "(-0.4, -0.3)",
           "(0.2, 0.3)"
          ],
          [
           "(-0.4, -0.3)",
           "(0.2, 0.3)"
          ],
          [
           "(-0.4, -0.3)",
           "(0.2, 0.3)"
          ],
          [
           "(-0.4, -0.3)",
           "(0.2, 0.3)"
          ],
          [
           "(-0.4, -0.3)",
           "(0.2, 0.3)"
          ],
          [
           "(-0.4, -0.3)",
           "(0.2, 0.3)"
          ],
          [
           "(-0.4, -0.3)",
           "(0.2, 0.3)"
          ],
          [
           "(-0.4, -0.3)",
           "(0.2, 0.3)"
          ],
          [
           "(-0.4, -0.3)",
           "(0.2, 0.3)"
          ],
          [
           "(-0.4, -0.3)",
           "(0.2, 0.3)"
          ],
          [
           "(-0.4, -0.3)",
           "(0.2, 0.3)"
          ],
          [
           "(-0.4, -0.3)",
           "(0.2, 0.3)"
          ],
          [
           "(-0.4, -0.3)",
           "(0.2, 0.3)"
          ],
          [
           "(-0.4, -0.3)",
           "(0.2, 0.3)"
          ],
          [
           "(-0.4, -0.3)",
           "(0.2, 0.3)"
          ],
          [
           "(-0.4, -0.3)",
           "(0.2, 0.3)"
          ],
          [
           "(-0.4, -0.3)",
           "(0.2, 0.3)"
          ],
          [
           "(-0.4, -0.3)",
           "(0.2, 0.3)"
          ],
          [
           "(-0.4, -0.3)",
           "(0.2, 0.3)"
          ],
          [
           "(-0.4, -0.3)",
           "(0.2, 0.3)"
          ],
          [
           "(-0.4, -0.3)",
           "(0.2, 0.3)"
          ],
          [
           "(-0.4, -0.3)",
           "(0.2, 0.3)"
          ],
          [
           "(-0.4, -0.3)",
           "(0.2, 0.3)"
          ],
          [
           "(-0.4, -0.3)",
           "(0.2, 0.3)"
          ],
          [
           "(-0.4, -0.3)",
           "(0.2, 0.3)"
          ],
          [
           "(-0.4, -0.3)",
           "(0.2, 0.3)"
          ],
          [
           "(-0.4, -0.3)",
           "(0.2, 0.3)"
          ],
          [
           "(-0.4, -0.3)",
           "(0.2, 0.3)"
          ],
          [
           "(-0.4, -0.3)",
           "(0.2, 0.3)"
          ],
          [
           "(-0.4, -0.3)",
           "(0.2, 0.3)"
          ],
          [
           "(-0.4, -0.3)",
           "(0.2, 0.3)"
          ],
          [
           "(-0.4, -0.3)",
           "(0.2, 0.3)"
          ],
          [
           "(-0.4, -0.3)",
           "(0.2, 0.3)"
          ],
          [
           "(-0.4, -0.3)",
           "(0.2, 0.3)"
          ]
         ],
         "hovertemplate": "<b>Date:</b> %{x}<br><b>Portfolio Value:</b> %{y}<br><b>Put Delta Range:</b> %{customdata[0]}<br><b>Call Delta Range:</b> %{customdata[1]}",
         "legendgroup": "Put: (-0.4, -0.3), Call: (0.2, 0.3)",
         "line": {
          "color": "#19d3f3",
          "dash": "solid"
         },
         "marker": {
          "symbol": "circle"
         },
         "mode": "lines",
         "name": "Put: (-0.4, -0.3), Call: (0.2, 0.3)",
         "showlegend": true,
         "type": "scattergl",
         "x": [
          "2024-01-03",
          "2024-01-05",
          "2024-01-08",
          "2024-01-10",
          "2024-01-12",
          "2024-01-17",
          "2024-01-19",
          "2024-01-22",
          "2024-01-24",
          "2024-01-26",
          "2024-01-29",
          "2024-01-31",
          "2024-02-02",
          "2024-02-05",
          "2024-02-07",
          "2024-02-09",
          "2024-02-12",
          "2024-02-14",
          "2024-02-16",
          "2024-02-21",
          "2024-02-23",
          "2024-02-26",
          "2024-02-28",
          "2024-03-01",
          "2024-03-04",
          "2024-03-06",
          "2024-03-08",
          "2024-03-11",
          "2024-03-13",
          "2024-03-15",
          "2024-03-18",
          "2024-03-20",
          "2024-03-22",
          "2024-03-25",
          "2024-03-27",
          "2024-04-01",
          "2024-04-03",
          "2024-04-05",
          "2024-04-08",
          "2024-04-10",
          "2024-04-12",
          "2024-04-15",
          "2024-04-17",
          "2024-04-19",
          "2024-04-22",
          "2024-04-24",
          "2024-04-26",
          "2024-04-29",
          "2024-05-01",
          "2024-05-03",
          "2024-05-06",
          "2024-05-08",
          "2024-05-10",
          "2024-05-13",
          "2024-05-15",
          "2024-05-17",
          "2024-05-20",
          "2024-05-22",
          "2024-05-24",
          "2024-05-29",
          "2024-05-31",
          "2024-06-03",
          "2024-06-05",
          "2024-06-07",
          "2024-06-10",
          "2024-06-12",
          "2024-06-14",
          "2024-06-17",
          "2024-06-21",
          "2024-06-24",
          "2024-06-26",
          "2024-06-28",
          "2024-07-01",
          "2024-07-03",
          "2024-07-05",
          "2024-07-08",
          "2024-07-10",
          "2024-07-12",
          "2024-07-15",
          "2024-07-17",
          "2024-07-19",
          "2024-07-22",
          "2024-07-24",
          "2024-07-26",
          "2024-07-29",
          "2024-08-12",
          "2024-08-14",
          "2024-08-16",
          "2024-08-19",
          "2024-08-21",
          "2024-08-23",
          "2024-08-26",
          "2024-08-28",
          "2024-08-30",
          "2024-09-04",
          "2024-09-06",
          "2024-09-09",
          "2024-09-11",
          "2024-09-12",
          "2024-09-13",
          "2024-09-16",
          "2024-09-17",
          "2024-09-18",
          "2024-09-19",
          "2024-09-20",
          "2024-09-23",
          "2024-09-24",
          "2024-09-25",
          "2024-09-26",
          "2024-09-27",
          "2024-09-30",
          "2024-10-01",
          "2024-10-02",
          "2024-10-03",
          "2024-10-04",
          "2024-10-07",
          "2024-10-08",
          "2024-10-09",
          "2024-10-10",
          "2024-10-11",
          "2024-10-14",
          "2024-10-15",
          "2024-10-16",
          "2024-10-17",
          "2024-10-18",
          "2024-10-21",
          "2024-10-22",
          "2024-10-23",
          "2024-10-24",
          "2024-10-25",
          "2024-10-28",
          "2024-10-29",
          "2024-10-30",
          "2024-10-31",
          "2024-11-01",
          "2024-11-04",
          "2024-11-05",
          "2024-11-06",
          "2024-11-07",
          "2024-11-08",
          "2024-11-11",
          "2024-11-13",
          "2024-11-14",
          "2024-11-15",
          "2024-11-18",
          "2024-11-19",
          "2024-11-20",
          "2024-11-21",
          "2024-11-22",
          "2024-11-25",
          "2024-11-26",
          "2024-11-27",
          "2024-11-29",
          "2024-12-02",
          "2024-12-03",
          "2024-12-04",
          "2024-12-05",
          "2024-12-06",
          "2024-12-09",
          "2024-12-10",
          "2024-12-11",
          "2024-12-12",
          "2024-12-13",
          "2024-12-16",
          "2024-12-17",
          "2024-12-18",
          "2024-12-19",
          "2024-12-20",
          "2024-12-23",
          "2024-12-24",
          "2024-12-27",
          "2024-12-30"
         ],
         "xaxis": "x",
         "y": {
          "bdata": "AAAAAADP00AAAAAAAM/TQAAAAAAAz9NAAAAAAADP00AAAAAAAM/TQAAAAAAAz9NAAAAAAADP00AAAAAAAM/TQAAAAAAAz9NAAAAAAADP00AAAAAAAM/TQAAAAAAAz9NAAAAAAADP00AAAAAAgA3UQAAAAACADdRAAAAAAIAN1EAAAAAAgA3UQAAAAACADdRAAAAAAIAN1EAAAAAAgA3UQAAAAACADdRAAAAAAIAN1EAAAAAAgA3UQAAAAACADdRAAAAAcG0B00AAAABAIY7SQAAAANEwttJAAAAAAXTo0kAAAADdJMDSQAAAAPo35dJAAAAA6ZYA00AAAAD3wXvTQAAAAPfBe9NAAAAAXm3d0kAAAAAxoxrTQAAAANUFydJAAAAAU5G/0kAAAABt073SQAAAAHq1odJAAAAAggmR0kAAAADEQWvTQAAAAOA1C9NAAAAA+YKW0kAAAAD5gpbSQAAAAMuDidJAAAAAPaTY0kAAAADum9/SQAAAAHIdSNNAAAAA7pvf0kAAAABo9D3UQAEAALZmFNRAAAAAvwcu1EAAAAC06zvUQAEAAIlmjNRA/v//0Rzi1ED+///RHOLUQAAAAAAAgtNAAAAAAIC400AAAAAAgLjTQAAAAACAuNNAAAAAAIC400AAAAAAgLjTQAAAAACAuNNAAAAAAIC400AAAAAAgLjTQAAAAACAuNNAAAAAAIC400AAAAAAgLjTQAAAAACAuNNAAAAAAAD700AAAAAAAPvTQAAAAAAA+9NAAAAAAAD700AAAAAAAPvTQAAAAAAA+9NAAAAAAAD700AAAAAAAPvTQAAAAAAA+9NAAAAAAAD700AAAAAAAPvTQAAAAAAA+9NAAAAAAABp1EAAAAAAAGnUQAAAAAAAadRAAAAAAABp1EAAAAAAAGnUQAAAAAAAadRAAAAAAABp1EAAAAAAAGnUQAAAAADAwdRAAAAAAMDB1EAAAAAAwMHUQAAAAADAwdRAAAAAAMDB1EAAAAAAwMHUQAAAAADAwdRAAAAAAMDB1EAAAAAAwMHUQAAAAADAwdRAAAAAAMDB1EAAAAAAwMHUQAAAAADAwdRAAAAAAMDB1EAAAAAAwMHUQAAAAADAwdRAAAAAAEAL1UAAAAAAQAvVQAAAAABAC9VAAAAAAEAL1UAAAAAAQAvVQAAAAABAC9VAAAAAAEAL1UAAAAAAQAvVQAAAAABAC9VAAAAAAEAL1UAAAAAAQAvVQAAAAABAC9VAAAAAAEAL1UAAAAAAQAvVQAAAAABAC9VAAAAAAEAL1UAAAAAAQAvVQAAAAABAC9VAAAAAAEAL1UAAAAAAQAvVQAAAAACAddVAAAAAAIB11UAAAAAAgHXVQAAAAACAddVAAAAAAIB11UAAAAAAgHXVQAAAAACAddVAAAAAAIB11UAAAAAAgHXVQAAAAACAddVAAAAAAIB11UAAAAAAgHXVQAAAAACAddVAAAAAAIB11UAAAAAAgHXVQAAAAACAddVAAAAAAIB11UAAAAAAgHXVQAAAAACAddVAAAAAS/0q1UD///9mezHVQAAAAFV2Q9VA////xnk31UAAAAA/MFnVQP///yYbpNVAAAAAvcva1UAAAACvjNfVQP///9h7E9ZAAAAA5etL1kAAAABlVpjWQP///9tTodZAAAAAqBOi1kAAAAALFZ3WQAAAAKC5/tZAAAAAbTIY10AAAABrO/jWQAAAACzxHNdAAAAALPEc10AAAAAAwN/VQAAAAABAEdZAAAAAAEAR1kAAAAAAQBHWQAAAAABAEdZAAAAAAEAR1kAAAAAAQBHWQAAAAABAEdZAAAAAAEAR1kA=",
          "dtype": "f8"
         },
         "yaxis": "y"
        },
        {
         "customdata": [
          [
           "(-0.4, -0.3)",
           "(0.3, 0.4)"
          ],
          [
           "(-0.4, -0.3)",
           "(0.3, 0.4)"
          ],
          [
           "(-0.4, -0.3)",
           "(0.3, 0.4)"
          ],
          [
           "(-0.4, -0.3)",
           "(0.3, 0.4)"
          ],
          [
           "(-0.4, -0.3)",
           "(0.3, 0.4)"
          ],
          [
           "(-0.4, -0.3)",
           "(0.3, 0.4)"
          ],
          [
           "(-0.4, -0.3)",
           "(0.3, 0.4)"
          ],
          [
           "(-0.4, -0.3)",
           "(0.3, 0.4)"
          ],
          [
           "(-0.4, -0.3)",
           "(0.3, 0.4)"
          ],
          [
           "(-0.4, -0.3)",
           "(0.3, 0.4)"
          ],
          [
           "(-0.4, -0.3)",
           "(0.3, 0.4)"
          ],
          [
           "(-0.4, -0.3)",
           "(0.3, 0.4)"
          ],
          [
           "(-0.4, -0.3)",
           "(0.3, 0.4)"
          ],
          [
           "(-0.4, -0.3)",
           "(0.3, 0.4)"
          ],
          [
           "(-0.4, -0.3)",
           "(0.3, 0.4)"
          ],
          [
           "(-0.4, -0.3)",
           "(0.3, 0.4)"
          ],
          [
           "(-0.4, -0.3)",
           "(0.3, 0.4)"
          ],
          [
           "(-0.4, -0.3)",
           "(0.3, 0.4)"
          ],
          [
           "(-0.4, -0.3)",
           "(0.3, 0.4)"
          ],
          [
           "(-0.4, -0.3)",
           "(0.3, 0.4)"
          ],
          [
           "(-0.4, -0.3)",
           "(0.3, 0.4)"
          ],
          [
           "(-0.4, -0.3)",
           "(0.3, 0.4)"
          ],
          [
           "(-0.4, -0.3)",
           "(0.3, 0.4)"
          ],
          [
           "(-0.4, -0.3)",
           "(0.3, 0.4)"
          ],
          [
           "(-0.4, -0.3)",
           "(0.3, 0.4)"
          ],
          [
           "(-0.4, -0.3)",
           "(0.3, 0.4)"
          ],
          [
           "(-0.4, -0.3)",
           "(0.3, 0.4)"
          ],
          [
           "(-0.4, -0.3)",
           "(0.3, 0.4)"
          ],
          [
           "(-0.4, -0.3)",
           "(0.3, 0.4)"
          ],
          [
           "(-0.4, -0.3)",
           "(0.3, 0.4)"
          ],
          [
           "(-0.4, -0.3)",
           "(0.3, 0.4)"
          ],
          [
           "(-0.4, -0.3)",
           "(0.3, 0.4)"
          ],
          [
           "(-0.4, -0.3)",
           "(0.3, 0.4)"
          ],
          [
           "(-0.4, -0.3)",
           "(0.3, 0.4)"
          ],
          [
           "(-0.4, -0.3)",
           "(0.3, 0.4)"
          ],
          [
           "(-0.4, -0.3)",
           "(0.3, 0.4)"
          ],
          [
           "(-0.4, -0.3)",
           "(0.3, 0.4)"
          ],
          [
           "(-0.4, -0.3)",
           "(0.3, 0.4)"
          ],
          [
           "(-0.4, -0.3)",
           "(0.3, 0.4)"
          ],
          [
           "(-0.4, -0.3)",
           "(0.3, 0.4)"
          ],
          [
           "(-0.4, -0.3)",
           "(0.3, 0.4)"
          ],
          [
           "(-0.4, -0.3)",
           "(0.3, 0.4)"
          ],
          [
           "(-0.4, -0.3)",
           "(0.3, 0.4)"
          ],
          [
           "(-0.4, -0.3)",
           "(0.3, 0.4)"
          ],
          [
           "(-0.4, -0.3)",
           "(0.3, 0.4)"
          ],
          [
           "(-0.4, -0.3)",
           "(0.3, 0.4)"
          ],
          [
           "(-0.4, -0.3)",
           "(0.3, 0.4)"
          ],
          [
           "(-0.4, -0.3)",
           "(0.3, 0.4)"
          ],
          [
           "(-0.4, -0.3)",
           "(0.3, 0.4)"
          ],
          [
           "(-0.4, -0.3)",
           "(0.3, 0.4)"
          ],
          [
           "(-0.4, -0.3)",
           "(0.3, 0.4)"
          ],
          [
           "(-0.4, -0.3)",
           "(0.3, 0.4)"
          ],
          [
           "(-0.4, -0.3)",
           "(0.3, 0.4)"
          ],
          [
           "(-0.4, -0.3)",
           "(0.3, 0.4)"
          ],
          [
           "(-0.4, -0.3)",
           "(0.3, 0.4)"
          ],
          [
           "(-0.4, -0.3)",
           "(0.3, 0.4)"
          ],
          [
           "(-0.4, -0.3)",
           "(0.3, 0.4)"
          ],
          [
           "(-0.4, -0.3)",
           "(0.3, 0.4)"
          ],
          [
           "(-0.4, -0.3)",
           "(0.3, 0.4)"
          ],
          [
           "(-0.4, -0.3)",
           "(0.3, 0.4)"
          ],
          [
           "(-0.4, -0.3)",
           "(0.3, 0.4)"
          ],
          [
           "(-0.4, -0.3)",
           "(0.3, 0.4)"
          ],
          [
           "(-0.4, -0.3)",
           "(0.3, 0.4)"
          ],
          [
           "(-0.4, -0.3)",
           "(0.3, 0.4)"
          ],
          [
           "(-0.4, -0.3)",
           "(0.3, 0.4)"
          ],
          [
           "(-0.4, -0.3)",
           "(0.3, 0.4)"
          ],
          [
           "(-0.4, -0.3)",
           "(0.3, 0.4)"
          ],
          [
           "(-0.4, -0.3)",
           "(0.3, 0.4)"
          ],
          [
           "(-0.4, -0.3)",
           "(0.3, 0.4)"
          ],
          [
           "(-0.4, -0.3)",
           "(0.3, 0.4)"
          ],
          [
           "(-0.4, -0.3)",
           "(0.3, 0.4)"
          ],
          [
           "(-0.4, -0.3)",
           "(0.3, 0.4)"
          ],
          [
           "(-0.4, -0.3)",
           "(0.3, 0.4)"
          ],
          [
           "(-0.4, -0.3)",
           "(0.3, 0.4)"
          ],
          [
           "(-0.4, -0.3)",
           "(0.3, 0.4)"
          ],
          [
           "(-0.4, -0.3)",
           "(0.3, 0.4)"
          ],
          [
           "(-0.4, -0.3)",
           "(0.3, 0.4)"
          ],
          [
           "(-0.4, -0.3)",
           "(0.3, 0.4)"
          ],
          [
           "(-0.4, -0.3)",
           "(0.3, 0.4)"
          ],
          [
           "(-0.4, -0.3)",
           "(0.3, 0.4)"
          ],
          [
           "(-0.4, -0.3)",
           "(0.3, 0.4)"
          ],
          [
           "(-0.4, -0.3)",
           "(0.3, 0.4)"
          ],
          [
           "(-0.4, -0.3)",
           "(0.3, 0.4)"
          ],
          [
           "(-0.4, -0.3)",
           "(0.3, 0.4)"
          ],
          [
           "(-0.4, -0.3)",
           "(0.3, 0.4)"
          ],
          [
           "(-0.4, -0.3)",
           "(0.3, 0.4)"
          ],
          [
           "(-0.4, -0.3)",
           "(0.3, 0.4)"
          ],
          [
           "(-0.4, -0.3)",
           "(0.3, 0.4)"
          ],
          [
           "(-0.4, -0.3)",
           "(0.3, 0.4)"
          ],
          [
           "(-0.4, -0.3)",
           "(0.3, 0.4)"
          ],
          [
           "(-0.4, -0.3)",
           "(0.3, 0.4)"
          ],
          [
           "(-0.4, -0.3)",
           "(0.3, 0.4)"
          ],
          [
           "(-0.4, -0.3)",
           "(0.3, 0.4)"
          ],
          [
           "(-0.4, -0.3)",
           "(0.3, 0.4)"
          ],
          [
           "(-0.4, -0.3)",
           "(0.3, 0.4)"
          ],
          [
           "(-0.4, -0.3)",
           "(0.3, 0.4)"
          ],
          [
           "(-0.4, -0.3)",
           "(0.3, 0.4)"
          ],
          [
           "(-0.4, -0.3)",
           "(0.3, 0.4)"
          ],
          [
           "(-0.4, -0.3)",
           "(0.3, 0.4)"
          ],
          [
           "(-0.4, -0.3)",
           "(0.3, 0.4)"
          ],
          [
           "(-0.4, -0.3)",
           "(0.3, 0.4)"
          ],
          [
           "(-0.4, -0.3)",
           "(0.3, 0.4)"
          ],
          [
           "(-0.4, -0.3)",
           "(0.3, 0.4)"
          ],
          [
           "(-0.4, -0.3)",
           "(0.3, 0.4)"
          ],
          [
           "(-0.4, -0.3)",
           "(0.3, 0.4)"
          ],
          [
           "(-0.4, -0.3)",
           "(0.3, 0.4)"
          ],
          [
           "(-0.4, -0.3)",
           "(0.3, 0.4)"
          ],
          [
           "(-0.4, -0.3)",
           "(0.3, 0.4)"
          ],
          [
           "(-0.4, -0.3)",
           "(0.3, 0.4)"
          ],
          [
           "(-0.4, -0.3)",
           "(0.3, 0.4)"
          ],
          [
           "(-0.4, -0.3)",
           "(0.3, 0.4)"
          ],
          [
           "(-0.4, -0.3)",
           "(0.3, 0.4)"
          ],
          [
           "(-0.4, -0.3)",
           "(0.3, 0.4)"
          ],
          [
           "(-0.4, -0.3)",
           "(0.3, 0.4)"
          ],
          [
           "(-0.4, -0.3)",
           "(0.3, 0.4)"
          ],
          [
           "(-0.4, -0.3)",
           "(0.3, 0.4)"
          ],
          [
           "(-0.4, -0.3)",
           "(0.3, 0.4)"
          ],
          [
           "(-0.4, -0.3)",
           "(0.3, 0.4)"
          ],
          [
           "(-0.4, -0.3)",
           "(0.3, 0.4)"
          ],
          [
           "(-0.4, -0.3)",
           "(0.3, 0.4)"
          ],
          [
           "(-0.4, -0.3)",
           "(0.3, 0.4)"
          ],
          [
           "(-0.4, -0.3)",
           "(0.3, 0.4)"
          ],
          [
           "(-0.4, -0.3)",
           "(0.3, 0.4)"
          ],
          [
           "(-0.4, -0.3)",
           "(0.3, 0.4)"
          ],
          [
           "(-0.4, -0.3)",
           "(0.3, 0.4)"
          ],
          [
           "(-0.4, -0.3)",
           "(0.3, 0.4)"
          ],
          [
           "(-0.4, -0.3)",
           "(0.3, 0.4)"
          ],
          [
           "(-0.4, -0.3)",
           "(0.3, 0.4)"
          ],
          [
           "(-0.4, -0.3)",
           "(0.3, 0.4)"
          ],
          [
           "(-0.4, -0.3)",
           "(0.3, 0.4)"
          ],
          [
           "(-0.4, -0.3)",
           "(0.3, 0.4)"
          ],
          [
           "(-0.4, -0.3)",
           "(0.3, 0.4)"
          ],
          [
           "(-0.4, -0.3)",
           "(0.3, 0.4)"
          ],
          [
           "(-0.4, -0.3)",
           "(0.3, 0.4)"
          ],
          [
           "(-0.4, -0.3)",
           "(0.3, 0.4)"
          ],
          [
           "(-0.4, -0.3)",
           "(0.3, 0.4)"
          ],
          [
           "(-0.4, -0.3)",
           "(0.3, 0.4)"
          ],
          [
           "(-0.4, -0.3)",
           "(0.3, 0.4)"
          ],
          [
           "(-0.4, -0.3)",
           "(0.3, 0.4)"
          ],
          [
           "(-0.4, -0.3)",
           "(0.3, 0.4)"
          ],
          [
           "(-0.4, -0.3)",
           "(0.3, 0.4)"
          ],
          [
           "(-0.4, -0.3)",
           "(0.3, 0.4)"
          ],
          [
           "(-0.4, -0.3)",
           "(0.3, 0.4)"
          ],
          [
           "(-0.4, -0.3)",
           "(0.3, 0.4)"
          ],
          [
           "(-0.4, -0.3)",
           "(0.3, 0.4)"
          ],
          [
           "(-0.4, -0.3)",
           "(0.3, 0.4)"
          ],
          [
           "(-0.4, -0.3)",
           "(0.3, 0.4)"
          ],
          [
           "(-0.4, -0.3)",
           "(0.3, 0.4)"
          ],
          [
           "(-0.4, -0.3)",
           "(0.3, 0.4)"
          ],
          [
           "(-0.4, -0.3)",
           "(0.3, 0.4)"
          ],
          [
           "(-0.4, -0.3)",
           "(0.3, 0.4)"
          ],
          [
           "(-0.4, -0.3)",
           "(0.3, 0.4)"
          ],
          [
           "(-0.4, -0.3)",
           "(0.3, 0.4)"
          ],
          [
           "(-0.4, -0.3)",
           "(0.3, 0.4)"
          ],
          [
           "(-0.4, -0.3)",
           "(0.3, 0.4)"
          ],
          [
           "(-0.4, -0.3)",
           "(0.3, 0.4)"
          ],
          [
           "(-0.4, -0.3)",
           "(0.3, 0.4)"
          ],
          [
           "(-0.4, -0.3)",
           "(0.3, 0.4)"
          ],
          [
           "(-0.4, -0.3)",
           "(0.3, 0.4)"
          ],
          [
           "(-0.4, -0.3)",
           "(0.3, 0.4)"
          ],
          [
           "(-0.4, -0.3)",
           "(0.3, 0.4)"
          ],
          [
           "(-0.4, -0.3)",
           "(0.3, 0.4)"
          ],
          [
           "(-0.4, -0.3)",
           "(0.3, 0.4)"
          ],
          [
           "(-0.4, -0.3)",
           "(0.3, 0.4)"
          ],
          [
           "(-0.4, -0.3)",
           "(0.3, 0.4)"
          ],
          [
           "(-0.4, -0.3)",
           "(0.3, 0.4)"
          ],
          [
           "(-0.4, -0.3)",
           "(0.3, 0.4)"
          ],
          [
           "(-0.4, -0.3)",
           "(0.3, 0.4)"
          ],
          [
           "(-0.4, -0.3)",
           "(0.3, 0.4)"
          ],
          [
           "(-0.4, -0.3)",
           "(0.3, 0.4)"
          ],
          [
           "(-0.4, -0.3)",
           "(0.3, 0.4)"
          ],
          [
           "(-0.4, -0.3)",
           "(0.3, 0.4)"
          ]
         ],
         "hovertemplate": "<b>Date:</b> %{x}<br><b>Portfolio Value:</b> %{y}<br><b>Put Delta Range:</b> %{customdata[0]}<br><b>Call Delta Range:</b> %{customdata[1]}",
         "legendgroup": "Put: (-0.4, -0.3), Call: (0.3, 0.4)",
         "line": {
          "color": "#FF6692",
          "dash": "solid"
         },
         "marker": {
          "symbol": "circle"
         },
         "mode": "lines",
         "name": "Put: (-0.4, -0.3), Call: (0.3, 0.4)",
         "showlegend": true,
         "type": "scattergl",
         "x": [
          "2024-01-03",
          "2024-01-05",
          "2024-01-08",
          "2024-01-10",
          "2024-01-12",
          "2024-01-17",
          "2024-01-19",
          "2024-01-22",
          "2024-01-24",
          "2024-01-26",
          "2024-01-29",
          "2024-01-31",
          "2024-02-02",
          "2024-02-05",
          "2024-02-07",
          "2024-02-09",
          "2024-02-12",
          "2024-02-14",
          "2024-02-16",
          "2024-02-21",
          "2024-02-23",
          "2024-02-26",
          "2024-02-28",
          "2024-03-01",
          "2024-03-04",
          "2024-03-06",
          "2024-03-08",
          "2024-03-11",
          "2024-03-13",
          "2024-03-15",
          "2024-03-18",
          "2024-03-20",
          "2024-03-22",
          "2024-03-25",
          "2024-03-27",
          "2024-04-01",
          "2024-04-03",
          "2024-04-05",
          "2024-04-08",
          "2024-04-10",
          "2024-04-12",
          "2024-04-15",
          "2024-04-17",
          "2024-04-19",
          "2024-04-22",
          "2024-04-24",
          "2024-04-26",
          "2024-04-29",
          "2024-05-01",
          "2024-05-03",
          "2024-05-06",
          "2024-05-08",
          "2024-05-10",
          "2024-05-13",
          "2024-05-15",
          "2024-05-17",
          "2024-05-20",
          "2024-05-22",
          "2024-05-24",
          "2024-05-29",
          "2024-05-31",
          "2024-06-03",
          "2024-06-05",
          "2024-06-07",
          "2024-06-10",
          "2024-06-12",
          "2024-06-14",
          "2024-06-17",
          "2024-06-21",
          "2024-06-24",
          "2024-06-26",
          "2024-06-28",
          "2024-07-01",
          "2024-07-03",
          "2024-07-05",
          "2024-07-08",
          "2024-07-10",
          "2024-07-12",
          "2024-07-15",
          "2024-07-17",
          "2024-07-19",
          "2024-07-22",
          "2024-07-24",
          "2024-07-26",
          "2024-07-29",
          "2024-08-12",
          "2024-08-14",
          "2024-08-16",
          "2024-08-19",
          "2024-08-21",
          "2024-08-23",
          "2024-08-26",
          "2024-08-28",
          "2024-08-30",
          "2024-09-04",
          "2024-09-06",
          "2024-09-09",
          "2024-09-11",
          "2024-09-12",
          "2024-09-13",
          "2024-09-16",
          "2024-09-17",
          "2024-09-18",
          "2024-09-19",
          "2024-09-20",
          "2024-09-23",
          "2024-09-24",
          "2024-09-25",
          "2024-09-26",
          "2024-09-27",
          "2024-09-30",
          "2024-10-01",
          "2024-10-02",
          "2024-10-03",
          "2024-10-04",
          "2024-10-07",
          "2024-10-08",
          "2024-10-09",
          "2024-10-10",
          "2024-10-11",
          "2024-10-14",
          "2024-10-15",
          "2024-10-16",
          "2024-10-17",
          "2024-10-18",
          "2024-10-21",
          "2024-10-22",
          "2024-10-23",
          "2024-10-24",
          "2024-10-25",
          "2024-10-28",
          "2024-10-29",
          "2024-10-30",
          "2024-10-31",
          "2024-11-01",
          "2024-11-04",
          "2024-11-05",
          "2024-11-06",
          "2024-11-07",
          "2024-11-08",
          "2024-11-11",
          "2024-11-13",
          "2024-11-14",
          "2024-11-15",
          "2024-11-18",
          "2024-11-19",
          "2024-11-20",
          "2024-11-21",
          "2024-11-22",
          "2024-11-25",
          "2024-11-26",
          "2024-11-27",
          "2024-11-29",
          "2024-12-02",
          "2024-12-03",
          "2024-12-04",
          "2024-12-05",
          "2024-12-06",
          "2024-12-09",
          "2024-12-10",
          "2024-12-11",
          "2024-12-12",
          "2024-12-13",
          "2024-12-16",
          "2024-12-17",
          "2024-12-18",
          "2024-12-19",
          "2024-12-20",
          "2024-12-23",
          "2024-12-24",
          "2024-12-27",
          "2024-12-30"
         ],
         "xaxis": "x",
         "y": {
          "bdata": "AAAAAADP00AAAAAAAM/TQAAAAAAAz9NAAAAAAADP00AAAAAAAM/TQAAAAAAAz9NAAAAAAADP00AAAAAAAM/TQAAAAAAAz9NAAAAAAADP00AAAAAAAM/TQAAAAAAAz9NAAAAAAADP00AAAAAAgA3UQAAAAACADdRAAAAAAIAN1EAAAAAAgA3UQAAAAACADdRAAAAAAIAN1EAAAAAAgA3UQAAAAACADdRAAAAAAIAN1EAAAAAAgA3UQAAAAACADdRAAAAAcG0B00AAAABAIaTSQAAAANEwzNJAAAAAAXT+0kAAAADdJNbSQAAAAPo3+9JAAAAA6ZYW00AAAAD3wZHTQAAAACjC8tJAAAAAXi3P0kAAAAAxYwzTQAAAANXFutJAAAAAU1Gx0kAAAABTUbHSQAAAAHo1y9JAAAAAgom60kAAAADEwZTTQAAAAOC1NNNAAAAA+QLA0kAAAAA1XXXSQAAAAMtDitJAAAAAPWTZ0kAAAADuW+DSQAAAAHLdSNNAAAAA7lvg0kAAAADuW+DSQAAAAACAwdNAAAAAAIDB00AAAAAAgMHTQAAAAACAwdNAAAAAAIDB00AAAAAAgMHTQAAAAACAwdNAAAAAAIDB00AAAAAAgMHTQAAAAACAwdNAAAAAAIDB00AAAAAAQP7TQAAAAABA/tNAAAAAAED+00AAAAAAQP7TQAAAAABA/tNAAAAAAED+00AAAAAAQP7TQAAAAABA/tNAAAAAAED+00AAAAAAQP7TQAAAAABA/tNAAAAAAED+00AAAAAAAE3UQAAAAAAATdRAAAAAAABN1EAAAAAAAE3UQAAAAAAATdRAAAAAAABN1EAAAAAAAE3UQAAAAAAATdRAAAAAAABN1EAAAAAAAE3UQAAAAAAATdRAAAAAAABN1EAAAAAAAE3UQAAAAAAAh9RAAAAAAACH1EAAAAAAAIfUQAAAAAAAh9RAAAAAAACH1EAAAAAAAIfUQAAAAAAAh9RAAAAAAACH1EAAAAAAwOnUQAAAAADA6dRAAAAAAMDp1EAAAAAAwOnUQAAAAADA6dRAAAAAAMDp1EAAAAAAwOnUQAAAAADA6dRAAAAAAMDp1EAAAAAAwOnUQAAAAADA6dRAAAAAAMDp1EAAAAAAwOnUQAAAAADA6dRAAAAAAMDp1EAAAAAAwOnUQAAAAADA6dRAAAAAAMDp1EAAAAAAwOnUQAAAAADA6dRAAAAAAMDp1EAAAAAAgEfVQAAAAACAR9VAAAAAAIBH1UAAAAAAgEfVQAAAAACAR9VAAAAAAIBH1UAAAAAAgEfVQAAAAACAR9VAAAAAAIBH1UAAAAAAgEfVQAAAAACAR9VAAAAAAIBH1UAAAAAAgEfVQAAAAACAR9VAAAAAAIBH1UAAAAAAgEfVQAAAAACAR9VAAAAAAIBH1UAAAAAAgEfVQAAAAACAR9VAAAAAAIBH1UAAAAAAAJXVQAAAAAAAldVAAAAAAACV1UAAAAAAAJXVQAAAAAAAldVAAAAAAACV1UAAAAAAAJXVQAAAAAAAldVAAAAAAACV1UAAAAAAAJXVQAAAAAAAldVAAAAAAACV1UAAAAAAAJXVQAAAAAAAldVAAAAAAACV1UAAAAAAgMzVQAAAAACAzNVAAAAAAIDM1UAAAAAAgMzVQAAAAACAzNVAAAAAAIDM1UAAAAAAgMzVQAAAAACAzNVAAAAAAIDM1UAAAAAAgMzVQAAAAACAzNVAAAAAAIDM1UAAAAAAgMzVQAAAAACAzNVAAAAAAIDM1UAAAAAAgMzVQAAAAACAzNVAAAAAAIDM1UAAAAAAgMzVQAAAAACAzNVAAAAAAAAk1kA=",
          "dtype": "f8"
         },
         "yaxis": "y"
        },
        {
         "customdata": [
          [
           "(-0.4, -0.3)",
           "(0.4, 0.5)"
          ],
          [
           "(-0.4, -0.3)",
           "(0.4, 0.5)"
          ],
          [
           "(-0.4, -0.3)",
           "(0.4, 0.5)"
          ],
          [
           "(-0.4, -0.3)",
           "(0.4, 0.5)"
          ],
          [
           "(-0.4, -0.3)",
           "(0.4, 0.5)"
          ],
          [
           "(-0.4, -0.3)",
           "(0.4, 0.5)"
          ],
          [
           "(-0.4, -0.3)",
           "(0.4, 0.5)"
          ],
          [
           "(-0.4, -0.3)",
           "(0.4, 0.5)"
          ],
          [
           "(-0.4, -0.3)",
           "(0.4, 0.5)"
          ],
          [
           "(-0.4, -0.3)",
           "(0.4, 0.5)"
          ],
          [
           "(-0.4, -0.3)",
           "(0.4, 0.5)"
          ],
          [
           "(-0.4, -0.3)",
           "(0.4, 0.5)"
          ],
          [
           "(-0.4, -0.3)",
           "(0.4, 0.5)"
          ],
          [
           "(-0.4, -0.3)",
           "(0.4, 0.5)"
          ],
          [
           "(-0.4, -0.3)",
           "(0.4, 0.5)"
          ],
          [
           "(-0.4, -0.3)",
           "(0.4, 0.5)"
          ],
          [
           "(-0.4, -0.3)",
           "(0.4, 0.5)"
          ],
          [
           "(-0.4, -0.3)",
           "(0.4, 0.5)"
          ],
          [
           "(-0.4, -0.3)",
           "(0.4, 0.5)"
          ],
          [
           "(-0.4, -0.3)",
           "(0.4, 0.5)"
          ],
          [
           "(-0.4, -0.3)",
           "(0.4, 0.5)"
          ],
          [
           "(-0.4, -0.3)",
           "(0.4, 0.5)"
          ],
          [
           "(-0.4, -0.3)",
           "(0.4, 0.5)"
          ],
          [
           "(-0.4, -0.3)",
           "(0.4, 0.5)"
          ],
          [
           "(-0.4, -0.3)",
           "(0.4, 0.5)"
          ],
          [
           "(-0.4, -0.3)",
           "(0.4, 0.5)"
          ],
          [
           "(-0.4, -0.3)",
           "(0.4, 0.5)"
          ],
          [
           "(-0.4, -0.3)",
           "(0.4, 0.5)"
          ],
          [
           "(-0.4, -0.3)",
           "(0.4, 0.5)"
          ],
          [
           "(-0.4, -0.3)",
           "(0.4, 0.5)"
          ],
          [
           "(-0.4, -0.3)",
           "(0.4, 0.5)"
          ],
          [
           "(-0.4, -0.3)",
           "(0.4, 0.5)"
          ],
          [
           "(-0.4, -0.3)",
           "(0.4, 0.5)"
          ],
          [
           "(-0.4, -0.3)",
           "(0.4, 0.5)"
          ],
          [
           "(-0.4, -0.3)",
           "(0.4, 0.5)"
          ],
          [
           "(-0.4, -0.3)",
           "(0.4, 0.5)"
          ],
          [
           "(-0.4, -0.3)",
           "(0.4, 0.5)"
          ],
          [
           "(-0.4, -0.3)",
           "(0.4, 0.5)"
          ],
          [
           "(-0.4, -0.3)",
           "(0.4, 0.5)"
          ],
          [
           "(-0.4, -0.3)",
           "(0.4, 0.5)"
          ],
          [
           "(-0.4, -0.3)",
           "(0.4, 0.5)"
          ],
          [
           "(-0.4, -0.3)",
           "(0.4, 0.5)"
          ],
          [
           "(-0.4, -0.3)",
           "(0.4, 0.5)"
          ],
          [
           "(-0.4, -0.3)",
           "(0.4, 0.5)"
          ],
          [
           "(-0.4, -0.3)",
           "(0.4, 0.5)"
          ],
          [
           "(-0.4, -0.3)",
           "(0.4, 0.5)"
          ],
          [
           "(-0.4, -0.3)",
           "(0.4, 0.5)"
          ],
          [
           "(-0.4, -0.3)",
           "(0.4, 0.5)"
          ],
          [
           "(-0.4, -0.3)",
           "(0.4, 0.5)"
          ],
          [
           "(-0.4, -0.3)",
           "(0.4, 0.5)"
          ],
          [
           "(-0.4, -0.3)",
           "(0.4, 0.5)"
          ],
          [
           "(-0.4, -0.3)",
           "(0.4, 0.5)"
          ],
          [
           "(-0.4, -0.3)",
           "(0.4, 0.5)"
          ],
          [
           "(-0.4, -0.3)",
           "(0.4, 0.5)"
          ],
          [
           "(-0.4, -0.3)",
           "(0.4, 0.5)"
          ],
          [
           "(-0.4, -0.3)",
           "(0.4, 0.5)"
          ],
          [
           "(-0.4, -0.3)",
           "(0.4, 0.5)"
          ],
          [
           "(-0.4, -0.3)",
           "(0.4, 0.5)"
          ],
          [
           "(-0.4, -0.3)",
           "(0.4, 0.5)"
          ],
          [
           "(-0.4, -0.3)",
           "(0.4, 0.5)"
          ],
          [
           "(-0.4, -0.3)",
           "(0.4, 0.5)"
          ],
          [
           "(-0.4, -0.3)",
           "(0.4, 0.5)"
          ],
          [
           "(-0.4, -0.3)",
           "(0.4, 0.5)"
          ],
          [
           "(-0.4, -0.3)",
           "(0.4, 0.5)"
          ],
          [
           "(-0.4, -0.3)",
           "(0.4, 0.5)"
          ],
          [
           "(-0.4, -0.3)",
           "(0.4, 0.5)"
          ],
          [
           "(-0.4, -0.3)",
           "(0.4, 0.5)"
          ],
          [
           "(-0.4, -0.3)",
           "(0.4, 0.5)"
          ],
          [
           "(-0.4, -0.3)",
           "(0.4, 0.5)"
          ],
          [
           "(-0.4, -0.3)",
           "(0.4, 0.5)"
          ],
          [
           "(-0.4, -0.3)",
           "(0.4, 0.5)"
          ],
          [
           "(-0.4, -0.3)",
           "(0.4, 0.5)"
          ],
          [
           "(-0.4, -0.3)",
           "(0.4, 0.5)"
          ],
          [
           "(-0.4, -0.3)",
           "(0.4, 0.5)"
          ],
          [
           "(-0.4, -0.3)",
           "(0.4, 0.5)"
          ],
          [
           "(-0.4, -0.3)",
           "(0.4, 0.5)"
          ],
          [
           "(-0.4, -0.3)",
           "(0.4, 0.5)"
          ],
          [
           "(-0.4, -0.3)",
           "(0.4, 0.5)"
          ],
          [
           "(-0.4, -0.3)",
           "(0.4, 0.5)"
          ],
          [
           "(-0.4, -0.3)",
           "(0.4, 0.5)"
          ],
          [
           "(-0.4, -0.3)",
           "(0.4, 0.5)"
          ],
          [
           "(-0.4, -0.3)",
           "(0.4, 0.5)"
          ],
          [
           "(-0.4, -0.3)",
           "(0.4, 0.5)"
          ],
          [
           "(-0.4, -0.3)",
           "(0.4, 0.5)"
          ],
          [
           "(-0.4, -0.3)",
           "(0.4, 0.5)"
          ],
          [
           "(-0.4, -0.3)",
           "(0.4, 0.5)"
          ],
          [
           "(-0.4, -0.3)",
           "(0.4, 0.5)"
          ],
          [
           "(-0.4, -0.3)",
           "(0.4, 0.5)"
          ],
          [
           "(-0.4, -0.3)",
           "(0.4, 0.5)"
          ],
          [
           "(-0.4, -0.3)",
           "(0.4, 0.5)"
          ],
          [
           "(-0.4, -0.3)",
           "(0.4, 0.5)"
          ],
          [
           "(-0.4, -0.3)",
           "(0.4, 0.5)"
          ],
          [
           "(-0.4, -0.3)",
           "(0.4, 0.5)"
          ],
          [
           "(-0.4, -0.3)",
           "(0.4, 0.5)"
          ],
          [
           "(-0.4, -0.3)",
           "(0.4, 0.5)"
          ],
          [
           "(-0.4, -0.3)",
           "(0.4, 0.5)"
          ],
          [
           "(-0.4, -0.3)",
           "(0.4, 0.5)"
          ],
          [
           "(-0.4, -0.3)",
           "(0.4, 0.5)"
          ],
          [
           "(-0.4, -0.3)",
           "(0.4, 0.5)"
          ],
          [
           "(-0.4, -0.3)",
           "(0.4, 0.5)"
          ],
          [
           "(-0.4, -0.3)",
           "(0.4, 0.5)"
          ],
          [
           "(-0.4, -0.3)",
           "(0.4, 0.5)"
          ],
          [
           "(-0.4, -0.3)",
           "(0.4, 0.5)"
          ],
          [
           "(-0.4, -0.3)",
           "(0.4, 0.5)"
          ],
          [
           "(-0.4, -0.3)",
           "(0.4, 0.5)"
          ],
          [
           "(-0.4, -0.3)",
           "(0.4, 0.5)"
          ],
          [
           "(-0.4, -0.3)",
           "(0.4, 0.5)"
          ],
          [
           "(-0.4, -0.3)",
           "(0.4, 0.5)"
          ],
          [
           "(-0.4, -0.3)",
           "(0.4, 0.5)"
          ],
          [
           "(-0.4, -0.3)",
           "(0.4, 0.5)"
          ],
          [
           "(-0.4, -0.3)",
           "(0.4, 0.5)"
          ],
          [
           "(-0.4, -0.3)",
           "(0.4, 0.5)"
          ],
          [
           "(-0.4, -0.3)",
           "(0.4, 0.5)"
          ],
          [
           "(-0.4, -0.3)",
           "(0.4, 0.5)"
          ],
          [
           "(-0.4, -0.3)",
           "(0.4, 0.5)"
          ],
          [
           "(-0.4, -0.3)",
           "(0.4, 0.5)"
          ],
          [
           "(-0.4, -0.3)",
           "(0.4, 0.5)"
          ],
          [
           "(-0.4, -0.3)",
           "(0.4, 0.5)"
          ],
          [
           "(-0.4, -0.3)",
           "(0.4, 0.5)"
          ],
          [
           "(-0.4, -0.3)",
           "(0.4, 0.5)"
          ],
          [
           "(-0.4, -0.3)",
           "(0.4, 0.5)"
          ],
          [
           "(-0.4, -0.3)",
           "(0.4, 0.5)"
          ],
          [
           "(-0.4, -0.3)",
           "(0.4, 0.5)"
          ],
          [
           "(-0.4, -0.3)",
           "(0.4, 0.5)"
          ],
          [
           "(-0.4, -0.3)",
           "(0.4, 0.5)"
          ],
          [
           "(-0.4, -0.3)",
           "(0.4, 0.5)"
          ],
          [
           "(-0.4, -0.3)",
           "(0.4, 0.5)"
          ],
          [
           "(-0.4, -0.3)",
           "(0.4, 0.5)"
          ],
          [
           "(-0.4, -0.3)",
           "(0.4, 0.5)"
          ],
          [
           "(-0.4, -0.3)",
           "(0.4, 0.5)"
          ],
          [
           "(-0.4, -0.3)",
           "(0.4, 0.5)"
          ],
          [
           "(-0.4, -0.3)",
           "(0.4, 0.5)"
          ],
          [
           "(-0.4, -0.3)",
           "(0.4, 0.5)"
          ],
          [
           "(-0.4, -0.3)",
           "(0.4, 0.5)"
          ],
          [
           "(-0.4, -0.3)",
           "(0.4, 0.5)"
          ],
          [
           "(-0.4, -0.3)",
           "(0.4, 0.5)"
          ],
          [
           "(-0.4, -0.3)",
           "(0.4, 0.5)"
          ],
          [
           "(-0.4, -0.3)",
           "(0.4, 0.5)"
          ],
          [
           "(-0.4, -0.3)",
           "(0.4, 0.5)"
          ],
          [
           "(-0.4, -0.3)",
           "(0.4, 0.5)"
          ],
          [
           "(-0.4, -0.3)",
           "(0.4, 0.5)"
          ],
          [
           "(-0.4, -0.3)",
           "(0.4, 0.5)"
          ],
          [
           "(-0.4, -0.3)",
           "(0.4, 0.5)"
          ],
          [
           "(-0.4, -0.3)",
           "(0.4, 0.5)"
          ],
          [
           "(-0.4, -0.3)",
           "(0.4, 0.5)"
          ],
          [
           "(-0.4, -0.3)",
           "(0.4, 0.5)"
          ],
          [
           "(-0.4, -0.3)",
           "(0.4, 0.5)"
          ],
          [
           "(-0.4, -0.3)",
           "(0.4, 0.5)"
          ],
          [
           "(-0.4, -0.3)",
           "(0.4, 0.5)"
          ],
          [
           "(-0.4, -0.3)",
           "(0.4, 0.5)"
          ],
          [
           "(-0.4, -0.3)",
           "(0.4, 0.5)"
          ],
          [
           "(-0.4, -0.3)",
           "(0.4, 0.5)"
          ],
          [
           "(-0.4, -0.3)",
           "(0.4, 0.5)"
          ],
          [
           "(-0.4, -0.3)",
           "(0.4, 0.5)"
          ],
          [
           "(-0.4, -0.3)",
           "(0.4, 0.5)"
          ],
          [
           "(-0.4, -0.3)",
           "(0.4, 0.5)"
          ],
          [
           "(-0.4, -0.3)",
           "(0.4, 0.5)"
          ],
          [
           "(-0.4, -0.3)",
           "(0.4, 0.5)"
          ],
          [
           "(-0.4, -0.3)",
           "(0.4, 0.5)"
          ],
          [
           "(-0.4, -0.3)",
           "(0.4, 0.5)"
          ],
          [
           "(-0.4, -0.3)",
           "(0.4, 0.5)"
          ],
          [
           "(-0.4, -0.3)",
           "(0.4, 0.5)"
          ],
          [
           "(-0.4, -0.3)",
           "(0.4, 0.5)"
          ],
          [
           "(-0.4, -0.3)",
           "(0.4, 0.5)"
          ],
          [
           "(-0.4, -0.3)",
           "(0.4, 0.5)"
          ],
          [
           "(-0.4, -0.3)",
           "(0.4, 0.5)"
          ],
          [
           "(-0.4, -0.3)",
           "(0.4, 0.5)"
          ],
          [
           "(-0.4, -0.3)",
           "(0.4, 0.5)"
          ],
          [
           "(-0.4, -0.3)",
           "(0.4, 0.5)"
          ],
          [
           "(-0.4, -0.3)",
           "(0.4, 0.5)"
          ],
          [
           "(-0.4, -0.3)",
           "(0.4, 0.5)"
          ],
          [
           "(-0.4, -0.3)",
           "(0.4, 0.5)"
          ]
         ],
         "hovertemplate": "<b>Date:</b> %{x}<br><b>Portfolio Value:</b> %{y}<br><b>Put Delta Range:</b> %{customdata[0]}<br><b>Call Delta Range:</b> %{customdata[1]}",
         "legendgroup": "Put: (-0.4, -0.3), Call: (0.4, 0.5)",
         "line": {
          "color": "#B6E880",
          "dash": "solid"
         },
         "marker": {
          "symbol": "circle"
         },
         "mode": "lines",
         "name": "Put: (-0.4, -0.3), Call: (0.4, 0.5)",
         "showlegend": true,
         "type": "scattergl",
         "x": [
          "2024-01-03",
          "2024-01-05",
          "2024-01-08",
          "2024-01-10",
          "2024-01-12",
          "2024-01-17",
          "2024-01-19",
          "2024-01-22",
          "2024-01-24",
          "2024-01-26",
          "2024-01-29",
          "2024-01-31",
          "2024-02-02",
          "2024-02-05",
          "2024-02-07",
          "2024-02-09",
          "2024-02-12",
          "2024-02-14",
          "2024-02-16",
          "2024-02-21",
          "2024-02-23",
          "2024-02-26",
          "2024-02-28",
          "2024-03-01",
          "2024-03-04",
          "2024-03-06",
          "2024-03-08",
          "2024-03-11",
          "2024-03-13",
          "2024-03-15",
          "2024-03-18",
          "2024-03-20",
          "2024-03-22",
          "2024-03-25",
          "2024-03-27",
          "2024-04-01",
          "2024-04-03",
          "2024-04-05",
          "2024-04-08",
          "2024-04-10",
          "2024-04-12",
          "2024-04-15",
          "2024-04-17",
          "2024-04-19",
          "2024-04-22",
          "2024-04-24",
          "2024-04-26",
          "2024-04-29",
          "2024-05-01",
          "2024-05-03",
          "2024-05-06",
          "2024-05-08",
          "2024-05-10",
          "2024-05-13",
          "2024-05-15",
          "2024-05-17",
          "2024-05-20",
          "2024-05-22",
          "2024-05-24",
          "2024-05-29",
          "2024-05-31",
          "2024-06-03",
          "2024-06-05",
          "2024-06-07",
          "2024-06-10",
          "2024-06-12",
          "2024-06-14",
          "2024-06-17",
          "2024-06-21",
          "2024-06-24",
          "2024-06-26",
          "2024-06-28",
          "2024-07-01",
          "2024-07-03",
          "2024-07-05",
          "2024-07-08",
          "2024-07-10",
          "2024-07-12",
          "2024-07-15",
          "2024-07-17",
          "2024-07-19",
          "2024-07-22",
          "2024-07-24",
          "2024-07-26",
          "2024-07-29",
          "2024-08-12",
          "2024-08-14",
          "2024-08-16",
          "2024-08-19",
          "2024-08-21",
          "2024-08-23",
          "2024-08-26",
          "2024-08-28",
          "2024-08-30",
          "2024-09-04",
          "2024-09-06",
          "2024-09-09",
          "2024-09-11",
          "2024-09-12",
          "2024-09-13",
          "2024-09-16",
          "2024-09-17",
          "2024-09-18",
          "2024-09-19",
          "2024-09-20",
          "2024-09-23",
          "2024-09-24",
          "2024-09-25",
          "2024-09-26",
          "2024-09-27",
          "2024-09-30",
          "2024-10-01",
          "2024-10-02",
          "2024-10-03",
          "2024-10-04",
          "2024-10-07",
          "2024-10-08",
          "2024-10-09",
          "2024-10-10",
          "2024-10-11",
          "2024-10-14",
          "2024-10-15",
          "2024-10-16",
          "2024-10-17",
          "2024-10-18",
          "2024-10-21",
          "2024-10-22",
          "2024-10-23",
          "2024-10-24",
          "2024-10-25",
          "2024-10-28",
          "2024-10-29",
          "2024-10-30",
          "2024-10-31",
          "2024-11-01",
          "2024-11-04",
          "2024-11-05",
          "2024-11-06",
          "2024-11-07",
          "2024-11-08",
          "2024-11-11",
          "2024-11-13",
          "2024-11-14",
          "2024-11-15",
          "2024-11-18",
          "2024-11-19",
          "2024-11-20",
          "2024-11-21",
          "2024-11-22",
          "2024-11-25",
          "2024-11-26",
          "2024-11-27",
          "2024-11-29",
          "2024-12-02",
          "2024-12-03",
          "2024-12-04",
          "2024-12-05",
          "2024-12-06",
          "2024-12-09",
          "2024-12-10",
          "2024-12-11",
          "2024-12-12",
          "2024-12-13",
          "2024-12-16",
          "2024-12-17",
          "2024-12-18",
          "2024-12-19",
          "2024-12-20",
          "2024-12-23",
          "2024-12-24",
          "2024-12-27",
          "2024-12-30"
         ],
         "xaxis": "x",
         "y": {
          "bdata": "AAAAAADP00AAAAAAAM/TQAAAAAAAz9NAAAAAAADP00AAAAAAAM/TQAAAAAAAz9NAAAAAAADP00AAAAAAAM/TQAAAAAAAz9NAAAAAAADP00AAAAAAAM/TQAAAAAAAz9NAAAAAAADP00AAAAAAgA3UQAAAAACADdRAAAAAAIAN1EAAAAAAgA3UQAAAAACADdRAAAAAAIAN1EAAAAAAgA3UQAAAAACADdRAAAAAAIAN1EAAAAAAgA3UQAAAAACADdRAAAAAcG0B00AAAABAIbrSQAAAANEw4tJAAAAAAXQU00AAAADdJOzSQAAAAPo3EdNAAAAA6ZYs00AAAAD3wafTQAAAAPfBp9NAAAAAAAAX00AAAAAAABfTQAAAAAAAF9NAAAAAAAAX00AAAAAAABfTQAAAAAAAF9NAAAAAAAAX00AAAAAAABfTQAAAAAAAF9NAAAAAAAAX00AAAAAAABfTQAAAAMsD2tJAAAAAPaSP00AAAADum5bTQAAAAHId/9NAAAAA7puW00AAAABo9PTUQAEAALZmy9RAAAAAvwfl1EAAAAC/B+XUQAAAAAAAvNNAAAAAAAC800AAAAAAALzTQAAAAAAAvNNAAAAAAIDy00AAAAAAgPLTQAAAAACA8tNAAAAAAIDy00AAAAAAgPLTQAAAAACA8tNAAAAAAIDy00AAAAAAgPLTQAAAAACA8tNAAAAAAIDy00AAAAAAgPLTQAAAAACA8tNAAAAAAAA11EAAAAAAADXUQAAAAAAANdRAAAAAAAA11EAAAAAAADXUQAAAAAAANdRAAAAAAAA11EAAAAAAADXUQAAAAAAANdRAAAAAAAA11EAAAAAAADXUQAAAAAAANdRAAAAAAACj1EAAAAAAAKPUQAAAAAAAo9RAAAAAAACj1EAAAAAAAKPUQAAAAAAAo9RAAAAAAACj1EAAAAAAAKPUQAAAAADA+9RAAAAAAMD71EAAAAAAwPvUQAAAAADA+9RAAAAAAMD71EAAAAAAwPvUQAAAAADA+9RAAAAAAMD71EAAAAAAwPvUQAAAAADA+9RAAAAAAMD71EAAAAAAwPvUQAAAAADA+9RAAAAAAMD71EAAAAAAwPvUQAAAAADA+9RAAAAAAEBF1UAAAAAAQEXVQAAAAABARdVAAAAAAEBF1UAAAAAAQEXVQAAAAABARdVAAAAAAEBF1UAAAAAAQEXVQAAAAABARdVAAAAAAEBF1UAAAAAAQEXVQAAAAABARdVAAAAAAEBF1UAAAAAAQEXVQAAAAABARdVAAAAAAEBF1UAAAAAAQEXVQAAAAABARdVAAAAAAEBF1UAAAAAAQEXVQAAAAACAr9VAAAAAAICv1UAAAAAAgK/VQAAAAACAr9VAAAAAAICv1UAAAAAAgK/VQAAAAACAr9VAAAAAAICv1UAAAAAAgK/VQAAAAACAr9VAAAAAAICv1UAAAAAAgK/VQAAAAACAr9VAAAAAAICv1UAAAAAAgK/VQAAAAACAr9VAAAAAAICv1UAAAAAAgK/VQAAAAACAr9VAAAAAS72a1UD///9mO6HVQAAAAFU2s9VA////xjmn1UAAAAA/8MjVQP///ybbE9ZAAAAAvYtK1kAAAACvTEfWQP///9g7g9ZAAAAA5au71kAAAABlFgjXQP///9sTEddAAAAAqNMR10AAAAAL1QzXQAAAAKB5btdAAAAAbfKH10AAAABr+2fXQAAAACyxjNdAAAAALLGM10AAAAAAgNLVQAAAAAAABNZAAAAAAAAE1kAAAAAAAATWQAAAAAAABNZAAAAAAAAE1kAAAAAAAATWQAAAAAAABNZAAAAAAAAE1kA=",
          "dtype": "f8"
         },
         "yaxis": "y"
        },
        {
         "customdata": [
          [
           "(-0.4, -0.3)",
           "(0.5, 0.6)"
          ],
          [
           "(-0.4, -0.3)",
           "(0.5, 0.6)"
          ],
          [
           "(-0.4, -0.3)",
           "(0.5, 0.6)"
          ],
          [
           "(-0.4, -0.3)",
           "(0.5, 0.6)"
          ],
          [
           "(-0.4, -0.3)",
           "(0.5, 0.6)"
          ],
          [
           "(-0.4, -0.3)",
           "(0.5, 0.6)"
          ],
          [
           "(-0.4, -0.3)",
           "(0.5, 0.6)"
          ],
          [
           "(-0.4, -0.3)",
           "(0.5, 0.6)"
          ],
          [
           "(-0.4, -0.3)",
           "(0.5, 0.6)"
          ],
          [
           "(-0.4, -0.3)",
           "(0.5, 0.6)"
          ],
          [
           "(-0.4, -0.3)",
           "(0.5, 0.6)"
          ],
          [
           "(-0.4, -0.3)",
           "(0.5, 0.6)"
          ],
          [
           "(-0.4, -0.3)",
           "(0.5, 0.6)"
          ],
          [
           "(-0.4, -0.3)",
           "(0.5, 0.6)"
          ],
          [
           "(-0.4, -0.3)",
           "(0.5, 0.6)"
          ],
          [
           "(-0.4, -0.3)",
           "(0.5, 0.6)"
          ],
          [
           "(-0.4, -0.3)",
           "(0.5, 0.6)"
          ],
          [
           "(-0.4, -0.3)",
           "(0.5, 0.6)"
          ],
          [
           "(-0.4, -0.3)",
           "(0.5, 0.6)"
          ],
          [
           "(-0.4, -0.3)",
           "(0.5, 0.6)"
          ],
          [
           "(-0.4, -0.3)",
           "(0.5, 0.6)"
          ],
          [
           "(-0.4, -0.3)",
           "(0.5, 0.6)"
          ],
          [
           "(-0.4, -0.3)",
           "(0.5, 0.6)"
          ],
          [
           "(-0.4, -0.3)",
           "(0.5, 0.6)"
          ],
          [
           "(-0.4, -0.3)",
           "(0.5, 0.6)"
          ],
          [
           "(-0.4, -0.3)",
           "(0.5, 0.6)"
          ],
          [
           "(-0.4, -0.3)",
           "(0.5, 0.6)"
          ],
          [
           "(-0.4, -0.3)",
           "(0.5, 0.6)"
          ],
          [
           "(-0.4, -0.3)",
           "(0.5, 0.6)"
          ],
          [
           "(-0.4, -0.3)",
           "(0.5, 0.6)"
          ],
          [
           "(-0.4, -0.3)",
           "(0.5, 0.6)"
          ],
          [
           "(-0.4, -0.3)",
           "(0.5, 0.6)"
          ],
          [
           "(-0.4, -0.3)",
           "(0.5, 0.6)"
          ],
          [
           "(-0.4, -0.3)",
           "(0.5, 0.6)"
          ],
          [
           "(-0.4, -0.3)",
           "(0.5, 0.6)"
          ],
          [
           "(-0.4, -0.3)",
           "(0.5, 0.6)"
          ],
          [
           "(-0.4, -0.3)",
           "(0.5, 0.6)"
          ],
          [
           "(-0.4, -0.3)",
           "(0.5, 0.6)"
          ],
          [
           "(-0.4, -0.3)",
           "(0.5, 0.6)"
          ],
          [
           "(-0.4, -0.3)",
           "(0.5, 0.6)"
          ],
          [
           "(-0.4, -0.3)",
           "(0.5, 0.6)"
          ],
          [
           "(-0.4, -0.3)",
           "(0.5, 0.6)"
          ],
          [
           "(-0.4, -0.3)",
           "(0.5, 0.6)"
          ],
          [
           "(-0.4, -0.3)",
           "(0.5, 0.6)"
          ],
          [
           "(-0.4, -0.3)",
           "(0.5, 0.6)"
          ],
          [
           "(-0.4, -0.3)",
           "(0.5, 0.6)"
          ],
          [
           "(-0.4, -0.3)",
           "(0.5, 0.6)"
          ],
          [
           "(-0.4, -0.3)",
           "(0.5, 0.6)"
          ],
          [
           "(-0.4, -0.3)",
           "(0.5, 0.6)"
          ],
          [
           "(-0.4, -0.3)",
           "(0.5, 0.6)"
          ],
          [
           "(-0.4, -0.3)",
           "(0.5, 0.6)"
          ],
          [
           "(-0.4, -0.3)",
           "(0.5, 0.6)"
          ],
          [
           "(-0.4, -0.3)",
           "(0.5, 0.6)"
          ],
          [
           "(-0.4, -0.3)",
           "(0.5, 0.6)"
          ],
          [
           "(-0.4, -0.3)",
           "(0.5, 0.6)"
          ],
          [
           "(-0.4, -0.3)",
           "(0.5, 0.6)"
          ],
          [
           "(-0.4, -0.3)",
           "(0.5, 0.6)"
          ],
          [
           "(-0.4, -0.3)",
           "(0.5, 0.6)"
          ],
          [
           "(-0.4, -0.3)",
           "(0.5, 0.6)"
          ],
          [
           "(-0.4, -0.3)",
           "(0.5, 0.6)"
          ],
          [
           "(-0.4, -0.3)",
           "(0.5, 0.6)"
          ],
          [
           "(-0.4, -0.3)",
           "(0.5, 0.6)"
          ],
          [
           "(-0.4, -0.3)",
           "(0.5, 0.6)"
          ],
          [
           "(-0.4, -0.3)",
           "(0.5, 0.6)"
          ],
          [
           "(-0.4, -0.3)",
           "(0.5, 0.6)"
          ],
          [
           "(-0.4, -0.3)",
           "(0.5, 0.6)"
          ],
          [
           "(-0.4, -0.3)",
           "(0.5, 0.6)"
          ],
          [
           "(-0.4, -0.3)",
           "(0.5, 0.6)"
          ],
          [
           "(-0.4, -0.3)",
           "(0.5, 0.6)"
          ],
          [
           "(-0.4, -0.3)",
           "(0.5, 0.6)"
          ],
          [
           "(-0.4, -0.3)",
           "(0.5, 0.6)"
          ],
          [
           "(-0.4, -0.3)",
           "(0.5, 0.6)"
          ],
          [
           "(-0.4, -0.3)",
           "(0.5, 0.6)"
          ],
          [
           "(-0.4, -0.3)",
           "(0.5, 0.6)"
          ],
          [
           "(-0.4, -0.3)",
           "(0.5, 0.6)"
          ],
          [
           "(-0.4, -0.3)",
           "(0.5, 0.6)"
          ],
          [
           "(-0.4, -0.3)",
           "(0.5, 0.6)"
          ],
          [
           "(-0.4, -0.3)",
           "(0.5, 0.6)"
          ],
          [
           "(-0.4, -0.3)",
           "(0.5, 0.6)"
          ],
          [
           "(-0.4, -0.3)",
           "(0.5, 0.6)"
          ],
          [
           "(-0.4, -0.3)",
           "(0.5, 0.6)"
          ],
          [
           "(-0.4, -0.3)",
           "(0.5, 0.6)"
          ],
          [
           "(-0.4, -0.3)",
           "(0.5, 0.6)"
          ],
          [
           "(-0.4, -0.3)",
           "(0.5, 0.6)"
          ],
          [
           "(-0.4, -0.3)",
           "(0.5, 0.6)"
          ],
          [
           "(-0.4, -0.3)",
           "(0.5, 0.6)"
          ],
          [
           "(-0.4, -0.3)",
           "(0.5, 0.6)"
          ],
          [
           "(-0.4, -0.3)",
           "(0.5, 0.6)"
          ],
          [
           "(-0.4, -0.3)",
           "(0.5, 0.6)"
          ],
          [
           "(-0.4, -0.3)",
           "(0.5, 0.6)"
          ],
          [
           "(-0.4, -0.3)",
           "(0.5, 0.6)"
          ],
          [
           "(-0.4, -0.3)",
           "(0.5, 0.6)"
          ],
          [
           "(-0.4, -0.3)",
           "(0.5, 0.6)"
          ],
          [
           "(-0.4, -0.3)",
           "(0.5, 0.6)"
          ],
          [
           "(-0.4, -0.3)",
           "(0.5, 0.6)"
          ],
          [
           "(-0.4, -0.3)",
           "(0.5, 0.6)"
          ],
          [
           "(-0.4, -0.3)",
           "(0.5, 0.6)"
          ],
          [
           "(-0.4, -0.3)",
           "(0.5, 0.6)"
          ],
          [
           "(-0.4, -0.3)",
           "(0.5, 0.6)"
          ],
          [
           "(-0.4, -0.3)",
           "(0.5, 0.6)"
          ],
          [
           "(-0.4, -0.3)",
           "(0.5, 0.6)"
          ],
          [
           "(-0.4, -0.3)",
           "(0.5, 0.6)"
          ],
          [
           "(-0.4, -0.3)",
           "(0.5, 0.6)"
          ],
          [
           "(-0.4, -0.3)",
           "(0.5, 0.6)"
          ],
          [
           "(-0.4, -0.3)",
           "(0.5, 0.6)"
          ],
          [
           "(-0.4, -0.3)",
           "(0.5, 0.6)"
          ],
          [
           "(-0.4, -0.3)",
           "(0.5, 0.6)"
          ],
          [
           "(-0.4, -0.3)",
           "(0.5, 0.6)"
          ],
          [
           "(-0.4, -0.3)",
           "(0.5, 0.6)"
          ],
          [
           "(-0.4, -0.3)",
           "(0.5, 0.6)"
          ],
          [
           "(-0.4, -0.3)",
           "(0.5, 0.6)"
          ],
          [
           "(-0.4, -0.3)",
           "(0.5, 0.6)"
          ],
          [
           "(-0.4, -0.3)",
           "(0.5, 0.6)"
          ],
          [
           "(-0.4, -0.3)",
           "(0.5, 0.6)"
          ],
          [
           "(-0.4, -0.3)",
           "(0.5, 0.6)"
          ],
          [
           "(-0.4, -0.3)",
           "(0.5, 0.6)"
          ],
          [
           "(-0.4, -0.3)",
           "(0.5, 0.6)"
          ],
          [
           "(-0.4, -0.3)",
           "(0.5, 0.6)"
          ],
          [
           "(-0.4, -0.3)",
           "(0.5, 0.6)"
          ],
          [
           "(-0.4, -0.3)",
           "(0.5, 0.6)"
          ],
          [
           "(-0.4, -0.3)",
           "(0.5, 0.6)"
          ],
          [
           "(-0.4, -0.3)",
           "(0.5, 0.6)"
          ],
          [
           "(-0.4, -0.3)",
           "(0.5, 0.6)"
          ],
          [
           "(-0.4, -0.3)",
           "(0.5, 0.6)"
          ],
          [
           "(-0.4, -0.3)",
           "(0.5, 0.6)"
          ],
          [
           "(-0.4, -0.3)",
           "(0.5, 0.6)"
          ],
          [
           "(-0.4, -0.3)",
           "(0.5, 0.6)"
          ],
          [
           "(-0.4, -0.3)",
           "(0.5, 0.6)"
          ],
          [
           "(-0.4, -0.3)",
           "(0.5, 0.6)"
          ],
          [
           "(-0.4, -0.3)",
           "(0.5, 0.6)"
          ],
          [
           "(-0.4, -0.3)",
           "(0.5, 0.6)"
          ],
          [
           "(-0.4, -0.3)",
           "(0.5, 0.6)"
          ],
          [
           "(-0.4, -0.3)",
           "(0.5, 0.6)"
          ],
          [
           "(-0.4, -0.3)",
           "(0.5, 0.6)"
          ],
          [
           "(-0.4, -0.3)",
           "(0.5, 0.6)"
          ],
          [
           "(-0.4, -0.3)",
           "(0.5, 0.6)"
          ],
          [
           "(-0.4, -0.3)",
           "(0.5, 0.6)"
          ],
          [
           "(-0.4, -0.3)",
           "(0.5, 0.6)"
          ],
          [
           "(-0.4, -0.3)",
           "(0.5, 0.6)"
          ],
          [
           "(-0.4, -0.3)",
           "(0.5, 0.6)"
          ],
          [
           "(-0.4, -0.3)",
           "(0.5, 0.6)"
          ],
          [
           "(-0.4, -0.3)",
           "(0.5, 0.6)"
          ],
          [
           "(-0.4, -0.3)",
           "(0.5, 0.6)"
          ],
          [
           "(-0.4, -0.3)",
           "(0.5, 0.6)"
          ],
          [
           "(-0.4, -0.3)",
           "(0.5, 0.6)"
          ],
          [
           "(-0.4, -0.3)",
           "(0.5, 0.6)"
          ],
          [
           "(-0.4, -0.3)",
           "(0.5, 0.6)"
          ],
          [
           "(-0.4, -0.3)",
           "(0.5, 0.6)"
          ],
          [
           "(-0.4, -0.3)",
           "(0.5, 0.6)"
          ],
          [
           "(-0.4, -0.3)",
           "(0.5, 0.6)"
          ],
          [
           "(-0.4, -0.3)",
           "(0.5, 0.6)"
          ],
          [
           "(-0.4, -0.3)",
           "(0.5, 0.6)"
          ],
          [
           "(-0.4, -0.3)",
           "(0.5, 0.6)"
          ],
          [
           "(-0.4, -0.3)",
           "(0.5, 0.6)"
          ],
          [
           "(-0.4, -0.3)",
           "(0.5, 0.6)"
          ],
          [
           "(-0.4, -0.3)",
           "(0.5, 0.6)"
          ],
          [
           "(-0.4, -0.3)",
           "(0.5, 0.6)"
          ],
          [
           "(-0.4, -0.3)",
           "(0.5, 0.6)"
          ],
          [
           "(-0.4, -0.3)",
           "(0.5, 0.6)"
          ],
          [
           "(-0.4, -0.3)",
           "(0.5, 0.6)"
          ],
          [
           "(-0.4, -0.3)",
           "(0.5, 0.6)"
          ],
          [
           "(-0.4, -0.3)",
           "(0.5, 0.6)"
          ],
          [
           "(-0.4, -0.3)",
           "(0.5, 0.6)"
          ],
          [
           "(-0.4, -0.3)",
           "(0.5, 0.6)"
          ],
          [
           "(-0.4, -0.3)",
           "(0.5, 0.6)"
          ],
          [
           "(-0.4, -0.3)",
           "(0.5, 0.6)"
          ],
          [
           "(-0.4, -0.3)",
           "(0.5, 0.6)"
          ],
          [
           "(-0.4, -0.3)",
           "(0.5, 0.6)"
          ],
          [
           "(-0.4, -0.3)",
           "(0.5, 0.6)"
          ],
          [
           "(-0.4, -0.3)",
           "(0.5, 0.6)"
          ],
          [
           "(-0.4, -0.3)",
           "(0.5, 0.6)"
          ],
          [
           "(-0.4, -0.3)",
           "(0.5, 0.6)"
          ]
         ],
         "hovertemplate": "<b>Date:</b> %{x}<br><b>Portfolio Value:</b> %{y}<br><b>Put Delta Range:</b> %{customdata[0]}<br><b>Call Delta Range:</b> %{customdata[1]}",
         "legendgroup": "Put: (-0.4, -0.3), Call: (0.5, 0.6)",
         "line": {
          "color": "#FF97FF",
          "dash": "solid"
         },
         "marker": {
          "symbol": "circle"
         },
         "mode": "lines",
         "name": "Put: (-0.4, -0.3), Call: (0.5, 0.6)",
         "showlegend": true,
         "type": "scattergl",
         "x": [
          "2024-01-03",
          "2024-01-05",
          "2024-01-08",
          "2024-01-10",
          "2024-01-12",
          "2024-01-17",
          "2024-01-19",
          "2024-01-22",
          "2024-01-24",
          "2024-01-26",
          "2024-01-29",
          "2024-01-31",
          "2024-02-02",
          "2024-02-05",
          "2024-02-07",
          "2024-02-09",
          "2024-02-12",
          "2024-02-14",
          "2024-02-16",
          "2024-02-21",
          "2024-02-23",
          "2024-02-26",
          "2024-02-28",
          "2024-03-01",
          "2024-03-04",
          "2024-03-06",
          "2024-03-08",
          "2024-03-11",
          "2024-03-13",
          "2024-03-15",
          "2024-03-18",
          "2024-03-20",
          "2024-03-22",
          "2024-03-25",
          "2024-03-27",
          "2024-04-01",
          "2024-04-03",
          "2024-04-05",
          "2024-04-08",
          "2024-04-10",
          "2024-04-12",
          "2024-04-15",
          "2024-04-17",
          "2024-04-19",
          "2024-04-22",
          "2024-04-24",
          "2024-04-26",
          "2024-04-29",
          "2024-05-01",
          "2024-05-03",
          "2024-05-06",
          "2024-05-08",
          "2024-05-10",
          "2024-05-13",
          "2024-05-15",
          "2024-05-17",
          "2024-05-20",
          "2024-05-22",
          "2024-05-24",
          "2024-05-29",
          "2024-05-31",
          "2024-06-03",
          "2024-06-05",
          "2024-06-07",
          "2024-06-10",
          "2024-06-12",
          "2024-06-14",
          "2024-06-17",
          "2024-06-21",
          "2024-06-24",
          "2024-06-26",
          "2024-06-28",
          "2024-07-01",
          "2024-07-03",
          "2024-07-05",
          "2024-07-08",
          "2024-07-10",
          "2024-07-12",
          "2024-07-15",
          "2024-07-17",
          "2024-07-19",
          "2024-07-22",
          "2024-07-24",
          "2024-07-26",
          "2024-07-29",
          "2024-08-12",
          "2024-08-14",
          "2024-08-16",
          "2024-08-19",
          "2024-08-21",
          "2024-08-23",
          "2024-08-26",
          "2024-08-28",
          "2024-08-30",
          "2024-09-04",
          "2024-09-06",
          "2024-09-09",
          "2024-09-11",
          "2024-09-12",
          "2024-09-13",
          "2024-09-16",
          "2024-09-17",
          "2024-09-18",
          "2024-09-19",
          "2024-09-20",
          "2024-09-23",
          "2024-09-24",
          "2024-09-25",
          "2024-09-26",
          "2024-09-27",
          "2024-09-30",
          "2024-10-01",
          "2024-10-02",
          "2024-10-03",
          "2024-10-04",
          "2024-10-07",
          "2024-10-08",
          "2024-10-09",
          "2024-10-10",
          "2024-10-11",
          "2024-10-14",
          "2024-10-15",
          "2024-10-16",
          "2024-10-17",
          "2024-10-18",
          "2024-10-21",
          "2024-10-22",
          "2024-10-23",
          "2024-10-24",
          "2024-10-25",
          "2024-10-28",
          "2024-10-29",
          "2024-10-30",
          "2024-10-31",
          "2024-11-01",
          "2024-11-04",
          "2024-11-05",
          "2024-11-06",
          "2024-11-07",
          "2024-11-08",
          "2024-11-11",
          "2024-11-13",
          "2024-11-14",
          "2024-11-15",
          "2024-11-18",
          "2024-11-19",
          "2024-11-20",
          "2024-11-21",
          "2024-11-22",
          "2024-11-25",
          "2024-11-26",
          "2024-11-27",
          "2024-11-29",
          "2024-12-02",
          "2024-12-03",
          "2024-12-04",
          "2024-12-05",
          "2024-12-06",
          "2024-12-09",
          "2024-12-10",
          "2024-12-11",
          "2024-12-12",
          "2024-12-13",
          "2024-12-16",
          "2024-12-17",
          "2024-12-18",
          "2024-12-19",
          "2024-12-20",
          "2024-12-23",
          "2024-12-24",
          "2024-12-27",
          "2024-12-30"
         ],
         "xaxis": "x",
         "y": {
          "bdata": "AAAAAADP00AAAAAAAM/TQAAAAAAAz9NAAAAAAADP00AAAAAAAM/TQAAAAAAAz9NAAAAAAADP00AAAAAAAM/TQAAAAAAAz9NAAAAAAADP00AAAAAAAM/TQAAAAAAAz9NAAAAAAADP00AAAAAAgA3UQAAAAACADdRAAAAAAIAN1EAAAAAAgA3UQAAAAACADdRAAAAAAIAN1EAAAAAAgA3UQAAAAACADdRAAAAAAIAN1EAAAAAAgA3UQAAAAACADdRAAAAAcG0B00AAAABAodXSQAAAANGw/dJAAAAAAfQv00AAAADdpAfTQAAAAPq3LNNAAAAA6RZI00AAAAD3QcPTQAAAAChCJNNAAAAAXq0A00AAAAAx4z3TQAAAANVF7NJAAAAAU9Hi0kAAAABT0eLSQAAAAHr1xNJAAAAAgkm00kAAAADEwS/UQAAAAOC1z9NAAAAA+QJb00AAAAA1XRDTQAAAAMtDJdNAAAAAPWR000AAAADuW3vTQAAAAHLd49NAAAAA7lt700AAAABotNnUQAEAALYmsNRAAAAAv8fJ1EAAAAC/x8nUQAAAAADAHdRAAAAAAMAd1EAAAAAAwB3UQAAAAADAHdRAAAAAAEBU1EAAAAAAQFTUQAAAAABAVNRAAAAAAEBU1EAAAAAAQFTUQAAAAABAVNRAAAAAAEBU1EAAAAAAQFTUQAAAAABAVNRAAAAAAEBU1EAAAAAAQFTUQAAAAABAVNRAAAAAAMCW1EAAAAAAwJbUQAAAAADAltRAAAAAAMCW1EAAAAAAwJbUQAAAAADAltRAAAAAAMCW1EAAAAAAwJbUQAAAAADAltRAAAAAAMCW1EAAAAAAwJbUQAAAAADAltRAAAAAAMAE1UAAAAAAwATVQAAAAADABNVAAAAAAMAE1UAAAAAAwATVQAAAAADABNVAAAAAAMAE1UAAAAAAwATVQAAAAACAXdVAAAAAAIBd1UAAAAAAgF3VQAAAAACAXdVAAAAAAIBd1UAAAAAAgF3VQAAAAACAXdVAAAAAAIBd1UAAAAAAgF3VQAAAAACAXdVAAAAAAIBd1UAAAAAAgF3VQAAAAACAXdVAAAAAAIBd1UAAAAAAgF3VQAAAAACAXdVAAAAAAACn1UAAAAAAAKfVQAAAAAAAp9VAAAAAAACn1UAAAAAAAKfVQAAAAAAAp9VAAAAAAACn1UAAAAAAAKfVQAAAAAAAp9VAAAAAAACn1UAAAAAAAKfVQAAAAAAAp9VAAAAAAACn1UAAAAAAAKfVQAAAAAAAp9VAAAAAAACn1UAAAAAAAKfVQAAAAAAAp9VAAAAAAACn1UAAAAAAAKfVQAAAAABAEdZAAAAAAEAR1kAAAAAAQBHWQAAAAABAEdZAAAAAAEAR1kAAAAAAQBHWQAAAAABAEdZAAAAAAEAR1kAAAAAAQBHWQAAAAABAEdZAAAAAAEAR1kAAAAAAQBHWQAAAAABAEdZAAAAAAEAR1kAAAAAAQBHWQAAAAABAEdZAAAAAAEAR1kAAAAAAQBHWQAAAAABAEdZAAAAAS/2a1UD///9muxDWQAAAAFW2ItZA////xrkW1kAAAAA/cDjWQP///yZbg9ZAAAAAvQu61kAAAACvzLbWQP///9i78tZAAAAA5Ssr10AAAABllnfXQP///9uTgNdAAAAAqFOB10AAAACoU4HXQAAAAACAA9ZAAAAAAIAD1kAAAAAAgAPWQAAAAAAATdZAAAAAAABN1kAAAAAAAE3WQAAAAAAATdZAAAAAAABN1kAAAAAAAE3WQAAAAAAATdZAAAAAAABN1kAAAAAAAE3WQAAAAAAATdZAAAAAAABN1kA=",
          "dtype": "f8"
         },
         "yaxis": "y"
        },
        {
         "customdata": [
          [
           "(-0.4, -0.3)",
           "(0.6, 0.7)"
          ],
          [
           "(-0.4, -0.3)",
           "(0.6, 0.7)"
          ],
          [
           "(-0.4, -0.3)",
           "(0.6, 0.7)"
          ],
          [
           "(-0.4, -0.3)",
           "(0.6, 0.7)"
          ],
          [
           "(-0.4, -0.3)",
           "(0.6, 0.7)"
          ],
          [
           "(-0.4, -0.3)",
           "(0.6, 0.7)"
          ],
          [
           "(-0.4, -0.3)",
           "(0.6, 0.7)"
          ],
          [
           "(-0.4, -0.3)",
           "(0.6, 0.7)"
          ],
          [
           "(-0.4, -0.3)",
           "(0.6, 0.7)"
          ],
          [
           "(-0.4, -0.3)",
           "(0.6, 0.7)"
          ],
          [
           "(-0.4, -0.3)",
           "(0.6, 0.7)"
          ],
          [
           "(-0.4, -0.3)",
           "(0.6, 0.7)"
          ],
          [
           "(-0.4, -0.3)",
           "(0.6, 0.7)"
          ],
          [
           "(-0.4, -0.3)",
           "(0.6, 0.7)"
          ],
          [
           "(-0.4, -0.3)",
           "(0.6, 0.7)"
          ],
          [
           "(-0.4, -0.3)",
           "(0.6, 0.7)"
          ],
          [
           "(-0.4, -0.3)",
           "(0.6, 0.7)"
          ],
          [
           "(-0.4, -0.3)",
           "(0.6, 0.7)"
          ],
          [
           "(-0.4, -0.3)",
           "(0.6, 0.7)"
          ],
          [
           "(-0.4, -0.3)",
           "(0.6, 0.7)"
          ],
          [
           "(-0.4, -0.3)",
           "(0.6, 0.7)"
          ],
          [
           "(-0.4, -0.3)",
           "(0.6, 0.7)"
          ],
          [
           "(-0.4, -0.3)",
           "(0.6, 0.7)"
          ],
          [
           "(-0.4, -0.3)",
           "(0.6, 0.7)"
          ],
          [
           "(-0.4, -0.3)",
           "(0.6, 0.7)"
          ],
          [
           "(-0.4, -0.3)",
           "(0.6, 0.7)"
          ],
          [
           "(-0.4, -0.3)",
           "(0.6, 0.7)"
          ],
          [
           "(-0.4, -0.3)",
           "(0.6, 0.7)"
          ],
          [
           "(-0.4, -0.3)",
           "(0.6, 0.7)"
          ],
          [
           "(-0.4, -0.3)",
           "(0.6, 0.7)"
          ],
          [
           "(-0.4, -0.3)",
           "(0.6, 0.7)"
          ],
          [
           "(-0.4, -0.3)",
           "(0.6, 0.7)"
          ],
          [
           "(-0.4, -0.3)",
           "(0.6, 0.7)"
          ],
          [
           "(-0.4, -0.3)",
           "(0.6, 0.7)"
          ],
          [
           "(-0.4, -0.3)",
           "(0.6, 0.7)"
          ],
          [
           "(-0.4, -0.3)",
           "(0.6, 0.7)"
          ],
          [
           "(-0.4, -0.3)",
           "(0.6, 0.7)"
          ],
          [
           "(-0.4, -0.3)",
           "(0.6, 0.7)"
          ],
          [
           "(-0.4, -0.3)",
           "(0.6, 0.7)"
          ],
          [
           "(-0.4, -0.3)",
           "(0.6, 0.7)"
          ],
          [
           "(-0.4, -0.3)",
           "(0.6, 0.7)"
          ],
          [
           "(-0.4, -0.3)",
           "(0.6, 0.7)"
          ],
          [
           "(-0.4, -0.3)",
           "(0.6, 0.7)"
          ],
          [
           "(-0.4, -0.3)",
           "(0.6, 0.7)"
          ],
          [
           "(-0.4, -0.3)",
           "(0.6, 0.7)"
          ],
          [
           "(-0.4, -0.3)",
           "(0.6, 0.7)"
          ],
          [
           "(-0.4, -0.3)",
           "(0.6, 0.7)"
          ],
          [
           "(-0.4, -0.3)",
           "(0.6, 0.7)"
          ],
          [
           "(-0.4, -0.3)",
           "(0.6, 0.7)"
          ],
          [
           "(-0.4, -0.3)",
           "(0.6, 0.7)"
          ],
          [
           "(-0.4, -0.3)",
           "(0.6, 0.7)"
          ],
          [
           "(-0.4, -0.3)",
           "(0.6, 0.7)"
          ],
          [
           "(-0.4, -0.3)",
           "(0.6, 0.7)"
          ],
          [
           "(-0.4, -0.3)",
           "(0.6, 0.7)"
          ],
          [
           "(-0.4, -0.3)",
           "(0.6, 0.7)"
          ],
          [
           "(-0.4, -0.3)",
           "(0.6, 0.7)"
          ],
          [
           "(-0.4, -0.3)",
           "(0.6, 0.7)"
          ],
          [
           "(-0.4, -0.3)",
           "(0.6, 0.7)"
          ],
          [
           "(-0.4, -0.3)",
           "(0.6, 0.7)"
          ],
          [
           "(-0.4, -0.3)",
           "(0.6, 0.7)"
          ],
          [
           "(-0.4, -0.3)",
           "(0.6, 0.7)"
          ],
          [
           "(-0.4, -0.3)",
           "(0.6, 0.7)"
          ],
          [
           "(-0.4, -0.3)",
           "(0.6, 0.7)"
          ],
          [
           "(-0.4, -0.3)",
           "(0.6, 0.7)"
          ],
          [
           "(-0.4, -0.3)",
           "(0.6, 0.7)"
          ],
          [
           "(-0.4, -0.3)",
           "(0.6, 0.7)"
          ],
          [
           "(-0.4, -0.3)",
           "(0.6, 0.7)"
          ],
          [
           "(-0.4, -0.3)",
           "(0.6, 0.7)"
          ],
          [
           "(-0.4, -0.3)",
           "(0.6, 0.7)"
          ],
          [
           "(-0.4, -0.3)",
           "(0.6, 0.7)"
          ],
          [
           "(-0.4, -0.3)",
           "(0.6, 0.7)"
          ],
          [
           "(-0.4, -0.3)",
           "(0.6, 0.7)"
          ],
          [
           "(-0.4, -0.3)",
           "(0.6, 0.7)"
          ],
          [
           "(-0.4, -0.3)",
           "(0.6, 0.7)"
          ],
          [
           "(-0.4, -0.3)",
           "(0.6, 0.7)"
          ],
          [
           "(-0.4, -0.3)",
           "(0.6, 0.7)"
          ],
          [
           "(-0.4, -0.3)",
           "(0.6, 0.7)"
          ],
          [
           "(-0.4, -0.3)",
           "(0.6, 0.7)"
          ],
          [
           "(-0.4, -0.3)",
           "(0.6, 0.7)"
          ],
          [
           "(-0.4, -0.3)",
           "(0.6, 0.7)"
          ],
          [
           "(-0.4, -0.3)",
           "(0.6, 0.7)"
          ],
          [
           "(-0.4, -0.3)",
           "(0.6, 0.7)"
          ],
          [
           "(-0.4, -0.3)",
           "(0.6, 0.7)"
          ],
          [
           "(-0.4, -0.3)",
           "(0.6, 0.7)"
          ],
          [
           "(-0.4, -0.3)",
           "(0.6, 0.7)"
          ],
          [
           "(-0.4, -0.3)",
           "(0.6, 0.7)"
          ],
          [
           "(-0.4, -0.3)",
           "(0.6, 0.7)"
          ],
          [
           "(-0.4, -0.3)",
           "(0.6, 0.7)"
          ],
          [
           "(-0.4, -0.3)",
           "(0.6, 0.7)"
          ],
          [
           "(-0.4, -0.3)",
           "(0.6, 0.7)"
          ],
          [
           "(-0.4, -0.3)",
           "(0.6, 0.7)"
          ],
          [
           "(-0.4, -0.3)",
           "(0.6, 0.7)"
          ],
          [
           "(-0.4, -0.3)",
           "(0.6, 0.7)"
          ],
          [
           "(-0.4, -0.3)",
           "(0.6, 0.7)"
          ],
          [
           "(-0.4, -0.3)",
           "(0.6, 0.7)"
          ],
          [
           "(-0.4, -0.3)",
           "(0.6, 0.7)"
          ],
          [
           "(-0.4, -0.3)",
           "(0.6, 0.7)"
          ],
          [
           "(-0.4, -0.3)",
           "(0.6, 0.7)"
          ],
          [
           "(-0.4, -0.3)",
           "(0.6, 0.7)"
          ],
          [
           "(-0.4, -0.3)",
           "(0.6, 0.7)"
          ],
          [
           "(-0.4, -0.3)",
           "(0.6, 0.7)"
          ],
          [
           "(-0.4, -0.3)",
           "(0.6, 0.7)"
          ],
          [
           "(-0.4, -0.3)",
           "(0.6, 0.7)"
          ],
          [
           "(-0.4, -0.3)",
           "(0.6, 0.7)"
          ],
          [
           "(-0.4, -0.3)",
           "(0.6, 0.7)"
          ],
          [
           "(-0.4, -0.3)",
           "(0.6, 0.7)"
          ],
          [
           "(-0.4, -0.3)",
           "(0.6, 0.7)"
          ],
          [
           "(-0.4, -0.3)",
           "(0.6, 0.7)"
          ],
          [
           "(-0.4, -0.3)",
           "(0.6, 0.7)"
          ],
          [
           "(-0.4, -0.3)",
           "(0.6, 0.7)"
          ],
          [
           "(-0.4, -0.3)",
           "(0.6, 0.7)"
          ],
          [
           "(-0.4, -0.3)",
           "(0.6, 0.7)"
          ],
          [
           "(-0.4, -0.3)",
           "(0.6, 0.7)"
          ],
          [
           "(-0.4, -0.3)",
           "(0.6, 0.7)"
          ],
          [
           "(-0.4, -0.3)",
           "(0.6, 0.7)"
          ],
          [
           "(-0.4, -0.3)",
           "(0.6, 0.7)"
          ],
          [
           "(-0.4, -0.3)",
           "(0.6, 0.7)"
          ],
          [
           "(-0.4, -0.3)",
           "(0.6, 0.7)"
          ],
          [
           "(-0.4, -0.3)",
           "(0.6, 0.7)"
          ],
          [
           "(-0.4, -0.3)",
           "(0.6, 0.7)"
          ],
          [
           "(-0.4, -0.3)",
           "(0.6, 0.7)"
          ],
          [
           "(-0.4, -0.3)",
           "(0.6, 0.7)"
          ],
          [
           "(-0.4, -0.3)",
           "(0.6, 0.7)"
          ],
          [
           "(-0.4, -0.3)",
           "(0.6, 0.7)"
          ],
          [
           "(-0.4, -0.3)",
           "(0.6, 0.7)"
          ],
          [
           "(-0.4, -0.3)",
           "(0.6, 0.7)"
          ],
          [
           "(-0.4, -0.3)",
           "(0.6, 0.7)"
          ],
          [
           "(-0.4, -0.3)",
           "(0.6, 0.7)"
          ],
          [
           "(-0.4, -0.3)",
           "(0.6, 0.7)"
          ],
          [
           "(-0.4, -0.3)",
           "(0.6, 0.7)"
          ],
          [
           "(-0.4, -0.3)",
           "(0.6, 0.7)"
          ],
          [
           "(-0.4, -0.3)",
           "(0.6, 0.7)"
          ],
          [
           "(-0.4, -0.3)",
           "(0.6, 0.7)"
          ],
          [
           "(-0.4, -0.3)",
           "(0.6, 0.7)"
          ],
          [
           "(-0.4, -0.3)",
           "(0.6, 0.7)"
          ],
          [
           "(-0.4, -0.3)",
           "(0.6, 0.7)"
          ],
          [
           "(-0.4, -0.3)",
           "(0.6, 0.7)"
          ],
          [
           "(-0.4, -0.3)",
           "(0.6, 0.7)"
          ],
          [
           "(-0.4, -0.3)",
           "(0.6, 0.7)"
          ],
          [
           "(-0.4, -0.3)",
           "(0.6, 0.7)"
          ],
          [
           "(-0.4, -0.3)",
           "(0.6, 0.7)"
          ],
          [
           "(-0.4, -0.3)",
           "(0.6, 0.7)"
          ],
          [
           "(-0.4, -0.3)",
           "(0.6, 0.7)"
          ],
          [
           "(-0.4, -0.3)",
           "(0.6, 0.7)"
          ],
          [
           "(-0.4, -0.3)",
           "(0.6, 0.7)"
          ],
          [
           "(-0.4, -0.3)",
           "(0.6, 0.7)"
          ],
          [
           "(-0.4, -0.3)",
           "(0.6, 0.7)"
          ],
          [
           "(-0.4, -0.3)",
           "(0.6, 0.7)"
          ],
          [
           "(-0.4, -0.3)",
           "(0.6, 0.7)"
          ],
          [
           "(-0.4, -0.3)",
           "(0.6, 0.7)"
          ],
          [
           "(-0.4, -0.3)",
           "(0.6, 0.7)"
          ],
          [
           "(-0.4, -0.3)",
           "(0.6, 0.7)"
          ],
          [
           "(-0.4, -0.3)",
           "(0.6, 0.7)"
          ],
          [
           "(-0.4, -0.3)",
           "(0.6, 0.7)"
          ],
          [
           "(-0.4, -0.3)",
           "(0.6, 0.7)"
          ],
          [
           "(-0.4, -0.3)",
           "(0.6, 0.7)"
          ],
          [
           "(-0.4, -0.3)",
           "(0.6, 0.7)"
          ],
          [
           "(-0.4, -0.3)",
           "(0.6, 0.7)"
          ],
          [
           "(-0.4, -0.3)",
           "(0.6, 0.7)"
          ],
          [
           "(-0.4, -0.3)",
           "(0.6, 0.7)"
          ],
          [
           "(-0.4, -0.3)",
           "(0.6, 0.7)"
          ],
          [
           "(-0.4, -0.3)",
           "(0.6, 0.7)"
          ],
          [
           "(-0.4, -0.3)",
           "(0.6, 0.7)"
          ],
          [
           "(-0.4, -0.3)",
           "(0.6, 0.7)"
          ],
          [
           "(-0.4, -0.3)",
           "(0.6, 0.7)"
          ],
          [
           "(-0.4, -0.3)",
           "(0.6, 0.7)"
          ],
          [
           "(-0.4, -0.3)",
           "(0.6, 0.7)"
          ],
          [
           "(-0.4, -0.3)",
           "(0.6, 0.7)"
          ],
          [
           "(-0.4, -0.3)",
           "(0.6, 0.7)"
          ],
          [
           "(-0.4, -0.3)",
           "(0.6, 0.7)"
          ],
          [
           "(-0.4, -0.3)",
           "(0.6, 0.7)"
          ],
          [
           "(-0.4, -0.3)",
           "(0.6, 0.7)"
          ]
         ],
         "hovertemplate": "<b>Date:</b> %{x}<br><b>Portfolio Value:</b> %{y}<br><b>Put Delta Range:</b> %{customdata[0]}<br><b>Call Delta Range:</b> %{customdata[1]}",
         "legendgroup": "Put: (-0.4, -0.3), Call: (0.6, 0.7)",
         "line": {
          "color": "#FECB52",
          "dash": "solid"
         },
         "marker": {
          "symbol": "circle"
         },
         "mode": "lines",
         "name": "Put: (-0.4, -0.3), Call: (0.6, 0.7)",
         "showlegend": true,
         "type": "scattergl",
         "x": [
          "2024-01-03",
          "2024-01-05",
          "2024-01-08",
          "2024-01-10",
          "2024-01-12",
          "2024-01-17",
          "2024-01-19",
          "2024-01-22",
          "2024-01-24",
          "2024-01-26",
          "2024-01-29",
          "2024-01-31",
          "2024-02-02",
          "2024-02-05",
          "2024-02-07",
          "2024-02-09",
          "2024-02-12",
          "2024-02-14",
          "2024-02-16",
          "2024-02-21",
          "2024-02-23",
          "2024-02-26",
          "2024-02-28",
          "2024-03-01",
          "2024-03-04",
          "2024-03-06",
          "2024-03-08",
          "2024-03-11",
          "2024-03-13",
          "2024-03-15",
          "2024-03-18",
          "2024-03-20",
          "2024-03-22",
          "2024-03-25",
          "2024-03-27",
          "2024-04-01",
          "2024-04-03",
          "2024-04-05",
          "2024-04-08",
          "2024-04-10",
          "2024-04-12",
          "2024-04-15",
          "2024-04-17",
          "2024-04-19",
          "2024-04-22",
          "2024-04-24",
          "2024-04-26",
          "2024-04-29",
          "2024-05-01",
          "2024-05-03",
          "2024-05-06",
          "2024-05-08",
          "2024-05-10",
          "2024-05-13",
          "2024-05-15",
          "2024-05-17",
          "2024-05-20",
          "2024-05-22",
          "2024-05-24",
          "2024-05-29",
          "2024-05-31",
          "2024-06-03",
          "2024-06-05",
          "2024-06-07",
          "2024-06-10",
          "2024-06-12",
          "2024-06-14",
          "2024-06-17",
          "2024-06-21",
          "2024-06-24",
          "2024-06-26",
          "2024-06-28",
          "2024-07-01",
          "2024-07-03",
          "2024-07-05",
          "2024-07-08",
          "2024-07-10",
          "2024-07-12",
          "2024-07-15",
          "2024-07-17",
          "2024-07-19",
          "2024-07-22",
          "2024-07-24",
          "2024-07-26",
          "2024-07-29",
          "2024-08-12",
          "2024-08-14",
          "2024-08-16",
          "2024-08-19",
          "2024-08-21",
          "2024-08-23",
          "2024-08-26",
          "2024-08-28",
          "2024-08-30",
          "2024-09-04",
          "2024-09-06",
          "2024-09-09",
          "2024-09-11",
          "2024-09-12",
          "2024-09-13",
          "2024-09-16",
          "2024-09-17",
          "2024-09-18",
          "2024-09-19",
          "2024-09-20",
          "2024-09-23",
          "2024-09-24",
          "2024-09-25",
          "2024-09-26",
          "2024-09-27",
          "2024-09-30",
          "2024-10-01",
          "2024-10-02",
          "2024-10-03",
          "2024-10-04",
          "2024-10-07",
          "2024-10-08",
          "2024-10-09",
          "2024-10-10",
          "2024-10-11",
          "2024-10-14",
          "2024-10-15",
          "2024-10-16",
          "2024-10-17",
          "2024-10-18",
          "2024-10-21",
          "2024-10-22",
          "2024-10-23",
          "2024-10-24",
          "2024-10-25",
          "2024-10-28",
          "2024-10-29",
          "2024-10-30",
          "2024-10-31",
          "2024-11-01",
          "2024-11-04",
          "2024-11-05",
          "2024-11-06",
          "2024-11-07",
          "2024-11-08",
          "2024-11-11",
          "2024-11-13",
          "2024-11-14",
          "2024-11-15",
          "2024-11-18",
          "2024-11-19",
          "2024-11-20",
          "2024-11-21",
          "2024-11-22",
          "2024-11-25",
          "2024-11-26",
          "2024-11-27",
          "2024-11-29",
          "2024-12-02",
          "2024-12-03",
          "2024-12-04",
          "2024-12-05",
          "2024-12-06",
          "2024-12-09",
          "2024-12-10",
          "2024-12-11",
          "2024-12-12",
          "2024-12-13",
          "2024-12-16",
          "2024-12-17",
          "2024-12-18",
          "2024-12-19",
          "2024-12-20",
          "2024-12-23",
          "2024-12-24",
          "2024-12-27",
          "2024-12-30"
         ],
         "xaxis": "x",
         "y": {
          "bdata": "AAAAAADP00AAAAAAAM/TQAAAAAAAz9NAAAAAAADP00AAAAAAAM/TQAAAAAAAz9NAAAAAAADP00AAAAAAAM/TQAAAAAAAz9NAAAAAAADP00AAAAAAAM/TQAAAAAAAz9NAAAAAAADP00AAAAAAgA3UQAAAAACADdRAAAAAAIAN1EAAAAAAgA3UQAAAAACADdRAAAAAAIAN1EAAAAAAgA3UQAAAAACADdRAAAAAAIAN1EAAAAAAgA3UQAAAAACADdRAAAAAcG0B00AAAABAoSDTQAAAANGwSNNAAAAAAfR600AAAADdpFLTQAAAAPq3d9NAAAAA6RaT00AAAAD3QQ7UQAAAAChCb9NAAAAAXq1L00AAAAAx44jTQAAAANVFN9NAAAAAU9Et00AAAABT0S3TQAAAAABAFNNAAAAAAEAU00AAAAAAQBTTQAAAAABAFNNAAAAAAEAU00AAAAAAQBTTQAAAAABAFNNAAAAAAEAU00AAAAAAQBTTQAAAAABAFNNAAAAAAEAU00AAAAAAQBTTQAAAAAAAU9NAAAAAAABT00AAAAAAAFPTQAAAAAAAU9NAAAAAAABT00AAAAAAAFPTQAAAAAAAU9NAAAAAAABT00AAAAAAAFPTQAAAAAAAU9NAAAAAAABT00AAAAAAwI/TQAAAAADAj9NAAAAAAMCP00AAAAAAwI/TQAAAAADAj9NAAAAAAMCP00AAAAAAwI/TQAAAAADAj9NAAAAAAMCP00AAAAAAwI/TQAAAAADAj9NAAAAAAMCP00AAAAAAgN7TQAAAAACA3tNAAAAAAIDe00AAAAAAgN7TQAAAAACA3tNAAAAAAIDe00AAAAAAgN7TQAAAAACA3tNAAAAAAIDe00AAAAAAgN7TQAAAAACA3tNAAAAAAIDe00AAAAAAgN7TQAAAAACAGNRAAAAAAIAY1EAAAAAAgBjUQAAAAACAGNRAAAAAAIAY1EAAAAAAgBjUQAAAAACAGNRAAAAAAIAY1EAAAAAAQHvUQAAAAABAe9RAAAAAAEB71EAAAAAAQHvUQAAAAABAe9RAAAAAAEB71EAAAAAAQHvUQAAAAABAe9RAAAAAAEB71EAAAAAAQHvUQAAAAABAe9RAAAAAAEB71EAAAAAAQHvUQAAAAABAe9RAAAAAAEB71EAAAAAAQHvUQAAAAABAe9RAAAAAAEB71EAAAAAAQHvUQAAAAABAe9RAAAAAAEB71EAAAAAAANnUQAAAAAAA2dRAAAAAAADZ1EAAAAAAANnUQAAAAAAA2dRAAAAAAADZ1EAAAAAAANnUQAAAAAAA2dRAAAAAAADZ1EAAAAAAANnUQAAAAAAA2dRAAAAAAADZ1EAAAAAAANnUQAAAAAAA2dRAAAAAAADZ1EAAAAAAANnUQAAAAAAA2dRAAAAAAADZ1EAAAAAAANnUQAAAAAAA2dRAAAAAAADZ1EAAAAAAgCbVQAAAAACAJtVAAAAAAIAm1UAAAAAAgCbVQAAAAACAJtVAAAAAAIAm1UAAAAAAgCbVQAAAAACAJtVAAAAAAIAm1UAAAAAAgCbVQAAAAACAJtVAAAAAAIAm1UAAAAAAgCbVQAAAAACAJtVAAAAAAIAm1UAAAAAAAF7VQAAAAAAAXtVAAAAAAABe1UAAAAAAAF7VQAAAAAAAXtVAAAAAAABe1UAAAAAAAF7VQAAAAAAAXtVAAAAAAABe1UAAAAAAAF7VQAAAAAAAXtVAAAAAAABe1UAAAAAAAF7VQAAAAAAAXtVAAAAAAABe1UAAAAAAAF7VQAAAAAAAXtVAAAAAAABe1UAAAAAAAF7VQAAAAAAAXtVAAAAAAIC11UA=",
          "dtype": "f8"
         },
         "yaxis": "y"
        },
        {
         "customdata": [
          [
           "(-0.3, -0.2)",
           "(0.2, 0.3)"
          ],
          [
           "(-0.3, -0.2)",
           "(0.2, 0.3)"
          ],
          [
           "(-0.3, -0.2)",
           "(0.2, 0.3)"
          ],
          [
           "(-0.3, -0.2)",
           "(0.2, 0.3)"
          ],
          [
           "(-0.3, -0.2)",
           "(0.2, 0.3)"
          ],
          [
           "(-0.3, -0.2)",
           "(0.2, 0.3)"
          ],
          [
           "(-0.3, -0.2)",
           "(0.2, 0.3)"
          ],
          [
           "(-0.3, -0.2)",
           "(0.2, 0.3)"
          ],
          [
           "(-0.3, -0.2)",
           "(0.2, 0.3)"
          ],
          [
           "(-0.3, -0.2)",
           "(0.2, 0.3)"
          ],
          [
           "(-0.3, -0.2)",
           "(0.2, 0.3)"
          ],
          [
           "(-0.3, -0.2)",
           "(0.2, 0.3)"
          ],
          [
           "(-0.3, -0.2)",
           "(0.2, 0.3)"
          ],
          [
           "(-0.3, -0.2)",
           "(0.2, 0.3)"
          ],
          [
           "(-0.3, -0.2)",
           "(0.2, 0.3)"
          ],
          [
           "(-0.3, -0.2)",
           "(0.2, 0.3)"
          ],
          [
           "(-0.3, -0.2)",
           "(0.2, 0.3)"
          ],
          [
           "(-0.3, -0.2)",
           "(0.2, 0.3)"
          ],
          [
           "(-0.3, -0.2)",
           "(0.2, 0.3)"
          ],
          [
           "(-0.3, -0.2)",
           "(0.2, 0.3)"
          ],
          [
           "(-0.3, -0.2)",
           "(0.2, 0.3)"
          ],
          [
           "(-0.3, -0.2)",
           "(0.2, 0.3)"
          ],
          [
           "(-0.3, -0.2)",
           "(0.2, 0.3)"
          ],
          [
           "(-0.3, -0.2)",
           "(0.2, 0.3)"
          ],
          [
           "(-0.3, -0.2)",
           "(0.2, 0.3)"
          ],
          [
           "(-0.3, -0.2)",
           "(0.2, 0.3)"
          ],
          [
           "(-0.3, -0.2)",
           "(0.2, 0.3)"
          ],
          [
           "(-0.3, -0.2)",
           "(0.2, 0.3)"
          ],
          [
           "(-0.3, -0.2)",
           "(0.2, 0.3)"
          ],
          [
           "(-0.3, -0.2)",
           "(0.2, 0.3)"
          ],
          [
           "(-0.3, -0.2)",
           "(0.2, 0.3)"
          ],
          [
           "(-0.3, -0.2)",
           "(0.2, 0.3)"
          ],
          [
           "(-0.3, -0.2)",
           "(0.2, 0.3)"
          ],
          [
           "(-0.3, -0.2)",
           "(0.2, 0.3)"
          ],
          [
           "(-0.3, -0.2)",
           "(0.2, 0.3)"
          ],
          [
           "(-0.3, -0.2)",
           "(0.2, 0.3)"
          ],
          [
           "(-0.3, -0.2)",
           "(0.2, 0.3)"
          ],
          [
           "(-0.3, -0.2)",
           "(0.2, 0.3)"
          ],
          [
           "(-0.3, -0.2)",
           "(0.2, 0.3)"
          ],
          [
           "(-0.3, -0.2)",
           "(0.2, 0.3)"
          ],
          [
           "(-0.3, -0.2)",
           "(0.2, 0.3)"
          ],
          [
           "(-0.3, -0.2)",
           "(0.2, 0.3)"
          ],
          [
           "(-0.3, -0.2)",
           "(0.2, 0.3)"
          ],
          [
           "(-0.3, -0.2)",
           "(0.2, 0.3)"
          ],
          [
           "(-0.3, -0.2)",
           "(0.2, 0.3)"
          ],
          [
           "(-0.3, -0.2)",
           "(0.2, 0.3)"
          ],
          [
           "(-0.3, -0.2)",
           "(0.2, 0.3)"
          ],
          [
           "(-0.3, -0.2)",
           "(0.2, 0.3)"
          ],
          [
           "(-0.3, -0.2)",
           "(0.2, 0.3)"
          ],
          [
           "(-0.3, -0.2)",
           "(0.2, 0.3)"
          ],
          [
           "(-0.3, -0.2)",
           "(0.2, 0.3)"
          ],
          [
           "(-0.3, -0.2)",
           "(0.2, 0.3)"
          ],
          [
           "(-0.3, -0.2)",
           "(0.2, 0.3)"
          ],
          [
           "(-0.3, -0.2)",
           "(0.2, 0.3)"
          ],
          [
           "(-0.3, -0.2)",
           "(0.2, 0.3)"
          ],
          [
           "(-0.3, -0.2)",
           "(0.2, 0.3)"
          ],
          [
           "(-0.3, -0.2)",
           "(0.2, 0.3)"
          ],
          [
           "(-0.3, -0.2)",
           "(0.2, 0.3)"
          ],
          [
           "(-0.3, -0.2)",
           "(0.2, 0.3)"
          ],
          [
           "(-0.3, -0.2)",
           "(0.2, 0.3)"
          ],
          [
           "(-0.3, -0.2)",
           "(0.2, 0.3)"
          ],
          [
           "(-0.3, -0.2)",
           "(0.2, 0.3)"
          ],
          [
           "(-0.3, -0.2)",
           "(0.2, 0.3)"
          ],
          [
           "(-0.3, -0.2)",
           "(0.2, 0.3)"
          ],
          [
           "(-0.3, -0.2)",
           "(0.2, 0.3)"
          ],
          [
           "(-0.3, -0.2)",
           "(0.2, 0.3)"
          ],
          [
           "(-0.3, -0.2)",
           "(0.2, 0.3)"
          ],
          [
           "(-0.3, -0.2)",
           "(0.2, 0.3)"
          ],
          [
           "(-0.3, -0.2)",
           "(0.2, 0.3)"
          ],
          [
           "(-0.3, -0.2)",
           "(0.2, 0.3)"
          ],
          [
           "(-0.3, -0.2)",
           "(0.2, 0.3)"
          ],
          [
           "(-0.3, -0.2)",
           "(0.2, 0.3)"
          ],
          [
           "(-0.3, -0.2)",
           "(0.2, 0.3)"
          ],
          [
           "(-0.3, -0.2)",
           "(0.2, 0.3)"
          ],
          [
           "(-0.3, -0.2)",
           "(0.2, 0.3)"
          ],
          [
           "(-0.3, -0.2)",
           "(0.2, 0.3)"
          ],
          [
           "(-0.3, -0.2)",
           "(0.2, 0.3)"
          ],
          [
           "(-0.3, -0.2)",
           "(0.2, 0.3)"
          ],
          [
           "(-0.3, -0.2)",
           "(0.2, 0.3)"
          ],
          [
           "(-0.3, -0.2)",
           "(0.2, 0.3)"
          ],
          [
           "(-0.3, -0.2)",
           "(0.2, 0.3)"
          ],
          [
           "(-0.3, -0.2)",
           "(0.2, 0.3)"
          ],
          [
           "(-0.3, -0.2)",
           "(0.2, 0.3)"
          ],
          [
           "(-0.3, -0.2)",
           "(0.2, 0.3)"
          ],
          [
           "(-0.3, -0.2)",
           "(0.2, 0.3)"
          ],
          [
           "(-0.3, -0.2)",
           "(0.2, 0.3)"
          ],
          [
           "(-0.3, -0.2)",
           "(0.2, 0.3)"
          ],
          [
           "(-0.3, -0.2)",
           "(0.2, 0.3)"
          ],
          [
           "(-0.3, -0.2)",
           "(0.2, 0.3)"
          ],
          [
           "(-0.3, -0.2)",
           "(0.2, 0.3)"
          ],
          [
           "(-0.3, -0.2)",
           "(0.2, 0.3)"
          ],
          [
           "(-0.3, -0.2)",
           "(0.2, 0.3)"
          ],
          [
           "(-0.3, -0.2)",
           "(0.2, 0.3)"
          ],
          [
           "(-0.3, -0.2)",
           "(0.2, 0.3)"
          ],
          [
           "(-0.3, -0.2)",
           "(0.2, 0.3)"
          ],
          [
           "(-0.3, -0.2)",
           "(0.2, 0.3)"
          ],
          [
           "(-0.3, -0.2)",
           "(0.2, 0.3)"
          ],
          [
           "(-0.3, -0.2)",
           "(0.2, 0.3)"
          ],
          [
           "(-0.3, -0.2)",
           "(0.2, 0.3)"
          ],
          [
           "(-0.3, -0.2)",
           "(0.2, 0.3)"
          ],
          [
           "(-0.3, -0.2)",
           "(0.2, 0.3)"
          ],
          [
           "(-0.3, -0.2)",
           "(0.2, 0.3)"
          ],
          [
           "(-0.3, -0.2)",
           "(0.2, 0.3)"
          ],
          [
           "(-0.3, -0.2)",
           "(0.2, 0.3)"
          ],
          [
           "(-0.3, -0.2)",
           "(0.2, 0.3)"
          ],
          [
           "(-0.3, -0.2)",
           "(0.2, 0.3)"
          ],
          [
           "(-0.3, -0.2)",
           "(0.2, 0.3)"
          ],
          [
           "(-0.3, -0.2)",
           "(0.2, 0.3)"
          ],
          [
           "(-0.3, -0.2)",
           "(0.2, 0.3)"
          ],
          [
           "(-0.3, -0.2)",
           "(0.2, 0.3)"
          ],
          [
           "(-0.3, -0.2)",
           "(0.2, 0.3)"
          ],
          [
           "(-0.3, -0.2)",
           "(0.2, 0.3)"
          ],
          [
           "(-0.3, -0.2)",
           "(0.2, 0.3)"
          ],
          [
           "(-0.3, -0.2)",
           "(0.2, 0.3)"
          ],
          [
           "(-0.3, -0.2)",
           "(0.2, 0.3)"
          ],
          [
           "(-0.3, -0.2)",
           "(0.2, 0.3)"
          ],
          [
           "(-0.3, -0.2)",
           "(0.2, 0.3)"
          ],
          [
           "(-0.3, -0.2)",
           "(0.2, 0.3)"
          ],
          [
           "(-0.3, -0.2)",
           "(0.2, 0.3)"
          ],
          [
           "(-0.3, -0.2)",
           "(0.2, 0.3)"
          ],
          [
           "(-0.3, -0.2)",
           "(0.2, 0.3)"
          ],
          [
           "(-0.3, -0.2)",
           "(0.2, 0.3)"
          ],
          [
           "(-0.3, -0.2)",
           "(0.2, 0.3)"
          ],
          [
           "(-0.3, -0.2)",
           "(0.2, 0.3)"
          ],
          [
           "(-0.3, -0.2)",
           "(0.2, 0.3)"
          ],
          [
           "(-0.3, -0.2)",
           "(0.2, 0.3)"
          ],
          [
           "(-0.3, -0.2)",
           "(0.2, 0.3)"
          ],
          [
           "(-0.3, -0.2)",
           "(0.2, 0.3)"
          ],
          [
           "(-0.3, -0.2)",
           "(0.2, 0.3)"
          ],
          [
           "(-0.3, -0.2)",
           "(0.2, 0.3)"
          ],
          [
           "(-0.3, -0.2)",
           "(0.2, 0.3)"
          ],
          [
           "(-0.3, -0.2)",
           "(0.2, 0.3)"
          ],
          [
           "(-0.3, -0.2)",
           "(0.2, 0.3)"
          ],
          [
           "(-0.3, -0.2)",
           "(0.2, 0.3)"
          ],
          [
           "(-0.3, -0.2)",
           "(0.2, 0.3)"
          ],
          [
           "(-0.3, -0.2)",
           "(0.2, 0.3)"
          ],
          [
           "(-0.3, -0.2)",
           "(0.2, 0.3)"
          ],
          [
           "(-0.3, -0.2)",
           "(0.2, 0.3)"
          ],
          [
           "(-0.3, -0.2)",
           "(0.2, 0.3)"
          ],
          [
           "(-0.3, -0.2)",
           "(0.2, 0.3)"
          ],
          [
           "(-0.3, -0.2)",
           "(0.2, 0.3)"
          ],
          [
           "(-0.3, -0.2)",
           "(0.2, 0.3)"
          ],
          [
           "(-0.3, -0.2)",
           "(0.2, 0.3)"
          ],
          [
           "(-0.3, -0.2)",
           "(0.2, 0.3)"
          ],
          [
           "(-0.3, -0.2)",
           "(0.2, 0.3)"
          ],
          [
           "(-0.3, -0.2)",
           "(0.2, 0.3)"
          ],
          [
           "(-0.3, -0.2)",
           "(0.2, 0.3)"
          ],
          [
           "(-0.3, -0.2)",
           "(0.2, 0.3)"
          ],
          [
           "(-0.3, -0.2)",
           "(0.2, 0.3)"
          ],
          [
           "(-0.3, -0.2)",
           "(0.2, 0.3)"
          ],
          [
           "(-0.3, -0.2)",
           "(0.2, 0.3)"
          ],
          [
           "(-0.3, -0.2)",
           "(0.2, 0.3)"
          ],
          [
           "(-0.3, -0.2)",
           "(0.2, 0.3)"
          ],
          [
           "(-0.3, -0.2)",
           "(0.2, 0.3)"
          ],
          [
           "(-0.3, -0.2)",
           "(0.2, 0.3)"
          ],
          [
           "(-0.3, -0.2)",
           "(0.2, 0.3)"
          ],
          [
           "(-0.3, -0.2)",
           "(0.2, 0.3)"
          ],
          [
           "(-0.3, -0.2)",
           "(0.2, 0.3)"
          ],
          [
           "(-0.3, -0.2)",
           "(0.2, 0.3)"
          ],
          [
           "(-0.3, -0.2)",
           "(0.2, 0.3)"
          ],
          [
           "(-0.3, -0.2)",
           "(0.2, 0.3)"
          ],
          [
           "(-0.3, -0.2)",
           "(0.2, 0.3)"
          ],
          [
           "(-0.3, -0.2)",
           "(0.2, 0.3)"
          ],
          [
           "(-0.3, -0.2)",
           "(0.2, 0.3)"
          ],
          [
           "(-0.3, -0.2)",
           "(0.2, 0.3)"
          ],
          [
           "(-0.3, -0.2)",
           "(0.2, 0.3)"
          ],
          [
           "(-0.3, -0.2)",
           "(0.2, 0.3)"
          ],
          [
           "(-0.3, -0.2)",
           "(0.2, 0.3)"
          ],
          [
           "(-0.3, -0.2)",
           "(0.2, 0.3)"
          ],
          [
           "(-0.3, -0.2)",
           "(0.2, 0.3)"
          ],
          [
           "(-0.3, -0.2)",
           "(0.2, 0.3)"
          ],
          [
           "(-0.3, -0.2)",
           "(0.2, 0.3)"
          ]
         ],
         "hovertemplate": "<b>Date:</b> %{x}<br><b>Portfolio Value:</b> %{y}<br><b>Put Delta Range:</b> %{customdata[0]}<br><b>Call Delta Range:</b> %{customdata[1]}",
         "legendgroup": "Put: (-0.3, -0.2), Call: (0.2, 0.3)",
         "line": {
          "color": "#636efa",
          "dash": "solid"
         },
         "marker": {
          "symbol": "circle"
         },
         "mode": "lines",
         "name": "Put: (-0.3, -0.2), Call: (0.2, 0.3)",
         "showlegend": true,
         "type": "scattergl",
         "x": [
          "2024-01-03",
          "2024-01-05",
          "2024-01-08",
          "2024-01-10",
          "2024-01-12",
          "2024-01-17",
          "2024-01-19",
          "2024-01-22",
          "2024-01-24",
          "2024-01-26",
          "2024-01-29",
          "2024-01-31",
          "2024-02-02",
          "2024-02-05",
          "2024-02-07",
          "2024-02-09",
          "2024-02-12",
          "2024-02-14",
          "2024-02-16",
          "2024-02-21",
          "2024-02-23",
          "2024-02-26",
          "2024-02-28",
          "2024-03-01",
          "2024-03-04",
          "2024-03-06",
          "2024-03-08",
          "2024-03-11",
          "2024-03-13",
          "2024-03-15",
          "2024-03-18",
          "2024-03-20",
          "2024-03-22",
          "2024-03-25",
          "2024-03-27",
          "2024-04-01",
          "2024-04-03",
          "2024-04-05",
          "2024-04-08",
          "2024-04-10",
          "2024-04-12",
          "2024-04-15",
          "2024-04-17",
          "2024-04-19",
          "2024-04-22",
          "2024-04-24",
          "2024-04-26",
          "2024-04-29",
          "2024-05-01",
          "2024-05-03",
          "2024-05-06",
          "2024-05-08",
          "2024-05-10",
          "2024-05-13",
          "2024-05-15",
          "2024-05-17",
          "2024-05-20",
          "2024-05-22",
          "2024-05-24",
          "2024-05-29",
          "2024-05-31",
          "2024-06-03",
          "2024-06-05",
          "2024-06-07",
          "2024-06-10",
          "2024-06-12",
          "2024-06-14",
          "2024-06-17",
          "2024-06-21",
          "2024-06-24",
          "2024-06-26",
          "2024-06-28",
          "2024-07-01",
          "2024-07-03",
          "2024-07-05",
          "2024-07-08",
          "2024-07-10",
          "2024-07-12",
          "2024-07-15",
          "2024-07-17",
          "2024-07-19",
          "2024-07-22",
          "2024-07-24",
          "2024-07-26",
          "2024-07-29",
          "2024-08-12",
          "2024-08-14",
          "2024-08-16",
          "2024-08-19",
          "2024-08-21",
          "2024-08-23",
          "2024-08-26",
          "2024-08-28",
          "2024-08-30",
          "2024-09-04",
          "2024-09-06",
          "2024-09-09",
          "2024-09-11",
          "2024-09-12",
          "2024-09-13",
          "2024-09-16",
          "2024-09-17",
          "2024-09-18",
          "2024-09-19",
          "2024-09-20",
          "2024-09-23",
          "2024-09-24",
          "2024-09-25",
          "2024-09-26",
          "2024-09-27",
          "2024-09-30",
          "2024-10-01",
          "2024-10-02",
          "2024-10-03",
          "2024-10-04",
          "2024-10-07",
          "2024-10-08",
          "2024-10-09",
          "2024-10-10",
          "2024-10-11",
          "2024-10-14",
          "2024-10-15",
          "2024-10-16",
          "2024-10-17",
          "2024-10-18",
          "2024-10-21",
          "2024-10-22",
          "2024-10-23",
          "2024-10-24",
          "2024-10-25",
          "2024-10-28",
          "2024-10-29",
          "2024-10-30",
          "2024-10-31",
          "2024-11-01",
          "2024-11-04",
          "2024-11-05",
          "2024-11-06",
          "2024-11-07",
          "2024-11-08",
          "2024-11-11",
          "2024-11-13",
          "2024-11-14",
          "2024-11-15",
          "2024-11-18",
          "2024-11-19",
          "2024-11-20",
          "2024-11-21",
          "2024-11-22",
          "2024-11-25",
          "2024-11-26",
          "2024-11-27",
          "2024-11-29",
          "2024-12-02",
          "2024-12-03",
          "2024-12-04",
          "2024-12-05",
          "2024-12-06",
          "2024-12-09",
          "2024-12-10",
          "2024-12-11",
          "2024-12-12",
          "2024-12-13",
          "2024-12-16",
          "2024-12-17",
          "2024-12-18",
          "2024-12-19",
          "2024-12-20",
          "2024-12-23",
          "2024-12-24",
          "2024-12-27",
          "2024-12-30"
         ],
         "xaxis": "x",
         "y": {
          "bdata": "AAAAAICw00AAAAAAgLDTQAAAAACAsNNAAAAAAICw00AAAAAAgLDTQAAAAACAsNNAAAAAAICw00AAAAAAgLDTQAAAAACAsNNAAAAAAICw00AAAAAAgLDTQAAAAACAsNNAAAAAAICw00AAAAAAgM7TQAAAAACAztNAAAAAAIDO00AAAAAAgM7TQAAAAACAztNAAAAAAIDO00AAAAAAgM7TQAAAAACAztNAAAAAAIDO00AAAAAAgM7TQAAAAACAztNAAAAAcG0/00AAAABAIczSQAAAANEw9NJAAAAAAXQm00AAAADdJP7SQAAAAPo3I9NAAAAA6ZY+00AAAAD3wbnTQAAAAPfBudNAAAAAXm0b00AAAAAxo1jTQAAAANUFB9NAAAAAU5H90kAAAABt0/vSQAAAAHq139JAAAAAggnP0kAAAADEQanTQAAAAOA1SdNAAAAA+YLU0kAAAAD5gtTSQAAAAMuDx9JAAAAAPaQW00AAAADumx3TQAAAAHIdhtNAAAAA7psd00AAAABo9HvUQAEAALZmUtRAAAAAvwds1EAAAAC063nUQAEAAIlmytRA/v//0Rwg1UD+///RHCDVQAAAAAAA4tNAAAAAAADi00AAAAAAAOLTQAAAAAAA4tNAAAAAAADi00AAAAAAAOLTQAAAAAAA4tNAAAAAAADi00AAAAAAAOLTQAAAAAAA4tNAAAAAAADi00AAAAAAwBXUQAAAAADAFdRAAAAAAMAV1EAAAAAAwBXUQAAAAADAFdRAAAAAAMAV1EAAAAAAwBXUQAAAAADAFdRAAAAAAMAV1EAAAAAAwBXUQAAAAADAFdRAAAAAAABd1EAAAAAAAF3UQAAAAAAAXdRAAAAAAABd1EAAAAAAAF3UQAAAAAAAXdRAAAAAAABd1EAAAAAAAF3UQAAAAMzTGtRAAAAA+NaG1EAAAAAx2YLUQAAAAO6Rj9RAAAAAy4ua1ED////7BqPUQP///7vQkdRA////u9CR1EABAAAJYDLUQAAAAIigMdRAAAAAJN8z1EAAAACIhl/UQP////hEYtRAAQAA2ohb1EABAAC3X8HTQP////sYzdNAAAAAQmIu1EAAAABFb/rUQAAAAEVv+tRAAAAAANHs1EAAAABdRAPVQAAAAG1S6tRA////RQIH1UAAAABlvg3VQAAAAEu1j9VAAAAAv1Tm1EAAAACwjPTUQAEAADbc2NRAAAAAbAz11ED+//8xlHXUQAAAAOJa29RAAAAA4mU51UD////p7CzVQAAAAODBB9VAAAAAJE1l1UD+//9R6aTVQAAAAGBGcdVAAAAAK4F61UAAAAArgXrVQAEAAFcEDtZAAAAAEI3+1UAAAAC0VH/VQAAAAIWXetVAAAAAlYuP1UABAACXL8HVQAAAAM/rx9VAAAAA9d1u1UAAAADtWAbVQAAAAASDu9RA////pg+l1EAAAAB0+8jUQP///7vFttRAAAAAzoIt1UAAAAC7xCbVQP///+WX4tRAAAAApdH41EAAAADoO0bVQAAAAOg7RtVAAAAAS/1s1UD///9me3PVQAAAAFV2hdVA////xnl51UAAAAA/MJvVQP///yYb5tVAAAAAvcsc1kAAAACvjBnWQP///9h7VdZAAAAA5euN1kAAAABlVtrWQP///9tT49ZAAAAAqBPk1kAAAAALFd/WQAAAAKC5QNdAAAAAbTJa10AAAABrOzrXQAAAACzxXtdAAAAALPFe10AAAAAAwFPWQAAAAADAU9ZAAAAAAMBT1kAAAAAAwFPWQAAAAADAU9ZAAAAAAMBT1kAAAAAAwFPWQAAAAADAU9ZAAAAAAMBT1kA=",
          "dtype": "f8"
         },
         "yaxis": "y"
        },
        {
         "customdata": [
          [
           "(-0.3, -0.2)",
           "(0.3, 0.4)"
          ],
          [
           "(-0.3, -0.2)",
           "(0.3, 0.4)"
          ],
          [
           "(-0.3, -0.2)",
           "(0.3, 0.4)"
          ],
          [
           "(-0.3, -0.2)",
           "(0.3, 0.4)"
          ],
          [
           "(-0.3, -0.2)",
           "(0.3, 0.4)"
          ],
          [
           "(-0.3, -0.2)",
           "(0.3, 0.4)"
          ],
          [
           "(-0.3, -0.2)",
           "(0.3, 0.4)"
          ],
          [
           "(-0.3, -0.2)",
           "(0.3, 0.4)"
          ],
          [
           "(-0.3, -0.2)",
           "(0.3, 0.4)"
          ],
          [
           "(-0.3, -0.2)",
           "(0.3, 0.4)"
          ],
          [
           "(-0.3, -0.2)",
           "(0.3, 0.4)"
          ],
          [
           "(-0.3, -0.2)",
           "(0.3, 0.4)"
          ],
          [
           "(-0.3, -0.2)",
           "(0.3, 0.4)"
          ],
          [
           "(-0.3, -0.2)",
           "(0.3, 0.4)"
          ],
          [
           "(-0.3, -0.2)",
           "(0.3, 0.4)"
          ],
          [
           "(-0.3, -0.2)",
           "(0.3, 0.4)"
          ],
          [
           "(-0.3, -0.2)",
           "(0.3, 0.4)"
          ],
          [
           "(-0.3, -0.2)",
           "(0.3, 0.4)"
          ],
          [
           "(-0.3, -0.2)",
           "(0.3, 0.4)"
          ],
          [
           "(-0.3, -0.2)",
           "(0.3, 0.4)"
          ],
          [
           "(-0.3, -0.2)",
           "(0.3, 0.4)"
          ],
          [
           "(-0.3, -0.2)",
           "(0.3, 0.4)"
          ],
          [
           "(-0.3, -0.2)",
           "(0.3, 0.4)"
          ],
          [
           "(-0.3, -0.2)",
           "(0.3, 0.4)"
          ],
          [
           "(-0.3, -0.2)",
           "(0.3, 0.4)"
          ],
          [
           "(-0.3, -0.2)",
           "(0.3, 0.4)"
          ],
          [
           "(-0.3, -0.2)",
           "(0.3, 0.4)"
          ],
          [
           "(-0.3, -0.2)",
           "(0.3, 0.4)"
          ],
          [
           "(-0.3, -0.2)",
           "(0.3, 0.4)"
          ],
          [
           "(-0.3, -0.2)",
           "(0.3, 0.4)"
          ],
          [
           "(-0.3, -0.2)",
           "(0.3, 0.4)"
          ],
          [
           "(-0.3, -0.2)",
           "(0.3, 0.4)"
          ],
          [
           "(-0.3, -0.2)",
           "(0.3, 0.4)"
          ],
          [
           "(-0.3, -0.2)",
           "(0.3, 0.4)"
          ],
          [
           "(-0.3, -0.2)",
           "(0.3, 0.4)"
          ],
          [
           "(-0.3, -0.2)",
           "(0.3, 0.4)"
          ],
          [
           "(-0.3, -0.2)",
           "(0.3, 0.4)"
          ],
          [
           "(-0.3, -0.2)",
           "(0.3, 0.4)"
          ],
          [
           "(-0.3, -0.2)",
           "(0.3, 0.4)"
          ],
          [
           "(-0.3, -0.2)",
           "(0.3, 0.4)"
          ],
          [
           "(-0.3, -0.2)",
           "(0.3, 0.4)"
          ],
          [
           "(-0.3, -0.2)",
           "(0.3, 0.4)"
          ],
          [
           "(-0.3, -0.2)",
           "(0.3, 0.4)"
          ],
          [
           "(-0.3, -0.2)",
           "(0.3, 0.4)"
          ],
          [
           "(-0.3, -0.2)",
           "(0.3, 0.4)"
          ],
          [
           "(-0.3, -0.2)",
           "(0.3, 0.4)"
          ],
          [
           "(-0.3, -0.2)",
           "(0.3, 0.4)"
          ],
          [
           "(-0.3, -0.2)",
           "(0.3, 0.4)"
          ],
          [
           "(-0.3, -0.2)",
           "(0.3, 0.4)"
          ],
          [
           "(-0.3, -0.2)",
           "(0.3, 0.4)"
          ],
          [
           "(-0.3, -0.2)",
           "(0.3, 0.4)"
          ],
          [
           "(-0.3, -0.2)",
           "(0.3, 0.4)"
          ],
          [
           "(-0.3, -0.2)",
           "(0.3, 0.4)"
          ],
          [
           "(-0.3, -0.2)",
           "(0.3, 0.4)"
          ],
          [
           "(-0.3, -0.2)",
           "(0.3, 0.4)"
          ],
          [
           "(-0.3, -0.2)",
           "(0.3, 0.4)"
          ],
          [
           "(-0.3, -0.2)",
           "(0.3, 0.4)"
          ],
          [
           "(-0.3, -0.2)",
           "(0.3, 0.4)"
          ],
          [
           "(-0.3, -0.2)",
           "(0.3, 0.4)"
          ],
          [
           "(-0.3, -0.2)",
           "(0.3, 0.4)"
          ],
          [
           "(-0.3, -0.2)",
           "(0.3, 0.4)"
          ],
          [
           "(-0.3, -0.2)",
           "(0.3, 0.4)"
          ],
          [
           "(-0.3, -0.2)",
           "(0.3, 0.4)"
          ],
          [
           "(-0.3, -0.2)",
           "(0.3, 0.4)"
          ],
          [
           "(-0.3, -0.2)",
           "(0.3, 0.4)"
          ],
          [
           "(-0.3, -0.2)",
           "(0.3, 0.4)"
          ],
          [
           "(-0.3, -0.2)",
           "(0.3, 0.4)"
          ],
          [
           "(-0.3, -0.2)",
           "(0.3, 0.4)"
          ],
          [
           "(-0.3, -0.2)",
           "(0.3, 0.4)"
          ],
          [
           "(-0.3, -0.2)",
           "(0.3, 0.4)"
          ],
          [
           "(-0.3, -0.2)",
           "(0.3, 0.4)"
          ],
          [
           "(-0.3, -0.2)",
           "(0.3, 0.4)"
          ],
          [
           "(-0.3, -0.2)",
           "(0.3, 0.4)"
          ],
          [
           "(-0.3, -0.2)",
           "(0.3, 0.4)"
          ],
          [
           "(-0.3, -0.2)",
           "(0.3, 0.4)"
          ],
          [
           "(-0.3, -0.2)",
           "(0.3, 0.4)"
          ],
          [
           "(-0.3, -0.2)",
           "(0.3, 0.4)"
          ],
          [
           "(-0.3, -0.2)",
           "(0.3, 0.4)"
          ],
          [
           "(-0.3, -0.2)",
           "(0.3, 0.4)"
          ],
          [
           "(-0.3, -0.2)",
           "(0.3, 0.4)"
          ],
          [
           "(-0.3, -0.2)",
           "(0.3, 0.4)"
          ],
          [
           "(-0.3, -0.2)",
           "(0.3, 0.4)"
          ],
          [
           "(-0.3, -0.2)",
           "(0.3, 0.4)"
          ],
          [
           "(-0.3, -0.2)",
           "(0.3, 0.4)"
          ],
          [
           "(-0.3, -0.2)",
           "(0.3, 0.4)"
          ],
          [
           "(-0.3, -0.2)",
           "(0.3, 0.4)"
          ],
          [
           "(-0.3, -0.2)",
           "(0.3, 0.4)"
          ],
          [
           "(-0.3, -0.2)",
           "(0.3, 0.4)"
          ],
          [
           "(-0.3, -0.2)",
           "(0.3, 0.4)"
          ],
          [
           "(-0.3, -0.2)",
           "(0.3, 0.4)"
          ],
          [
           "(-0.3, -0.2)",
           "(0.3, 0.4)"
          ],
          [
           "(-0.3, -0.2)",
           "(0.3, 0.4)"
          ],
          [
           "(-0.3, -0.2)",
           "(0.3, 0.4)"
          ],
          [
           "(-0.3, -0.2)",
           "(0.3, 0.4)"
          ],
          [
           "(-0.3, -0.2)",
           "(0.3, 0.4)"
          ],
          [
           "(-0.3, -0.2)",
           "(0.3, 0.4)"
          ],
          [
           "(-0.3, -0.2)",
           "(0.3, 0.4)"
          ],
          [
           "(-0.3, -0.2)",
           "(0.3, 0.4)"
          ],
          [
           "(-0.3, -0.2)",
           "(0.3, 0.4)"
          ],
          [
           "(-0.3, -0.2)",
           "(0.3, 0.4)"
          ],
          [
           "(-0.3, -0.2)",
           "(0.3, 0.4)"
          ],
          [
           "(-0.3, -0.2)",
           "(0.3, 0.4)"
          ],
          [
           "(-0.3, -0.2)",
           "(0.3, 0.4)"
          ],
          [
           "(-0.3, -0.2)",
           "(0.3, 0.4)"
          ],
          [
           "(-0.3, -0.2)",
           "(0.3, 0.4)"
          ],
          [
           "(-0.3, -0.2)",
           "(0.3, 0.4)"
          ],
          [
           "(-0.3, -0.2)",
           "(0.3, 0.4)"
          ],
          [
           "(-0.3, -0.2)",
           "(0.3, 0.4)"
          ],
          [
           "(-0.3, -0.2)",
           "(0.3, 0.4)"
          ],
          [
           "(-0.3, -0.2)",
           "(0.3, 0.4)"
          ],
          [
           "(-0.3, -0.2)",
           "(0.3, 0.4)"
          ],
          [
           "(-0.3, -0.2)",
           "(0.3, 0.4)"
          ],
          [
           "(-0.3, -0.2)",
           "(0.3, 0.4)"
          ],
          [
           "(-0.3, -0.2)",
           "(0.3, 0.4)"
          ],
          [
           "(-0.3, -0.2)",
           "(0.3, 0.4)"
          ],
          [
           "(-0.3, -0.2)",
           "(0.3, 0.4)"
          ],
          [
           "(-0.3, -0.2)",
           "(0.3, 0.4)"
          ],
          [
           "(-0.3, -0.2)",
           "(0.3, 0.4)"
          ],
          [
           "(-0.3, -0.2)",
           "(0.3, 0.4)"
          ],
          [
           "(-0.3, -0.2)",
           "(0.3, 0.4)"
          ],
          [
           "(-0.3, -0.2)",
           "(0.3, 0.4)"
          ],
          [
           "(-0.3, -0.2)",
           "(0.3, 0.4)"
          ],
          [
           "(-0.3, -0.2)",
           "(0.3, 0.4)"
          ],
          [
           "(-0.3, -0.2)",
           "(0.3, 0.4)"
          ],
          [
           "(-0.3, -0.2)",
           "(0.3, 0.4)"
          ],
          [
           "(-0.3, -0.2)",
           "(0.3, 0.4)"
          ],
          [
           "(-0.3, -0.2)",
           "(0.3, 0.4)"
          ],
          [
           "(-0.3, -0.2)",
           "(0.3, 0.4)"
          ],
          [
           "(-0.3, -0.2)",
           "(0.3, 0.4)"
          ],
          [
           "(-0.3, -0.2)",
           "(0.3, 0.4)"
          ],
          [
           "(-0.3, -0.2)",
           "(0.3, 0.4)"
          ],
          [
           "(-0.3, -0.2)",
           "(0.3, 0.4)"
          ],
          [
           "(-0.3, -0.2)",
           "(0.3, 0.4)"
          ],
          [
           "(-0.3, -0.2)",
           "(0.3, 0.4)"
          ],
          [
           "(-0.3, -0.2)",
           "(0.3, 0.4)"
          ],
          [
           "(-0.3, -0.2)",
           "(0.3, 0.4)"
          ],
          [
           "(-0.3, -0.2)",
           "(0.3, 0.4)"
          ],
          [
           "(-0.3, -0.2)",
           "(0.3, 0.4)"
          ],
          [
           "(-0.3, -0.2)",
           "(0.3, 0.4)"
          ],
          [
           "(-0.3, -0.2)",
           "(0.3, 0.4)"
          ],
          [
           "(-0.3, -0.2)",
           "(0.3, 0.4)"
          ],
          [
           "(-0.3, -0.2)",
           "(0.3, 0.4)"
          ],
          [
           "(-0.3, -0.2)",
           "(0.3, 0.4)"
          ],
          [
           "(-0.3, -0.2)",
           "(0.3, 0.4)"
          ],
          [
           "(-0.3, -0.2)",
           "(0.3, 0.4)"
          ],
          [
           "(-0.3, -0.2)",
           "(0.3, 0.4)"
          ],
          [
           "(-0.3, -0.2)",
           "(0.3, 0.4)"
          ],
          [
           "(-0.3, -0.2)",
           "(0.3, 0.4)"
          ],
          [
           "(-0.3, -0.2)",
           "(0.3, 0.4)"
          ],
          [
           "(-0.3, -0.2)",
           "(0.3, 0.4)"
          ],
          [
           "(-0.3, -0.2)",
           "(0.3, 0.4)"
          ],
          [
           "(-0.3, -0.2)",
           "(0.3, 0.4)"
          ],
          [
           "(-0.3, -0.2)",
           "(0.3, 0.4)"
          ],
          [
           "(-0.3, -0.2)",
           "(0.3, 0.4)"
          ],
          [
           "(-0.3, -0.2)",
           "(0.3, 0.4)"
          ],
          [
           "(-0.3, -0.2)",
           "(0.3, 0.4)"
          ],
          [
           "(-0.3, -0.2)",
           "(0.3, 0.4)"
          ],
          [
           "(-0.3, -0.2)",
           "(0.3, 0.4)"
          ],
          [
           "(-0.3, -0.2)",
           "(0.3, 0.4)"
          ],
          [
           "(-0.3, -0.2)",
           "(0.3, 0.4)"
          ],
          [
           "(-0.3, -0.2)",
           "(0.3, 0.4)"
          ],
          [
           "(-0.3, -0.2)",
           "(0.3, 0.4)"
          ],
          [
           "(-0.3, -0.2)",
           "(0.3, 0.4)"
          ],
          [
           "(-0.3, -0.2)",
           "(0.3, 0.4)"
          ],
          [
           "(-0.3, -0.2)",
           "(0.3, 0.4)"
          ],
          [
           "(-0.3, -0.2)",
           "(0.3, 0.4)"
          ],
          [
           "(-0.3, -0.2)",
           "(0.3, 0.4)"
          ],
          [
           "(-0.3, -0.2)",
           "(0.3, 0.4)"
          ],
          [
           "(-0.3, -0.2)",
           "(0.3, 0.4)"
          ],
          [
           "(-0.3, -0.2)",
           "(0.3, 0.4)"
          ],
          [
           "(-0.3, -0.2)",
           "(0.3, 0.4)"
          ],
          [
           "(-0.3, -0.2)",
           "(0.3, 0.4)"
          ]
         ],
         "hovertemplate": "<b>Date:</b> %{x}<br><b>Portfolio Value:</b> %{y}<br><b>Put Delta Range:</b> %{customdata[0]}<br><b>Call Delta Range:</b> %{customdata[1]}",
         "legendgroup": "Put: (-0.3, -0.2), Call: (0.3, 0.4)",
         "line": {
          "color": "#EF553B",
          "dash": "solid"
         },
         "marker": {
          "symbol": "circle"
         },
         "mode": "lines",
         "name": "Put: (-0.3, -0.2), Call: (0.3, 0.4)",
         "showlegend": true,
         "type": "scattergl",
         "x": [
          "2024-01-03",
          "2024-01-05",
          "2024-01-08",
          "2024-01-10",
          "2024-01-12",
          "2024-01-17",
          "2024-01-19",
          "2024-01-22",
          "2024-01-24",
          "2024-01-26",
          "2024-01-29",
          "2024-01-31",
          "2024-02-02",
          "2024-02-05",
          "2024-02-07",
          "2024-02-09",
          "2024-02-12",
          "2024-02-14",
          "2024-02-16",
          "2024-02-21",
          "2024-02-23",
          "2024-02-26",
          "2024-02-28",
          "2024-03-01",
          "2024-03-04",
          "2024-03-06",
          "2024-03-08",
          "2024-03-11",
          "2024-03-13",
          "2024-03-15",
          "2024-03-18",
          "2024-03-20",
          "2024-03-22",
          "2024-03-25",
          "2024-03-27",
          "2024-04-01",
          "2024-04-03",
          "2024-04-05",
          "2024-04-08",
          "2024-04-10",
          "2024-04-12",
          "2024-04-15",
          "2024-04-17",
          "2024-04-19",
          "2024-04-22",
          "2024-04-24",
          "2024-04-26",
          "2024-04-29",
          "2024-05-01",
          "2024-05-03",
          "2024-05-06",
          "2024-05-08",
          "2024-05-10",
          "2024-05-13",
          "2024-05-15",
          "2024-05-17",
          "2024-05-20",
          "2024-05-22",
          "2024-05-24",
          "2024-05-29",
          "2024-05-31",
          "2024-06-03",
          "2024-06-05",
          "2024-06-07",
          "2024-06-10",
          "2024-06-12",
          "2024-06-14",
          "2024-06-17",
          "2024-06-21",
          "2024-06-24",
          "2024-06-26",
          "2024-06-28",
          "2024-07-01",
          "2024-07-03",
          "2024-07-05",
          "2024-07-08",
          "2024-07-10",
          "2024-07-12",
          "2024-07-15",
          "2024-07-17",
          "2024-07-19",
          "2024-07-22",
          "2024-07-24",
          "2024-07-26",
          "2024-07-29",
          "2024-08-12",
          "2024-08-14",
          "2024-08-16",
          "2024-08-19",
          "2024-08-21",
          "2024-08-23",
          "2024-08-26",
          "2024-08-28",
          "2024-08-30",
          "2024-09-04",
          "2024-09-06",
          "2024-09-09",
          "2024-09-11",
          "2024-09-12",
          "2024-09-13",
          "2024-09-16",
          "2024-09-17",
          "2024-09-18",
          "2024-09-19",
          "2024-09-20",
          "2024-09-23",
          "2024-09-24",
          "2024-09-25",
          "2024-09-26",
          "2024-09-27",
          "2024-09-30",
          "2024-10-01",
          "2024-10-02",
          "2024-10-03",
          "2024-10-04",
          "2024-10-07",
          "2024-10-08",
          "2024-10-09",
          "2024-10-10",
          "2024-10-11",
          "2024-10-14",
          "2024-10-15",
          "2024-10-16",
          "2024-10-17",
          "2024-10-18",
          "2024-10-21",
          "2024-10-22",
          "2024-10-23",
          "2024-10-24",
          "2024-10-25",
          "2024-10-28",
          "2024-10-29",
          "2024-10-30",
          "2024-10-31",
          "2024-11-01",
          "2024-11-04",
          "2024-11-05",
          "2024-11-06",
          "2024-11-07",
          "2024-11-08",
          "2024-11-11",
          "2024-11-13",
          "2024-11-14",
          "2024-11-15",
          "2024-11-18",
          "2024-11-19",
          "2024-11-20",
          "2024-11-21",
          "2024-11-22",
          "2024-11-25",
          "2024-11-26",
          "2024-11-27",
          "2024-11-29",
          "2024-12-02",
          "2024-12-03",
          "2024-12-04",
          "2024-12-05",
          "2024-12-06",
          "2024-12-09",
          "2024-12-10",
          "2024-12-11",
          "2024-12-12",
          "2024-12-13",
          "2024-12-16",
          "2024-12-17",
          "2024-12-18",
          "2024-12-19",
          "2024-12-20",
          "2024-12-23",
          "2024-12-24",
          "2024-12-27",
          "2024-12-30"
         ],
         "xaxis": "x",
         "y": {
          "bdata": "AAAAAICw00AAAAAAgLDTQAAAAACAsNNAAAAAAICw00AAAAAAgLDTQAAAAACAsNNAAAAAAICw00AAAAAAgLDTQAAAAACAsNNAAAAAAICw00AAAAAAgLDTQAAAAACAsNNAAAAAAICw00AAAAAAgM7TQAAAAACAztNAAAAAAIDO00AAAAAAgM7TQAAAAACAztNAAAAAAIDO00AAAAAAgM7TQAAAAACAztNAAAAAAIDO00AAAAAAgM7TQAAAAACAztNAAAAAcG0/00AAAABAIeLSQAAAANEwCtNAAAAAAXQ800AAAADdJBTTQAAAAPo3OdNAAAAA6ZZU00AAAAD3wc/TQAAAACjCMNNAAAAAXi0N00AAAAAxY0rTQAAAANXF+NJAAAAAU1Hv0kAAAABTUe/SQAAAAHo1CdNAAAAAgon40kAAAADEwdLTQAAAAOC1ctNAAAAA+QL+0kAAAAA1XbPSQAAAAMtDyNJAAAAAPWQX00AAAADuWx7TQAAAAHLdhtNAAAAA7lse00AAAADuWx7TQAAAAABA3NNAAAAAAEDc00AAAAAAQNzTQAAAAABA3NNAAAAAAEDc00AAAAAAQNzTQAAAAABA3NNAAAAAAEDc00AAAAAAQNzTQAAAAABA3NNAAAAAAEDc00AAAAAAQNzTQAAAAACADtRAAAAAAIAO1EAAAAAAgA7UQAAAAACADtRAAAAAAIAO1EAAAAAAgA7UQAAAAACADtRAAAAAAIAO1EAAAAAAgA7UQAAAAACADtRAAAAAAIAO1EAAAAAAgA7UQAAAAACADtRAAAAAAIBT1EAAAAAAgFPUQAAAAACAU9RAAAAAAIBT1EAAAAAAgFPUQAAAAACAU9RAAAAAAIBT1EAAAAAAgFPUQAAAAACAU9RAAAAAAIBT1EAAAAAAgFPUQAAAAMyTsNRAAAAA+JYc1UAAAAAxmRjVQAAAAO5RJdVAAAAAy0sw1UD////7xjjVQP///7uQJ9VA/v//cS1m1UABAAAJ4JrUQAAAAIggmtRAAAAAJF+c1EAAAACIBsjUQP////jEytRA////+MTK1EABAAC33ynUQP////uYNdRAAAAAQuLc1EAAAABF76jVQAAAAKg4mNVAAAAAABFt1UAAAABdhIPVQAAAAG2SatVA////RUKH1UAAAABl/o3VQAAAAEv1D9ZAAAAAv5Rm1UAAAACwzHTVQAEAADYcWdVAAQAANhxZ1UAAAAAAwJPVQAAAAADAk9VAAAAAAMCT1UAAAAAAwJPVQAAAAADAk9VAAAAAAMCT1UAAAAAAwJPVQAAAAADAk9VAAAAAAMCT1UAAAAAAwJPVQAAAAADAk9VAAAAAAMCT1UAAAAAAwJPVQAAAAADAk9VAAAAAAMCT1UAAAAAAwJPVQAAAAADAk9VAAAAAAMCT1UAAAAAAwJPVQAAAAADAk9VAAAAAAADZ1UAAAAAAANnVQAAAAAAA2dVAAAAAAADZ1UAAAAAAANnVQAAAAAAA2dVAAAAAAADZ1UAAAAAAANnVQAAAAAAA2dVAAAAAAADZ1UAAAAAAANnVQAAAAAAA2dVAAAAAAADZ1UAAAAAAANnVQAAAAAAA2dVAAAAAAADZ1UAAAAAAANnVQAAAAAAA2dVAAAAAAAAL1kAAAAAAAAvWQAAAAAAAC9ZAAAAAAAAL1kAAAAAAAAvWQAAAAAAAC9ZAAAAAAAAL1kAAAAAAAAvWQAAAAAAAC9ZAAAAAAAAL1kAAAAAAAAvWQAAAAAAAC9ZAAAAAAAAL1kAAAAAAAAvWQAAAAAAAC9ZAAAAAAAAL1kAAAAAAAAvWQAAAAAAAC9ZAAAAAAIA+1kA=",
          "dtype": "f8"
         },
         "yaxis": "y"
        },
        {
         "customdata": [
          [
           "(-0.3, -0.2)",
           "(0.4, 0.5)"
          ],
          [
           "(-0.3, -0.2)",
           "(0.4, 0.5)"
          ],
          [
           "(-0.3, -0.2)",
           "(0.4, 0.5)"
          ],
          [
           "(-0.3, -0.2)",
           "(0.4, 0.5)"
          ],
          [
           "(-0.3, -0.2)",
           "(0.4, 0.5)"
          ],
          [
           "(-0.3, -0.2)",
           "(0.4, 0.5)"
          ],
          [
           "(-0.3, -0.2)",
           "(0.4, 0.5)"
          ],
          [
           "(-0.3, -0.2)",
           "(0.4, 0.5)"
          ],
          [
           "(-0.3, -0.2)",
           "(0.4, 0.5)"
          ],
          [
           "(-0.3, -0.2)",
           "(0.4, 0.5)"
          ],
          [
           "(-0.3, -0.2)",
           "(0.4, 0.5)"
          ],
          [
           "(-0.3, -0.2)",
           "(0.4, 0.5)"
          ],
          [
           "(-0.3, -0.2)",
           "(0.4, 0.5)"
          ],
          [
           "(-0.3, -0.2)",
           "(0.4, 0.5)"
          ],
          [
           "(-0.3, -0.2)",
           "(0.4, 0.5)"
          ],
          [
           "(-0.3, -0.2)",
           "(0.4, 0.5)"
          ],
          [
           "(-0.3, -0.2)",
           "(0.4, 0.5)"
          ],
          [
           "(-0.3, -0.2)",
           "(0.4, 0.5)"
          ],
          [
           "(-0.3, -0.2)",
           "(0.4, 0.5)"
          ],
          [
           "(-0.3, -0.2)",
           "(0.4, 0.5)"
          ],
          [
           "(-0.3, -0.2)",
           "(0.4, 0.5)"
          ],
          [
           "(-0.3, -0.2)",
           "(0.4, 0.5)"
          ],
          [
           "(-0.3, -0.2)",
           "(0.4, 0.5)"
          ],
          [
           "(-0.3, -0.2)",
           "(0.4, 0.5)"
          ],
          [
           "(-0.3, -0.2)",
           "(0.4, 0.5)"
          ],
          [
           "(-0.3, -0.2)",
           "(0.4, 0.5)"
          ],
          [
           "(-0.3, -0.2)",
           "(0.4, 0.5)"
          ],
          [
           "(-0.3, -0.2)",
           "(0.4, 0.5)"
          ],
          [
           "(-0.3, -0.2)",
           "(0.4, 0.5)"
          ],
          [
           "(-0.3, -0.2)",
           "(0.4, 0.5)"
          ],
          [
           "(-0.3, -0.2)",
           "(0.4, 0.5)"
          ],
          [
           "(-0.3, -0.2)",
           "(0.4, 0.5)"
          ],
          [
           "(-0.3, -0.2)",
           "(0.4, 0.5)"
          ],
          [
           "(-0.3, -0.2)",
           "(0.4, 0.5)"
          ],
          [
           "(-0.3, -0.2)",
           "(0.4, 0.5)"
          ],
          [
           "(-0.3, -0.2)",
           "(0.4, 0.5)"
          ],
          [
           "(-0.3, -0.2)",
           "(0.4, 0.5)"
          ],
          [
           "(-0.3, -0.2)",
           "(0.4, 0.5)"
          ],
          [
           "(-0.3, -0.2)",
           "(0.4, 0.5)"
          ],
          [
           "(-0.3, -0.2)",
           "(0.4, 0.5)"
          ],
          [
           "(-0.3, -0.2)",
           "(0.4, 0.5)"
          ],
          [
           "(-0.3, -0.2)",
           "(0.4, 0.5)"
          ],
          [
           "(-0.3, -0.2)",
           "(0.4, 0.5)"
          ],
          [
           "(-0.3, -0.2)",
           "(0.4, 0.5)"
          ],
          [
           "(-0.3, -0.2)",
           "(0.4, 0.5)"
          ],
          [
           "(-0.3, -0.2)",
           "(0.4, 0.5)"
          ],
          [
           "(-0.3, -0.2)",
           "(0.4, 0.5)"
          ],
          [
           "(-0.3, -0.2)",
           "(0.4, 0.5)"
          ],
          [
           "(-0.3, -0.2)",
           "(0.4, 0.5)"
          ],
          [
           "(-0.3, -0.2)",
           "(0.4, 0.5)"
          ],
          [
           "(-0.3, -0.2)",
           "(0.4, 0.5)"
          ],
          [
           "(-0.3, -0.2)",
           "(0.4, 0.5)"
          ],
          [
           "(-0.3, -0.2)",
           "(0.4, 0.5)"
          ],
          [
           "(-0.3, -0.2)",
           "(0.4, 0.5)"
          ],
          [
           "(-0.3, -0.2)",
           "(0.4, 0.5)"
          ],
          [
           "(-0.3, -0.2)",
           "(0.4, 0.5)"
          ],
          [
           "(-0.3, -0.2)",
           "(0.4, 0.5)"
          ],
          [
           "(-0.3, -0.2)",
           "(0.4, 0.5)"
          ],
          [
           "(-0.3, -0.2)",
           "(0.4, 0.5)"
          ],
          [
           "(-0.3, -0.2)",
           "(0.4, 0.5)"
          ],
          [
           "(-0.3, -0.2)",
           "(0.4, 0.5)"
          ],
          [
           "(-0.3, -0.2)",
           "(0.4, 0.5)"
          ],
          [
           "(-0.3, -0.2)",
           "(0.4, 0.5)"
          ],
          [
           "(-0.3, -0.2)",
           "(0.4, 0.5)"
          ],
          [
           "(-0.3, -0.2)",
           "(0.4, 0.5)"
          ],
          [
           "(-0.3, -0.2)",
           "(0.4, 0.5)"
          ],
          [
           "(-0.3, -0.2)",
           "(0.4, 0.5)"
          ],
          [
           "(-0.3, -0.2)",
           "(0.4, 0.5)"
          ],
          [
           "(-0.3, -0.2)",
           "(0.4, 0.5)"
          ],
          [
           "(-0.3, -0.2)",
           "(0.4, 0.5)"
          ],
          [
           "(-0.3, -0.2)",
           "(0.4, 0.5)"
          ],
          [
           "(-0.3, -0.2)",
           "(0.4, 0.5)"
          ],
          [
           "(-0.3, -0.2)",
           "(0.4, 0.5)"
          ],
          [
           "(-0.3, -0.2)",
           "(0.4, 0.5)"
          ],
          [
           "(-0.3, -0.2)",
           "(0.4, 0.5)"
          ],
          [
           "(-0.3, -0.2)",
           "(0.4, 0.5)"
          ],
          [
           "(-0.3, -0.2)",
           "(0.4, 0.5)"
          ],
          [
           "(-0.3, -0.2)",
           "(0.4, 0.5)"
          ],
          [
           "(-0.3, -0.2)",
           "(0.4, 0.5)"
          ],
          [
           "(-0.3, -0.2)",
           "(0.4, 0.5)"
          ],
          [
           "(-0.3, -0.2)",
           "(0.4, 0.5)"
          ],
          [
           "(-0.3, -0.2)",
           "(0.4, 0.5)"
          ],
          [
           "(-0.3, -0.2)",
           "(0.4, 0.5)"
          ],
          [
           "(-0.3, -0.2)",
           "(0.4, 0.5)"
          ],
          [
           "(-0.3, -0.2)",
           "(0.4, 0.5)"
          ],
          [
           "(-0.3, -0.2)",
           "(0.4, 0.5)"
          ],
          [
           "(-0.3, -0.2)",
           "(0.4, 0.5)"
          ],
          [
           "(-0.3, -0.2)",
           "(0.4, 0.5)"
          ],
          [
           "(-0.3, -0.2)",
           "(0.4, 0.5)"
          ],
          [
           "(-0.3, -0.2)",
           "(0.4, 0.5)"
          ],
          [
           "(-0.3, -0.2)",
           "(0.4, 0.5)"
          ],
          [
           "(-0.3, -0.2)",
           "(0.4, 0.5)"
          ],
          [
           "(-0.3, -0.2)",
           "(0.4, 0.5)"
          ],
          [
           "(-0.3, -0.2)",
           "(0.4, 0.5)"
          ],
          [
           "(-0.3, -0.2)",
           "(0.4, 0.5)"
          ],
          [
           "(-0.3, -0.2)",
           "(0.4, 0.5)"
          ],
          [
           "(-0.3, -0.2)",
           "(0.4, 0.5)"
          ],
          [
           "(-0.3, -0.2)",
           "(0.4, 0.5)"
          ],
          [
           "(-0.3, -0.2)",
           "(0.4, 0.5)"
          ],
          [
           "(-0.3, -0.2)",
           "(0.4, 0.5)"
          ],
          [
           "(-0.3, -0.2)",
           "(0.4, 0.5)"
          ],
          [
           "(-0.3, -0.2)",
           "(0.4, 0.5)"
          ],
          [
           "(-0.3, -0.2)",
           "(0.4, 0.5)"
          ],
          [
           "(-0.3, -0.2)",
           "(0.4, 0.5)"
          ],
          [
           "(-0.3, -0.2)",
           "(0.4, 0.5)"
          ],
          [
           "(-0.3, -0.2)",
           "(0.4, 0.5)"
          ],
          [
           "(-0.3, -0.2)",
           "(0.4, 0.5)"
          ],
          [
           "(-0.3, -0.2)",
           "(0.4, 0.5)"
          ],
          [
           "(-0.3, -0.2)",
           "(0.4, 0.5)"
          ],
          [
           "(-0.3, -0.2)",
           "(0.4, 0.5)"
          ],
          [
           "(-0.3, -0.2)",
           "(0.4, 0.5)"
          ],
          [
           "(-0.3, -0.2)",
           "(0.4, 0.5)"
          ],
          [
           "(-0.3, -0.2)",
           "(0.4, 0.5)"
          ],
          [
           "(-0.3, -0.2)",
           "(0.4, 0.5)"
          ],
          [
           "(-0.3, -0.2)",
           "(0.4, 0.5)"
          ],
          [
           "(-0.3, -0.2)",
           "(0.4, 0.5)"
          ],
          [
           "(-0.3, -0.2)",
           "(0.4, 0.5)"
          ],
          [
           "(-0.3, -0.2)",
           "(0.4, 0.5)"
          ],
          [
           "(-0.3, -0.2)",
           "(0.4, 0.5)"
          ],
          [
           "(-0.3, -0.2)",
           "(0.4, 0.5)"
          ],
          [
           "(-0.3, -0.2)",
           "(0.4, 0.5)"
          ],
          [
           "(-0.3, -0.2)",
           "(0.4, 0.5)"
          ],
          [
           "(-0.3, -0.2)",
           "(0.4, 0.5)"
          ],
          [
           "(-0.3, -0.2)",
           "(0.4, 0.5)"
          ],
          [
           "(-0.3, -0.2)",
           "(0.4, 0.5)"
          ],
          [
           "(-0.3, -0.2)",
           "(0.4, 0.5)"
          ],
          [
           "(-0.3, -0.2)",
           "(0.4, 0.5)"
          ],
          [
           "(-0.3, -0.2)",
           "(0.4, 0.5)"
          ],
          [
           "(-0.3, -0.2)",
           "(0.4, 0.5)"
          ],
          [
           "(-0.3, -0.2)",
           "(0.4, 0.5)"
          ],
          [
           "(-0.3, -0.2)",
           "(0.4, 0.5)"
          ],
          [
           "(-0.3, -0.2)",
           "(0.4, 0.5)"
          ],
          [
           "(-0.3, -0.2)",
           "(0.4, 0.5)"
          ],
          [
           "(-0.3, -0.2)",
           "(0.4, 0.5)"
          ],
          [
           "(-0.3, -0.2)",
           "(0.4, 0.5)"
          ],
          [
           "(-0.3, -0.2)",
           "(0.4, 0.5)"
          ],
          [
           "(-0.3, -0.2)",
           "(0.4, 0.5)"
          ],
          [
           "(-0.3, -0.2)",
           "(0.4, 0.5)"
          ],
          [
           "(-0.3, -0.2)",
           "(0.4, 0.5)"
          ],
          [
           "(-0.3, -0.2)",
           "(0.4, 0.5)"
          ],
          [
           "(-0.3, -0.2)",
           "(0.4, 0.5)"
          ],
          [
           "(-0.3, -0.2)",
           "(0.4, 0.5)"
          ],
          [
           "(-0.3, -0.2)",
           "(0.4, 0.5)"
          ],
          [
           "(-0.3, -0.2)",
           "(0.4, 0.5)"
          ],
          [
           "(-0.3, -0.2)",
           "(0.4, 0.5)"
          ],
          [
           "(-0.3, -0.2)",
           "(0.4, 0.5)"
          ],
          [
           "(-0.3, -0.2)",
           "(0.4, 0.5)"
          ],
          [
           "(-0.3, -0.2)",
           "(0.4, 0.5)"
          ],
          [
           "(-0.3, -0.2)",
           "(0.4, 0.5)"
          ],
          [
           "(-0.3, -0.2)",
           "(0.4, 0.5)"
          ],
          [
           "(-0.3, -0.2)",
           "(0.4, 0.5)"
          ],
          [
           "(-0.3, -0.2)",
           "(0.4, 0.5)"
          ],
          [
           "(-0.3, -0.2)",
           "(0.4, 0.5)"
          ],
          [
           "(-0.3, -0.2)",
           "(0.4, 0.5)"
          ],
          [
           "(-0.3, -0.2)",
           "(0.4, 0.5)"
          ],
          [
           "(-0.3, -0.2)",
           "(0.4, 0.5)"
          ],
          [
           "(-0.3, -0.2)",
           "(0.4, 0.5)"
          ],
          [
           "(-0.3, -0.2)",
           "(0.4, 0.5)"
          ],
          [
           "(-0.3, -0.2)",
           "(0.4, 0.5)"
          ],
          [
           "(-0.3, -0.2)",
           "(0.4, 0.5)"
          ],
          [
           "(-0.3, -0.2)",
           "(0.4, 0.5)"
          ],
          [
           "(-0.3, -0.2)",
           "(0.4, 0.5)"
          ],
          [
           "(-0.3, -0.2)",
           "(0.4, 0.5)"
          ],
          [
           "(-0.3, -0.2)",
           "(0.4, 0.5)"
          ],
          [
           "(-0.3, -0.2)",
           "(0.4, 0.5)"
          ],
          [
           "(-0.3, -0.2)",
           "(0.4, 0.5)"
          ],
          [
           "(-0.3, -0.2)",
           "(0.4, 0.5)"
          ],
          [
           "(-0.3, -0.2)",
           "(0.4, 0.5)"
          ],
          [
           "(-0.3, -0.2)",
           "(0.4, 0.5)"
          ],
          [
           "(-0.3, -0.2)",
           "(0.4, 0.5)"
          ],
          [
           "(-0.3, -0.2)",
           "(0.4, 0.5)"
          ],
          [
           "(-0.3, -0.2)",
           "(0.4, 0.5)"
          ]
         ],
         "hovertemplate": "<b>Date:</b> %{x}<br><b>Portfolio Value:</b> %{y}<br><b>Put Delta Range:</b> %{customdata[0]}<br><b>Call Delta Range:</b> %{customdata[1]}",
         "legendgroup": "Put: (-0.3, -0.2), Call: (0.4, 0.5)",
         "line": {
          "color": "#00cc96",
          "dash": "solid"
         },
         "marker": {
          "symbol": "circle"
         },
         "mode": "lines",
         "name": "Put: (-0.3, -0.2), Call: (0.4, 0.5)",
         "showlegend": true,
         "type": "scattergl",
         "x": [
          "2024-01-03",
          "2024-01-05",
          "2024-01-08",
          "2024-01-10",
          "2024-01-12",
          "2024-01-17",
          "2024-01-19",
          "2024-01-22",
          "2024-01-24",
          "2024-01-26",
          "2024-01-29",
          "2024-01-31",
          "2024-02-02",
          "2024-02-05",
          "2024-02-07",
          "2024-02-09",
          "2024-02-12",
          "2024-02-14",
          "2024-02-16",
          "2024-02-21",
          "2024-02-23",
          "2024-02-26",
          "2024-02-28",
          "2024-03-01",
          "2024-03-04",
          "2024-03-06",
          "2024-03-08",
          "2024-03-11",
          "2024-03-13",
          "2024-03-15",
          "2024-03-18",
          "2024-03-20",
          "2024-03-22",
          "2024-03-25",
          "2024-03-27",
          "2024-04-01",
          "2024-04-03",
          "2024-04-05",
          "2024-04-08",
          "2024-04-10",
          "2024-04-12",
          "2024-04-15",
          "2024-04-17",
          "2024-04-19",
          "2024-04-22",
          "2024-04-24",
          "2024-04-26",
          "2024-04-29",
          "2024-05-01",
          "2024-05-03",
          "2024-05-06",
          "2024-05-08",
          "2024-05-10",
          "2024-05-13",
          "2024-05-15",
          "2024-05-17",
          "2024-05-20",
          "2024-05-22",
          "2024-05-24",
          "2024-05-29",
          "2024-05-31",
          "2024-06-03",
          "2024-06-05",
          "2024-06-07",
          "2024-06-10",
          "2024-06-12",
          "2024-06-14",
          "2024-06-17",
          "2024-06-21",
          "2024-06-24",
          "2024-06-26",
          "2024-06-28",
          "2024-07-01",
          "2024-07-03",
          "2024-07-05",
          "2024-07-08",
          "2024-07-10",
          "2024-07-12",
          "2024-07-15",
          "2024-07-17",
          "2024-07-19",
          "2024-07-22",
          "2024-07-24",
          "2024-07-26",
          "2024-07-29",
          "2024-08-12",
          "2024-08-14",
          "2024-08-16",
          "2024-08-19",
          "2024-08-21",
          "2024-08-23",
          "2024-08-26",
          "2024-08-28",
          "2024-08-30",
          "2024-09-04",
          "2024-09-06",
          "2024-09-09",
          "2024-09-11",
          "2024-09-12",
          "2024-09-13",
          "2024-09-16",
          "2024-09-17",
          "2024-09-18",
          "2024-09-19",
          "2024-09-20",
          "2024-09-23",
          "2024-09-24",
          "2024-09-25",
          "2024-09-26",
          "2024-09-27",
          "2024-09-30",
          "2024-10-01",
          "2024-10-02",
          "2024-10-03",
          "2024-10-04",
          "2024-10-07",
          "2024-10-08",
          "2024-10-09",
          "2024-10-10",
          "2024-10-11",
          "2024-10-14",
          "2024-10-15",
          "2024-10-16",
          "2024-10-17",
          "2024-10-18",
          "2024-10-21",
          "2024-10-22",
          "2024-10-23",
          "2024-10-24",
          "2024-10-25",
          "2024-10-28",
          "2024-10-29",
          "2024-10-30",
          "2024-10-31",
          "2024-11-01",
          "2024-11-04",
          "2024-11-05",
          "2024-11-06",
          "2024-11-07",
          "2024-11-08",
          "2024-11-11",
          "2024-11-13",
          "2024-11-14",
          "2024-11-15",
          "2024-11-18",
          "2024-11-19",
          "2024-11-20",
          "2024-11-21",
          "2024-11-22",
          "2024-11-25",
          "2024-11-26",
          "2024-11-27",
          "2024-11-29",
          "2024-12-02",
          "2024-12-03",
          "2024-12-04",
          "2024-12-05",
          "2024-12-06",
          "2024-12-09",
          "2024-12-10",
          "2024-12-11",
          "2024-12-12",
          "2024-12-13",
          "2024-12-16",
          "2024-12-17",
          "2024-12-18",
          "2024-12-19",
          "2024-12-20",
          "2024-12-23",
          "2024-12-24",
          "2024-12-27",
          "2024-12-30"
         ],
         "xaxis": "x",
         "y": {
          "bdata": "AAAAAICw00AAAAAAgLDTQAAAAACAsNNAAAAAAICw00AAAAAAgLDTQAAAAACAsNNAAAAAAICw00AAAAAAgLDTQAAAAACAsNNAAAAAAICw00AAAAAAgLDTQAAAAACAsNNAAAAAAICw00AAAAAAgM7TQAAAAACAztNAAAAAAIDO00AAAAAAgM7TQAAAAACAztNAAAAAAIDO00AAAAAAgM7TQAAAAACAztNAAAAAAIDO00AAAAAAgM7TQAAAAACAztNAAAAAcG0/00AAAABAIfjSQAAAANEwINNAAAAAAXRS00AAAADdJCrTQAAAAPo3T9NAAAAA6ZZq00AAAAD3weXTQAAAAPfB5dNAAAAAAABE00AAAAAAAETTQAAAAAAARNNAAAAAAABE00AAAAAAAETTQAAAAAAARNNAAAAAAABE00AAAAAAAETTQAAAAAAARNNAAAAAAABE00AAAAAAAETTQAAAAMuDRdNAAAAAPST700AAAADuGwLUQAAAAHKdatRAAAAA7hsC1EAAAABodGDVQAEAALbmNtVAAAAAv4dQ1UAAAAC/h1DVQAAAAAAAQNRAAAAAAABA1EAAAAAAAEDUQAAAAAAAQNRAAAAAAABA1EAAAAAAAEDUQAAAAAAAQNRAAAAAAABA1EAAAAAAAEDUQAAAAAAAQNRAAAAAAABA1EAAAAAAAEDUQAAAAADActRAAAAAAMBy1EAAAAAAwHLUQAAAAADActRAAAAAAMBy1EAAAAAAwHLUQAAAAADActRAAAAAAMBy1EAAAAAAwHLUQAAAAADActRAAAAAAMBy1EAAAAAAwHLUQAAAAADActRAAAAAAAC61EAAAAAAALrUQAAAAAAAutRAAAAAAAC61EAAAAAAALrUQAAAAAAAutRAAAAAAAC61EAAAAAAALrUQAAAAMwTy9RAAAAA+BY31UAAAAAxGTPVQAAAAO7RP9VAAAAAy8tK1UD////7RlPVQP///7sQQtVA/v//ca2A1UABAAAJYLXUQAAAAIigtNRAAAAAJN+21EAAAACIhuLUQP////hE5dRA////+ETl1EABAAC3X6jUQP////sYtNRAAAAAQmIV1UAAAABFb+HVQAAAAKi40NVAAAAAAJGl1UAAAABdBLzVQAAAAG0So9VA////RcK/1UAAAABlfsbVQAAAAEt1SNZAAAAAvxSf1UAAAACwTK3VQAEAADackdVAAAAAbMyt1UD+//8xVC7VQAAAAOIalNVAAAAA4iXy1UD////prOXVQP///+ms5dVAAAAAAABK1UAAAAAAAErVQAAAAAAAStVAAAAAAABK1UAAAAAAAErVQAAAAAAAStVAAAAAAABK1UAAAAAAAErVQAAAAAAAStVAAAAAAABK1UAAAAAAAErVQAAAAAAAStVAAAAAAABK1UAAAAAAAErVQAAAAAAAStVAAAAAAABK1UAAAAAAAErVQAAAAAAAStVAAAAAAABK1UAAAAAAAErVQAAAAAAAStVAAAAAAEBr1UAAAAAAQGvVQAAAAABAa9VAAAAAAEBr1UAAAAAAQGvVQAAAAABAa9VAAAAAAEBr1UAAAAAAQGvVQAAAAABAa9VAAAAAAEBr1UAAAAAAQGvVQAAAAABAa9VAAAAAAECd1UAAAAAAQJ3VQAAAAABAndVAAAAAAECd1UAAAAAAQJ3VQAAAAABAndVAAAAAAECd1UAAAAAAQJ3VQAAAAABAndVAAAAAAECd1UAAAAAAQJ3VQAAAAABAndVAAAAAAECd1UAAAAAAQJ3VQAAAAABAndVAAAAAAECd1UAAAAAAQJ3VQAAAAABAndVAAAAAAMDQ1UA=",
          "dtype": "f8"
         },
         "yaxis": "y"
        },
        {
         "customdata": [
          [
           "(-0.3, -0.2)",
           "(0.5, 0.6)"
          ],
          [
           "(-0.3, -0.2)",
           "(0.5, 0.6)"
          ],
          [
           "(-0.3, -0.2)",
           "(0.5, 0.6)"
          ],
          [
           "(-0.3, -0.2)",
           "(0.5, 0.6)"
          ],
          [
           "(-0.3, -0.2)",
           "(0.5, 0.6)"
          ],
          [
           "(-0.3, -0.2)",
           "(0.5, 0.6)"
          ],
          [
           "(-0.3, -0.2)",
           "(0.5, 0.6)"
          ],
          [
           "(-0.3, -0.2)",
           "(0.5, 0.6)"
          ],
          [
           "(-0.3, -0.2)",
           "(0.5, 0.6)"
          ],
          [
           "(-0.3, -0.2)",
           "(0.5, 0.6)"
          ],
          [
           "(-0.3, -0.2)",
           "(0.5, 0.6)"
          ],
          [
           "(-0.3, -0.2)",
           "(0.5, 0.6)"
          ],
          [
           "(-0.3, -0.2)",
           "(0.5, 0.6)"
          ],
          [
           "(-0.3, -0.2)",
           "(0.5, 0.6)"
          ],
          [
           "(-0.3, -0.2)",
           "(0.5, 0.6)"
          ],
          [
           "(-0.3, -0.2)",
           "(0.5, 0.6)"
          ],
          [
           "(-0.3, -0.2)",
           "(0.5, 0.6)"
          ],
          [
           "(-0.3, -0.2)",
           "(0.5, 0.6)"
          ],
          [
           "(-0.3, -0.2)",
           "(0.5, 0.6)"
          ],
          [
           "(-0.3, -0.2)",
           "(0.5, 0.6)"
          ],
          [
           "(-0.3, -0.2)",
           "(0.5, 0.6)"
          ],
          [
           "(-0.3, -0.2)",
           "(0.5, 0.6)"
          ],
          [
           "(-0.3, -0.2)",
           "(0.5, 0.6)"
          ],
          [
           "(-0.3, -0.2)",
           "(0.5, 0.6)"
          ],
          [
           "(-0.3, -0.2)",
           "(0.5, 0.6)"
          ],
          [
           "(-0.3, -0.2)",
           "(0.5, 0.6)"
          ],
          [
           "(-0.3, -0.2)",
           "(0.5, 0.6)"
          ],
          [
           "(-0.3, -0.2)",
           "(0.5, 0.6)"
          ],
          [
           "(-0.3, -0.2)",
           "(0.5, 0.6)"
          ],
          [
           "(-0.3, -0.2)",
           "(0.5, 0.6)"
          ],
          [
           "(-0.3, -0.2)",
           "(0.5, 0.6)"
          ],
          [
           "(-0.3, -0.2)",
           "(0.5, 0.6)"
          ],
          [
           "(-0.3, -0.2)",
           "(0.5, 0.6)"
          ],
          [
           "(-0.3, -0.2)",
           "(0.5, 0.6)"
          ],
          [
           "(-0.3, -0.2)",
           "(0.5, 0.6)"
          ],
          [
           "(-0.3, -0.2)",
           "(0.5, 0.6)"
          ],
          [
           "(-0.3, -0.2)",
           "(0.5, 0.6)"
          ],
          [
           "(-0.3, -0.2)",
           "(0.5, 0.6)"
          ],
          [
           "(-0.3, -0.2)",
           "(0.5, 0.6)"
          ],
          [
           "(-0.3, -0.2)",
           "(0.5, 0.6)"
          ],
          [
           "(-0.3, -0.2)",
           "(0.5, 0.6)"
          ],
          [
           "(-0.3, -0.2)",
           "(0.5, 0.6)"
          ],
          [
           "(-0.3, -0.2)",
           "(0.5, 0.6)"
          ],
          [
           "(-0.3, -0.2)",
           "(0.5, 0.6)"
          ],
          [
           "(-0.3, -0.2)",
           "(0.5, 0.6)"
          ],
          [
           "(-0.3, -0.2)",
           "(0.5, 0.6)"
          ],
          [
           "(-0.3, -0.2)",
           "(0.5, 0.6)"
          ],
          [
           "(-0.3, -0.2)",
           "(0.5, 0.6)"
          ],
          [
           "(-0.3, -0.2)",
           "(0.5, 0.6)"
          ],
          [
           "(-0.3, -0.2)",
           "(0.5, 0.6)"
          ],
          [
           "(-0.3, -0.2)",
           "(0.5, 0.6)"
          ],
          [
           "(-0.3, -0.2)",
           "(0.5, 0.6)"
          ],
          [
           "(-0.3, -0.2)",
           "(0.5, 0.6)"
          ],
          [
           "(-0.3, -0.2)",
           "(0.5, 0.6)"
          ],
          [
           "(-0.3, -0.2)",
           "(0.5, 0.6)"
          ],
          [
           "(-0.3, -0.2)",
           "(0.5, 0.6)"
          ],
          [
           "(-0.3, -0.2)",
           "(0.5, 0.6)"
          ],
          [
           "(-0.3, -0.2)",
           "(0.5, 0.6)"
          ],
          [
           "(-0.3, -0.2)",
           "(0.5, 0.6)"
          ],
          [
           "(-0.3, -0.2)",
           "(0.5, 0.6)"
          ],
          [
           "(-0.3, -0.2)",
           "(0.5, 0.6)"
          ],
          [
           "(-0.3, -0.2)",
           "(0.5, 0.6)"
          ],
          [
           "(-0.3, -0.2)",
           "(0.5, 0.6)"
          ],
          [
           "(-0.3, -0.2)",
           "(0.5, 0.6)"
          ],
          [
           "(-0.3, -0.2)",
           "(0.5, 0.6)"
          ],
          [
           "(-0.3, -0.2)",
           "(0.5, 0.6)"
          ],
          [
           "(-0.3, -0.2)",
           "(0.5, 0.6)"
          ],
          [
           "(-0.3, -0.2)",
           "(0.5, 0.6)"
          ],
          [
           "(-0.3, -0.2)",
           "(0.5, 0.6)"
          ],
          [
           "(-0.3, -0.2)",
           "(0.5, 0.6)"
          ],
          [
           "(-0.3, -0.2)",
           "(0.5, 0.6)"
          ],
          [
           "(-0.3, -0.2)",
           "(0.5, 0.6)"
          ],
          [
           "(-0.3, -0.2)",
           "(0.5, 0.6)"
          ],
          [
           "(-0.3, -0.2)",
           "(0.5, 0.6)"
          ],
          [
           "(-0.3, -0.2)",
           "(0.5, 0.6)"
          ],
          [
           "(-0.3, -0.2)",
           "(0.5, 0.6)"
          ],
          [
           "(-0.3, -0.2)",
           "(0.5, 0.6)"
          ],
          [
           "(-0.3, -0.2)",
           "(0.5, 0.6)"
          ],
          [
           "(-0.3, -0.2)",
           "(0.5, 0.6)"
          ],
          [
           "(-0.3, -0.2)",
           "(0.5, 0.6)"
          ],
          [
           "(-0.3, -0.2)",
           "(0.5, 0.6)"
          ],
          [
           "(-0.3, -0.2)",
           "(0.5, 0.6)"
          ],
          [
           "(-0.3, -0.2)",
           "(0.5, 0.6)"
          ],
          [
           "(-0.3, -0.2)",
           "(0.5, 0.6)"
          ],
          [
           "(-0.3, -0.2)",
           "(0.5, 0.6)"
          ],
          [
           "(-0.3, -0.2)",
           "(0.5, 0.6)"
          ],
          [
           "(-0.3, -0.2)",
           "(0.5, 0.6)"
          ],
          [
           "(-0.3, -0.2)",
           "(0.5, 0.6)"
          ],
          [
           "(-0.3, -0.2)",
           "(0.5, 0.6)"
          ],
          [
           "(-0.3, -0.2)",
           "(0.5, 0.6)"
          ],
          [
           "(-0.3, -0.2)",
           "(0.5, 0.6)"
          ],
          [
           "(-0.3, -0.2)",
           "(0.5, 0.6)"
          ],
          [
           "(-0.3, -0.2)",
           "(0.5, 0.6)"
          ],
          [
           "(-0.3, -0.2)",
           "(0.5, 0.6)"
          ],
          [
           "(-0.3, -0.2)",
           "(0.5, 0.6)"
          ],
          [
           "(-0.3, -0.2)",
           "(0.5, 0.6)"
          ],
          [
           "(-0.3, -0.2)",
           "(0.5, 0.6)"
          ],
          [
           "(-0.3, -0.2)",
           "(0.5, 0.6)"
          ],
          [
           "(-0.3, -0.2)",
           "(0.5, 0.6)"
          ],
          [
           "(-0.3, -0.2)",
           "(0.5, 0.6)"
          ],
          [
           "(-0.3, -0.2)",
           "(0.5, 0.6)"
          ],
          [
           "(-0.3, -0.2)",
           "(0.5, 0.6)"
          ],
          [
           "(-0.3, -0.2)",
           "(0.5, 0.6)"
          ],
          [
           "(-0.3, -0.2)",
           "(0.5, 0.6)"
          ],
          [
           "(-0.3, -0.2)",
           "(0.5, 0.6)"
          ],
          [
           "(-0.3, -0.2)",
           "(0.5, 0.6)"
          ],
          [
           "(-0.3, -0.2)",
           "(0.5, 0.6)"
          ],
          [
           "(-0.3, -0.2)",
           "(0.5, 0.6)"
          ],
          [
           "(-0.3, -0.2)",
           "(0.5, 0.6)"
          ],
          [
           "(-0.3, -0.2)",
           "(0.5, 0.6)"
          ],
          [
           "(-0.3, -0.2)",
           "(0.5, 0.6)"
          ],
          [
           "(-0.3, -0.2)",
           "(0.5, 0.6)"
          ],
          [
           "(-0.3, -0.2)",
           "(0.5, 0.6)"
          ],
          [
           "(-0.3, -0.2)",
           "(0.5, 0.6)"
          ],
          [
           "(-0.3, -0.2)",
           "(0.5, 0.6)"
          ],
          [
           "(-0.3, -0.2)",
           "(0.5, 0.6)"
          ],
          [
           "(-0.3, -0.2)",
           "(0.5, 0.6)"
          ],
          [
           "(-0.3, -0.2)",
           "(0.5, 0.6)"
          ],
          [
           "(-0.3, -0.2)",
           "(0.5, 0.6)"
          ],
          [
           "(-0.3, -0.2)",
           "(0.5, 0.6)"
          ],
          [
           "(-0.3, -0.2)",
           "(0.5, 0.6)"
          ],
          [
           "(-0.3, -0.2)",
           "(0.5, 0.6)"
          ],
          [
           "(-0.3, -0.2)",
           "(0.5, 0.6)"
          ],
          [
           "(-0.3, -0.2)",
           "(0.5, 0.6)"
          ],
          [
           "(-0.3, -0.2)",
           "(0.5, 0.6)"
          ],
          [
           "(-0.3, -0.2)",
           "(0.5, 0.6)"
          ],
          [
           "(-0.3, -0.2)",
           "(0.5, 0.6)"
          ],
          [
           "(-0.3, -0.2)",
           "(0.5, 0.6)"
          ],
          [
           "(-0.3, -0.2)",
           "(0.5, 0.6)"
          ],
          [
           "(-0.3, -0.2)",
           "(0.5, 0.6)"
          ],
          [
           "(-0.3, -0.2)",
           "(0.5, 0.6)"
          ],
          [
           "(-0.3, -0.2)",
           "(0.5, 0.6)"
          ],
          [
           "(-0.3, -0.2)",
           "(0.5, 0.6)"
          ],
          [
           "(-0.3, -0.2)",
           "(0.5, 0.6)"
          ],
          [
           "(-0.3, -0.2)",
           "(0.5, 0.6)"
          ],
          [
           "(-0.3, -0.2)",
           "(0.5, 0.6)"
          ],
          [
           "(-0.3, -0.2)",
           "(0.5, 0.6)"
          ],
          [
           "(-0.3, -0.2)",
           "(0.5, 0.6)"
          ],
          [
           "(-0.3, -0.2)",
           "(0.5, 0.6)"
          ],
          [
           "(-0.3, -0.2)",
           "(0.5, 0.6)"
          ],
          [
           "(-0.3, -0.2)",
           "(0.5, 0.6)"
          ],
          [
           "(-0.3, -0.2)",
           "(0.5, 0.6)"
          ],
          [
           "(-0.3, -0.2)",
           "(0.5, 0.6)"
          ],
          [
           "(-0.3, -0.2)",
           "(0.5, 0.6)"
          ],
          [
           "(-0.3, -0.2)",
           "(0.5, 0.6)"
          ],
          [
           "(-0.3, -0.2)",
           "(0.5, 0.6)"
          ],
          [
           "(-0.3, -0.2)",
           "(0.5, 0.6)"
          ],
          [
           "(-0.3, -0.2)",
           "(0.5, 0.6)"
          ],
          [
           "(-0.3, -0.2)",
           "(0.5, 0.6)"
          ],
          [
           "(-0.3, -0.2)",
           "(0.5, 0.6)"
          ],
          [
           "(-0.3, -0.2)",
           "(0.5, 0.6)"
          ],
          [
           "(-0.3, -0.2)",
           "(0.5, 0.6)"
          ],
          [
           "(-0.3, -0.2)",
           "(0.5, 0.6)"
          ],
          [
           "(-0.3, -0.2)",
           "(0.5, 0.6)"
          ],
          [
           "(-0.3, -0.2)",
           "(0.5, 0.6)"
          ],
          [
           "(-0.3, -0.2)",
           "(0.5, 0.6)"
          ],
          [
           "(-0.3, -0.2)",
           "(0.5, 0.6)"
          ],
          [
           "(-0.3, -0.2)",
           "(0.5, 0.6)"
          ],
          [
           "(-0.3, -0.2)",
           "(0.5, 0.6)"
          ],
          [
           "(-0.3, -0.2)",
           "(0.5, 0.6)"
          ],
          [
           "(-0.3, -0.2)",
           "(0.5, 0.6)"
          ],
          [
           "(-0.3, -0.2)",
           "(0.5, 0.6)"
          ],
          [
           "(-0.3, -0.2)",
           "(0.5, 0.6)"
          ],
          [
           "(-0.3, -0.2)",
           "(0.5, 0.6)"
          ],
          [
           "(-0.3, -0.2)",
           "(0.5, 0.6)"
          ],
          [
           "(-0.3, -0.2)",
           "(0.5, 0.6)"
          ],
          [
           "(-0.3, -0.2)",
           "(0.5, 0.6)"
          ],
          [
           "(-0.3, -0.2)",
           "(0.5, 0.6)"
          ],
          [
           "(-0.3, -0.2)",
           "(0.5, 0.6)"
          ],
          [
           "(-0.3, -0.2)",
           "(0.5, 0.6)"
          ],
          [
           "(-0.3, -0.2)",
           "(0.5, 0.6)"
          ],
          [
           "(-0.3, -0.2)",
           "(0.5, 0.6)"
          ]
         ],
         "hovertemplate": "<b>Date:</b> %{x}<br><b>Portfolio Value:</b> %{y}<br><b>Put Delta Range:</b> %{customdata[0]}<br><b>Call Delta Range:</b> %{customdata[1]}",
         "legendgroup": "Put: (-0.3, -0.2), Call: (0.5, 0.6)",
         "line": {
          "color": "#ab63fa",
          "dash": "solid"
         },
         "marker": {
          "symbol": "circle"
         },
         "mode": "lines",
         "name": "Put: (-0.3, -0.2), Call: (0.5, 0.6)",
         "showlegend": true,
         "type": "scattergl",
         "x": [
          "2024-01-03",
          "2024-01-05",
          "2024-01-08",
          "2024-01-10",
          "2024-01-12",
          "2024-01-17",
          "2024-01-19",
          "2024-01-22",
          "2024-01-24",
          "2024-01-26",
          "2024-01-29",
          "2024-01-31",
          "2024-02-02",
          "2024-02-05",
          "2024-02-07",
          "2024-02-09",
          "2024-02-12",
          "2024-02-14",
          "2024-02-16",
          "2024-02-21",
          "2024-02-23",
          "2024-02-26",
          "2024-02-28",
          "2024-03-01",
          "2024-03-04",
          "2024-03-06",
          "2024-03-08",
          "2024-03-11",
          "2024-03-13",
          "2024-03-15",
          "2024-03-18",
          "2024-03-20",
          "2024-03-22",
          "2024-03-25",
          "2024-03-27",
          "2024-04-01",
          "2024-04-03",
          "2024-04-05",
          "2024-04-08",
          "2024-04-10",
          "2024-04-12",
          "2024-04-15",
          "2024-04-17",
          "2024-04-19",
          "2024-04-22",
          "2024-04-24",
          "2024-04-26",
          "2024-04-29",
          "2024-05-01",
          "2024-05-03",
          "2024-05-06",
          "2024-05-08",
          "2024-05-10",
          "2024-05-13",
          "2024-05-15",
          "2024-05-17",
          "2024-05-20",
          "2024-05-22",
          "2024-05-24",
          "2024-05-29",
          "2024-05-31",
          "2024-06-03",
          "2024-06-05",
          "2024-06-07",
          "2024-06-10",
          "2024-06-12",
          "2024-06-14",
          "2024-06-17",
          "2024-06-21",
          "2024-06-24",
          "2024-06-26",
          "2024-06-28",
          "2024-07-01",
          "2024-07-03",
          "2024-07-05",
          "2024-07-08",
          "2024-07-10",
          "2024-07-12",
          "2024-07-15",
          "2024-07-17",
          "2024-07-19",
          "2024-07-22",
          "2024-07-24",
          "2024-07-26",
          "2024-07-29",
          "2024-08-12",
          "2024-08-14",
          "2024-08-16",
          "2024-08-19",
          "2024-08-21",
          "2024-08-23",
          "2024-08-26",
          "2024-08-28",
          "2024-08-30",
          "2024-09-04",
          "2024-09-06",
          "2024-09-09",
          "2024-09-11",
          "2024-09-12",
          "2024-09-13",
          "2024-09-16",
          "2024-09-17",
          "2024-09-18",
          "2024-09-19",
          "2024-09-20",
          "2024-09-23",
          "2024-09-24",
          "2024-09-25",
          "2024-09-26",
          "2024-09-27",
          "2024-09-30",
          "2024-10-01",
          "2024-10-02",
          "2024-10-03",
          "2024-10-04",
          "2024-10-07",
          "2024-10-08",
          "2024-10-09",
          "2024-10-10",
          "2024-10-11",
          "2024-10-14",
          "2024-10-15",
          "2024-10-16",
          "2024-10-17",
          "2024-10-18",
          "2024-10-21",
          "2024-10-22",
          "2024-10-23",
          "2024-10-24",
          "2024-10-25",
          "2024-10-28",
          "2024-10-29",
          "2024-10-30",
          "2024-10-31",
          "2024-11-01",
          "2024-11-04",
          "2024-11-05",
          "2024-11-06",
          "2024-11-07",
          "2024-11-08",
          "2024-11-11",
          "2024-11-13",
          "2024-11-14",
          "2024-11-15",
          "2024-11-18",
          "2024-11-19",
          "2024-11-20",
          "2024-11-21",
          "2024-11-22",
          "2024-11-25",
          "2024-11-26",
          "2024-11-27",
          "2024-11-29",
          "2024-12-02",
          "2024-12-03",
          "2024-12-04",
          "2024-12-05",
          "2024-12-06",
          "2024-12-09",
          "2024-12-10",
          "2024-12-11",
          "2024-12-12",
          "2024-12-13",
          "2024-12-16",
          "2024-12-17",
          "2024-12-18",
          "2024-12-19",
          "2024-12-20",
          "2024-12-23",
          "2024-12-24",
          "2024-12-27",
          "2024-12-30"
         ],
         "xaxis": "x",
         "y": {
          "bdata": "AAAAAICw00AAAAAAgLDTQAAAAACAsNNAAAAAAICw00AAAAAAgLDTQAAAAACAsNNAAAAAAICw00AAAAAAgLDTQAAAAACAsNNAAAAAAICw00AAAAAAgLDTQAAAAACAsNNAAAAAAICw00AAAAAAgM7TQAAAAACAztNAAAAAAIDO00AAAAAAgM7TQAAAAACAztNAAAAAAIDO00AAAAAAgM7TQAAAAACAztNAAAAAAIDO00AAAAAAgM7TQAAAAACAztNAAAAAcG0/00AAAABAoRPTQAAAANGwO9NAAAAAAfRt00AAAADdpEXTQAAAAPq3atNAAAAA6RaG00AAAAD3QQHUQAAAAChCYtNAAAAAXq0+00AAAAAx43vTQAAAANVFKtNAAAAAU9Eg00AAAABT0SDTQAAAAHr1AtNAAAAAgkny0kAAAADEwW3UQAAAAOC1DdRAAAAA+QKZ00AAAAA1XU7TQAAAAMtDY9NAAAAAPWSy00AAAADuW7nTQAAAAHLdIdRAAAAA7lu500AAAABotBfVQAEAALYm7tRAAAAAv8cH1UAAAAC/xwfVQAAAAABAdNRAAAAAAEB01EAAAAAAQHTUQAAAAABAdNRAAAAAAEB01EAAAAAAQHTUQAAAAABAdNRAAAAAAEB01EAAAAAAQHTUQAAAAABAdNRAAAAAAEB01EAAAAAAQHTUQAAAAAAAp9RAAAAAAACn1EAAAAAAAKfUQAAAAAAAp9RAAAAAAACn1EAAAAAAAKfUQAAAAAAAp9RAAAAAAACn1EAAAAAAAKfUQAAAAAAAp9RAAAAAAACn1EAAAAAAAKfUQAAAAAAAp9RAAAAAAEDu1EAAAAAAQO7UQAAAAABA7tRAAAAAAEDu1EAAAAAAQO7UQAAAAABA7tRAAAAAAEDu1EAAAAAAQO7UQAAAAMxTQNVAAAAA+Fas1UAAAAAxWajVQAAAAO4RtdVAAAAAywvA1UD////7hsjVQP///7tQt9VA/v//ce311UABAAAJoCrVQAAAAIjgKdVAAAAAJB8s1UAAAACIxlfVQP////iEWtVA////+IRa1UAAAAAAwGPVQAAAAADAY9VAAAAAAMBj1UAAAAAAwGPVQAAAAADAY9VAAAAAAMBj1UAAAAAAwGPVQAAAAADAY9VAAAAAAMBj1UAAAAAAwGPVQAAAAADAY9VAAAAAAMBj1UAAAAAAwGPVQAAAAADAY9VAAAAAAMBj1UAAAAAAwGPVQAAAAADAY9VAAAAAAMBj1UAAAAAAwGPVQAAAAADAY9VAAAAAAICd1UAAAAAAgJ3VQAAAAACAndVAAAAAAICd1UAAAAAAgJ3VQAAAAACAndVAAAAAAICd1UAAAAAAgJ3VQAAAAACAndVAAAAAAICd1UAAAAAAgJ3VQAAAAACAndVAAAAAAICd1UAAAAAAgJ3VQAAAAACAndVAAAAAAICd1UAAAAAAgJ3VQAAAAACAndVAAAAAAICd1UAAAAAAgJ3VQAAAAACAndVAAAAAAMC+1UAAAAAAwL7VQAAAAADAvtVAAAAAAMC+1UAAAAAAwL7VQAAAAADAvtVAAAAAAMC+1UAAAAAAwL7VQAAAAADAvtVAAAAAAMC+1UAAAAAAwL7VQAAAAADAvtVAAAAAAMDw1UAAAAAAwPDVQAAAAADA8NVAAAAAAMDw1UAAAAAAwPDVQAAAAADA8NVAAAAAAMDw1UAAAAAAwPDVQAAAAADA8NVAAAAAAMDw1UAAAAAAwPDVQAAAAADA8NVAAAAAAMDw1UAAAAAAwPDVQAAAAADA8NVAAAAAAMDw1UAAAAAAwPDVQAAAAADA8NVAAAAAAEAk1kA=",
          "dtype": "f8"
         },
         "yaxis": "y"
        },
        {
         "customdata": [
          [
           "(-0.3, -0.2)",
           "(0.6, 0.7)"
          ],
          [
           "(-0.3, -0.2)",
           "(0.6, 0.7)"
          ],
          [
           "(-0.3, -0.2)",
           "(0.6, 0.7)"
          ],
          [
           "(-0.3, -0.2)",
           "(0.6, 0.7)"
          ],
          [
           "(-0.3, -0.2)",
           "(0.6, 0.7)"
          ],
          [
           "(-0.3, -0.2)",
           "(0.6, 0.7)"
          ],
          [
           "(-0.3, -0.2)",
           "(0.6, 0.7)"
          ],
          [
           "(-0.3, -0.2)",
           "(0.6, 0.7)"
          ],
          [
           "(-0.3, -0.2)",
           "(0.6, 0.7)"
          ],
          [
           "(-0.3, -0.2)",
           "(0.6, 0.7)"
          ],
          [
           "(-0.3, -0.2)",
           "(0.6, 0.7)"
          ],
          [
           "(-0.3, -0.2)",
           "(0.6, 0.7)"
          ],
          [
           "(-0.3, -0.2)",
           "(0.6, 0.7)"
          ],
          [
           "(-0.3, -0.2)",
           "(0.6, 0.7)"
          ],
          [
           "(-0.3, -0.2)",
           "(0.6, 0.7)"
          ],
          [
           "(-0.3, -0.2)",
           "(0.6, 0.7)"
          ],
          [
           "(-0.3, -0.2)",
           "(0.6, 0.7)"
          ],
          [
           "(-0.3, -0.2)",
           "(0.6, 0.7)"
          ],
          [
           "(-0.3, -0.2)",
           "(0.6, 0.7)"
          ],
          [
           "(-0.3, -0.2)",
           "(0.6, 0.7)"
          ],
          [
           "(-0.3, -0.2)",
           "(0.6, 0.7)"
          ],
          [
           "(-0.3, -0.2)",
           "(0.6, 0.7)"
          ],
          [
           "(-0.3, -0.2)",
           "(0.6, 0.7)"
          ],
          [
           "(-0.3, -0.2)",
           "(0.6, 0.7)"
          ],
          [
           "(-0.3, -0.2)",
           "(0.6, 0.7)"
          ],
          [
           "(-0.3, -0.2)",
           "(0.6, 0.7)"
          ],
          [
           "(-0.3, -0.2)",
           "(0.6, 0.7)"
          ],
          [
           "(-0.3, -0.2)",
           "(0.6, 0.7)"
          ],
          [
           "(-0.3, -0.2)",
           "(0.6, 0.7)"
          ],
          [
           "(-0.3, -0.2)",
           "(0.6, 0.7)"
          ],
          [
           "(-0.3, -0.2)",
           "(0.6, 0.7)"
          ],
          [
           "(-0.3, -0.2)",
           "(0.6, 0.7)"
          ],
          [
           "(-0.3, -0.2)",
           "(0.6, 0.7)"
          ],
          [
           "(-0.3, -0.2)",
           "(0.6, 0.7)"
          ],
          [
           "(-0.3, -0.2)",
           "(0.6, 0.7)"
          ],
          [
           "(-0.3, -0.2)",
           "(0.6, 0.7)"
          ],
          [
           "(-0.3, -0.2)",
           "(0.6, 0.7)"
          ],
          [
           "(-0.3, -0.2)",
           "(0.6, 0.7)"
          ],
          [
           "(-0.3, -0.2)",
           "(0.6, 0.7)"
          ],
          [
           "(-0.3, -0.2)",
           "(0.6, 0.7)"
          ],
          [
           "(-0.3, -0.2)",
           "(0.6, 0.7)"
          ],
          [
           "(-0.3, -0.2)",
           "(0.6, 0.7)"
          ],
          [
           "(-0.3, -0.2)",
           "(0.6, 0.7)"
          ],
          [
           "(-0.3, -0.2)",
           "(0.6, 0.7)"
          ],
          [
           "(-0.3, -0.2)",
           "(0.6, 0.7)"
          ],
          [
           "(-0.3, -0.2)",
           "(0.6, 0.7)"
          ],
          [
           "(-0.3, -0.2)",
           "(0.6, 0.7)"
          ],
          [
           "(-0.3, -0.2)",
           "(0.6, 0.7)"
          ],
          [
           "(-0.3, -0.2)",
           "(0.6, 0.7)"
          ],
          [
           "(-0.3, -0.2)",
           "(0.6, 0.7)"
          ],
          [
           "(-0.3, -0.2)",
           "(0.6, 0.7)"
          ],
          [
           "(-0.3, -0.2)",
           "(0.6, 0.7)"
          ],
          [
           "(-0.3, -0.2)",
           "(0.6, 0.7)"
          ],
          [
           "(-0.3, -0.2)",
           "(0.6, 0.7)"
          ],
          [
           "(-0.3, -0.2)",
           "(0.6, 0.7)"
          ],
          [
           "(-0.3, -0.2)",
           "(0.6, 0.7)"
          ],
          [
           "(-0.3, -0.2)",
           "(0.6, 0.7)"
          ],
          [
           "(-0.3, -0.2)",
           "(0.6, 0.7)"
          ],
          [
           "(-0.3, -0.2)",
           "(0.6, 0.7)"
          ],
          [
           "(-0.3, -0.2)",
           "(0.6, 0.7)"
          ],
          [
           "(-0.3, -0.2)",
           "(0.6, 0.7)"
          ],
          [
           "(-0.3, -0.2)",
           "(0.6, 0.7)"
          ],
          [
           "(-0.3, -0.2)",
           "(0.6, 0.7)"
          ],
          [
           "(-0.3, -0.2)",
           "(0.6, 0.7)"
          ],
          [
           "(-0.3, -0.2)",
           "(0.6, 0.7)"
          ],
          [
           "(-0.3, -0.2)",
           "(0.6, 0.7)"
          ],
          [
           "(-0.3, -0.2)",
           "(0.6, 0.7)"
          ],
          [
           "(-0.3, -0.2)",
           "(0.6, 0.7)"
          ],
          [
           "(-0.3, -0.2)",
           "(0.6, 0.7)"
          ],
          [
           "(-0.3, -0.2)",
           "(0.6, 0.7)"
          ],
          [
           "(-0.3, -0.2)",
           "(0.6, 0.7)"
          ],
          [
           "(-0.3, -0.2)",
           "(0.6, 0.7)"
          ],
          [
           "(-0.3, -0.2)",
           "(0.6, 0.7)"
          ],
          [
           "(-0.3, -0.2)",
           "(0.6, 0.7)"
          ],
          [
           "(-0.3, -0.2)",
           "(0.6, 0.7)"
          ],
          [
           "(-0.3, -0.2)",
           "(0.6, 0.7)"
          ],
          [
           "(-0.3, -0.2)",
           "(0.6, 0.7)"
          ],
          [
           "(-0.3, -0.2)",
           "(0.6, 0.7)"
          ],
          [
           "(-0.3, -0.2)",
           "(0.6, 0.7)"
          ],
          [
           "(-0.3, -0.2)",
           "(0.6, 0.7)"
          ],
          [
           "(-0.3, -0.2)",
           "(0.6, 0.7)"
          ],
          [
           "(-0.3, -0.2)",
           "(0.6, 0.7)"
          ],
          [
           "(-0.3, -0.2)",
           "(0.6, 0.7)"
          ],
          [
           "(-0.3, -0.2)",
           "(0.6, 0.7)"
          ],
          [
           "(-0.3, -0.2)",
           "(0.6, 0.7)"
          ],
          [
           "(-0.3, -0.2)",
           "(0.6, 0.7)"
          ],
          [
           "(-0.3, -0.2)",
           "(0.6, 0.7)"
          ],
          [
           "(-0.3, -0.2)",
           "(0.6, 0.7)"
          ],
          [
           "(-0.3, -0.2)",
           "(0.6, 0.7)"
          ],
          [
           "(-0.3, -0.2)",
           "(0.6, 0.7)"
          ],
          [
           "(-0.3, -0.2)",
           "(0.6, 0.7)"
          ],
          [
           "(-0.3, -0.2)",
           "(0.6, 0.7)"
          ],
          [
           "(-0.3, -0.2)",
           "(0.6, 0.7)"
          ],
          [
           "(-0.3, -0.2)",
           "(0.6, 0.7)"
          ],
          [
           "(-0.3, -0.2)",
           "(0.6, 0.7)"
          ],
          [
           "(-0.3, -0.2)",
           "(0.6, 0.7)"
          ],
          [
           "(-0.3, -0.2)",
           "(0.6, 0.7)"
          ],
          [
           "(-0.3, -0.2)",
           "(0.6, 0.7)"
          ],
          [
           "(-0.3, -0.2)",
           "(0.6, 0.7)"
          ],
          [
           "(-0.3, -0.2)",
           "(0.6, 0.7)"
          ],
          [
           "(-0.3, -0.2)",
           "(0.6, 0.7)"
          ],
          [
           "(-0.3, -0.2)",
           "(0.6, 0.7)"
          ],
          [
           "(-0.3, -0.2)",
           "(0.6, 0.7)"
          ],
          [
           "(-0.3, -0.2)",
           "(0.6, 0.7)"
          ],
          [
           "(-0.3, -0.2)",
           "(0.6, 0.7)"
          ],
          [
           "(-0.3, -0.2)",
           "(0.6, 0.7)"
          ],
          [
           "(-0.3, -0.2)",
           "(0.6, 0.7)"
          ],
          [
           "(-0.3, -0.2)",
           "(0.6, 0.7)"
          ],
          [
           "(-0.3, -0.2)",
           "(0.6, 0.7)"
          ],
          [
           "(-0.3, -0.2)",
           "(0.6, 0.7)"
          ],
          [
           "(-0.3, -0.2)",
           "(0.6, 0.7)"
          ],
          [
           "(-0.3, -0.2)",
           "(0.6, 0.7)"
          ],
          [
           "(-0.3, -0.2)",
           "(0.6, 0.7)"
          ],
          [
           "(-0.3, -0.2)",
           "(0.6, 0.7)"
          ],
          [
           "(-0.3, -0.2)",
           "(0.6, 0.7)"
          ],
          [
           "(-0.3, -0.2)",
           "(0.6, 0.7)"
          ],
          [
           "(-0.3, -0.2)",
           "(0.6, 0.7)"
          ],
          [
           "(-0.3, -0.2)",
           "(0.6, 0.7)"
          ],
          [
           "(-0.3, -0.2)",
           "(0.6, 0.7)"
          ],
          [
           "(-0.3, -0.2)",
           "(0.6, 0.7)"
          ],
          [
           "(-0.3, -0.2)",
           "(0.6, 0.7)"
          ],
          [
           "(-0.3, -0.2)",
           "(0.6, 0.7)"
          ],
          [
           "(-0.3, -0.2)",
           "(0.6, 0.7)"
          ],
          [
           "(-0.3, -0.2)",
           "(0.6, 0.7)"
          ],
          [
           "(-0.3, -0.2)",
           "(0.6, 0.7)"
          ],
          [
           "(-0.3, -0.2)",
           "(0.6, 0.7)"
          ],
          [
           "(-0.3, -0.2)",
           "(0.6, 0.7)"
          ],
          [
           "(-0.3, -0.2)",
           "(0.6, 0.7)"
          ],
          [
           "(-0.3, -0.2)",
           "(0.6, 0.7)"
          ],
          [
           "(-0.3, -0.2)",
           "(0.6, 0.7)"
          ],
          [
           "(-0.3, -0.2)",
           "(0.6, 0.7)"
          ],
          [
           "(-0.3, -0.2)",
           "(0.6, 0.7)"
          ],
          [
           "(-0.3, -0.2)",
           "(0.6, 0.7)"
          ],
          [
           "(-0.3, -0.2)",
           "(0.6, 0.7)"
          ],
          [
           "(-0.3, -0.2)",
           "(0.6, 0.7)"
          ],
          [
           "(-0.3, -0.2)",
           "(0.6, 0.7)"
          ],
          [
           "(-0.3, -0.2)",
           "(0.6, 0.7)"
          ],
          [
           "(-0.3, -0.2)",
           "(0.6, 0.7)"
          ],
          [
           "(-0.3, -0.2)",
           "(0.6, 0.7)"
          ],
          [
           "(-0.3, -0.2)",
           "(0.6, 0.7)"
          ],
          [
           "(-0.3, -0.2)",
           "(0.6, 0.7)"
          ],
          [
           "(-0.3, -0.2)",
           "(0.6, 0.7)"
          ],
          [
           "(-0.3, -0.2)",
           "(0.6, 0.7)"
          ],
          [
           "(-0.3, -0.2)",
           "(0.6, 0.7)"
          ],
          [
           "(-0.3, -0.2)",
           "(0.6, 0.7)"
          ],
          [
           "(-0.3, -0.2)",
           "(0.6, 0.7)"
          ],
          [
           "(-0.3, -0.2)",
           "(0.6, 0.7)"
          ],
          [
           "(-0.3, -0.2)",
           "(0.6, 0.7)"
          ],
          [
           "(-0.3, -0.2)",
           "(0.6, 0.7)"
          ],
          [
           "(-0.3, -0.2)",
           "(0.6, 0.7)"
          ],
          [
           "(-0.3, -0.2)",
           "(0.6, 0.7)"
          ],
          [
           "(-0.3, -0.2)",
           "(0.6, 0.7)"
          ],
          [
           "(-0.3, -0.2)",
           "(0.6, 0.7)"
          ],
          [
           "(-0.3, -0.2)",
           "(0.6, 0.7)"
          ],
          [
           "(-0.3, -0.2)",
           "(0.6, 0.7)"
          ],
          [
           "(-0.3, -0.2)",
           "(0.6, 0.7)"
          ],
          [
           "(-0.3, -0.2)",
           "(0.6, 0.7)"
          ],
          [
           "(-0.3, -0.2)",
           "(0.6, 0.7)"
          ],
          [
           "(-0.3, -0.2)",
           "(0.6, 0.7)"
          ],
          [
           "(-0.3, -0.2)",
           "(0.6, 0.7)"
          ],
          [
           "(-0.3, -0.2)",
           "(0.6, 0.7)"
          ],
          [
           "(-0.3, -0.2)",
           "(0.6, 0.7)"
          ],
          [
           "(-0.3, -0.2)",
           "(0.6, 0.7)"
          ],
          [
           "(-0.3, -0.2)",
           "(0.6, 0.7)"
          ],
          [
           "(-0.3, -0.2)",
           "(0.6, 0.7)"
          ],
          [
           "(-0.3, -0.2)",
           "(0.6, 0.7)"
          ],
          [
           "(-0.3, -0.2)",
           "(0.6, 0.7)"
          ],
          [
           "(-0.3, -0.2)",
           "(0.6, 0.7)"
          ],
          [
           "(-0.3, -0.2)",
           "(0.6, 0.7)"
          ],
          [
           "(-0.3, -0.2)",
           "(0.6, 0.7)"
          ],
          [
           "(-0.3, -0.2)",
           "(0.6, 0.7)"
          ],
          [
           "(-0.3, -0.2)",
           "(0.6, 0.7)"
          ]
         ],
         "hovertemplate": "<b>Date:</b> %{x}<br><b>Portfolio Value:</b> %{y}<br><b>Put Delta Range:</b> %{customdata[0]}<br><b>Call Delta Range:</b> %{customdata[1]}",
         "legendgroup": "Put: (-0.3, -0.2), Call: (0.6, 0.7)",
         "line": {
          "color": "#FFA15A",
          "dash": "solid"
         },
         "marker": {
          "symbol": "circle"
         },
         "mode": "lines",
         "name": "Put: (-0.3, -0.2), Call: (0.6, 0.7)",
         "showlegend": true,
         "type": "scattergl",
         "x": [
          "2024-01-03",
          "2024-01-05",
          "2024-01-08",
          "2024-01-10",
          "2024-01-12",
          "2024-01-17",
          "2024-01-19",
          "2024-01-22",
          "2024-01-24",
          "2024-01-26",
          "2024-01-29",
          "2024-01-31",
          "2024-02-02",
          "2024-02-05",
          "2024-02-07",
          "2024-02-09",
          "2024-02-12",
          "2024-02-14",
          "2024-02-16",
          "2024-02-21",
          "2024-02-23",
          "2024-02-26",
          "2024-02-28",
          "2024-03-01",
          "2024-03-04",
          "2024-03-06",
          "2024-03-08",
          "2024-03-11",
          "2024-03-13",
          "2024-03-15",
          "2024-03-18",
          "2024-03-20",
          "2024-03-22",
          "2024-03-25",
          "2024-03-27",
          "2024-04-01",
          "2024-04-03",
          "2024-04-05",
          "2024-04-08",
          "2024-04-10",
          "2024-04-12",
          "2024-04-15",
          "2024-04-17",
          "2024-04-19",
          "2024-04-22",
          "2024-04-24",
          "2024-04-26",
          "2024-04-29",
          "2024-05-01",
          "2024-05-03",
          "2024-05-06",
          "2024-05-08",
          "2024-05-10",
          "2024-05-13",
          "2024-05-15",
          "2024-05-17",
          "2024-05-20",
          "2024-05-22",
          "2024-05-24",
          "2024-05-29",
          "2024-05-31",
          "2024-06-03",
          "2024-06-05",
          "2024-06-07",
          "2024-06-10",
          "2024-06-12",
          "2024-06-14",
          "2024-06-17",
          "2024-06-21",
          "2024-06-24",
          "2024-06-26",
          "2024-06-28",
          "2024-07-01",
          "2024-07-03",
          "2024-07-05",
          "2024-07-08",
          "2024-07-10",
          "2024-07-12",
          "2024-07-15",
          "2024-07-17",
          "2024-07-19",
          "2024-07-22",
          "2024-07-24",
          "2024-07-26",
          "2024-07-29",
          "2024-08-12",
          "2024-08-14",
          "2024-08-16",
          "2024-08-19",
          "2024-08-21",
          "2024-08-23",
          "2024-08-26",
          "2024-08-28",
          "2024-08-30",
          "2024-09-04",
          "2024-09-06",
          "2024-09-09",
          "2024-09-11",
          "2024-09-12",
          "2024-09-13",
          "2024-09-16",
          "2024-09-17",
          "2024-09-18",
          "2024-09-19",
          "2024-09-20",
          "2024-09-23",
          "2024-09-24",
          "2024-09-25",
          "2024-09-26",
          "2024-09-27",
          "2024-09-30",
          "2024-10-01",
          "2024-10-02",
          "2024-10-03",
          "2024-10-04",
          "2024-10-07",
          "2024-10-08",
          "2024-10-09",
          "2024-10-10",
          "2024-10-11",
          "2024-10-14",
          "2024-10-15",
          "2024-10-16",
          "2024-10-17",
          "2024-10-18",
          "2024-10-21",
          "2024-10-22",
          "2024-10-23",
          "2024-10-24",
          "2024-10-25",
          "2024-10-28",
          "2024-10-29",
          "2024-10-30",
          "2024-10-31",
          "2024-11-01",
          "2024-11-04",
          "2024-11-05",
          "2024-11-06",
          "2024-11-07",
          "2024-11-08",
          "2024-11-11",
          "2024-11-13",
          "2024-11-14",
          "2024-11-15",
          "2024-11-18",
          "2024-11-19",
          "2024-11-20",
          "2024-11-21",
          "2024-11-22",
          "2024-11-25",
          "2024-11-26",
          "2024-11-27",
          "2024-11-29",
          "2024-12-02",
          "2024-12-03",
          "2024-12-04",
          "2024-12-05",
          "2024-12-06",
          "2024-12-09",
          "2024-12-10",
          "2024-12-11",
          "2024-12-12",
          "2024-12-13",
          "2024-12-16",
          "2024-12-17",
          "2024-12-18",
          "2024-12-19",
          "2024-12-20",
          "2024-12-23",
          "2024-12-24",
          "2024-12-27",
          "2024-12-30"
         ],
         "xaxis": "x",
         "y": {
          "bdata": "AAAAAICw00AAAAAAgLDTQAAAAACAsNNAAAAAAICw00AAAAAAgLDTQAAAAACAsNNAAAAAAICw00AAAAAAgLDTQAAAAACAsNNAAAAAAICw00AAAAAAgLDTQAAAAACAsNNAAAAAAICw00AAAAAAgM7TQAAAAACAztNAAAAAAIDO00AAAAAAgM7TQAAAAACAztNAAAAAAIDO00AAAAAAgM7TQAAAAACAztNAAAAAAIDO00AAAAAAgM7TQAAAAACAztNAAAAAcG0/00AAAABAoV7TQAAAANGwhtNAAAAAAfS400AAAADdpJDTQAAAAPq3tdNAAAAA6RbR00AAAAD3QUzUQAAAAChCrdNAAAAAXq2J00AAAAAx48bTQAAAANVFddNAAAAAU9Fr00AAAABT0WvTQAAAAADAMNNAAAAAAMAw00AAAAAAwDDTQAAAAADAMNNAAAAAAMAw00AAAAAAwDDTQAAAAADAMNNAAAAAAMAw00AAAAAAwDDTQAAAAADAMNNAAAAAAMAw00AAAAAAwDDTQAAAAABATNNAAAAAAEBM00AAAAAAQEzTQAAAAABATNNAAAAAAEBM00AAAAAAQEzTQAAAAABATNNAAAAAAEBM00AAAAAAQEzTQAAAAABATNNAAAAAAEBM00AAAAAAQEzTQAAAAACAftNAAAAAAIB+00AAAAAAgH7TQAAAAACAftNAAAAAAIB+00AAAAAAgH7TQAAAAACAftNAAAAAAIB+00AAAAAAgH7TQAAAAACAftNAAAAAAIB+00AAAAAAgH7TQAAAAACAftNAAAAAAIDD00AAAAAAgMPTQAAAAACAw9NAAAAAAIDD00AAAAAAgMPTQAAAAACAw9NAAAAAAIDD00AAAAAAgMPTQAAAAACAw9NAAAAAAIDD00AAAAAAgMPTQAAAAMzT6NRAAAAA+NZU1UAAAAAx2VDVQAAAAO6RXdVAAAAAy4to1UD////7BnHVQP///7vQX9VA/v//cW2e1UABAAAJINPUQAAAAIhg0tRAAAAAJJ/U1EAAAACIRgDVQP////gEA9VA////+AQD1UAAAAAAQI/UQAAAAABAj9RAAAAAAECP1EAAAAAAQI/UQAAAAABAj9RAAAAAAECP1EAAAAAAQI/UQAAAAABAj9RAAAAAAECP1EAAAAAAQI/UQAAAAABAj9RAAAAAAECP1EAAAAAAQI/UQAAAAABAj9RAAAAAAECP1EAAAAAAQI/UQAAAAABAj9RAAAAAAECP1EAAAAAAQI/UQAAAAABAj9RAAAAAAADJ1EAAAAAAAMnUQAAAAAAAydRAAAAAAADJ1EAAAAAAAMnUQAAAAAAAydRAAAAAAADJ1EAAAAAAAMnUQAAAAAAAydRAAAAAAADJ1EAAAAAAAMnUQAAAAAAAydRAAAAAAADJ1EAAAAAAAMnUQAAAAAAAydRAAAAAAADJ1EAAAAAAAMnUQAAAAAAAydRAAAAAAADJ1EAAAAAAAMnUQAAAAAAAydRAAAAAAEDq1EAAAAAAQOrUQAAAAABA6tRAAAAAAEDq1EAAAAAAQOrUQAAAAABA6tRAAAAAAEDq1EAAAAAAQOrUQAAAAABA6tRAAAAAAEDq1EAAAAAAQOrUQAAAAABA6tRAAAAAAEAc1UAAAAAAQBzVQAAAAABAHNVAAAAAAEAc1UAAAAAAQBzVQAAAAABAHNVAAAAAAEAc1UAAAAAAQBzVQAAAAABAHNVAAAAAAEAc1UAAAAAAQBzVQAAAAABAHNVAAAAAAEAc1UAAAAAAQBzVQAAAAABAHNVAAAAAAEAc1UAAAAAAQBzVQAAAAABAHNVAAAAAAMBP1UA=",
          "dtype": "f8"
         },
         "yaxis": "y"
        }
       ],
       "layout": {
        "legend": {
         "title": {
          "text": "Delta Ranges (Put, Call)"
         },
         "tracegroupgap": 0,
         "x": 0.01,
         "xanchor": "left",
         "y": 1.02,
         "yanchor": "top"
        },
        "template": {
         "data": {
          "bar": [
           {
            "error_x": {
             "color": "#2a3f5f"
            },
            "error_y": {
             "color": "#2a3f5f"
            },
            "marker": {
             "line": {
              "color": "#E5ECF6",
              "width": 0.5
             },
             "pattern": {
              "fillmode": "overlay",
              "size": 10,
              "solidity": 0.2
             }
            },
            "type": "bar"
           }
          ],
          "barpolar": [
           {
            "marker": {
             "line": {
              "color": "#E5ECF6",
              "width": 0.5
             },
             "pattern": {
              "fillmode": "overlay",
              "size": 10,
              "solidity": 0.2
             }
            },
            "type": "barpolar"
           }
          ],
          "carpet": [
           {
            "aaxis": {
             "endlinecolor": "#2a3f5f",
             "gridcolor": "white",
             "linecolor": "white",
             "minorgridcolor": "white",
             "startlinecolor": "#2a3f5f"
            },
            "baxis": {
             "endlinecolor": "#2a3f5f",
             "gridcolor": "white",
             "linecolor": "white",
             "minorgridcolor": "white",
             "startlinecolor": "#2a3f5f"
            },
            "type": "carpet"
           }
          ],
          "choropleth": [
           {
            "colorbar": {
             "outlinewidth": 0,
             "ticks": ""
            },
            "type": "choropleth"
           }
          ],
          "contour": [
           {
            "colorbar": {
             "outlinewidth": 0,
             "ticks": ""
            },
            "colorscale": [
             [
              0,
              "#0d0887"
             ],
             [
              0.1111111111111111,
              "#46039f"
             ],
             [
              0.2222222222222222,
              "#7201a8"
             ],
             [
              0.3333333333333333,
              "#9c179e"
             ],
             [
              0.4444444444444444,
              "#bd3786"
             ],
             [
              0.5555555555555556,
              "#d8576b"
             ],
             [
              0.6666666666666666,
              "#ed7953"
             ],
             [
              0.7777777777777778,
              "#fb9f3a"
             ],
             [
              0.8888888888888888,
              "#fdca26"
             ],
             [
              1,
              "#f0f921"
             ]
            ],
            "type": "contour"
           }
          ],
          "contourcarpet": [
           {
            "colorbar": {
             "outlinewidth": 0,
             "ticks": ""
            },
            "type": "contourcarpet"
           }
          ],
          "heatmap": [
           {
            "colorbar": {
             "outlinewidth": 0,
             "ticks": ""
            },
            "colorscale": [
             [
              0,
              "#0d0887"
             ],
             [
              0.1111111111111111,
              "#46039f"
             ],
             [
              0.2222222222222222,
              "#7201a8"
             ],
             [
              0.3333333333333333,
              "#9c179e"
             ],
             [
              0.4444444444444444,
              "#bd3786"
             ],
             [
              0.5555555555555556,
              "#d8576b"
             ],
             [
              0.6666666666666666,
              "#ed7953"
             ],
             [
              0.7777777777777778,
              "#fb9f3a"
             ],
             [
              0.8888888888888888,
              "#fdca26"
             ],
             [
              1,
              "#f0f921"
             ]
            ],
            "type": "heatmap"
           }
          ],
          "histogram": [
           {
            "marker": {
             "pattern": {
              "fillmode": "overlay",
              "size": 10,
              "solidity": 0.2
             }
            },
            "type": "histogram"
           }
          ],
          "histogram2d": [
           {
            "colorbar": {
             "outlinewidth": 0,
             "ticks": ""
            },
            "colorscale": [
             [
              0,
              "#0d0887"
             ],
             [
              0.1111111111111111,
              "#46039f"
             ],
             [
              0.2222222222222222,
              "#7201a8"
             ],
             [
              0.3333333333333333,
              "#9c179e"
             ],
             [
              0.4444444444444444,
              "#bd3786"
             ],
             [
              0.5555555555555556,
              "#d8576b"
             ],
             [
              0.6666666666666666,
              "#ed7953"
             ],
             [
              0.7777777777777778,
              "#fb9f3a"
             ],
             [
              0.8888888888888888,
              "#fdca26"
             ],
             [
              1,
              "#f0f921"
             ]
            ],
            "type": "histogram2d"
           }
          ],
          "histogram2dcontour": [
           {
            "colorbar": {
             "outlinewidth": 0,
             "ticks": ""
            },
            "colorscale": [
             [
              0,
              "#0d0887"
             ],
             [
              0.1111111111111111,
              "#46039f"
             ],
             [
              0.2222222222222222,
              "#7201a8"
             ],
             [
              0.3333333333333333,
              "#9c179e"
             ],
             [
              0.4444444444444444,
              "#bd3786"
             ],
             [
              0.5555555555555556,
              "#d8576b"
             ],
             [
              0.6666666666666666,
              "#ed7953"
             ],
             [
              0.7777777777777778,
              "#fb9f3a"
             ],
             [
              0.8888888888888888,
              "#fdca26"
             ],
             [
              1,
              "#f0f921"
             ]
            ],
            "type": "histogram2dcontour"
           }
          ],
          "mesh3d": [
           {
            "colorbar": {
             "outlinewidth": 0,
             "ticks": ""
            },
            "type": "mesh3d"
           }
          ],
          "parcoords": [
           {
            "line": {
             "colorbar": {
              "outlinewidth": 0,
              "ticks": ""
             }
            },
            "type": "parcoords"
           }
          ],
          "pie": [
           {
            "automargin": true,
            "type": "pie"
           }
          ],
          "scatter": [
           {
            "fillpattern": {
             "fillmode": "overlay",
             "size": 10,
             "solidity": 0.2
            },
            "type": "scatter"
           }
          ],
          "scatter3d": [
           {
            "line": {
             "colorbar": {
              "outlinewidth": 0,
              "ticks": ""
             }
            },
            "marker": {
             "colorbar": {
              "outlinewidth": 0,
              "ticks": ""
             }
            },
            "type": "scatter3d"
           }
          ],
          "scattercarpet": [
           {
            "marker": {
             "colorbar": {
              "outlinewidth": 0,
              "ticks": ""
             }
            },
            "type": "scattercarpet"
           }
          ],
          "scattergeo": [
           {
            "marker": {
             "colorbar": {
              "outlinewidth": 0,
              "ticks": ""
             }
            },
            "type": "scattergeo"
           }
          ],
          "scattergl": [
           {
            "marker": {
             "colorbar": {
              "outlinewidth": 0,
              "ticks": ""
             }
            },
            "type": "scattergl"
           }
          ],
          "scattermap": [
           {
            "marker": {
             "colorbar": {
              "outlinewidth": 0,
              "ticks": ""
             }
            },
            "type": "scattermap"
           }
          ],
          "scattermapbox": [
           {
            "marker": {
             "colorbar": {
              "outlinewidth": 0,
              "ticks": ""
             }
            },
            "type": "scattermapbox"
           }
          ],
          "scatterpolar": [
           {
            "marker": {
             "colorbar": {
              "outlinewidth": 0,
              "ticks": ""
             }
            },
            "type": "scatterpolar"
           }
          ],
          "scatterpolargl": [
           {
            "marker": {
             "colorbar": {
              "outlinewidth": 0,
              "ticks": ""
             }
            },
            "type": "scatterpolargl"
           }
          ],
          "scatterternary": [
           {
            "marker": {
             "colorbar": {
              "outlinewidth": 0,
              "ticks": ""
             }
            },
            "type": "scatterternary"
           }
          ],
          "surface": [
           {
            "colorbar": {
             "outlinewidth": 0,
             "ticks": ""
            },
            "colorscale": [
             [
              0,
              "#0d0887"
             ],
             [
              0.1111111111111111,
              "#46039f"
             ],
             [
              0.2222222222222222,
              "#7201a8"
             ],
             [
              0.3333333333333333,
              "#9c179e"
             ],
             [
              0.4444444444444444,
              "#bd3786"
             ],
             [
              0.5555555555555556,
              "#d8576b"
             ],
             [
              0.6666666666666666,
              "#ed7953"
             ],
             [
              0.7777777777777778,
              "#fb9f3a"
             ],
             [
              0.8888888888888888,
              "#fdca26"
             ],
             [
              1,
              "#f0f921"
             ]
            ],
            "type": "surface"
           }
          ],
          "table": [
           {
            "cells": {
             "fill": {
              "color": "#EBF0F8"
             },
             "line": {
              "color": "white"
             }
            },
            "header": {
             "fill": {
              "color": "#C8D4E3"
             },
             "line": {
              "color": "white"
             }
            },
            "type": "table"
           }
          ]
         },
         "layout": {
          "annotationdefaults": {
           "arrowcolor": "#2a3f5f",
           "arrowhead": 0,
           "arrowwidth": 1
          },
          "autotypenumbers": "strict",
          "coloraxis": {
           "colorbar": {
            "outlinewidth": 0,
            "ticks": ""
           }
          },
          "colorscale": {
           "diverging": [
            [
             0,
             "#8e0152"
            ],
            [
             0.1,
             "#c51b7d"
            ],
            [
             0.2,
             "#de77ae"
            ],
            [
             0.3,
             "#f1b6da"
            ],
            [
             0.4,
             "#fde0ef"
            ],
            [
             0.5,
             "#f7f7f7"
            ],
            [
             0.6,
             "#e6f5d0"
            ],
            [
             0.7,
             "#b8e186"
            ],
            [
             0.8,
             "#7fbc41"
            ],
            [
             0.9,
             "#4d9221"
            ],
            [
             1,
             "#276419"
            ]
           ],
           "sequential": [
            [
             0,
             "#0d0887"
            ],
            [
             0.1111111111111111,
             "#46039f"
            ],
            [
             0.2222222222222222,
             "#7201a8"
            ],
            [
             0.3333333333333333,
             "#9c179e"
            ],
            [
             0.4444444444444444,
             "#bd3786"
            ],
            [
             0.5555555555555556,
             "#d8576b"
            ],
            [
             0.6666666666666666,
             "#ed7953"
            ],
            [
             0.7777777777777778,
             "#fb9f3a"
            ],
            [
             0.8888888888888888,
             "#fdca26"
            ],
            [
             1,
             "#f0f921"
            ]
           ],
           "sequentialminus": [
            [
             0,
             "#0d0887"
            ],
            [
             0.1111111111111111,
             "#46039f"
            ],
            [
             0.2222222222222222,
             "#7201a8"
            ],
            [
             0.3333333333333333,
             "#9c179e"
            ],
            [
             0.4444444444444444,
             "#bd3786"
            ],
            [
             0.5555555555555556,
             "#d8576b"
            ],
            [
             0.6666666666666666,
             "#ed7953"
            ],
            [
             0.7777777777777778,
             "#fb9f3a"
            ],
            [
             0.8888888888888888,
             "#fdca26"
            ],
            [
             1,
             "#f0f921"
            ]
           ]
          },
          "colorway": [
           "#636efa",
           "#EF553B",
           "#00cc96",
           "#ab63fa",
           "#FFA15A",
           "#19d3f3",
           "#FF6692",
           "#B6E880",
           "#FF97FF",
           "#FECB52"
          ],
          "font": {
           "color": "#2a3f5f"
          },
          "geo": {
           "bgcolor": "white",
           "lakecolor": "white",
           "landcolor": "#E5ECF6",
           "showlakes": true,
           "showland": true,
           "subunitcolor": "white"
          },
          "hoverlabel": {
           "align": "left"
          },
          "hovermode": "closest",
          "mapbox": {
           "style": "light"
          },
          "paper_bgcolor": "white",
          "plot_bgcolor": "#E5ECF6",
          "polar": {
           "angularaxis": {
            "gridcolor": "white",
            "linecolor": "white",
            "ticks": ""
           },
           "bgcolor": "#E5ECF6",
           "radialaxis": {
            "gridcolor": "white",
            "linecolor": "white",
            "ticks": ""
           }
          },
          "scene": {
           "xaxis": {
            "backgroundcolor": "#E5ECF6",
            "gridcolor": "white",
            "gridwidth": 2,
            "linecolor": "white",
            "showbackground": true,
            "ticks": "",
            "zerolinecolor": "white"
           },
           "yaxis": {
            "backgroundcolor": "#E5ECF6",
            "gridcolor": "white",
            "gridwidth": 2,
            "linecolor": "white",
            "showbackground": true,
            "ticks": "",
            "zerolinecolor": "white"
           },
           "zaxis": {
            "backgroundcolor": "#E5ECF6",
            "gridcolor": "white",
            "gridwidth": 2,
            "linecolor": "white",
            "showbackground": true,
            "ticks": "",
            "zerolinecolor": "white"
           }
          },
          "shapedefaults": {
           "line": {
            "color": "#2a3f5f"
           }
          },
          "ternary": {
           "aaxis": {
            "gridcolor": "white",
            "linecolor": "white",
            "ticks": ""
           },
           "baxis": {
            "gridcolor": "white",
            "linecolor": "white",
            "ticks": ""
           },
           "bgcolor": "#E5ECF6",
           "caxis": {
            "gridcolor": "white",
            "linecolor": "white",
            "ticks": ""
           }
          },
          "title": {
           "x": 0.05
          },
          "xaxis": {
           "automargin": true,
           "gridcolor": "white",
           "linecolor": "white",
           "ticks": "",
           "title": {
            "standoff": 15
           },
           "zerolinecolor": "white",
           "zerolinewidth": 2
          },
          "yaxis": {
           "automargin": true,
           "gridcolor": "white",
           "linecolor": "white",
           "ticks": "",
           "title": {
            "standoff": 15
           },
           "zerolinecolor": "white",
           "zerolinewidth": 2
          }
         }
        },
        "title": {
         "text": "Portfolio Value Comparison for Different Put & Call Delta Ranges"
        },
        "xaxis": {
         "anchor": "y",
         "domain": [
          0,
          1
         ],
         "title": {
          "text": "date"
         }
        },
        "yaxis": {
         "anchor": "x",
         "domain": [
          0,
          1
         ],
         "title": {
          "text": "portfolioValue"
         }
        }
       }
      }
     },
     "metadata": {},
     "output_type": "display_data"
    }
   ],
   "source": [
    "putDeltaRanges = [\n",
    "    (-0.7, -0.6),\n",
    "    (-0.6, -0.5),\n",
    "    (-0.5, -0.4),\n",
    "    (-0.4, -0.3),\n",
    "    (-0.3, -0.2),\n",
    "]\n",
    "callDeltaRanges = [\n",
    "    (0.2, 0.3),\n",
    "    (0.3, 0.4),\n",
    "    (0.4, 0.5),\n",
    "    (0.5, 0.6),\n",
    "    (0.6, 0.7),\n",
    "]\n",
    "tradeLogs = []\n",
    "\n",
    "import plotly.express as px\n",
    "import pandas as pd\n",
    "\n",
    "# Store results for all delta range pairs\n",
    "allTradeLogs = []\n",
    "\n",
    "for putIndex, putDeltaRange in enumerate(putDeltaRanges):\n",
    "    for callIndex, callDeltaRange in enumerate(callDeltaRanges):\n",
    "        tradeLog = testOptionWheel(\n",
    "            appleStockPrices,\n",
    "            appleCalls,\n",
    "            applePuts,\n",
    "            minDaysToExpiration=15,\n",
    "            maxDaysToExpiration=30,\n",
    "            putDeltaRange=putDeltaRange,\n",
    "            callDeltaRange=callDeltaRange,\n",
    "        )\n",
    "\n",
    "        # Add metadata for labeling\n",
    "        tradeLog[\"putDeltaRange\"] = str(putDeltaRange)\n",
    "        tradeLog[\"callDeltaRange\"] = str(callDeltaRange)\n",
    "        tradeLog[\"deltaLabel\"] = f\"Put: {putDeltaRange}, Call: {callDeltaRange}\"  # Combine for legend\n",
    "        allTradeLogs.append(tradeLog)\n",
    "\n",
    "# Combine all trade logs into a single DataFrame for visualization\n",
    "combinedTradeLogs = pd.concat(allTradeLogs, ignore_index=True)\n",
    "\n",
    "# Create interactive Plotly figure\n",
    "fig = px.line(\n",
    "    combinedTradeLogs,\n",
    "    x=\"date\",\n",
    "    y=\"portfolioValue\",\n",
    "    color=\"deltaLabel\",  # Use combined put + call delta range as legend\n",
    "    hover_data={\n",
    "        \"putDeltaRange\": True,\n",
    "        \"callDeltaRange\": True,\n",
    "        \"portfolioValue\": True,\n",
    "        \"date\": True,\n",
    "    },\n",
    "    title=\"Portfolio Value Comparison for Different Put & Call Delta Ranges\"\n",
    ")\n",
    "\n",
    "# Set legend title for clarity\n",
    "fig.update_layout(\n",
    "    legend_title_text=\"Delta Ranges (Put, Call)\",\n",
    "    legend=dict(\n",
    "        yanchor=\"top\",\n",
    "        y=1.02,\n",
    "        xanchor=\"left\",\n",
    "        x=0.01\n",
    "    )\n",
    ")\n",
    "\n",
    "# Customize hover tooltip\n",
    "fig.update_traces(\n",
    "    hovertemplate=\"<b>Date:</b> %{x}<br>\"\n",
    "                  \"<b>Portfolio Value:</b> %{y}<br>\"\n",
    "                  \"<b>Put Delta Range:</b> %{customdata[0]}<br>\"\n",
    "                  \"<b>Call Delta Range:</b> %{customdata[1]}\"\n",
    ")\n",
    "\n",
    "# Show interactive plot with legend toggling\n",
    "fig.show()"
   ]
  },
  {
   "cell_type": "code",
   "execution_count": 124,
   "metadata": {},
   "outputs": [],
   "source": [
    "bestTradeLog = [tradeLog for tradeLog in allTradeLogs if tradeLog[\"putDeltaRange\"][0] == \"(-0.5, -0.4)\" and tradeLog[\"callDeltaRange\"][0] == \"(0.4, 0.5)\"][0]"
   ]
  },
  {
   "cell_type": "code",
   "execution_count": 125,
   "metadata": {},
   "outputs": [
    {
     "data": {
      "text/plain": [
       "<matplotlib.legend.Legend at 0x186fb3430>"
      ]
     },
     "execution_count": 125,
     "metadata": {},
     "output_type": "execute_result"
    },
    {
     "data": {
      "image/png": "[encoded data removed]",
      "text/plain": [
       "<Figure size 1200x600 with 1 Axes>"
      ]
     },
     "metadata": {},
     "output_type": "display_data"
    }
   ],
   "source": [
    "# plot the best trade log and the justHold100Stocks\n",
    "plt.figure(figsize=(12, 6))\n",
    "plt.plot(bestTradeLog['date'], bestTradeLog['portfolioValue'], label='Portfolio Value with Options')\n",
    "plt.plot(justHold100Stocks['date'], justHold100Stocks['portfolioValue'], label='Portfolio Value with 100 Stocks')\n",
    "plt.xlabel('Date')\n",
    "plt.ylabel('Portfolio Value')\n",
    "plt.title('Portfolio Value Comparison')\n",
    "plt.legend()"
   ]
  },
  {
   "cell_type": "code",
   "execution_count": null,
   "metadata": {},
   "outputs": [],
   "source": []
  }
 ],
 "metadata": {
  "kernelspec": {
   "display_name": "trading",
   "language": "python",
   "name": "python3"
  },
  "language_info": {
   "codemirror_mode": {
    "name": "ipython",
    "version": 3
   },
   "file_extension": ".py",
   "mimetype": "text/x-python",
   "name": "python",
   "nbconvert_exporter": "python",
   "pygments_lexer": "ipython3",
   "version": "3.10.16"
  }
 },
 "nbformat": 4,
 "nbformat_minor": 2
}
