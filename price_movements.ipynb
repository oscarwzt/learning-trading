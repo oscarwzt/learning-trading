{
 "cells": [
  {
   "cell_type": "code",
   "execution_count": 64,
   "metadata": {},
   "outputs": [],
   "source": [
    "import pandas as pd\n",
    "import yfinance as yf\n",
    "import numpy as np\n",
    "import matplotlib.pyplot as plt\n",
    "import plotly.graph_objects as go\n",
    "import plotly.express as px\n",
    "import plotly.io as pio"
   ]
  },
  {
   "cell_type": "code",
   "execution_count": null,
   "metadata": {},
   "outputs": [
    {
     "data": {
      "application/vnd.microsoft.datawrangler.viewer.v0+json": {
       "columns": [
        {
         "name": "index",
         "rawType": "int64",
         "type": "integer"
        },
        {
         "name": "Date",
         "rawType": "object",
         "type": "string"
        },
        {
         "name": "Close",
         "rawType": "float64",
         "type": "float"
        },
        {
         "name": "High",
         "rawType": "float64",
         "type": "float"
        },
        {
         "name": "Low",
         "rawType": "float64",
         "type": "float"
        },
        {
         "name": "Open",
         "rawType": "float64",
         "type": "float"
        },
        {
         "name": "Volume",
         "rawType": "int64",
         "type": "integer"
        }
       ],
       "conversionMethod": "pd.DataFrame",
       "ref": "b258b2db-b2b9-412a-a508-153d8edef1f6",
       "rows": [
        [
         "0",
         "2024-01-02",
         "184.53207397460935",
         "187.3153662175252",
         "182.79251821875232",
         "186.03305662356885",
         "82488700"
        ],
        [
         "1",
         "2024-01-03",
         "183.150390625",
         "184.77066759112083",
         "182.3352771284137",
         "183.1205708792931",
         "58414500"
        ],
        [
         "2",
         "2024-01-04",
         "180.8243560791016",
         "181.99730650228184",
         "179.80050438167336",
         "181.06291404030492",
         "71983600"
        ],
        [
         "3",
         "2024-01-05",
         "180.09869384765625",
         "181.6692660827433",
         "179.09472708075188",
         "180.90387243418792",
         "62303300"
        ],
        [
         "4",
         "2024-01-08",
         "184.4525604248047",
         "184.4923301954816",
         "180.41679326133183",
         "181.0032684531674",
         "59144500"
        ],
        [
         "5",
         "2024-01-09",
         "184.0350646972656",
         "184.0449995558496",
         "181.63944418662985",
         "182.82234457021028",
         "42841800"
        ],
        [
         "6",
         "2024-01-10",
         "185.07879638671875",
         "185.28753458558947",
         "182.8223397938252",
         "183.2497813853363",
         "46792900"
        ],
        [
         "7",
         "2024-01-11",
         "184.48239135742188",
         "185.93368472067908",
         "182.524147145214",
         "185.42671870400412",
         "49128400"
        ],
        [
         "8",
         "2024-01-12",
         "184.81040954589844",
         "185.6255229866903",
         "184.0847705038269",
         "184.9495734055796",
         "40444700"
        ],
        [
         "9",
         "2024-01-16",
         "182.5340881347656",
         "183.1603179365285",
         "179.85018978995151",
         "181.07285998444632",
         "65603000"
        ],
        [
         "10",
         "2024-01-17",
         "181.5897521972656",
         "181.83826018866836",
         "179.2239664331644",
         "180.1881786532248",
         "47317400"
        ],
        [
         "11",
         "2024-01-18",
         "187.50425720214844",
         "188.0112080514625",
         "184.72096462518132",
         "184.97940747954692",
         "78005800"
        ],
        [
         "12",
         "2024-01-19",
         "190.4167633056641",
         "190.8044351704297",
         "187.693125392904",
         "188.20007624137463",
         "68741000"
        ],
        [
         "13",
         "2024-01-22",
         "192.73284912109372",
         "194.16425751836653",
         "191.11257223144145",
         "191.1523420023232",
         "60133900"
        ],
        [
         "14",
         "2024-01-23",
         "194.01515197753903",
         "194.58175747905844",
         "192.67321792314556",
         "193.8561183903394",
         "42355600"
        ],
        [
         "15",
         "2024-01-24",
         "193.33920288085935",
         "195.20798769039715",
         "193.18015413797892",
         "194.25371040083743",
         "53631300"
        ],
        [
         "16",
         "2024-01-25",
         "193.0111846923828",
         "195.0986578845498",
         "191.95751323703675",
         "194.0549212884663",
         "54822100"
        ],
        [
         "17",
         "2024-01-26",
         "191.2716217041016",
         "193.59765277461963",
         "190.79449062577763",
         "193.11058683739935",
         "44594000"
        ],
        [
         "18",
         "2024-01-29",
         "190.5857391357422",
         "191.05293535979936",
         "188.4485765371413",
         "190.8640668648328",
         "47145600"
        ],
        [
         "19",
         "2024-01-30",
         "186.91775512695312",
         "190.6553248447769",
         "186.35116482109103",
         "189.80045678886228",
         "55859400"
        ],
        [
         "20",
         "2024-01-31",
         "183.2994842529297",
         "185.98338263365997",
         "183.24979478995036",
         "185.923727976182",
         "55467800"
        ],
        [
         "21",
         "2024-02-01",
         "185.74481201171875",
         "185.83427124755644",
         "182.72296153753896",
         "182.8919451500293",
         "64885400"
        ],
        [
         "22",
         "2024-02-02",
         "184.74082946777344",
         "186.21199239128737",
         "178.1802130458578",
         "178.78657309445222",
         "102518000"
        ],
        [
         "23",
         "2024-02-05",
         "186.55990600585935",
         "188.120543422021",
         "184.7308908884036",
         "187.02710222804",
         "69668800"
        ],
        [
         "24",
         "2024-02-06",
         "188.17025756835935",
         "188.18019242781668",
         "185.6553578627436",
         "185.74481710103248",
         "43490800"
        ],
        [
         "25",
         "2024-02-07",
         "188.27960205078125",
         "189.9098139006124",
         "187.4843734286802",
         "189.5022571462235",
         "53439000"
        ],
        [
         "26",
         "2024-02-08",
         "187.1960906982422",
         "188.40879563608695",
         "186.23187856237743",
         "188.2596969213544",
         "40962000"
        ],
        [
         "27",
         "2024-02-09",
         "187.9624786376953",
         "189.0971204380579",
         "187.11646725876847",
         "187.76340641648085",
         "45155200"
        ],
        [
         "28",
         "2024-02-12",
         "186.27044677734372",
         "187.7833074995908",
         "185.91213805857677",
         "187.53448242231036",
         "41781900"
        ],
        [
         "29",
         "2024-02-13",
         "184.1703643798828",
         "185.33487911795885",
         "182.64755610649428",
         "184.89694454758452",
         "56529500"
        ],
        [
         "30",
         "2024-02-14",
         "183.2845458984375",
         "184.65806518525372",
         "181.58259087415237",
         "184.44906062504623",
         "54630500"
        ],
        [
         "31",
         "2024-02-15",
         "182.9959259033203",
         "183.62296999377597",
         "180.4977274519665",
         "182.68738521978767",
         "65434500"
        ],
        [
         "32",
         "2024-02-16",
         "181.4532165527344",
         "183.98128811611295",
         "180.81622489348007",
         "182.55800062284032",
         "49701400"
        ],
        [
         "33",
         "2024-02-20",
         "180.70672607421875",
         "181.5726325042779",
         "179.15405998428736",
         "180.93564089848357",
         "53665600"
        ],
        [
         "34",
         "2024-02-21",
         "181.4631805419922",
         "182.03049388623003",
         "179.81097819372195",
         "181.0849615211141",
         "41529700"
        ],
        [
         "35",
         "2024-02-22",
         "183.5035095214844",
         "184.090748234488",
         "181.60249751065345",
         "182.6176928712824",
         "52292200"
        ],
        [
         "36",
         "2024-02-23",
         "181.66221618652344",
         "184.17036202409395",
         "181.37357059288817",
         "184.1405042298665",
         "45119700"
        ],
        [
         "37",
         "2024-02-26",
         "180.30860900878903",
         "181.90108040317875",
         "179.8009961275691",
         "181.38353517321784",
         "40867400"
        ],
        [
         "38",
         "2024-02-27",
         "181.77171325683597",
         "183.05564406470424",
         "178.71613380047907",
         "180.24890489042255",
         "54318900"
        ],
        [
         "39",
         "2024-02-28",
         "180.5673828125",
         "182.25939032452453",
         "179.28345207788615",
         "181.6522565198894",
         "48953900"
        ],
        [
         "40",
         "2024-02-29",
         "179.9005584716797",
         "181.7120126019674",
         "178.68629069330834",
         "180.41811896420185",
         "136682600"
        ],
        [
         "41",
         "2024-03-01",
         "178.81565856933594",
         "179.68156498512658",
         "176.54637506189474",
         "178.70617492699984",
         "73488000"
        ],
        [
         "42",
         "2024-03-04",
         "174.277099609375",
         "176.0686281128373",
         "172.9732433768994",
         "175.3221528407019",
         "81510100"
        ],
        [
         "43",
         "2024-03-05",
         "169.32049560546875",
         "171.2314705105848",
         "168.82284541599856",
         "169.95748724050745",
         "95132400"
        ],
        [
         "44",
         "2024-03-06",
         "168.3251953125",
         "170.43524244414468",
         "167.88726071561",
         "170.25608047856306",
         "68587700"
        ],
        [
         "45",
         "2024-03-07",
         "168.20574951171875",
         "169.92761476617306",
         "167.6981518296525",
         "168.35503848083317",
         "71765100"
        ],
        [
         "46",
         "2024-03-08",
         "169.92762756347656",
         "172.8836708711805",
         "168.14604658720506",
         "168.20576217934803",
         "76114600"
        ],
        [
         "47",
         "2024-03-11",
         "171.93812561035156",
         "173.56046994775534",
         "171.24141844268888",
         "172.12723509594798",
         "60139500"
        ],
        [
         "48",
         "2024-03-12",
         "172.41587829589844",
         "173.21212162678884",
         "170.20631026653984",
         "172.33625244410158",
         "59825400"
        ],
        [
         "49",
         "2024-03-13",
         "170.3257598876953",
         "172.37607625258147",
         "169.95748841772314",
         "171.9580519129805",
         "52488700"
        ]
       ],
       "shape": {
        "columns": 6,
        "rows": 251
       }
      },
      "text/html": [
       "<div>\n",
       "<style scoped>\n",
       "    .dataframe tbody tr th:only-of-type {\n",
       "        vertical-align: middle;\n",
       "    }\n",
       "\n",
       "    .dataframe tbody tr th {\n",
       "        vertical-align: top;\n",
       "    }\n",
       "\n",
       "    .dataframe thead th {\n",
       "        text-align: right;\n",
       "    }\n",
       "</style>\n",
       "<table border=\"1\" class=\"dataframe\">\n",
       "  <thead>\n",
       "    <tr style=\"text-align: right;\">\n",
       "      <th></th>\n",
       "      <th>Date</th>\n",
       "      <th>Close</th>\n",
       "      <th>High</th>\n",
       "      <th>Low</th>\n",
       "      <th>Open</th>\n",
       "      <th>Volume</th>\n",
       "    </tr>\n",
       "  </thead>\n",
       "  <tbody>\n",
       "    <tr>\n",
       "      <th>0</th>\n",
       "      <td>2024-01-02</td>\n",
       "      <td>184.532074</td>\n",
       "      <td>187.315366</td>\n",
       "      <td>182.792518</td>\n",
       "      <td>186.033057</td>\n",
       "      <td>82488700</td>\n",
       "    </tr>\n",
       "    <tr>\n",
       "      <th>1</th>\n",
       "      <td>2024-01-03</td>\n",
       "      <td>183.150391</td>\n",
       "      <td>184.770668</td>\n",
       "      <td>182.335277</td>\n",
       "      <td>183.120571</td>\n",
       "      <td>58414500</td>\n",
       "    </tr>\n",
       "    <tr>\n",
       "      <th>2</th>\n",
       "      <td>2024-01-04</td>\n",
       "      <td>180.824356</td>\n",
       "      <td>181.997307</td>\n",
       "      <td>179.800504</td>\n",
       "      <td>181.062914</td>\n",
       "      <td>71983600</td>\n",
       "    </tr>\n",
       "    <tr>\n",
       "      <th>3</th>\n",
       "      <td>2024-01-05</td>\n",
       "      <td>180.098694</td>\n",
       "      <td>181.669266</td>\n",
       "      <td>179.094727</td>\n",
       "      <td>180.903872</td>\n",
       "      <td>62303300</td>\n",
       "    </tr>\n",
       "    <tr>\n",
       "      <th>4</th>\n",
       "      <td>2024-01-08</td>\n",
       "      <td>184.452560</td>\n",
       "      <td>184.492330</td>\n",
       "      <td>180.416793</td>\n",
       "      <td>181.003268</td>\n",
       "      <td>59144500</td>\n",
       "    </tr>\n",
       "    <tr>\n",
       "      <th>...</th>\n",
       "      <td>...</td>\n",
       "      <td>...</td>\n",
       "      <td>...</td>\n",
       "      <td>...</td>\n",
       "      <td>...</td>\n",
       "      <td>...</td>\n",
       "    </tr>\n",
       "    <tr>\n",
       "      <th>246</th>\n",
       "      <td>2024-12-23</td>\n",
       "      <td>254.989655</td>\n",
       "      <td>255.369227</td>\n",
       "      <td>253.171646</td>\n",
       "      <td>254.490204</td>\n",
       "      <td>40858800</td>\n",
       "    </tr>\n",
       "    <tr>\n",
       "      <th>247</th>\n",
       "      <td>2024-12-24</td>\n",
       "      <td>257.916443</td>\n",
       "      <td>257.926411</td>\n",
       "      <td>255.009620</td>\n",
       "      <td>255.209412</td>\n",
       "      <td>23234700</td>\n",
       "    </tr>\n",
       "    <tr>\n",
       "      <th>248</th>\n",
       "      <td>2024-12-26</td>\n",
       "      <td>258.735504</td>\n",
       "      <td>259.814335</td>\n",
       "      <td>257.347047</td>\n",
       "      <td>257.906429</td>\n",
       "      <td>27237100</td>\n",
       "    </tr>\n",
       "    <tr>\n",
       "      <th>249</th>\n",
       "      <td>2024-12-27</td>\n",
       "      <td>255.309296</td>\n",
       "      <td>258.415896</td>\n",
       "      <td>252.782075</td>\n",
       "      <td>257.546826</td>\n",
       "      <td>42355300</td>\n",
       "    </tr>\n",
       "    <tr>\n",
       "      <th>250</th>\n",
       "      <td>2024-12-30</td>\n",
       "      <td>251.923019</td>\n",
       "      <td>253.221595</td>\n",
       "      <td>250.474615</td>\n",
       "      <td>251.952985</td>\n",
       "      <td>35557500</td>\n",
       "    </tr>\n",
       "  </tbody>\n",
       "</table>\n",
       "<p>251 rows × 6 columns</p>\n",
       "</div>"
      ],
      "text/plain": [
       "           Date       Close        High         Low        Open    Volume\n",
       "0    2024-01-02  184.532074  187.315366  182.792518  186.033057  82488700\n",
       "1    2024-01-03  183.150391  184.770668  182.335277  183.120571  58414500\n",
       "2    2024-01-04  180.824356  181.997307  179.800504  181.062914  71983600\n",
       "3    2024-01-05  180.098694  181.669266  179.094727  180.903872  62303300\n",
       "4    2024-01-08  184.452560  184.492330  180.416793  181.003268  59144500\n",
       "..          ...         ...         ...         ...         ...       ...\n",
       "246  2024-12-23  254.989655  255.369227  253.171646  254.490204  40858800\n",
       "247  2024-12-24  257.916443  257.926411  255.009620  255.209412  23234700\n",
       "248  2024-12-26  258.735504  259.814335  257.347047  257.906429  27237100\n",
       "249  2024-12-27  255.309296  258.415896  252.782075  257.546826  42355300\n",
       "250  2024-12-30  251.923019  253.221595  250.474615  251.952985  35557500\n",
       "\n",
       "[251 rows x 6 columns]"
      ]
     },
     "execution_count": 65,
     "metadata": {},
     "output_type": "execute_result"
    }
   ],
   "source": []
  },
  {
   "cell_type": "code",
   "execution_count": 141,
   "metadata": {},
   "outputs": [
    {
     "name": "stderr",
     "output_type": "stream",
     "text": [
      "/var/folders/bt/709h7c513ld30l7ynqg_cv0c0000gn/T/ipykernel_48062/700297519.py:42: DeprecationWarning:\n",
      "\n",
      "elementwise comparison failed; this will raise an error in the future.\n",
      "\n"
     ]
    },
    {
     "name": "stdout",
     "output_type": "stream",
     "text": [
      "Avg Forecast Accuracy: 0.0\n"
     ]
    }
   ],
   "source": [
    "appl = pd.read_csv(\"appleStockPrices.csv\")\n",
    "\n",
    "appl['returns'] = appl['Close'].pct_change()\n",
    "appl['previous1DayReturn'] = appl['returns'].shift(1)\n",
    "appl['previous2DayReturn'] = appl['returns'].shift(2)\n",
    "appl['previous3DayReturn'] = appl['returns'].shift(3)\n",
    "appl['previous4DayReturn'] = appl['returns'].shift(4)\n",
    "appl['previous5DayReturn'] = appl['returns'].shift(5)\n",
    "\n",
    "appl = appl.dropna()\n",
    "cutoffDate = '2024-12-01'\n",
    "train = appl[appl['Date'] < cutoffDate]\n",
    "test = appl[appl['Date'] >= cutoffDate]\n",
    "\n",
    "forecast = []\n",
    "\n",
    "def nDayReturnPattern(n, df):\n",
    "    return [tuple(\n",
    "        df.iloc[i][f'previous{j}DayReturn']>0 for j in range(1, n+1))\n",
    "            for i in range(len(df)\n",
    "    )]\n",
    "\n",
    "N = 2\n",
    "\n",
    "trainNDayReturnPattern = nDayReturnPattern(N, train)\n",
    "testNDayReturnPattern = nDayReturnPattern(N, test)\n",
    "\n",
    "for _ in range(5000):\n",
    "    for i in range(len(test)):\n",
    "        previousNdayReturnPattern = testNDayReturnPattern[i]\n",
    "        # sample from the training set GIVEN the previous 3 day return patterns\n",
    "        filter = [pattern == previousNdayReturnPattern for pattern in trainNDayReturnPattern]\n",
    "        sample = train[filter]\n",
    "\n",
    "        if not sample.empty:\n",
    "            r = sample['returns'].sample(1).values[0]\n",
    "        else:\n",
    "            r = train['returns'].sample(1).values[0]\n",
    "        forecast.append(r)\n",
    "\n",
    "    forcastedPrice = test['Close'].values[0] * (1 + np.array(forecast))\n",
    "    forecastAccuracy = np.mean(np.sign(forecast) == np.sign(test['returns'].values))\n",
    "avgForecastAccuracy = np.mean(forecastAccuracy)\n",
    "print(f\"Avg Forecast Accuracy: {avgForecastAccuracy}\")"
   ]
  },
  {
   "cell_type": "code",
   "execution_count": 139,
   "metadata": {},
   "outputs": [
    {
     "data": {
      "image/png": "[encoded data removed]",
      "text/plain": [
       "<Figure size 2000x1000 with 2 Axes>"
      ]
     },
     "metadata": {},
     "output_type": "display_data"
    }
   ],
   "source": [
    "fig, ax = plt.subplots(1, 2, figsize=(20, 10))\n",
    "ax[0].plot(train['Date'], train['Close'], label='Training Set')\n",
    "ax[0].plot(test['Date'], test['Close'], label='Test Set')\n",
    "ax[0].plot(test['Date'], forcastedPrice, label='Forecasted Price')\n",
    "ax[0].legend()\n",
    "ax[0].grid()\n",
    "\n",
    "ax[1].plot(test['Date'], test['returns'], label='Actual Returns')\n",
    "ax[1].plot(test['Date'], forecast, label='Forecasted Returns')\n",
    "ax[1].legend()\n",
    "ax[1].grid()"
   ]
  },
  {
   "cell_type": "code",
   "execution_count": 56,
   "metadata": {},
   "outputs": [
    {
     "data": {
      "application/vnd.plotly.v1+json": {
       "config": {
        "plotlyServerURL": "https://plot.ly"
       },
       "data": [
        {
         "mode": "lines",
         "name": "Training Set",
         "type": "scatter",
         "x": [
          "2024-06-14",
          "2024-06-17",
          "2024-06-18",
          "2024-06-20",
          "2024-06-21",
          "2024-06-24",
          "2024-06-25",
          "2024-06-26",
          "2024-06-27",
          "2024-06-28",
          "2024-07-01",
          "2024-07-02",
          "2024-07-03",
          "2024-07-05",
          "2024-07-08",
          "2024-07-09",
          "2024-07-10",
          "2024-07-11",
          "2024-07-12",
          "2024-07-15",
          "2024-07-16",
          "2024-07-17",
          "2024-07-18",
          "2024-07-19",
          "2024-07-22",
          "2024-07-23",
          "2024-07-24",
          "2024-07-25",
          "2024-07-26",
          "2024-07-29",
          "2024-07-30",
          "2024-07-31",
          "2024-08-01",
          "2024-08-02",
          "2024-08-05",
          "2024-08-06",
          "2024-08-07",
          "2024-08-08",
          "2024-08-09",
          "2024-08-12",
          "2024-08-13",
          "2024-08-14",
          "2024-08-15",
          "2024-08-16",
          "2024-08-19",
          "2024-08-20",
          "2024-08-21",
          "2024-08-22",
          "2024-08-23",
          "2024-08-26",
          "2024-08-27",
          "2024-08-28",
          "2024-08-29",
          "2024-08-30",
          "2024-09-03",
          "2024-09-04",
          "2024-09-05",
          "2024-09-06",
          "2024-09-09",
          "2024-09-10",
          "2024-09-11",
          "2024-09-12",
          "2024-09-13",
          "2024-09-16",
          "2024-09-17",
          "2024-09-18",
          "2024-09-19",
          "2024-09-20",
          "2024-09-23",
          "2024-09-24",
          "2024-09-25",
          "2024-09-26",
          "2024-09-27",
          "2024-09-30",
          "2024-10-01",
          "2024-10-02",
          "2024-10-03",
          "2024-10-04",
          "2024-10-07",
          "2024-10-08",
          "2024-10-09",
          "2024-10-10",
          "2024-10-11",
          "2024-10-14",
          "2024-10-15",
          "2024-10-16",
          "2024-10-17",
          "2024-10-18",
          "2024-10-21",
          "2024-10-22",
          "2024-10-23",
          "2024-10-24",
          "2024-10-25",
          "2024-10-28",
          "2024-10-29",
          "2024-10-30",
          "2024-10-31",
          "2024-11-01",
          "2024-11-04",
          "2024-11-05",
          "2024-11-06",
          "2024-11-07",
          "2024-11-08",
          "2024-11-11",
          "2024-11-12",
          "2024-11-13",
          "2024-11-14",
          "2024-11-15",
          "2024-11-18",
          "2024-11-19",
          "2024-11-20",
          "2024-11-21",
          "2024-11-22",
          "2024-11-25",
          "2024-11-26",
          "2024-11-27",
          "2024-11-29"
         ],
         "y": [
          211.7782287597656,
          215.94422912597656,
          213.5721893310547,
          208.97764587402344,
          206.79498291015625,
          207.4427947998047,
          208.36968994140625,
          212.5356903076172,
          213.3828582763672,
          209.9144744873047,
          216.02395629882807,
          219.53216552734372,
          220.80789184570312,
          225.5818328857422,
          227.056884765625,
          227.9139862060547,
          232.1995849609375,
          226.80772399902344,
          229.76776123046875,
          233.6148376464844,
          234.033447265625,
          228.1133270263672,
          223.42906188964844,
          223.55862426757807,
          223.20980834960935,
          224.25628662109372,
          217.80795288085935,
          216.7614898681641,
          217.2299041748047,
          217.50897216796875,
          218.0670928955078,
          221.3361053466797,
          217.62857055664065,
          219.12353515625,
          208.5690155029297,
          206.5358428955078,
          209.1171875,
          212.5954742431641,
          215.51568603515625,
          217.0522918701172,
          220.78407287597656,
          221.23309326171875,
          224.22650146484372,
          225.5535888671875,
          225.39393615722656,
          226.0125732421875,
          225.90280151367188,
          224.03692626953125,
          226.3418426513672,
          226.68109130859372,
          227.5292205810547,
          225.99261474609372,
          229.28536987304688,
          228.49710083007807,
          222.28077697753903,
          220.3650054931641,
          221.89163208007807,
          220.3350830078125,
          220.42486572265625,
          219.6266326904297,
          222.1710205078125,
          222.28077697753903,
          222.01138305664065,
          215.84495544433597,
          216.31390380859372,
          220.20535278320312,
          228.3673858642578,
          227.6988525390625,
          225.97265625,
          226.8706817626953,
          225.8728790283203,
          227.02035522460935,
          227.2897491455078,
          232.4883270263672,
          225.71324157714844,
          226.281982421875,
          225.1744079589844,
          226.30194091796875,
          221.20315551757807,
          225.27420043945312,
          229.03591918945312,
          228.5370178222656,
          227.05029296875,
          230.79205322265625,
          233.33645629882807,
          231.27099609375,
          231.6401824951172,
          234.48391723632807,
          235.96067810058597,
          235.342041015625,
          230.25323486328125,
          230.0636749267578,
          230.9018096923828,
          232.88743591308597,
          233.15684509277344,
          229.5946807861328,
          225.4138946533203,
          222.42047119140625,
          221.5224456787109,
          222.95928955078125,
          222.23089599609372,
          226.98043823242188,
          226.7107391357422,
          223.98373413085935,
          223.98373413085935,
          224.8727569580078,
          227.9693603515625,
          224.7528839111328,
          227.7695770263672,
          228.0292816162109,
          228.7484893798828,
          228.2690277099609,
          229.61753845214844,
          232.6142425537109,
          234.8018341064453,
          234.67198181152344,
          237.06935119628903
         ]
        },
        {
         "mode": "lines",
         "name": "Test Set",
         "type": "scatter",
         "x": [
          "2024-12-02",
          "2024-12-03",
          "2024-12-04",
          "2024-12-05",
          "2024-12-06",
          "2024-12-09",
          "2024-12-10",
          "2024-12-11",
          "2024-12-12",
          "2024-12-13",
          "2024-12-16",
          "2024-12-17",
          "2024-12-18",
          "2024-12-19",
          "2024-12-20",
          "2024-12-23",
          "2024-12-24",
          "2024-12-26",
          "2024-12-27",
          "2024-12-30"
         ],
         "y": [
          239.3268585205078,
          242.3834991455078,
          242.74310302734372,
          242.7730712890625,
          242.5732879638672,
          246.47900390625,
          247.4978790283203,
          246.2192840576172,
          247.68768310546875,
          247.85748291015625,
          250.7642822265625,
          253.20159912109372,
          247.77757263183597,
          249.51565551757807,
          254.21051025390625,
          254.9896545410156,
          257.9164428710937,
          258.7355041503906,
          255.30929565429688,
          251.9230194091797
         ]
        },
        {
         "mode": "lines",
         "name": "Forecasted Price",
         "type": "scatter",
         "x": [
          "2024-12-02",
          "2024-12-03",
          "2024-12-04",
          "2024-12-05",
          "2024-12-06",
          "2024-12-09",
          "2024-12-10",
          "2024-12-11",
          "2024-12-12",
          "2024-12-13",
          "2024-12-16",
          "2024-12-17",
          "2024-12-18",
          "2024-12-19",
          "2024-12-20",
          "2024-12-23",
          "2024-12-24",
          "2024-12-26",
          "2024-12-27",
          "2024-12-30"
         ],
         "y": [
          232.44518095420796,
          244.8007495238534,
          241.03323569439712,
          235.31796601394757,
          237.71057799914735,
          237.76994143080915,
          238.15543376125785,
          235.95013631184727,
          239.9299022707531,
          233.93461006167524,
          241.57757803060417,
          235.43677380102818,
          244.5011858614575,
          246.29237670457425,
          238.15543376125785,
          242.61425265192122,
          237.71057799914735,
          238.82522436522015,
          237.3719359622673,
          241.7717813406083
         ]
        }
       ],
       "layout": {
        "template": {
         "data": {
          "bar": [
           {
            "error_x": {
             "color": "#2a3f5f"
            },
            "error_y": {
             "color": "#2a3f5f"
            },
            "marker": {
             "line": {
              "color": "#E5ECF6",
              "width": 0.5
             },
             "pattern": {
              "fillmode": "overlay",
              "size": 10,
              "solidity": 0.2
             }
            },
            "type": "bar"
           }
          ],
          "barpolar": [
           {
            "marker": {
             "line": {
              "color": "#E5ECF6",
              "width": 0.5
             },
             "pattern": {
              "fillmode": "overlay",
              "size": 10,
              "solidity": 0.2
             }
            },
            "type": "barpolar"
           }
          ],
          "carpet": [
           {
            "aaxis": {
             "endlinecolor": "#2a3f5f",
             "gridcolor": "white",
             "linecolor": "white",
             "minorgridcolor": "white",
             "startlinecolor": "#2a3f5f"
            },
            "baxis": {
             "endlinecolor": "#2a3f5f",
             "gridcolor": "white",
             "linecolor": "white",
             "minorgridcolor": "white",
             "startlinecolor": "#2a3f5f"
            },
            "type": "carpet"
           }
          ],
          "choropleth": [
           {
            "colorbar": {
             "outlinewidth": 0,
             "ticks": ""
            },
            "type": "choropleth"
           }
          ],
          "contour": [
           {
            "colorbar": {
             "outlinewidth": 0,
             "ticks": ""
            },
            "colorscale": [
             [
              0,
              "#0d0887"
             ],
             [
              0.1111111111111111,
              "#46039f"
             ],
             [
              0.2222222222222222,
              "#7201a8"
             ],
             [
              0.3333333333333333,
              "#9c179e"
             ],
             [
              0.4444444444444444,
              "#bd3786"
             ],
             [
              0.5555555555555556,
              "#d8576b"
             ],
             [
              0.6666666666666666,
              "#ed7953"
             ],
             [
              0.7777777777777778,
              "#fb9f3a"
             ],
             [
              0.8888888888888888,
              "#fdca26"
             ],
             [
              1,
              "#f0f921"
             ]
            ],
            "type": "contour"
           }
          ],
          "contourcarpet": [
           {
            "colorbar": {
             "outlinewidth": 0,
             "ticks": ""
            },
            "type": "contourcarpet"
           }
          ],
          "heatmap": [
           {
            "colorbar": {
             "outlinewidth": 0,
             "ticks": ""
            },
            "colorscale": [
             [
              0,
              "#0d0887"
             ],
             [
              0.1111111111111111,
              "#46039f"
             ],
             [
              0.2222222222222222,
              "#7201a8"
             ],
             [
              0.3333333333333333,
              "#9c179e"
             ],
             [
              0.4444444444444444,
              "#bd3786"
             ],
             [
              0.5555555555555556,
              "#d8576b"
             ],
             [
              0.6666666666666666,
              "#ed7953"
             ],
             [
              0.7777777777777778,
              "#fb9f3a"
             ],
             [
              0.8888888888888888,
              "#fdca26"
             ],
             [
              1,
              "#f0f921"
             ]
            ],
            "type": "heatmap"
           }
          ],
          "heatmapgl": [
           {
            "colorbar": {
             "outlinewidth": 0,
             "ticks": ""
            },
            "colorscale": [
             [
              0,
              "#0d0887"
             ],
             [
              0.1111111111111111,
              "#46039f"
             ],
             [
              0.2222222222222222,
              "#7201a8"
             ],
             [
              0.3333333333333333,
              "#9c179e"
             ],
             [
              0.4444444444444444,
              "#bd3786"
             ],
             [
              0.5555555555555556,
              "#d8576b"
             ],
             [
              0.6666666666666666,
              "#ed7953"
             ],
             [
              0.7777777777777778,
              "#fb9f3a"
             ],
             [
              0.8888888888888888,
              "#fdca26"
             ],
             [
              1,
              "#f0f921"
             ]
            ],
            "type": "heatmapgl"
           }
          ],
          "histogram": [
           {
            "marker": {
             "pattern": {
              "fillmode": "overlay",
              "size": 10,
              "solidity": 0.2
             }
            },
            "type": "histogram"
           }
          ],
          "histogram2d": [
           {
            "colorbar": {
             "outlinewidth": 0,
             "ticks": ""
            },
            "colorscale": [
             [
              0,
              "#0d0887"
             ],
             [
              0.1111111111111111,
              "#46039f"
             ],
             [
              0.2222222222222222,
              "#7201a8"
             ],
             [
              0.3333333333333333,
              "#9c179e"
             ],
             [
              0.4444444444444444,
              "#bd3786"
             ],
             [
              0.5555555555555556,
              "#d8576b"
             ],
             [
              0.6666666666666666,
              "#ed7953"
             ],
             [
              0.7777777777777778,
              "#fb9f3a"
             ],
             [
              0.8888888888888888,
              "#fdca26"
             ],
             [
              1,
              "#f0f921"
             ]
            ],
            "type": "histogram2d"
           }
          ],
          "histogram2dcontour": [
           {
            "colorbar": {
             "outlinewidth": 0,
             "ticks": ""
            },
            "colorscale": [
             [
              0,
              "#0d0887"
             ],
             [
              0.1111111111111111,
              "#46039f"
             ],
             [
              0.2222222222222222,
              "#7201a8"
             ],
             [
              0.3333333333333333,
              "#9c179e"
             ],
             [
              0.4444444444444444,
              "#bd3786"
             ],
             [
              0.5555555555555556,
              "#d8576b"
             ],
             [
              0.6666666666666666,
              "#ed7953"
             ],
             [
              0.7777777777777778,
              "#fb9f3a"
             ],
             [
              0.8888888888888888,
              "#fdca26"
             ],
             [
              1,
              "#f0f921"
             ]
            ],
            "type": "histogram2dcontour"
           }
          ],
          "mesh3d": [
           {
            "colorbar": {
             "outlinewidth": 0,
             "ticks": ""
            },
            "type": "mesh3d"
           }
          ],
          "parcoords": [
           {
            "line": {
             "colorbar": {
              "outlinewidth": 0,
              "ticks": ""
             }
            },
            "type": "parcoords"
           }
          ],
          "pie": [
           {
            "automargin": true,
            "type": "pie"
           }
          ],
          "scatter": [
           {
            "fillpattern": {
             "fillmode": "overlay",
             "size": 10,
             "solidity": 0.2
            },
            "type": "scatter"
           }
          ],
          "scatter3d": [
           {
            "line": {
             "colorbar": {
              "outlinewidth": 0,
              "ticks": ""
             }
            },
            "marker": {
             "colorbar": {
              "outlinewidth": 0,
              "ticks": ""
             }
            },
            "type": "scatter3d"
           }
          ],
          "scattercarpet": [
           {
            "marker": {
             "colorbar": {
              "outlinewidth": 0,
              "ticks": ""
             }
            },
            "type": "scattercarpet"
           }
          ],
          "scattergeo": [
           {
            "marker": {
             "colorbar": {
              "outlinewidth": 0,
              "ticks": ""
             }
            },
            "type": "scattergeo"
           }
          ],
          "scattergl": [
           {
            "marker": {
             "colorbar": {
              "outlinewidth": 0,
              "ticks": ""
             }
            },
            "type": "scattergl"
           }
          ],
          "scattermapbox": [
           {
            "marker": {
             "colorbar": {
              "outlinewidth": 0,
              "ticks": ""
             }
            },
            "type": "scattermapbox"
           }
          ],
          "scatterpolar": [
           {
            "marker": {
             "colorbar": {
              "outlinewidth": 0,
              "ticks": ""
             }
            },
            "type": "scatterpolar"
           }
          ],
          "scatterpolargl": [
           {
            "marker": {
             "colorbar": {
              "outlinewidth": 0,
              "ticks": ""
             }
            },
            "type": "scatterpolargl"
           }
          ],
          "scatterternary": [
           {
            "marker": {
             "colorbar": {
              "outlinewidth": 0,
              "ticks": ""
             }
            },
            "type": "scatterternary"
           }
          ],
          "surface": [
           {
            "colorbar": {
             "outlinewidth": 0,
             "ticks": ""
            },
            "colorscale": [
             [
              0,
              "#0d0887"
             ],
             [
              0.1111111111111111,
              "#46039f"
             ],
             [
              0.2222222222222222,
              "#7201a8"
             ],
             [
              0.3333333333333333,
              "#9c179e"
             ],
             [
              0.4444444444444444,
              "#bd3786"
             ],
             [
              0.5555555555555556,
              "#d8576b"
             ],
             [
              0.6666666666666666,
              "#ed7953"
             ],
             [
              0.7777777777777778,
              "#fb9f3a"
             ],
             [
              0.8888888888888888,
              "#fdca26"
             ],
             [
              1,
              "#f0f921"
             ]
            ],
            "type": "surface"
           }
          ],
          "table": [
           {
            "cells": {
             "fill": {
              "color": "#EBF0F8"
             },
             "line": {
              "color": "white"
             }
            },
            "header": {
             "fill": {
              "color": "#C8D4E3"
             },
             "line": {
              "color": "white"
             }
            },
            "type": "table"
           }
          ]
         },
         "layout": {
          "annotationdefaults": {
           "arrowcolor": "#2a3f5f",
           "arrowhead": 0,
           "arrowwidth": 1
          },
          "autotypenumbers": "strict",
          "coloraxis": {
           "colorbar": {
            "outlinewidth": 0,
            "ticks": ""
           }
          },
          "colorscale": {
           "diverging": [
            [
             0,
             "#8e0152"
            ],
            [
             0.1,
             "#c51b7d"
            ],
            [
             0.2,
             "#de77ae"
            ],
            [
             0.3,
             "#f1b6da"
            ],
            [
             0.4,
             "#fde0ef"
            ],
            [
             0.5,
             "#f7f7f7"
            ],
            [
             0.6,
             "#e6f5d0"
            ],
            [
             0.7,
             "#b8e186"
            ],
            [
             0.8,
             "#7fbc41"
            ],
            [
             0.9,
             "#4d9221"
            ],
            [
             1,
             "#276419"
            ]
           ],
           "sequential": [
            [
             0,
             "#0d0887"
            ],
            [
             0.1111111111111111,
             "#46039f"
            ],
            [
             0.2222222222222222,
             "#7201a8"
            ],
            [
             0.3333333333333333,
             "#9c179e"
            ],
            [
             0.4444444444444444,
             "#bd3786"
            ],
            [
             0.5555555555555556,
             "#d8576b"
            ],
            [
             0.6666666666666666,
             "#ed7953"
            ],
            [
             0.7777777777777778,
             "#fb9f3a"
            ],
            [
             0.8888888888888888,
             "#fdca26"
            ],
            [
             1,
             "#f0f921"
            ]
           ],
           "sequentialminus": [
            [
             0,
             "#0d0887"
            ],
            [
             0.1111111111111111,
             "#46039f"
            ],
            [
             0.2222222222222222,
             "#7201a8"
            ],
            [
             0.3333333333333333,
             "#9c179e"
            ],
            [
             0.4444444444444444,
             "#bd3786"
            ],
            [
             0.5555555555555556,
             "#d8576b"
            ],
            [
             0.6666666666666666,
             "#ed7953"
            ],
            [
             0.7777777777777778,
             "#fb9f3a"
            ],
            [
             0.8888888888888888,
             "#fdca26"
            ],
            [
             1,
             "#f0f921"
            ]
           ]
          },
          "colorway": [
           "#636efa",
           "#EF553B",
           "#00cc96",
           "#ab63fa",
           "#FFA15A",
           "#19d3f3",
           "#FF6692",
           "#B6E880",
           "#FF97FF",
           "#FECB52"
          ],
          "font": {
           "color": "#2a3f5f"
          },
          "geo": {
           "bgcolor": "white",
           "lakecolor": "white",
           "landcolor": "#E5ECF6",
           "showlakes": true,
           "showland": true,
           "subunitcolor": "white"
          },
          "hoverlabel": {
           "align": "left"
          },
          "hovermode": "closest",
          "mapbox": {
           "style": "light"
          },
          "paper_bgcolor": "white",
          "plot_bgcolor": "#E5ECF6",
          "polar": {
           "angularaxis": {
            "gridcolor": "white",
            "linecolor": "white",
            "ticks": ""
           },
           "bgcolor": "#E5ECF6",
           "radialaxis": {
            "gridcolor": "white",
            "linecolor": "white",
            "ticks": ""
           }
          },
          "scene": {
           "xaxis": {
            "backgroundcolor": "#E5ECF6",
            "gridcolor": "white",
            "gridwidth": 2,
            "linecolor": "white",
            "showbackground": true,
            "ticks": "",
            "zerolinecolor": "white"
           },
           "yaxis": {
            "backgroundcolor": "#E5ECF6",
            "gridcolor": "white",
            "gridwidth": 2,
            "linecolor": "white",
            "showbackground": true,
            "ticks": "",
            "zerolinecolor": "white"
           },
           "zaxis": {
            "backgroundcolor": "#E5ECF6",
            "gridcolor": "white",
            "gridwidth": 2,
            "linecolor": "white",
            "showbackground": true,
            "ticks": "",
            "zerolinecolor": "white"
           }
          },
          "shapedefaults": {
           "line": {
            "color": "#2a3f5f"
           }
          },
          "ternary": {
           "aaxis": {
            "gridcolor": "white",
            "linecolor": "white",
            "ticks": ""
           },
           "baxis": {
            "gridcolor": "white",
            "linecolor": "white",
            "ticks": ""
           },
           "bgcolor": "#E5ECF6",
           "caxis": {
            "gridcolor": "white",
            "linecolor": "white",
            "ticks": ""
           }
          },
          "title": {
           "x": 0.05
          },
          "xaxis": {
           "automargin": true,
           "gridcolor": "white",
           "linecolor": "white",
           "ticks": "",
           "title": {
            "standoff": 15
           },
           "zerolinecolor": "white",
           "zerolinewidth": 2
          },
          "yaxis": {
           "automargin": true,
           "gridcolor": "white",
           "linecolor": "white",
           "ticks": "",
           "title": {
            "standoff": 15
           },
           "zerolinecolor": "white",
           "zerolinewidth": 2
          }
         }
        },
        "title": {
         "text": "Forecasted Price"
        },
        "xaxis": {
         "title": {
          "text": "Date"
         }
        },
        "yaxis": {
         "title": {
          "text": "Price"
         }
        }
       }
      }
     },
     "metadata": {},
     "output_type": "display_data"
    }
   ],
   "source": [
    "# use plotly to plot the forecasted price\n",
    "fig = go.Figure()\n",
    "fig.add_trace(go.Scatter(x=train['Date'], y=train['Close'], mode='lines', name='Training Set'))\n",
    "fig.add_trace(go.Scatter(x=test['Date'], y=test['Close'], mode='lines', name='Test Set'))\n",
    "fig.add_trace(go.Scatter(x=test['Date'], y=forcastedPrice, mode='lines', name='Forecasted Price'))\n",
    "fig.update_layout(title='Forecasted Price', xaxis_title='Date', yaxis_title='Price')\n",
    "pio.show(fig)"
   ]
  },
  {
   "cell_type": "code",
   "execution_count": 150,
   "metadata": {},
   "outputs": [],
   "source": [
    "from sklearn.neighbors import NearestNeighbors\n",
    "import numpy as np\n",
    "\n",
    "def knn_forecast(train, test, n=3, k=5):\n",
    "    # Create feature matrix from previous n-day returns\n",
    "    train_X = train[[f'previous{i}DayReturn' for i in range(1, n+1)]].values\n",
    "    test_X = test[[f'previous{i}DayReturn' for i in range(1, n+1)]].values\n",
    "    train_y = train['returns'].values\n",
    "\n",
    "    # Fit Nearest Neighbors model\n",
    "    nn = NearestNeighbors(n_neighbors=k, metric='euclidean')\n",
    "    nn.fit(train_X)\n",
    "\n",
    "    # For each test point, find k-nearest neighbors and average their returns\n",
    "    neighbors = nn.kneighbors(test_X, return_distance=False)\n",
    "\n",
    "    forecast = []\n",
    "    for idx_list in neighbors:\n",
    "        neighbor_returns = train_y[idx_list]\n",
    "        forecast.append(np.mean(neighbor_returns))  # or np.median(), or sample randomly\n",
    "\n",
    "    test = test.copy()\n",
    "    test['forecast_return_knn'] = forecast\n",
    "    return test"
   ]
  },
  {
   "cell_type": "code",
   "execution_count": 160,
   "metadata": {},
   "outputs": [
    {
     "name": "stdout",
     "output_type": "stream",
     "text": [
      "Avg Forecast Accuracy KNN: 0.5\n"
     ]
    }
   ],
   "source": [
    "knn_forecasted = knn_forecast(train, test, n=4, k=10)\n",
    "forecastedPriceKNN = test['Close'].values[0] * (1 + knn_forecasted['forecast_return_knn'].values)\n",
    "forecastAccuracyKNN = np.mean(np.sign(knn_forecasted['forecast_return_knn'].values) == np.sign(test['returns'].values))\n",
    "print(f\"Avg Forecast Accuracy KNN: {forecastAccuracyKNN}\")"
   ]
  },
  {
   "cell_type": "code",
   "execution_count": 148,
   "metadata": {},
   "outputs": [
    {
     "data": {
      "application/vnd.plotly.v1+json": {
       "config": {
        "plotlyServerURL": "https://plot.ly"
       },
       "data": [
        {
         "mode": "lines",
         "name": "Training Set",
         "type": "scatter",
         "x": [
          "2024-01-10",
          "2024-01-11",
          "2024-01-12",
          "2024-01-16",
          "2024-01-17",
          "2024-01-18",
          "2024-01-19",
          "2024-01-22",
          "2024-01-23",
          "2024-01-24",
          "2024-01-25",
          "2024-01-26",
          "2024-01-29",
          "2024-01-30",
          "2024-01-31",
          "2024-02-01",
          "2024-02-02",
          "2024-02-05",
          "2024-02-06",
          "2024-02-07",
          "2024-02-08",
          "2024-02-09",
          "2024-02-12",
          "2024-02-13",
          "2024-02-14",
          "2024-02-15",
          "2024-02-16",
          "2024-02-20",
          "2024-02-21",
          "2024-02-22",
          "2024-02-23",
          "2024-02-26",
          "2024-02-27",
          "2024-02-28",
          "2024-02-29",
          "2024-03-01",
          "2024-03-04",
          "2024-03-05",
          "2024-03-06",
          "2024-03-07",
          "2024-03-08",
          "2024-03-11",
          "2024-03-12",
          "2024-03-13",
          "2024-03-14",
          "2024-03-15",
          "2024-03-18",
          "2024-03-19",
          "2024-03-20",
          "2024-03-21",
          "2024-03-22",
          "2024-03-25",
          "2024-03-26",
          "2024-03-27",
          "2024-03-28",
          "2024-04-01",
          "2024-04-02",
          "2024-04-03",
          "2024-04-04",
          "2024-04-05",
          "2024-04-08",
          "2024-04-09",
          "2024-04-10",
          "2024-04-11",
          "2024-04-12",
          "2024-04-15",
          "2024-04-16",
          "2024-04-17",
          "2024-04-18",
          "2024-04-19",
          "2024-04-22",
          "2024-04-23",
          "2024-04-24",
          "2024-04-25",
          "2024-04-26",
          "2024-04-29",
          "2024-04-30",
          "2024-05-01",
          "2024-05-02",
          "2024-05-03",
          "2024-05-06",
          "2024-05-07",
          "2024-05-08",
          "2024-05-09",
          "2024-05-10",
          "2024-05-13",
          "2024-05-14",
          "2024-05-15",
          "2024-05-16",
          "2024-05-17",
          "2024-05-20",
          "2024-05-21",
          "2024-05-22",
          "2024-05-23",
          "2024-05-24",
          "2024-05-28",
          "2024-05-29",
          "2024-05-30",
          "2024-05-31",
          "2024-06-03",
          "2024-06-04",
          "2024-06-05",
          "2024-06-06",
          "2024-06-07",
          "2024-06-10",
          "2024-06-11",
          "2024-06-12",
          "2024-06-13",
          "2024-06-14",
          "2024-06-17",
          "2024-06-18",
          "2024-06-20",
          "2024-06-21",
          "2024-06-24",
          "2024-06-25",
          "2024-06-26",
          "2024-06-27",
          "2024-06-28",
          "2024-07-01",
          "2024-07-02",
          "2024-07-03",
          "2024-07-05",
          "2024-07-08",
          "2024-07-09",
          "2024-07-10",
          "2024-07-11",
          "2024-07-12",
          "2024-07-15",
          "2024-07-16",
          "2024-07-17",
          "2024-07-18",
          "2024-07-19",
          "2024-07-22",
          "2024-07-23",
          "2024-07-24",
          "2024-07-25",
          "2024-07-26",
          "2024-07-29",
          "2024-07-30",
          "2024-07-31",
          "2024-08-01",
          "2024-08-02",
          "2024-08-05",
          "2024-08-06",
          "2024-08-07",
          "2024-08-08",
          "2024-08-09",
          "2024-08-12",
          "2024-08-13",
          "2024-08-14",
          "2024-08-15",
          "2024-08-16",
          "2024-08-19",
          "2024-08-20",
          "2024-08-21",
          "2024-08-22",
          "2024-08-23",
          "2024-08-26",
          "2024-08-27",
          "2024-08-28",
          "2024-08-29",
          "2024-08-30",
          "2024-09-03",
          "2024-09-04",
          "2024-09-05",
          "2024-09-06",
          "2024-09-09",
          "2024-09-10",
          "2024-09-11",
          "2024-09-12",
          "2024-09-13",
          "2024-09-16",
          "2024-09-17",
          "2024-09-18",
          "2024-09-19",
          "2024-09-20",
          "2024-09-23",
          "2024-09-24",
          "2024-09-25",
          "2024-09-26",
          "2024-09-27",
          "2024-09-30",
          "2024-10-01",
          "2024-10-02",
          "2024-10-03",
          "2024-10-04",
          "2024-10-07",
          "2024-10-08",
          "2024-10-09",
          "2024-10-10",
          "2024-10-11",
          "2024-10-14",
          "2024-10-15",
          "2024-10-16",
          "2024-10-17",
          "2024-10-18",
          "2024-10-21",
          "2024-10-22",
          "2024-10-23",
          "2024-10-24",
          "2024-10-25",
          "2024-10-28",
          "2024-10-29",
          "2024-10-30",
          "2024-10-31",
          "2024-11-01",
          "2024-11-04",
          "2024-11-05",
          "2024-11-06",
          "2024-11-07",
          "2024-11-08",
          "2024-11-11",
          "2024-11-12",
          "2024-11-13",
          "2024-11-14",
          "2024-11-15",
          "2024-11-18",
          "2024-11-19",
          "2024-11-20",
          "2024-11-21",
          "2024-11-22",
          "2024-11-25",
          "2024-11-26",
          "2024-11-27",
          "2024-11-29"
         ],
         "y": [
          185.07879638671875,
          184.48239135742188,
          184.81040954589844,
          182.5340881347656,
          181.5897521972656,
          187.50425720214844,
          190.4167633056641,
          192.73284912109372,
          194.01515197753903,
          193.33920288085935,
          193.0111846923828,
          191.2716217041016,
          190.5857391357422,
          186.91775512695312,
          183.2994842529297,
          185.74481201171875,
          184.74082946777344,
          186.55990600585935,
          188.17025756835935,
          188.27960205078125,
          187.1960906982422,
          187.9624786376953,
          186.27044677734372,
          184.1703643798828,
          183.2845458984375,
          182.9959259033203,
          181.4532165527344,
          180.70672607421875,
          181.4631805419922,
          183.5035095214844,
          181.66221618652344,
          180.30860900878903,
          181.77171325683597,
          180.5673828125,
          179.9005584716797,
          178.81565856933594,
          174.277099609375,
          169.32049560546875,
          168.3251953125,
          168.20574951171875,
          169.92762756347656,
          171.93812561035156,
          172.41587829589844,
          170.3257598876953,
          172.18695068359375,
          171.80874633789062,
          172.90357971191406,
          175.25250244140625,
          177.83030700683594,
          170.5646209716797,
          171.4703369140625,
          170.04708862304688,
          168.91241455078125,
          172.49549865722656,
          170.67410278320312,
          169.2309112548828,
          168.0465087890625,
          168.8527069091797,
          168.026611328125,
          168.7830352783203,
          167.65835571289062,
          168.8726043701172,
          166.99148559570312,
          174.21737670898438,
          175.72027587890625,
          171.87841796875,
          168.583984375,
          167.21046447753906,
          166.2549591064453,
          164.2245635986328,
          165.0605926513672,
          166.11561584472656,
          168.2256622314453,
          169.09156799316406,
          168.50436401367188,
          172.68460083007812,
          169.52951049804688,
          168.50436401367188,
          172.21682739257812,
          182.5181884765625,
          180.8560485839844,
          181.54278564453125,
          181.88121032714844,
          183.7025909423828,
          182.43682861328125,
          185.6560211181641,
          186.8021697998047,
          189.08450317382807,
          189.2041015625,
          189.2340087890625,
          190.40008544921875,
          191.7057037353516,
          190.26055908203125,
          186.25401306152344,
          189.3436279296875,
          189.3536071777344,
          189.652587890625,
          190.6492462158203,
          191.6060333251953,
          193.3800506591797,
          193.6989898681641,
          195.21389770507807,
          193.82855224609372,
          196.23048400878903,
          192.4730987548828,
          206.45611572265625,
          212.35630798339844,
          213.5223693847656,
          211.7782287597656,
          215.94422912597656,
          213.5721893310547,
          208.97764587402344,
          206.79498291015625,
          207.4427947998047,
          208.36968994140625,
          212.5356903076172,
          213.3828582763672,
          209.9144744873047,
          216.02395629882807,
          219.53216552734372,
          220.80789184570312,
          225.5818328857422,
          227.056884765625,
          227.9139862060547,
          232.1995849609375,
          226.80772399902344,
          229.76776123046875,
          233.6148376464844,
          234.033447265625,
          228.1133270263672,
          223.42906188964844,
          223.55862426757807,
          223.20980834960935,
          224.25628662109372,
          217.80795288085935,
          216.7614898681641,
          217.2299041748047,
          217.50897216796875,
          218.0670928955078,
          221.3361053466797,
          217.62857055664065,
          219.12353515625,
          208.5690155029297,
          206.5358428955078,
          209.1171875,
          212.5954742431641,
          215.51568603515625,
          217.0522918701172,
          220.78407287597656,
          221.23309326171875,
          224.22650146484372,
          225.5535888671875,
          225.39393615722656,
          226.0125732421875,
          225.90280151367188,
          224.03692626953125,
          226.3418426513672,
          226.68109130859372,
          227.5292205810547,
          225.99261474609372,
          229.28536987304688,
          228.49710083007807,
          222.28077697753903,
          220.3650054931641,
          221.89163208007807,
          220.3350830078125,
          220.42486572265625,
          219.6266326904297,
          222.1710205078125,
          222.28077697753903,
          222.01138305664065,
          215.84495544433597,
          216.31390380859372,
          220.20535278320312,
          228.3673858642578,
          227.6988525390625,
          225.97265625,
          226.8706817626953,
          225.8728790283203,
          227.02035522460935,
          227.2897491455078,
          232.4883270263672,
          225.71324157714844,
          226.281982421875,
          225.1744079589844,
          226.30194091796875,
          221.20315551757807,
          225.27420043945312,
          229.03591918945312,
          228.5370178222656,
          227.05029296875,
          230.79205322265625,
          233.33645629882807,
          231.27099609375,
          231.6401824951172,
          234.48391723632807,
          235.96067810058597,
          235.342041015625,
          230.25323486328125,
          230.0636749267578,
          230.9018096923828,
          232.88743591308597,
          233.15684509277344,
          229.5946807861328,
          225.4138946533203,
          222.42047119140625,
          221.5224456787109,
          222.95928955078125,
          222.23089599609372,
          226.98043823242188,
          226.7107391357422,
          223.98373413085935,
          223.98373413085935,
          224.8727569580078,
          227.9693603515625,
          224.7528839111328,
          227.7695770263672,
          228.0292816162109,
          228.7484893798828,
          228.2690277099609,
          229.61753845214844,
          232.6142425537109,
          234.8018341064453,
          234.67198181152344,
          237.06935119628903
         ]
        },
        {
         "mode": "lines",
         "name": "Test Set",
         "type": "scatter",
         "x": [
          "2024-12-02",
          "2024-12-03",
          "2024-12-04",
          "2024-12-05",
          "2024-12-06",
          "2024-12-09",
          "2024-12-10",
          "2024-12-11",
          "2024-12-12",
          "2024-12-13",
          "2024-12-16",
          "2024-12-17",
          "2024-12-18",
          "2024-12-19",
          "2024-12-20",
          "2024-12-23",
          "2024-12-24",
          "2024-12-26",
          "2024-12-27",
          "2024-12-30"
         ],
         "y": [
          239.3268585205078,
          242.3834991455078,
          242.74310302734372,
          242.7730712890625,
          242.5732879638672,
          246.47900390625,
          247.4978790283203,
          246.2192840576172,
          247.68768310546875,
          247.85748291015625,
          250.7642822265625,
          253.20159912109372,
          247.77757263183597,
          249.51565551757807,
          254.21051025390625,
          254.9896545410156,
          257.9164428710937,
          258.7355041503906,
          255.30929565429688,
          251.9230194091797
         ]
        },
        {
         "mode": "lines",
         "name": "KNN Forecasted Returns",
         "type": "scatter",
         "x": [
          "2024-12-02",
          "2024-12-03",
          "2024-12-04",
          "2024-12-05",
          "2024-12-06",
          "2024-12-09",
          "2024-12-10",
          "2024-12-11",
          "2024-12-12",
          "2024-12-13",
          "2024-12-16",
          "2024-12-17",
          "2024-12-18",
          "2024-12-19",
          "2024-12-20",
          "2024-12-23",
          "2024-12-24",
          "2024-12-26",
          "2024-12-27",
          "2024-12-30"
         ],
         "y": [
          0.0009273203899212934,
          -0.0006598173012942077,
          0.0065343789551404186,
          -0.0012561802440137714,
          -0.004523708570158802,
          -0.003985866032803709,
          0.006605060491759862,
          0.0042729893843968195,
          0.007280392032101934,
          -0.008055321853045694,
          0.0029196140788587234,
          0.0014247087878103137,
          0.0033031396590156525,
          0.021572006494438557,
          -0.006949212378593983,
          0.005280676580724286,
          -0.002844577047880703,
          -0.0037634401878810396,
          -0.0025815228692779744,
          0.0010749190918458052
         ]
        }
       ],
       "layout": {
        "template": {
         "data": {
          "bar": [
           {
            "error_x": {
             "color": "#2a3f5f"
            },
            "error_y": {
             "color": "#2a3f5f"
            },
            "marker": {
             "line": {
              "color": "#E5ECF6",
              "width": 0.5
             },
             "pattern": {
              "fillmode": "overlay",
              "size": 10,
              "solidity": 0.2
             }
            },
            "type": "bar"
           }
          ],
          "barpolar": [
           {
            "marker": {
             "line": {
              "color": "#E5ECF6",
              "width": 0.5
             },
             "pattern": {
              "fillmode": "overlay",
              "size": 10,
              "solidity": 0.2
             }
            },
            "type": "barpolar"
           }
          ],
          "carpet": [
           {
            "aaxis": {
             "endlinecolor": "#2a3f5f",
             "gridcolor": "white",
             "linecolor": "white",
             "minorgridcolor": "white",
             "startlinecolor": "#2a3f5f"
            },
            "baxis": {
             "endlinecolor": "#2a3f5f",
             "gridcolor": "white",
             "linecolor": "white",
             "minorgridcolor": "white",
             "startlinecolor": "#2a3f5f"
            },
            "type": "carpet"
           }
          ],
          "choropleth": [
           {
            "colorbar": {
             "outlinewidth": 0,
             "ticks": ""
            },
            "type": "choropleth"
           }
          ],
          "contour": [
           {
            "colorbar": {
             "outlinewidth": 0,
             "ticks": ""
            },
            "colorscale": [
             [
              0,
              "#0d0887"
             ],
             [
              0.1111111111111111,
              "#46039f"
             ],
             [
              0.2222222222222222,
              "#7201a8"
             ],
             [
              0.3333333333333333,
              "#9c179e"
             ],
             [
              0.4444444444444444,
              "#bd3786"
             ],
             [
              0.5555555555555556,
              "#d8576b"
             ],
             [
              0.6666666666666666,
              "#ed7953"
             ],
             [
              0.7777777777777778,
              "#fb9f3a"
             ],
             [
              0.8888888888888888,
              "#fdca26"
             ],
             [
              1,
              "#f0f921"
             ]
            ],
            "type": "contour"
           }
          ],
          "contourcarpet": [
           {
            "colorbar": {
             "outlinewidth": 0,
             "ticks": ""
            },
            "type": "contourcarpet"
           }
          ],
          "heatmap": [
           {
            "colorbar": {
             "outlinewidth": 0,
             "ticks": ""
            },
            "colorscale": [
             [
              0,
              "#0d0887"
             ],
             [
              0.1111111111111111,
              "#46039f"
             ],
             [
              0.2222222222222222,
              "#7201a8"
             ],
             [
              0.3333333333333333,
              "#9c179e"
             ],
             [
              0.4444444444444444,
              "#bd3786"
             ],
             [
              0.5555555555555556,
              "#d8576b"
             ],
             [
              0.6666666666666666,
              "#ed7953"
             ],
             [
              0.7777777777777778,
              "#fb9f3a"
             ],
             [
              0.8888888888888888,
              "#fdca26"
             ],
             [
              1,
              "#f0f921"
             ]
            ],
            "type": "heatmap"
           }
          ],
          "heatmapgl": [
           {
            "colorbar": {
             "outlinewidth": 0,
             "ticks": ""
            },
            "colorscale": [
             [
              0,
              "#0d0887"
             ],
             [
              0.1111111111111111,
              "#46039f"
             ],
             [
              0.2222222222222222,
              "#7201a8"
             ],
             [
              0.3333333333333333,
              "#9c179e"
             ],
             [
              0.4444444444444444,
              "#bd3786"
             ],
             [
              0.5555555555555556,
              "#d8576b"
             ],
             [
              0.6666666666666666,
              "#ed7953"
             ],
             [
              0.7777777777777778,
              "#fb9f3a"
             ],
             [
              0.8888888888888888,
              "#fdca26"
             ],
             [
              1,
              "#f0f921"
             ]
            ],
            "type": "heatmapgl"
           }
          ],
          "histogram": [
           {
            "marker": {
             "pattern": {
              "fillmode": "overlay",
              "size": 10,
              "solidity": 0.2
             }
            },
            "type": "histogram"
           }
          ],
          "histogram2d": [
           {
            "colorbar": {
             "outlinewidth": 0,
             "ticks": ""
            },
            "colorscale": [
             [
              0,
              "#0d0887"
             ],
             [
              0.1111111111111111,
              "#46039f"
             ],
             [
              0.2222222222222222,
              "#7201a8"
             ],
             [
              0.3333333333333333,
              "#9c179e"
             ],
             [
              0.4444444444444444,
              "#bd3786"
             ],
             [
              0.5555555555555556,
              "#d8576b"
             ],
             [
              0.6666666666666666,
              "#ed7953"
             ],
             [
              0.7777777777777778,
              "#fb9f3a"
             ],
             [
              0.8888888888888888,
              "#fdca26"
             ],
             [
              1,
              "#f0f921"
             ]
            ],
            "type": "histogram2d"
           }
          ],
          "histogram2dcontour": [
           {
            "colorbar": {
             "outlinewidth": 0,
             "ticks": ""
            },
            "colorscale": [
             [
              0,
              "#0d0887"
             ],
             [
              0.1111111111111111,
              "#46039f"
             ],
             [
              0.2222222222222222,
              "#7201a8"
             ],
             [
              0.3333333333333333,
              "#9c179e"
             ],
             [
              0.4444444444444444,
              "#bd3786"
             ],
             [
              0.5555555555555556,
              "#d8576b"
             ],
             [
              0.6666666666666666,
              "#ed7953"
             ],
             [
              0.7777777777777778,
              "#fb9f3a"
             ],
             [
              0.8888888888888888,
              "#fdca26"
             ],
             [
              1,
              "#f0f921"
             ]
            ],
            "type": "histogram2dcontour"
           }
          ],
          "mesh3d": [
           {
            "colorbar": {
             "outlinewidth": 0,
             "ticks": ""
            },
            "type": "mesh3d"
           }
          ],
          "parcoords": [
           {
            "line": {
             "colorbar": {
              "outlinewidth": 0,
              "ticks": ""
             }
            },
            "type": "parcoords"
           }
          ],
          "pie": [
           {
            "automargin": true,
            "type": "pie"
           }
          ],
          "scatter": [
           {
            "fillpattern": {
             "fillmode": "overlay",
             "size": 10,
             "solidity": 0.2
            },
            "type": "scatter"
           }
          ],
          "scatter3d": [
           {
            "line": {
             "colorbar": {
              "outlinewidth": 0,
              "ticks": ""
             }
            },
            "marker": {
             "colorbar": {
              "outlinewidth": 0,
              "ticks": ""
             }
            },
            "type": "scatter3d"
           }
          ],
          "scattercarpet": [
           {
            "marker": {
             "colorbar": {
              "outlinewidth": 0,
              "ticks": ""
             }
            },
            "type": "scattercarpet"
           }
          ],
          "scattergeo": [
           {
            "marker": {
             "colorbar": {
              "outlinewidth": 0,
              "ticks": ""
             }
            },
            "type": "scattergeo"
           }
          ],
          "scattergl": [
           {
            "marker": {
             "colorbar": {
              "outlinewidth": 0,
              "ticks": ""
             }
            },
            "type": "scattergl"
           }
          ],
          "scattermapbox": [
           {
            "marker": {
             "colorbar": {
              "outlinewidth": 0,
              "ticks": ""
             }
            },
            "type": "scattermapbox"
           }
          ],
          "scatterpolar": [
           {
            "marker": {
             "colorbar": {
              "outlinewidth": 0,
              "ticks": ""
             }
            },
            "type": "scatterpolar"
           }
          ],
          "scatterpolargl": [
           {
            "marker": {
             "colorbar": {
              "outlinewidth": 0,
              "ticks": ""
             }
            },
            "type": "scatterpolargl"
           }
          ],
          "scatterternary": [
           {
            "marker": {
             "colorbar": {
              "outlinewidth": 0,
              "ticks": ""
             }
            },
            "type": "scatterternary"
           }
          ],
          "surface": [
           {
            "colorbar": {
             "outlinewidth": 0,
             "ticks": ""
            },
            "colorscale": [
             [
              0,
              "#0d0887"
             ],
             [
              0.1111111111111111,
              "#46039f"
             ],
             [
              0.2222222222222222,
              "#7201a8"
             ],
             [
              0.3333333333333333,
              "#9c179e"
             ],
             [
              0.4444444444444444,
              "#bd3786"
             ],
             [
              0.5555555555555556,
              "#d8576b"
             ],
             [
              0.6666666666666666,
              "#ed7953"
             ],
             [
              0.7777777777777778,
              "#fb9f3a"
             ],
             [
              0.8888888888888888,
              "#fdca26"
             ],
             [
              1,
              "#f0f921"
             ]
            ],
            "type": "surface"
           }
          ],
          "table": [
           {
            "cells": {
             "fill": {
              "color": "#EBF0F8"
             },
             "line": {
              "color": "white"
             }
            },
            "header": {
             "fill": {
              "color": "#C8D4E3"
             },
             "line": {
              "color": "white"
             }
            },
            "type": "table"
           }
          ]
         },
         "layout": {
          "annotationdefaults": {
           "arrowcolor": "#2a3f5f",
           "arrowhead": 0,
           "arrowwidth": 1
          },
          "autotypenumbers": "strict",
          "coloraxis": {
           "colorbar": {
            "outlinewidth": 0,
            "ticks": ""
           }
          },
          "colorscale": {
           "diverging": [
            [
             0,
             "#8e0152"
            ],
            [
             0.1,
             "#c51b7d"
            ],
            [
             0.2,
             "#de77ae"
            ],
            [
             0.3,
             "#f1b6da"
            ],
            [
             0.4,
             "#fde0ef"
            ],
            [
             0.5,
             "#f7f7f7"
            ],
            [
             0.6,
             "#e6f5d0"
            ],
            [
             0.7,
             "#b8e186"
            ],
            [
             0.8,
             "#7fbc41"
            ],
            [
             0.9,
             "#4d9221"
            ],
            [
             1,
             "#276419"
            ]
           ],
           "sequential": [
            [
             0,
             "#0d0887"
            ],
            [
             0.1111111111111111,
             "#46039f"
            ],
            [
             0.2222222222222222,
             "#7201a8"
            ],
            [
             0.3333333333333333,
             "#9c179e"
            ],
            [
             0.4444444444444444,
             "#bd3786"
            ],
            [
             0.5555555555555556,
             "#d8576b"
            ],
            [
             0.6666666666666666,
             "#ed7953"
            ],
            [
             0.7777777777777778,
             "#fb9f3a"
            ],
            [
             0.8888888888888888,
             "#fdca26"
            ],
            [
             1,
             "#f0f921"
            ]
           ],
           "sequentialminus": [
            [
             0,
             "#0d0887"
            ],
            [
             0.1111111111111111,
             "#46039f"
            ],
            [
             0.2222222222222222,
             "#7201a8"
            ],
            [
             0.3333333333333333,
             "#9c179e"
            ],
            [
             0.4444444444444444,
             "#bd3786"
            ],
            [
             0.5555555555555556,
             "#d8576b"
            ],
            [
             0.6666666666666666,
             "#ed7953"
            ],
            [
             0.7777777777777778,
             "#fb9f3a"
            ],
            [
             0.8888888888888888,
             "#fdca26"
            ],
            [
             1,
             "#f0f921"
            ]
           ]
          },
          "colorway": [
           "#636efa",
           "#EF553B",
           "#00cc96",
           "#ab63fa",
           "#FFA15A",
           "#19d3f3",
           "#FF6692",
           "#B6E880",
           "#FF97FF",
           "#FECB52"
          ],
          "font": {
           "color": "#2a3f5f"
          },
          "geo": {
           "bgcolor": "white",
           "lakecolor": "white",
           "landcolor": "#E5ECF6",
           "showlakes": true,
           "showland": true,
           "subunitcolor": "white"
          },
          "hoverlabel": {
           "align": "left"
          },
          "hovermode": "closest",
          "mapbox": {
           "style": "light"
          },
          "paper_bgcolor": "white",
          "plot_bgcolor": "#E5ECF6",
          "polar": {
           "angularaxis": {
            "gridcolor": "white",
            "linecolor": "white",
            "ticks": ""
           },
           "bgcolor": "#E5ECF6",
           "radialaxis": {
            "gridcolor": "white",
            "linecolor": "white",
            "ticks": ""
           }
          },
          "scene": {
           "xaxis": {
            "backgroundcolor": "#E5ECF6",
            "gridcolor": "white",
            "gridwidth": 2,
            "linecolor": "white",
            "showbackground": true,
            "ticks": "",
            "zerolinecolor": "white"
           },
           "yaxis": {
            "backgroundcolor": "#E5ECF6",
            "gridcolor": "white",
            "gridwidth": 2,
            "linecolor": "white",
            "showbackground": true,
            "ticks": "",
            "zerolinecolor": "white"
           },
           "zaxis": {
            "backgroundcolor": "#E5ECF6",
            "gridcolor": "white",
            "gridwidth": 2,
            "linecolor": "white",
            "showbackground": true,
            "ticks": "",
            "zerolinecolor": "white"
           }
          },
          "shapedefaults": {
           "line": {
            "color": "#2a3f5f"
           }
          },
          "ternary": {
           "aaxis": {
            "gridcolor": "white",
            "linecolor": "white",
            "ticks": ""
           },
           "baxis": {
            "gridcolor": "white",
            "linecolor": "white",
            "ticks": ""
           },
           "bgcolor": "#E5ECF6",
           "caxis": {
            "gridcolor": "white",
            "linecolor": "white",
            "ticks": ""
           }
          },
          "title": {
           "x": 0.05
          },
          "xaxis": {
           "automargin": true,
           "gridcolor": "white",
           "linecolor": "white",
           "ticks": "",
           "title": {
            "standoff": 15
           },
           "zerolinecolor": "white",
           "zerolinewidth": 2
          },
          "yaxis": {
           "automargin": true,
           "gridcolor": "white",
           "linecolor": "white",
           "ticks": "",
           "title": {
            "standoff": 15
           },
           "zerolinecolor": "white",
           "zerolinewidth": 2
          }
         }
        },
        "title": {
         "text": "KNN Forecasted Returns"
        },
        "xaxis": {
         "title": {
          "text": "Date"
         }
        },
        "yaxis": {
         "title": {
          "text": "Returns"
         }
        }
       }
      }
     },
     "metadata": {},
     "output_type": "display_data"
    }
   ],
   "source": [
    "fig = go.Figure()\n",
    "fig.add_trace(go.Scatter(x=train['Date'], y=train['Close'], mode='lines', name='Training Set'))\n",
    "fig.add_trace(go.Scatter(x=test['Date'], y=test['Close'], mode='lines', name='Test Set'))\n",
    "fig.add_trace(go.Scatter(x=test['Date'], y=knn_forecasted['forecast_return_knn'], mode='lines', name='KNN Forecasted Returns'))\n",
    "fig.update_layout(title='KNN Forecasted Returns', xaxis_title='Date', yaxis_title='Returns')\n",
    "pio.show(fig)\n"
   ]
  }
 ],
 "metadata": {
  "kernelspec": {
   "display_name": "native",
   "language": "python",
   "name": "python3"
  },
  "language_info": {
   "codemirror_mode": {
    "name": "ipython",
    "version": 3
   },
   "file_extension": ".py",
   "mimetype": "text/x-python",
   "name": "python",
   "nbconvert_exporter": "python",
   "pygments_lexer": "ipython3",
   "version": "3.10.12"
  }
 },
 "nbformat": 4,
 "nbformat_minor": 2
}
